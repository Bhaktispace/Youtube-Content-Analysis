{
 "cells": [
  {
   "cell_type": "markdown",
   "id": "e11e163a",
   "metadata": {},
   "source": [
    "# 1.  Importing Datasets from Kaggle"
   ]
  },
  {
   "cell_type": "code",
   "execution_count": 1,
   "id": "1a596b25",
   "metadata": {},
   "outputs": [],
   "source": [
    "#import kagglehub\n",
    "\n",
    "# Download latest version\n",
    "#path = kagglehub.dataset_download(\"advaypatil/youtube-statistics\")\n",
    "\n",
    "#print(\"Path to dataset files:\", path)"
   ]
  },
  {
   "cell_type": "markdown",
   "id": "ff46222d",
   "metadata": {},
   "source": [
    "# 2.  Importing Libraries and datasets"
   ]
  },
  {
   "cell_type": "code",
   "execution_count": 2,
   "id": "990f2976",
   "metadata": {},
   "outputs": [],
   "source": [
    "import pandas as pd\n",
    "import numpy as np\n",
    "from nltk.sentiment import SentimentIntensityAnalyzer\n",
    "import matplotlib.pyplot as plt\n",
    "import seaborn as sns"
   ]
  },
  {
   "cell_type": "code",
   "execution_count": 3,
   "id": "ad4e0a2a",
   "metadata": {},
   "outputs": [],
   "source": [
    "video_stats = pd.read_csv(\"C:/Users/gailt/bhaktivscode/Youtube Content Analysis/videos-stats.csv\")\n",
    "comments = pd.read_csv(\"C:/Users/gailt/bhaktivscode/Youtube Content Analysis/comments.csv\")"
   ]
  },
  {
   "cell_type": "markdown",
   "id": "951049ea",
   "metadata": {},
   "source": [
    " # 3. Exploratory Analysis of the two datasets"
   ]
  },
  {
   "cell_type": "code",
   "execution_count": 4,
   "id": "843df1ed",
   "metadata": {},
   "outputs": [
    {
     "data": {
      "application/vnd.microsoft.datawrangler.viewer.v0+json": {
       "columns": [
        {
         "name": "index",
         "rawType": "int64",
         "type": "integer"
        },
        {
         "name": "Unnamed: 0",
         "rawType": "int64",
         "type": "integer"
        },
        {
         "name": "Title",
         "rawType": "object",
         "type": "string"
        },
        {
         "name": "Video ID",
         "rawType": "object",
         "type": "string"
        },
        {
         "name": "Published At",
         "rawType": "object",
         "type": "string"
        },
        {
         "name": "Keyword",
         "rawType": "object",
         "type": "string"
        },
        {
         "name": "Likes",
         "rawType": "float64",
         "type": "float"
        },
        {
         "name": "Comments",
         "rawType": "float64",
         "type": "float"
        },
        {
         "name": "Views",
         "rawType": "float64",
         "type": "float"
        }
       ],
       "ref": "80fe08e7-d253-4a07-8075-9fc4649e5102",
       "rows": [
        [
         "0",
         "0",
         "Apple Pay Is Killing the Physical Wallet After Only Eight Years | Tech News Briefing Podcast | WSJ",
         "wAZZ-UWGVHI",
         "2022-08-23",
         "tech",
         "3407.0",
         "672.0",
         "135612.0"
        ],
        [
         "1",
         "1",
         "The most EXPENSIVE thing I own.",
         "b3x28s61q3c",
         "2022-08-24",
         "tech",
         "76779.0",
         "4306.0",
         "1758063.0"
        ],
        [
         "2",
         "2",
         "My New House Gaming Setup is SICK!",
         "4mgePWWCAmA",
         "2022-08-23",
         "tech",
         "63825.0",
         "3338.0",
         "1564007.0"
        ],
        [
         "3",
         "3",
         "Petrol Vs Liquid Nitrogen | Freezing Experiment | പെട്രോളിനെ ഐസ് ആകാൻ പറ്റുമോ | M4 Tech |",
         "kXiYSI7H2b0",
         "2022-08-23",
         "tech",
         "71566.0",
         "1426.0",
         "922918.0"
        ],
        [
         "4",
         "4",
         "Best Back to School Tech 2022!",
         "ErMwWXQxHp0",
         "2022-08-08",
         "tech",
         "96513.0",
         "5155.0",
         "1855644.0"
        ]
       ],
       "shape": {
        "columns": 8,
        "rows": 5
       }
      },
      "text/html": [
       "<div>\n",
       "<style scoped>\n",
       "    .dataframe tbody tr th:only-of-type {\n",
       "        vertical-align: middle;\n",
       "    }\n",
       "\n",
       "    .dataframe tbody tr th {\n",
       "        vertical-align: top;\n",
       "    }\n",
       "\n",
       "    .dataframe thead th {\n",
       "        text-align: right;\n",
       "    }\n",
       "</style>\n",
       "<table border=\"1\" class=\"dataframe\">\n",
       "  <thead>\n",
       "    <tr style=\"text-align: right;\">\n",
       "      <th></th>\n",
       "      <th>Unnamed: 0</th>\n",
       "      <th>Title</th>\n",
       "      <th>Video ID</th>\n",
       "      <th>Published At</th>\n",
       "      <th>Keyword</th>\n",
       "      <th>Likes</th>\n",
       "      <th>Comments</th>\n",
       "      <th>Views</th>\n",
       "    </tr>\n",
       "  </thead>\n",
       "  <tbody>\n",
       "    <tr>\n",
       "      <th>0</th>\n",
       "      <td>0</td>\n",
       "      <td>Apple Pay Is Killing the Physical Wallet After...</td>\n",
       "      <td>wAZZ-UWGVHI</td>\n",
       "      <td>2022-08-23</td>\n",
       "      <td>tech</td>\n",
       "      <td>3407.0</td>\n",
       "      <td>672.0</td>\n",
       "      <td>135612.0</td>\n",
       "    </tr>\n",
       "    <tr>\n",
       "      <th>1</th>\n",
       "      <td>1</td>\n",
       "      <td>The most EXPENSIVE thing I own.</td>\n",
       "      <td>b3x28s61q3c</td>\n",
       "      <td>2022-08-24</td>\n",
       "      <td>tech</td>\n",
       "      <td>76779.0</td>\n",
       "      <td>4306.0</td>\n",
       "      <td>1758063.0</td>\n",
       "    </tr>\n",
       "    <tr>\n",
       "      <th>2</th>\n",
       "      <td>2</td>\n",
       "      <td>My New House Gaming Setup is SICK!</td>\n",
       "      <td>4mgePWWCAmA</td>\n",
       "      <td>2022-08-23</td>\n",
       "      <td>tech</td>\n",
       "      <td>63825.0</td>\n",
       "      <td>3338.0</td>\n",
       "      <td>1564007.0</td>\n",
       "    </tr>\n",
       "    <tr>\n",
       "      <th>3</th>\n",
       "      <td>3</td>\n",
       "      <td>Petrol Vs Liquid Nitrogen | Freezing Experimen...</td>\n",
       "      <td>kXiYSI7H2b0</td>\n",
       "      <td>2022-08-23</td>\n",
       "      <td>tech</td>\n",
       "      <td>71566.0</td>\n",
       "      <td>1426.0</td>\n",
       "      <td>922918.0</td>\n",
       "    </tr>\n",
       "    <tr>\n",
       "      <th>4</th>\n",
       "      <td>4</td>\n",
       "      <td>Best Back to School Tech 2022!</td>\n",
       "      <td>ErMwWXQxHp0</td>\n",
       "      <td>2022-08-08</td>\n",
       "      <td>tech</td>\n",
       "      <td>96513.0</td>\n",
       "      <td>5155.0</td>\n",
       "      <td>1855644.0</td>\n",
       "    </tr>\n",
       "  </tbody>\n",
       "</table>\n",
       "</div>"
      ],
      "text/plain": [
       "   Unnamed: 0                                              Title     Video ID  \\\n",
       "0           0  Apple Pay Is Killing the Physical Wallet After...  wAZZ-UWGVHI   \n",
       "1           1                    The most EXPENSIVE thing I own.  b3x28s61q3c   \n",
       "2           2                 My New House Gaming Setup is SICK!  4mgePWWCAmA   \n",
       "3           3  Petrol Vs Liquid Nitrogen | Freezing Experimen...  kXiYSI7H2b0   \n",
       "4           4                     Best Back to School Tech 2022!  ErMwWXQxHp0   \n",
       "\n",
       "  Published At Keyword    Likes  Comments      Views  \n",
       "0   2022-08-23    tech   3407.0     672.0   135612.0  \n",
       "1   2022-08-24    tech  76779.0    4306.0  1758063.0  \n",
       "2   2022-08-23    tech  63825.0    3338.0  1564007.0  \n",
       "3   2022-08-23    tech  71566.0    1426.0   922918.0  \n",
       "4   2022-08-08    tech  96513.0    5155.0  1855644.0  "
      ]
     },
     "execution_count": 4,
     "metadata": {},
     "output_type": "execute_result"
    }
   ],
   "source": [
    "video_stats.head()"
   ]
  },
  {
   "cell_type": "code",
   "execution_count": 5,
   "id": "5173b3a9",
   "metadata": {},
   "outputs": [
    {
     "data": {
      "application/vnd.microsoft.datawrangler.viewer.v0+json": {
       "columns": [
        {
         "name": "index",
         "rawType": "int64",
         "type": "integer"
        },
        {
         "name": "Unnamed: 0",
         "rawType": "int64",
         "type": "integer"
        },
        {
         "name": "Video ID",
         "rawType": "object",
         "type": "string"
        },
        {
         "name": "Comment",
         "rawType": "object",
         "type": "string"
        },
        {
         "name": "Likes",
         "rawType": "float64",
         "type": "float"
        },
        {
         "name": "Sentiment",
         "rawType": "float64",
         "type": "float"
        }
       ],
       "ref": "bbe0fa5c-4995-4f0d-9463-cb5d04307be1",
       "rows": [
        [
         "0",
         "0",
         "wAZZ-UWGVHI",
         "Let's not forget that Apple Pay in 2014 required a brand new iPhone in order to use it.  A significant portion of Apple's user base wasn't able to use it even if they wanted to.  As each successive iPhone incorporated the technology and older iPhones were replaced the number of people who could use the technology increased.",
         "95.0",
         "1.0"
        ],
        [
         "1",
         "1",
         "wAZZ-UWGVHI",
         "Here in NZ 50% of retailers don’t even have contactless credit card machines like pay-wave which support Apple Pay. They don’t like the high fees that come with these.",
         "19.0",
         "0.0"
        ],
        [
         "2",
         "2",
         "wAZZ-UWGVHI",
         "I will forever acknowledge this channel with the help of your lessons and ideas explanations, Now It's quite helpful while you'll just sit at your comfort and monitor your account Growth.",
         "161.0",
         "2.0"
        ],
        [
         "3",
         "3",
         "wAZZ-UWGVHI",
         "Whenever I go to a place that doesn’t take Apple Pay (doesn’t happen too often), it’s such a drag. Between ‘contactless Covid’ habits and my getting the Apple Card, I’ve gotten so used to Apple Pay that I get seriously annoyed when a store doesn’t take it. It feels like a shock, it’s crazy how quickly it took over my shopping routine! I’ve officially been brainwashed by Apple because now it feels so inconvenient to even carry a physical card in my pocket.",
         "8.0",
         "0.0"
        ],
        [
         "4",
         "4",
         "wAZZ-UWGVHI",
         "Apple Pay is so convenient, secure, and easy to use. I used it while at the Korean and Japanese airports, no need for physical credit cards.",
         "34.0",
         "2.0"
        ]
       ],
       "shape": {
        "columns": 5,
        "rows": 5
       }
      },
      "text/html": [
       "<div>\n",
       "<style scoped>\n",
       "    .dataframe tbody tr th:only-of-type {\n",
       "        vertical-align: middle;\n",
       "    }\n",
       "\n",
       "    .dataframe tbody tr th {\n",
       "        vertical-align: top;\n",
       "    }\n",
       "\n",
       "    .dataframe thead th {\n",
       "        text-align: right;\n",
       "    }\n",
       "</style>\n",
       "<table border=\"1\" class=\"dataframe\">\n",
       "  <thead>\n",
       "    <tr style=\"text-align: right;\">\n",
       "      <th></th>\n",
       "      <th>Unnamed: 0</th>\n",
       "      <th>Video ID</th>\n",
       "      <th>Comment</th>\n",
       "      <th>Likes</th>\n",
       "      <th>Sentiment</th>\n",
       "    </tr>\n",
       "  </thead>\n",
       "  <tbody>\n",
       "    <tr>\n",
       "      <th>0</th>\n",
       "      <td>0</td>\n",
       "      <td>wAZZ-UWGVHI</td>\n",
       "      <td>Let's not forget that Apple Pay in 2014 requir...</td>\n",
       "      <td>95.0</td>\n",
       "      <td>1.0</td>\n",
       "    </tr>\n",
       "    <tr>\n",
       "      <th>1</th>\n",
       "      <td>1</td>\n",
       "      <td>wAZZ-UWGVHI</td>\n",
       "      <td>Here in NZ 50% of retailers don’t even have co...</td>\n",
       "      <td>19.0</td>\n",
       "      <td>0.0</td>\n",
       "    </tr>\n",
       "    <tr>\n",
       "      <th>2</th>\n",
       "      <td>2</td>\n",
       "      <td>wAZZ-UWGVHI</td>\n",
       "      <td>I will forever acknowledge this channel with t...</td>\n",
       "      <td>161.0</td>\n",
       "      <td>2.0</td>\n",
       "    </tr>\n",
       "    <tr>\n",
       "      <th>3</th>\n",
       "      <td>3</td>\n",
       "      <td>wAZZ-UWGVHI</td>\n",
       "      <td>Whenever I go to a place that doesn’t take App...</td>\n",
       "      <td>8.0</td>\n",
       "      <td>0.0</td>\n",
       "    </tr>\n",
       "    <tr>\n",
       "      <th>4</th>\n",
       "      <td>4</td>\n",
       "      <td>wAZZ-UWGVHI</td>\n",
       "      <td>Apple Pay is so convenient, secure, and easy t...</td>\n",
       "      <td>34.0</td>\n",
       "      <td>2.0</td>\n",
       "    </tr>\n",
       "  </tbody>\n",
       "</table>\n",
       "</div>"
      ],
      "text/plain": [
       "   Unnamed: 0     Video ID                                            Comment  \\\n",
       "0           0  wAZZ-UWGVHI  Let's not forget that Apple Pay in 2014 requir...   \n",
       "1           1  wAZZ-UWGVHI  Here in NZ 50% of retailers don’t even have co...   \n",
       "2           2  wAZZ-UWGVHI  I will forever acknowledge this channel with t...   \n",
       "3           3  wAZZ-UWGVHI  Whenever I go to a place that doesn’t take App...   \n",
       "4           4  wAZZ-UWGVHI  Apple Pay is so convenient, secure, and easy t...   \n",
       "\n",
       "   Likes  Sentiment  \n",
       "0   95.0        1.0  \n",
       "1   19.0        0.0  \n",
       "2  161.0        2.0  \n",
       "3    8.0        0.0  \n",
       "4   34.0        2.0  "
      ]
     },
     "execution_count": 5,
     "metadata": {},
     "output_type": "execute_result"
    }
   ],
   "source": [
    "comments.head()"
   ]
  },
  {
   "cell_type": "markdown",
   "id": "f3eeeea5",
   "metadata": {},
   "source": [
    "#### We do not need the Unnamed: 0 column from both the dataframe"
   ]
  },
  {
   "cell_type": "code",
   "execution_count": 6,
   "id": "57b6ceac",
   "metadata": {},
   "outputs": [
    {
     "data": {
      "application/vnd.microsoft.datawrangler.viewer.v0+json": {
       "columns": [
        {
         "name": "index",
         "rawType": "int64",
         "type": "integer"
        },
        {
         "name": "Title",
         "rawType": "object",
         "type": "string"
        },
        {
         "name": "Video ID",
         "rawType": "object",
         "type": "string"
        },
        {
         "name": "Published At",
         "rawType": "object",
         "type": "string"
        },
        {
         "name": "Keyword",
         "rawType": "object",
         "type": "string"
        },
        {
         "name": "Likes",
         "rawType": "float64",
         "type": "float"
        },
        {
         "name": "Comments",
         "rawType": "float64",
         "type": "float"
        },
        {
         "name": "Views",
         "rawType": "float64",
         "type": "float"
        }
       ],
       "ref": "76795eb9-70c8-42d6-a813-8ae73050d064",
       "rows": [
        [
         "0",
         "Apple Pay Is Killing the Physical Wallet After Only Eight Years | Tech News Briefing Podcast | WSJ",
         "wAZZ-UWGVHI",
         "2022-08-23",
         "tech",
         "3407.0",
         "672.0",
         "135612.0"
        ],
        [
         "1",
         "The most EXPENSIVE thing I own.",
         "b3x28s61q3c",
         "2022-08-24",
         "tech",
         "76779.0",
         "4306.0",
         "1758063.0"
        ],
        [
         "2",
         "My New House Gaming Setup is SICK!",
         "4mgePWWCAmA",
         "2022-08-23",
         "tech",
         "63825.0",
         "3338.0",
         "1564007.0"
        ],
        [
         "3",
         "Petrol Vs Liquid Nitrogen | Freezing Experiment | പെട്രോളിനെ ഐസ് ആകാൻ പറ്റുമോ | M4 Tech |",
         "kXiYSI7H2b0",
         "2022-08-23",
         "tech",
         "71566.0",
         "1426.0",
         "922918.0"
        ],
        [
         "4",
         "Best Back to School Tech 2022!",
         "ErMwWXQxHp0",
         "2022-08-08",
         "tech",
         "96513.0",
         "5155.0",
         "1855644.0"
        ]
       ],
       "shape": {
        "columns": 7,
        "rows": 5
       }
      },
      "text/html": [
       "<div>\n",
       "<style scoped>\n",
       "    .dataframe tbody tr th:only-of-type {\n",
       "        vertical-align: middle;\n",
       "    }\n",
       "\n",
       "    .dataframe tbody tr th {\n",
       "        vertical-align: top;\n",
       "    }\n",
       "\n",
       "    .dataframe thead th {\n",
       "        text-align: right;\n",
       "    }\n",
       "</style>\n",
       "<table border=\"1\" class=\"dataframe\">\n",
       "  <thead>\n",
       "    <tr style=\"text-align: right;\">\n",
       "      <th></th>\n",
       "      <th>Title</th>\n",
       "      <th>Video ID</th>\n",
       "      <th>Published At</th>\n",
       "      <th>Keyword</th>\n",
       "      <th>Likes</th>\n",
       "      <th>Comments</th>\n",
       "      <th>Views</th>\n",
       "    </tr>\n",
       "  </thead>\n",
       "  <tbody>\n",
       "    <tr>\n",
       "      <th>0</th>\n",
       "      <td>Apple Pay Is Killing the Physical Wallet After...</td>\n",
       "      <td>wAZZ-UWGVHI</td>\n",
       "      <td>2022-08-23</td>\n",
       "      <td>tech</td>\n",
       "      <td>3407.0</td>\n",
       "      <td>672.0</td>\n",
       "      <td>135612.0</td>\n",
       "    </tr>\n",
       "    <tr>\n",
       "      <th>1</th>\n",
       "      <td>The most EXPENSIVE thing I own.</td>\n",
       "      <td>b3x28s61q3c</td>\n",
       "      <td>2022-08-24</td>\n",
       "      <td>tech</td>\n",
       "      <td>76779.0</td>\n",
       "      <td>4306.0</td>\n",
       "      <td>1758063.0</td>\n",
       "    </tr>\n",
       "    <tr>\n",
       "      <th>2</th>\n",
       "      <td>My New House Gaming Setup is SICK!</td>\n",
       "      <td>4mgePWWCAmA</td>\n",
       "      <td>2022-08-23</td>\n",
       "      <td>tech</td>\n",
       "      <td>63825.0</td>\n",
       "      <td>3338.0</td>\n",
       "      <td>1564007.0</td>\n",
       "    </tr>\n",
       "    <tr>\n",
       "      <th>3</th>\n",
       "      <td>Petrol Vs Liquid Nitrogen | Freezing Experimen...</td>\n",
       "      <td>kXiYSI7H2b0</td>\n",
       "      <td>2022-08-23</td>\n",
       "      <td>tech</td>\n",
       "      <td>71566.0</td>\n",
       "      <td>1426.0</td>\n",
       "      <td>922918.0</td>\n",
       "    </tr>\n",
       "    <tr>\n",
       "      <th>4</th>\n",
       "      <td>Best Back to School Tech 2022!</td>\n",
       "      <td>ErMwWXQxHp0</td>\n",
       "      <td>2022-08-08</td>\n",
       "      <td>tech</td>\n",
       "      <td>96513.0</td>\n",
       "      <td>5155.0</td>\n",
       "      <td>1855644.0</td>\n",
       "    </tr>\n",
       "  </tbody>\n",
       "</table>\n",
       "</div>"
      ],
      "text/plain": [
       "                                               Title     Video ID  \\\n",
       "0  Apple Pay Is Killing the Physical Wallet After...  wAZZ-UWGVHI   \n",
       "1                    The most EXPENSIVE thing I own.  b3x28s61q3c   \n",
       "2                 My New House Gaming Setup is SICK!  4mgePWWCAmA   \n",
       "3  Petrol Vs Liquid Nitrogen | Freezing Experimen...  kXiYSI7H2b0   \n",
       "4                     Best Back to School Tech 2022!  ErMwWXQxHp0   \n",
       "\n",
       "  Published At Keyword    Likes  Comments      Views  \n",
       "0   2022-08-23    tech   3407.0     672.0   135612.0  \n",
       "1   2022-08-24    tech  76779.0    4306.0  1758063.0  \n",
       "2   2022-08-23    tech  63825.0    3338.0  1564007.0  \n",
       "3   2022-08-23    tech  71566.0    1426.0   922918.0  \n",
       "4   2022-08-08    tech  96513.0    5155.0  1855644.0  "
      ]
     },
     "execution_count": 6,
     "metadata": {},
     "output_type": "execute_result"
    }
   ],
   "source": [
    "video_stats = video_stats.drop('Unnamed: 0', axis=1)\n",
    "video_stats.head()"
   ]
  },
  {
   "cell_type": "code",
   "execution_count": 7,
   "id": "51a02de8",
   "metadata": {},
   "outputs": [
    {
     "data": {
      "application/vnd.microsoft.datawrangler.viewer.v0+json": {
       "columns": [
        {
         "name": "index",
         "rawType": "int64",
         "type": "integer"
        },
        {
         "name": "Video ID",
         "rawType": "object",
         "type": "string"
        },
        {
         "name": "Comment",
         "rawType": "object",
         "type": "string"
        },
        {
         "name": "Likes",
         "rawType": "float64",
         "type": "float"
        },
        {
         "name": "Sentiment",
         "rawType": "float64",
         "type": "float"
        }
       ],
       "ref": "71bbea33-15c6-42e6-83cf-b26075a07d63",
       "rows": [
        [
         "0",
         "wAZZ-UWGVHI",
         "Let's not forget that Apple Pay in 2014 required a brand new iPhone in order to use it.  A significant portion of Apple's user base wasn't able to use it even if they wanted to.  As each successive iPhone incorporated the technology and older iPhones were replaced the number of people who could use the technology increased.",
         "95.0",
         "1.0"
        ],
        [
         "1",
         "wAZZ-UWGVHI",
         "Here in NZ 50% of retailers don’t even have contactless credit card machines like pay-wave which support Apple Pay. They don’t like the high fees that come with these.",
         "19.0",
         "0.0"
        ],
        [
         "2",
         "wAZZ-UWGVHI",
         "I will forever acknowledge this channel with the help of your lessons and ideas explanations, Now It's quite helpful while you'll just sit at your comfort and monitor your account Growth.",
         "161.0",
         "2.0"
        ],
        [
         "3",
         "wAZZ-UWGVHI",
         "Whenever I go to a place that doesn’t take Apple Pay (doesn’t happen too often), it’s such a drag. Between ‘contactless Covid’ habits and my getting the Apple Card, I’ve gotten so used to Apple Pay that I get seriously annoyed when a store doesn’t take it. It feels like a shock, it’s crazy how quickly it took over my shopping routine! I’ve officially been brainwashed by Apple because now it feels so inconvenient to even carry a physical card in my pocket.",
         "8.0",
         "0.0"
        ],
        [
         "4",
         "wAZZ-UWGVHI",
         "Apple Pay is so convenient, secure, and easy to use. I used it while at the Korean and Japanese airports, no need for physical credit cards.",
         "34.0",
         "2.0"
        ]
       ],
       "shape": {
        "columns": 4,
        "rows": 5
       }
      },
      "text/html": [
       "<div>\n",
       "<style scoped>\n",
       "    .dataframe tbody tr th:only-of-type {\n",
       "        vertical-align: middle;\n",
       "    }\n",
       "\n",
       "    .dataframe tbody tr th {\n",
       "        vertical-align: top;\n",
       "    }\n",
       "\n",
       "    .dataframe thead th {\n",
       "        text-align: right;\n",
       "    }\n",
       "</style>\n",
       "<table border=\"1\" class=\"dataframe\">\n",
       "  <thead>\n",
       "    <tr style=\"text-align: right;\">\n",
       "      <th></th>\n",
       "      <th>Video ID</th>\n",
       "      <th>Comment</th>\n",
       "      <th>Likes</th>\n",
       "      <th>Sentiment</th>\n",
       "    </tr>\n",
       "  </thead>\n",
       "  <tbody>\n",
       "    <tr>\n",
       "      <th>0</th>\n",
       "      <td>wAZZ-UWGVHI</td>\n",
       "      <td>Let's not forget that Apple Pay in 2014 requir...</td>\n",
       "      <td>95.0</td>\n",
       "      <td>1.0</td>\n",
       "    </tr>\n",
       "    <tr>\n",
       "      <th>1</th>\n",
       "      <td>wAZZ-UWGVHI</td>\n",
       "      <td>Here in NZ 50% of retailers don’t even have co...</td>\n",
       "      <td>19.0</td>\n",
       "      <td>0.0</td>\n",
       "    </tr>\n",
       "    <tr>\n",
       "      <th>2</th>\n",
       "      <td>wAZZ-UWGVHI</td>\n",
       "      <td>I will forever acknowledge this channel with t...</td>\n",
       "      <td>161.0</td>\n",
       "      <td>2.0</td>\n",
       "    </tr>\n",
       "    <tr>\n",
       "      <th>3</th>\n",
       "      <td>wAZZ-UWGVHI</td>\n",
       "      <td>Whenever I go to a place that doesn’t take App...</td>\n",
       "      <td>8.0</td>\n",
       "      <td>0.0</td>\n",
       "    </tr>\n",
       "    <tr>\n",
       "      <th>4</th>\n",
       "      <td>wAZZ-UWGVHI</td>\n",
       "      <td>Apple Pay is so convenient, secure, and easy t...</td>\n",
       "      <td>34.0</td>\n",
       "      <td>2.0</td>\n",
       "    </tr>\n",
       "  </tbody>\n",
       "</table>\n",
       "</div>"
      ],
      "text/plain": [
       "      Video ID                                            Comment  Likes  \\\n",
       "0  wAZZ-UWGVHI  Let's not forget that Apple Pay in 2014 requir...   95.0   \n",
       "1  wAZZ-UWGVHI  Here in NZ 50% of retailers don’t even have co...   19.0   \n",
       "2  wAZZ-UWGVHI  I will forever acknowledge this channel with t...  161.0   \n",
       "3  wAZZ-UWGVHI  Whenever I go to a place that doesn’t take App...    8.0   \n",
       "4  wAZZ-UWGVHI  Apple Pay is so convenient, secure, and easy t...   34.0   \n",
       "\n",
       "   Sentiment  \n",
       "0        1.0  \n",
       "1        0.0  \n",
       "2        2.0  \n",
       "3        0.0  \n",
       "4        2.0  "
      ]
     },
     "execution_count": 7,
     "metadata": {},
     "output_type": "execute_result"
    }
   ],
   "source": [
    "comments = comments.drop('Unnamed: 0', axis=1)\n",
    "comments.head()"
   ]
  },
  {
   "cell_type": "code",
   "execution_count": 8,
   "id": "4c031fe3",
   "metadata": {},
   "outputs": [
    {
     "data": {
      "text/plain": [
       "1881"
      ]
     },
     "execution_count": 8,
     "metadata": {},
     "output_type": "execute_result"
    }
   ],
   "source": [
    "len(video_stats)"
   ]
  },
  {
   "cell_type": "code",
   "execution_count": 9,
   "id": "555a837b",
   "metadata": {},
   "outputs": [
    {
     "data": {
      "text/plain": [
       "18409"
      ]
     },
     "execution_count": 9,
     "metadata": {},
     "output_type": "execute_result"
    }
   ],
   "source": [
    "len(comments)"
   ]
  },
  {
   "cell_type": "code",
   "execution_count": 10,
   "id": "ab7042cd",
   "metadata": {},
   "outputs": [
    {
     "name": "stdout",
     "output_type": "stream",
     "text": [
      "<class 'pandas.core.frame.DataFrame'>\n",
      "RangeIndex: 1881 entries, 0 to 1880\n",
      "Data columns (total 7 columns):\n",
      " #   Column        Non-Null Count  Dtype  \n",
      "---  ------        --------------  -----  \n",
      " 0   Title         1881 non-null   object \n",
      " 1   Video ID      1881 non-null   object \n",
      " 2   Published At  1881 non-null   object \n",
      " 3   Keyword       1881 non-null   object \n",
      " 4   Likes         1879 non-null   float64\n",
      " 5   Comments      1879 non-null   float64\n",
      " 6   Views         1879 non-null   float64\n",
      "dtypes: float64(3), object(4)\n",
      "memory usage: 103.0+ KB\n"
     ]
    }
   ],
   "source": [
    "video_stats.info()"
   ]
  },
  {
   "cell_type": "code",
   "execution_count": 11,
   "id": "2b3fd7d3",
   "metadata": {},
   "outputs": [
    {
     "data": {
      "application/vnd.microsoft.datawrangler.viewer.v0+json": {
       "columns": [
        {
         "name": "index",
         "rawType": "object",
         "type": "string"
        },
        {
         "name": "Likes",
         "rawType": "float64",
         "type": "float"
        },
        {
         "name": "Comments",
         "rawType": "float64",
         "type": "float"
        },
        {
         "name": "Views",
         "rawType": "float64",
         "type": "float"
        }
       ],
       "ref": "6e61f5a4-f16a-41d4-8b7e-d65899cc9deb",
       "rows": [
        [
         "count",
         "1879.0",
         "1879.0",
         "1879.0"
        ],
        [
         "mean",
         "170061.02075572114",
         "7863.331559340075",
         "11612916.491218733"
        ],
        [
         "std",
         "796229.2670197459",
         "37879.964925799315",
         "108444994.30380201"
        ],
        [
         "min",
         "-1.0",
         "-1.0",
         "25.0"
        ],
        [
         "25%",
         "2672.5",
         "199.0",
         "84515.0"
        ],
        [
         "50%",
         "14787.0",
         "814.0",
         "591721.0"
        ],
        [
         "75%",
         "60906.0",
         "3377.5",
         "2804977.5"
        ],
        [
         "max",
         "16445558.0",
         "732818.0",
         "4034122271.0"
        ]
       ],
       "shape": {
        "columns": 3,
        "rows": 8
       }
      },
      "text/html": [
       "<div>\n",
       "<style scoped>\n",
       "    .dataframe tbody tr th:only-of-type {\n",
       "        vertical-align: middle;\n",
       "    }\n",
       "\n",
       "    .dataframe tbody tr th {\n",
       "        vertical-align: top;\n",
       "    }\n",
       "\n",
       "    .dataframe thead th {\n",
       "        text-align: right;\n",
       "    }\n",
       "</style>\n",
       "<table border=\"1\" class=\"dataframe\">\n",
       "  <thead>\n",
       "    <tr style=\"text-align: right;\">\n",
       "      <th></th>\n",
       "      <th>Likes</th>\n",
       "      <th>Comments</th>\n",
       "      <th>Views</th>\n",
       "    </tr>\n",
       "  </thead>\n",
       "  <tbody>\n",
       "    <tr>\n",
       "      <th>count</th>\n",
       "      <td>1.879000e+03</td>\n",
       "      <td>1879.000000</td>\n",
       "      <td>1.879000e+03</td>\n",
       "    </tr>\n",
       "    <tr>\n",
       "      <th>mean</th>\n",
       "      <td>1.700610e+05</td>\n",
       "      <td>7863.331559</td>\n",
       "      <td>1.161292e+07</td>\n",
       "    </tr>\n",
       "    <tr>\n",
       "      <th>std</th>\n",
       "      <td>7.962293e+05</td>\n",
       "      <td>37879.964926</td>\n",
       "      <td>1.084450e+08</td>\n",
       "    </tr>\n",
       "    <tr>\n",
       "      <th>min</th>\n",
       "      <td>-1.000000e+00</td>\n",
       "      <td>-1.000000</td>\n",
       "      <td>2.500000e+01</td>\n",
       "    </tr>\n",
       "    <tr>\n",
       "      <th>25%</th>\n",
       "      <td>2.672500e+03</td>\n",
       "      <td>199.000000</td>\n",
       "      <td>8.451500e+04</td>\n",
       "    </tr>\n",
       "    <tr>\n",
       "      <th>50%</th>\n",
       "      <td>1.478700e+04</td>\n",
       "      <td>814.000000</td>\n",
       "      <td>5.917210e+05</td>\n",
       "    </tr>\n",
       "    <tr>\n",
       "      <th>75%</th>\n",
       "      <td>6.090600e+04</td>\n",
       "      <td>3377.500000</td>\n",
       "      <td>2.804978e+06</td>\n",
       "    </tr>\n",
       "    <tr>\n",
       "      <th>max</th>\n",
       "      <td>1.644556e+07</td>\n",
       "      <td>732818.000000</td>\n",
       "      <td>4.034122e+09</td>\n",
       "    </tr>\n",
       "  </tbody>\n",
       "</table>\n",
       "</div>"
      ],
      "text/plain": [
       "              Likes       Comments         Views\n",
       "count  1.879000e+03    1879.000000  1.879000e+03\n",
       "mean   1.700610e+05    7863.331559  1.161292e+07\n",
       "std    7.962293e+05   37879.964926  1.084450e+08\n",
       "min   -1.000000e+00      -1.000000  2.500000e+01\n",
       "25%    2.672500e+03     199.000000  8.451500e+04\n",
       "50%    1.478700e+04     814.000000  5.917210e+05\n",
       "75%    6.090600e+04    3377.500000  2.804978e+06\n",
       "max    1.644556e+07  732818.000000  4.034122e+09"
      ]
     },
     "execution_count": 11,
     "metadata": {},
     "output_type": "execute_result"
    }
   ],
   "source": [
    "video_stats.describe()"
   ]
  },
  {
   "cell_type": "code",
   "execution_count": 12,
   "id": "2010ed66",
   "metadata": {},
   "outputs": [],
   "source": [
    "float_fields = video_stats.select_dtypes(include=np.float64).columns.tolist()\n"
   ]
  },
  {
   "cell_type": "code",
   "execution_count": 13,
   "id": "bff6d1db",
   "metadata": {},
   "outputs": [
    {
     "data": {
      "application/vnd.microsoft.datawrangler.viewer.v0+json": {
       "columns": [
        {
         "name": "index",
         "rawType": "int64",
         "type": "integer"
        },
        {
         "name": "Title",
         "rawType": "object",
         "type": "string"
        },
        {
         "name": "Video ID",
         "rawType": "object",
         "type": "string"
        },
        {
         "name": "Published At",
         "rawType": "object",
         "type": "string"
        },
        {
         "name": "Keyword",
         "rawType": "object",
         "type": "string"
        },
        {
         "name": "Likes",
         "rawType": "float64",
         "type": "float"
        },
        {
         "name": "Comments",
         "rawType": "float64",
         "type": "float"
        },
        {
         "name": "Views",
         "rawType": "float64",
         "type": "float"
        }
       ],
       "ref": "19bff456-38f0-48fa-aa46-82d6388d9022",
       "rows": [
        [
         "1879",
         "What is Machine Learning?",
         "f_uwKZIAeM0",
         "2017-01-11",
         "machine learning",
         null,
         null,
         null
        ],
        [
         "1880",
         "Don&#39;t learn machine learning",
         "cyLWtMSry58",
         "2020-03-30",
         "machine learning",
         null,
         null,
         null
        ]
       ],
       "shape": {
        "columns": 7,
        "rows": 2
       }
      },
      "text/html": [
       "<div>\n",
       "<style scoped>\n",
       "    .dataframe tbody tr th:only-of-type {\n",
       "        vertical-align: middle;\n",
       "    }\n",
       "\n",
       "    .dataframe tbody tr th {\n",
       "        vertical-align: top;\n",
       "    }\n",
       "\n",
       "    .dataframe thead th {\n",
       "        text-align: right;\n",
       "    }\n",
       "</style>\n",
       "<table border=\"1\" class=\"dataframe\">\n",
       "  <thead>\n",
       "    <tr style=\"text-align: right;\">\n",
       "      <th></th>\n",
       "      <th>Title</th>\n",
       "      <th>Video ID</th>\n",
       "      <th>Published At</th>\n",
       "      <th>Keyword</th>\n",
       "      <th>Likes</th>\n",
       "      <th>Comments</th>\n",
       "      <th>Views</th>\n",
       "    </tr>\n",
       "  </thead>\n",
       "  <tbody>\n",
       "    <tr>\n",
       "      <th>1879</th>\n",
       "      <td>What is Machine Learning?</td>\n",
       "      <td>f_uwKZIAeM0</td>\n",
       "      <td>2017-01-11</td>\n",
       "      <td>machine learning</td>\n",
       "      <td>NaN</td>\n",
       "      <td>NaN</td>\n",
       "      <td>NaN</td>\n",
       "    </tr>\n",
       "    <tr>\n",
       "      <th>1880</th>\n",
       "      <td>Don&amp;#39;t learn machine learning</td>\n",
       "      <td>cyLWtMSry58</td>\n",
       "      <td>2020-03-30</td>\n",
       "      <td>machine learning</td>\n",
       "      <td>NaN</td>\n",
       "      <td>NaN</td>\n",
       "      <td>NaN</td>\n",
       "    </tr>\n",
       "  </tbody>\n",
       "</table>\n",
       "</div>"
      ],
      "text/plain": [
       "                                 Title     Video ID Published At  \\\n",
       "1879         What is Machine Learning?  f_uwKZIAeM0   2017-01-11   \n",
       "1880  Don&#39;t learn machine learning  cyLWtMSry58   2020-03-30   \n",
       "\n",
       "               Keyword  Likes  Comments  Views  \n",
       "1879  machine learning    NaN       NaN    NaN  \n",
       "1880  machine learning    NaN       NaN    NaN  "
      ]
     },
     "execution_count": 13,
     "metadata": {},
     "output_type": "execute_result"
    }
   ],
   "source": [
    "video_stats[video_stats[float_fields].isnull().any(axis=1)]"
   ]
  },
  {
   "cell_type": "markdown",
   "id": "2dfe8b24",
   "metadata": {},
   "source": [
    "#### There are just 2 videos where the likes comments are disabled and there are no views also too these rows will not be useful for the anlysis so we can drop these rows from the dataset."
   ]
  },
  {
   "cell_type": "code",
   "execution_count": 14,
   "id": "2c59db9e",
   "metadata": {},
   "outputs": [],
   "source": [
    "video_stats = video_stats.dropna()"
   ]
  },
  {
   "cell_type": "code",
   "execution_count": 15,
   "id": "bd8c3c1b",
   "metadata": {},
   "outputs": [
    {
     "data": {
      "text/plain": [
       "1879"
      ]
     },
     "execution_count": 15,
     "metadata": {},
     "output_type": "execute_result"
    }
   ],
   "source": [
    "len(video_stats)"
   ]
  },
  {
   "cell_type": "markdown",
   "id": "4393fd9a",
   "metadata": {},
   "source": [
    "#### We should note these videos which did not had any views and check with the team whether it was data issue or there were no viewsfor this video."
   ]
  },
  {
   "cell_type": "code",
   "execution_count": 16,
   "id": "33c3d719",
   "metadata": {},
   "outputs": [
    {
     "data": {
      "application/vnd.microsoft.datawrangler.viewer.v0+json": {
       "columns": [
        {
         "name": "index",
         "rawType": "object",
         "type": "string"
        },
        {
         "name": "Likes",
         "rawType": "float64",
         "type": "float"
        },
        {
         "name": "Comments",
         "rawType": "float64",
         "type": "float"
        },
        {
         "name": "Views",
         "rawType": "float64",
         "type": "float"
        }
       ],
       "ref": "83c7a191-93f6-4735-ba03-a467d19899e0",
       "rows": [
        [
         "count",
         "1879.0",
         "1879.0",
         "1879.0"
        ],
        [
         "mean",
         "170061.02075572114",
         "7863.331559340075",
         "11612916.491218733"
        ],
        [
         "std",
         "796229.267019746",
         "37879.964925799315",
         "108444994.30380201"
        ],
        [
         "min",
         "-1.0",
         "-1.0",
         "25.0"
        ],
        [
         "25%",
         "2672.5",
         "199.0",
         "84515.0"
        ],
        [
         "50%",
         "14787.0",
         "814.0",
         "591721.0"
        ],
        [
         "75%",
         "60906.0",
         "3377.5",
         "2804977.5"
        ],
        [
         "max",
         "16445558.0",
         "732818.0",
         "4034122271.0"
        ]
       ],
       "shape": {
        "columns": 3,
        "rows": 8
       }
      },
      "text/html": [
       "<div>\n",
       "<style scoped>\n",
       "    .dataframe tbody tr th:only-of-type {\n",
       "        vertical-align: middle;\n",
       "    }\n",
       "\n",
       "    .dataframe tbody tr th {\n",
       "        vertical-align: top;\n",
       "    }\n",
       "\n",
       "    .dataframe thead th {\n",
       "        text-align: right;\n",
       "    }\n",
       "</style>\n",
       "<table border=\"1\" class=\"dataframe\">\n",
       "  <thead>\n",
       "    <tr style=\"text-align: right;\">\n",
       "      <th></th>\n",
       "      <th>Likes</th>\n",
       "      <th>Comments</th>\n",
       "      <th>Views</th>\n",
       "    </tr>\n",
       "  </thead>\n",
       "  <tbody>\n",
       "    <tr>\n",
       "      <th>count</th>\n",
       "      <td>1.879000e+03</td>\n",
       "      <td>1879.000000</td>\n",
       "      <td>1.879000e+03</td>\n",
       "    </tr>\n",
       "    <tr>\n",
       "      <th>mean</th>\n",
       "      <td>1.700610e+05</td>\n",
       "      <td>7863.331559</td>\n",
       "      <td>1.161292e+07</td>\n",
       "    </tr>\n",
       "    <tr>\n",
       "      <th>std</th>\n",
       "      <td>7.962293e+05</td>\n",
       "      <td>37879.964926</td>\n",
       "      <td>1.084450e+08</td>\n",
       "    </tr>\n",
       "    <tr>\n",
       "      <th>min</th>\n",
       "      <td>-1.000000e+00</td>\n",
       "      <td>-1.000000</td>\n",
       "      <td>2.500000e+01</td>\n",
       "    </tr>\n",
       "    <tr>\n",
       "      <th>25%</th>\n",
       "      <td>2.672500e+03</td>\n",
       "      <td>199.000000</td>\n",
       "      <td>8.451500e+04</td>\n",
       "    </tr>\n",
       "    <tr>\n",
       "      <th>50%</th>\n",
       "      <td>1.478700e+04</td>\n",
       "      <td>814.000000</td>\n",
       "      <td>5.917210e+05</td>\n",
       "    </tr>\n",
       "    <tr>\n",
       "      <th>75%</th>\n",
       "      <td>6.090600e+04</td>\n",
       "      <td>3377.500000</td>\n",
       "      <td>2.804978e+06</td>\n",
       "    </tr>\n",
       "    <tr>\n",
       "      <th>max</th>\n",
       "      <td>1.644556e+07</td>\n",
       "      <td>732818.000000</td>\n",
       "      <td>4.034122e+09</td>\n",
       "    </tr>\n",
       "  </tbody>\n",
       "</table>\n",
       "</div>"
      ],
      "text/plain": [
       "              Likes       Comments         Views\n",
       "count  1.879000e+03    1879.000000  1.879000e+03\n",
       "mean   1.700610e+05    7863.331559  1.161292e+07\n",
       "std    7.962293e+05   37879.964926  1.084450e+08\n",
       "min   -1.000000e+00      -1.000000  2.500000e+01\n",
       "25%    2.672500e+03     199.000000  8.451500e+04\n",
       "50%    1.478700e+04     814.000000  5.917210e+05\n",
       "75%    6.090600e+04    3377.500000  2.804978e+06\n",
       "max    1.644556e+07  732818.000000  4.034122e+09"
      ]
     },
     "execution_count": 16,
     "metadata": {},
     "output_type": "execute_result"
    }
   ],
   "source": [
    "video_stats.describe()"
   ]
  },
  {
   "cell_type": "code",
   "execution_count": 17,
   "id": "a9ab96a1",
   "metadata": {},
   "outputs": [],
   "source": [
    "video_stats['likes_int'] = video_stats.Likes.apply(lambda x: x.is_integer())"
   ]
  },
  {
   "cell_type": "code",
   "execution_count": 18,
   "id": "cb82f29e",
   "metadata": {},
   "outputs": [
    {
     "data": {
      "application/vnd.microsoft.datawrangler.viewer.v0+json": {
       "columns": [
        {
         "name": "index",
         "rawType": "int64",
         "type": "integer"
        },
        {
         "name": "likes_int",
         "rawType": "bool",
         "type": "boolean"
        }
       ],
       "ref": "e4518013-eed0-4279-bed8-79fb7ef3a01a",
       "rows": [
        [
         "0",
         "True"
        ],
        [
         "1",
         "True"
        ],
        [
         "2",
         "True"
        ],
        [
         "3",
         "True"
        ],
        [
         "4",
         "True"
        ],
        [
         "5",
         "True"
        ],
        [
         "6",
         "True"
        ],
        [
         "7",
         "True"
        ],
        [
         "8",
         "True"
        ],
        [
         "9",
         "True"
        ],
        [
         "10",
         "True"
        ],
        [
         "11",
         "True"
        ],
        [
         "12",
         "True"
        ],
        [
         "13",
         "True"
        ],
        [
         "14",
         "True"
        ],
        [
         "15",
         "True"
        ],
        [
         "16",
         "True"
        ],
        [
         "17",
         "True"
        ],
        [
         "18",
         "True"
        ],
        [
         "19",
         "True"
        ],
        [
         "20",
         "True"
        ],
        [
         "21",
         "True"
        ],
        [
         "22",
         "True"
        ],
        [
         "23",
         "True"
        ],
        [
         "24",
         "True"
        ],
        [
         "25",
         "True"
        ],
        [
         "26",
         "True"
        ],
        [
         "27",
         "True"
        ],
        [
         "28",
         "True"
        ],
        [
         "29",
         "True"
        ],
        [
         "30",
         "True"
        ],
        [
         "31",
         "True"
        ],
        [
         "32",
         "True"
        ],
        [
         "33",
         "True"
        ],
        [
         "34",
         "True"
        ],
        [
         "35",
         "True"
        ],
        [
         "36",
         "True"
        ],
        [
         "37",
         "True"
        ],
        [
         "38",
         "True"
        ],
        [
         "39",
         "True"
        ],
        [
         "40",
         "True"
        ],
        [
         "41",
         "True"
        ],
        [
         "42",
         "True"
        ],
        [
         "43",
         "True"
        ],
        [
         "44",
         "True"
        ],
        [
         "45",
         "True"
        ],
        [
         "46",
         "True"
        ],
        [
         "47",
         "True"
        ],
        [
         "48",
         "True"
        ],
        [
         "49",
         "True"
        ]
       ],
       "shape": {
        "columns": 1,
        "rows": 1879
       }
      },
      "text/plain": [
       "0       True\n",
       "1       True\n",
       "2       True\n",
       "3       True\n",
       "4       True\n",
       "        ... \n",
       "1874    True\n",
       "1875    True\n",
       "1876    True\n",
       "1877    True\n",
       "1878    True\n",
       "Name: likes_int, Length: 1879, dtype: bool"
      ]
     },
     "execution_count": 18,
     "metadata": {},
     "output_type": "execute_result"
    }
   ],
   "source": [
    "video_stats.likes_int"
   ]
  },
  {
   "cell_type": "markdown",
   "id": "2b855f1c",
   "metadata": {},
   "source": []
  },
  {
   "cell_type": "code",
   "execution_count": 19,
   "id": "d8c2de38",
   "metadata": {},
   "outputs": [
    {
     "data": {
      "application/vnd.microsoft.datawrangler.viewer.v0+json": {
       "columns": [
        {
         "name": "index",
         "rawType": "int64",
         "type": "integer"
        },
        {
         "name": "Title",
         "rawType": "object",
         "type": "string"
        },
        {
         "name": "Video ID",
         "rawType": "object",
         "type": "string"
        },
        {
         "name": "Published At",
         "rawType": "object",
         "type": "string"
        },
        {
         "name": "Keyword",
         "rawType": "object",
         "type": "string"
        },
        {
         "name": "Likes",
         "rawType": "float64",
         "type": "float"
        },
        {
         "name": "Comments",
         "rawType": "float64",
         "type": "float"
        },
        {
         "name": "Views",
         "rawType": "float64",
         "type": "float"
        },
        {
         "name": "likes_int",
         "rawType": "bool",
         "type": "boolean"
        }
       ],
       "ref": "cf0072ce-2734-4015-9152-f73cb55de730",
       "rows": [],
       "shape": {
        "columns": 8,
        "rows": 0
       }
      },
      "text/html": [
       "<div>\n",
       "<style scoped>\n",
       "    .dataframe tbody tr th:only-of-type {\n",
       "        vertical-align: middle;\n",
       "    }\n",
       "\n",
       "    .dataframe tbody tr th {\n",
       "        vertical-align: top;\n",
       "    }\n",
       "\n",
       "    .dataframe thead th {\n",
       "        text-align: right;\n",
       "    }\n",
       "</style>\n",
       "<table border=\"1\" class=\"dataframe\">\n",
       "  <thead>\n",
       "    <tr style=\"text-align: right;\">\n",
       "      <th></th>\n",
       "      <th>Title</th>\n",
       "      <th>Video ID</th>\n",
       "      <th>Published At</th>\n",
       "      <th>Keyword</th>\n",
       "      <th>Likes</th>\n",
       "      <th>Comments</th>\n",
       "      <th>Views</th>\n",
       "      <th>likes_int</th>\n",
       "    </tr>\n",
       "  </thead>\n",
       "  <tbody>\n",
       "  </tbody>\n",
       "</table>\n",
       "</div>"
      ],
      "text/plain": [
       "Empty DataFrame\n",
       "Columns: [Title, Video ID, Published At, Keyword, Likes, Comments, Views, likes_int]\n",
       "Index: []"
      ]
     },
     "execution_count": 19,
     "metadata": {},
     "output_type": "execute_result"
    }
   ],
   "source": [
    "video_stats[video_stats.likes_int == False]  "
   ]
  },
  {
   "cell_type": "code",
   "execution_count": 20,
   "id": "5540b249",
   "metadata": {},
   "outputs": [],
   "source": [
    "video_stats['Comments_int'] = video_stats.Comments.apply(lambda x: x.is_integer())"
   ]
  },
  {
   "cell_type": "code",
   "execution_count": 21,
   "id": "5839ec91",
   "metadata": {},
   "outputs": [
    {
     "data": {
      "application/vnd.microsoft.datawrangler.viewer.v0+json": {
       "columns": [
        {
         "name": "index",
         "rawType": "int64",
         "type": "integer"
        },
        {
         "name": "Title",
         "rawType": "object",
         "type": "string"
        },
        {
         "name": "Video ID",
         "rawType": "object",
         "type": "string"
        },
        {
         "name": "Published At",
         "rawType": "object",
         "type": "string"
        },
        {
         "name": "Keyword",
         "rawType": "object",
         "type": "string"
        },
        {
         "name": "Likes",
         "rawType": "float64",
         "type": "float"
        },
        {
         "name": "Comments",
         "rawType": "float64",
         "type": "float"
        },
        {
         "name": "Views",
         "rawType": "float64",
         "type": "float"
        },
        {
         "name": "likes_int",
         "rawType": "bool",
         "type": "boolean"
        },
        {
         "name": "Comments_int",
         "rawType": "bool",
         "type": "boolean"
        }
       ],
       "ref": "936636bb-1dc9-48ec-afae-6aac08933dc1",
       "rows": [],
       "shape": {
        "columns": 9,
        "rows": 0
       }
      },
      "text/html": [
       "<div>\n",
       "<style scoped>\n",
       "    .dataframe tbody tr th:only-of-type {\n",
       "        vertical-align: middle;\n",
       "    }\n",
       "\n",
       "    .dataframe tbody tr th {\n",
       "        vertical-align: top;\n",
       "    }\n",
       "\n",
       "    .dataframe thead th {\n",
       "        text-align: right;\n",
       "    }\n",
       "</style>\n",
       "<table border=\"1\" class=\"dataframe\">\n",
       "  <thead>\n",
       "    <tr style=\"text-align: right;\">\n",
       "      <th></th>\n",
       "      <th>Title</th>\n",
       "      <th>Video ID</th>\n",
       "      <th>Published At</th>\n",
       "      <th>Keyword</th>\n",
       "      <th>Likes</th>\n",
       "      <th>Comments</th>\n",
       "      <th>Views</th>\n",
       "      <th>likes_int</th>\n",
       "      <th>Comments_int</th>\n",
       "    </tr>\n",
       "  </thead>\n",
       "  <tbody>\n",
       "  </tbody>\n",
       "</table>\n",
       "</div>"
      ],
      "text/plain": [
       "Empty DataFrame\n",
       "Columns: [Title, Video ID, Published At, Keyword, Likes, Comments, Views, likes_int, Comments_int]\n",
       "Index: []"
      ]
     },
     "execution_count": 21,
     "metadata": {},
     "output_type": "execute_result"
    }
   ],
   "source": [
    "video_stats[video_stats.Comments_int == False]"
   ]
  },
  {
   "cell_type": "code",
   "execution_count": 22,
   "id": "b1e23cab",
   "metadata": {},
   "outputs": [],
   "source": [
    "video_stats['Views_int'] = video_stats.Views.apply(lambda x: x.is_integer())"
   ]
  },
  {
   "cell_type": "code",
   "execution_count": 23,
   "id": "e53c58af",
   "metadata": {},
   "outputs": [
    {
     "data": {
      "application/vnd.microsoft.datawrangler.viewer.v0+json": {
       "columns": [
        {
         "name": "index",
         "rawType": "int64",
         "type": "integer"
        },
        {
         "name": "Title",
         "rawType": "object",
         "type": "string"
        },
        {
         "name": "Video ID",
         "rawType": "object",
         "type": "string"
        },
        {
         "name": "Published At",
         "rawType": "object",
         "type": "string"
        },
        {
         "name": "Keyword",
         "rawType": "object",
         "type": "string"
        },
        {
         "name": "Likes",
         "rawType": "float64",
         "type": "float"
        },
        {
         "name": "Comments",
         "rawType": "float64",
         "type": "float"
        },
        {
         "name": "Views",
         "rawType": "float64",
         "type": "float"
        },
        {
         "name": "likes_int",
         "rawType": "bool",
         "type": "boolean"
        },
        {
         "name": "Comments_int",
         "rawType": "bool",
         "type": "boolean"
        },
        {
         "name": "Views_int",
         "rawType": "bool",
         "type": "boolean"
        }
       ],
       "ref": "63a88760-dd34-48e1-a71c-ab4d13158d5a",
       "rows": [],
       "shape": {
        "columns": 10,
        "rows": 0
       }
      },
      "text/html": [
       "<div>\n",
       "<style scoped>\n",
       "    .dataframe tbody tr th:only-of-type {\n",
       "        vertical-align: middle;\n",
       "    }\n",
       "\n",
       "    .dataframe tbody tr th {\n",
       "        vertical-align: top;\n",
       "    }\n",
       "\n",
       "    .dataframe thead th {\n",
       "        text-align: right;\n",
       "    }\n",
       "</style>\n",
       "<table border=\"1\" class=\"dataframe\">\n",
       "  <thead>\n",
       "    <tr style=\"text-align: right;\">\n",
       "      <th></th>\n",
       "      <th>Title</th>\n",
       "      <th>Video ID</th>\n",
       "      <th>Published At</th>\n",
       "      <th>Keyword</th>\n",
       "      <th>Likes</th>\n",
       "      <th>Comments</th>\n",
       "      <th>Views</th>\n",
       "      <th>likes_int</th>\n",
       "      <th>Comments_int</th>\n",
       "      <th>Views_int</th>\n",
       "    </tr>\n",
       "  </thead>\n",
       "  <tbody>\n",
       "  </tbody>\n",
       "</table>\n",
       "</div>"
      ],
      "text/plain": [
       "Empty DataFrame\n",
       "Columns: [Title, Video ID, Published At, Keyword, Likes, Comments, Views, likes_int, Comments_int, Views_int]\n",
       "Index: []"
      ]
     },
     "execution_count": 23,
     "metadata": {},
     "output_type": "execute_result"
    }
   ],
   "source": [
    "video_stats[video_stats.Views_int == False]"
   ]
  },
  {
   "cell_type": "markdown",
   "id": "98931cca",
   "metadata": {},
   "source": [
    "#### Thre are no decimal places for Likes, Comments and views. Can convert it into integer."
   ]
  },
  {
   "cell_type": "code",
   "execution_count": 24,
   "id": "c57ec7e5",
   "metadata": {},
   "outputs": [
    {
     "data": {
      "application/vnd.microsoft.datawrangler.viewer.v0+json": {
       "columns": [
        {
         "name": "index",
         "rawType": "int64",
         "type": "integer"
        },
        {
         "name": "Title",
         "rawType": "object",
         "type": "string"
        },
        {
         "name": "Video ID",
         "rawType": "object",
         "type": "string"
        },
        {
         "name": "Published At",
         "rawType": "object",
         "type": "string"
        },
        {
         "name": "Keyword",
         "rawType": "object",
         "type": "string"
        },
        {
         "name": "Likes",
         "rawType": "float64",
         "type": "float"
        },
        {
         "name": "Comments",
         "rawType": "float64",
         "type": "float"
        },
        {
         "name": "Views",
         "rawType": "float64",
         "type": "float"
        },
        {
         "name": "likes_int",
         "rawType": "bool",
         "type": "boolean"
        },
        {
         "name": "Comments_int",
         "rawType": "bool",
         "type": "boolean"
        },
        {
         "name": "Views_int",
         "rawType": "bool",
         "type": "boolean"
        }
       ],
       "ref": "ad9a6602-8139-429a-bec2-b5af32f53f50",
       "rows": [
        [
         "0",
         "Apple Pay Is Killing the Physical Wallet After Only Eight Years | Tech News Briefing Podcast | WSJ",
         "wAZZ-UWGVHI",
         "2022-08-23",
         "tech",
         "3407.0",
         "672.0",
         "135612.0",
         "True",
         "True",
         "True"
        ],
        [
         "1",
         "The most EXPENSIVE thing I own.",
         "b3x28s61q3c",
         "2022-08-24",
         "tech",
         "76779.0",
         "4306.0",
         "1758063.0",
         "True",
         "True",
         "True"
        ],
        [
         "2",
         "My New House Gaming Setup is SICK!",
         "4mgePWWCAmA",
         "2022-08-23",
         "tech",
         "63825.0",
         "3338.0",
         "1564007.0",
         "True",
         "True",
         "True"
        ],
        [
         "3",
         "Petrol Vs Liquid Nitrogen | Freezing Experiment | പെട്രോളിനെ ഐസ് ആകാൻ പറ്റുമോ | M4 Tech |",
         "kXiYSI7H2b0",
         "2022-08-23",
         "tech",
         "71566.0",
         "1426.0",
         "922918.0",
         "True",
         "True",
         "True"
        ],
        [
         "4",
         "Best Back to School Tech 2022!",
         "ErMwWXQxHp0",
         "2022-08-08",
         "tech",
         "96513.0",
         "5155.0",
         "1855644.0",
         "True",
         "True",
         "True"
        ]
       ],
       "shape": {
        "columns": 10,
        "rows": 5
       }
      },
      "text/html": [
       "<div>\n",
       "<style scoped>\n",
       "    .dataframe tbody tr th:only-of-type {\n",
       "        vertical-align: middle;\n",
       "    }\n",
       "\n",
       "    .dataframe tbody tr th {\n",
       "        vertical-align: top;\n",
       "    }\n",
       "\n",
       "    .dataframe thead th {\n",
       "        text-align: right;\n",
       "    }\n",
       "</style>\n",
       "<table border=\"1\" class=\"dataframe\">\n",
       "  <thead>\n",
       "    <tr style=\"text-align: right;\">\n",
       "      <th></th>\n",
       "      <th>Title</th>\n",
       "      <th>Video ID</th>\n",
       "      <th>Published At</th>\n",
       "      <th>Keyword</th>\n",
       "      <th>Likes</th>\n",
       "      <th>Comments</th>\n",
       "      <th>Views</th>\n",
       "      <th>likes_int</th>\n",
       "      <th>Comments_int</th>\n",
       "      <th>Views_int</th>\n",
       "    </tr>\n",
       "  </thead>\n",
       "  <tbody>\n",
       "    <tr>\n",
       "      <th>0</th>\n",
       "      <td>Apple Pay Is Killing the Physical Wallet After...</td>\n",
       "      <td>wAZZ-UWGVHI</td>\n",
       "      <td>2022-08-23</td>\n",
       "      <td>tech</td>\n",
       "      <td>3407.0</td>\n",
       "      <td>672.0</td>\n",
       "      <td>135612.0</td>\n",
       "      <td>True</td>\n",
       "      <td>True</td>\n",
       "      <td>True</td>\n",
       "    </tr>\n",
       "    <tr>\n",
       "      <th>1</th>\n",
       "      <td>The most EXPENSIVE thing I own.</td>\n",
       "      <td>b3x28s61q3c</td>\n",
       "      <td>2022-08-24</td>\n",
       "      <td>tech</td>\n",
       "      <td>76779.0</td>\n",
       "      <td>4306.0</td>\n",
       "      <td>1758063.0</td>\n",
       "      <td>True</td>\n",
       "      <td>True</td>\n",
       "      <td>True</td>\n",
       "    </tr>\n",
       "    <tr>\n",
       "      <th>2</th>\n",
       "      <td>My New House Gaming Setup is SICK!</td>\n",
       "      <td>4mgePWWCAmA</td>\n",
       "      <td>2022-08-23</td>\n",
       "      <td>tech</td>\n",
       "      <td>63825.0</td>\n",
       "      <td>3338.0</td>\n",
       "      <td>1564007.0</td>\n",
       "      <td>True</td>\n",
       "      <td>True</td>\n",
       "      <td>True</td>\n",
       "    </tr>\n",
       "    <tr>\n",
       "      <th>3</th>\n",
       "      <td>Petrol Vs Liquid Nitrogen | Freezing Experimen...</td>\n",
       "      <td>kXiYSI7H2b0</td>\n",
       "      <td>2022-08-23</td>\n",
       "      <td>tech</td>\n",
       "      <td>71566.0</td>\n",
       "      <td>1426.0</td>\n",
       "      <td>922918.0</td>\n",
       "      <td>True</td>\n",
       "      <td>True</td>\n",
       "      <td>True</td>\n",
       "    </tr>\n",
       "    <tr>\n",
       "      <th>4</th>\n",
       "      <td>Best Back to School Tech 2022!</td>\n",
       "      <td>ErMwWXQxHp0</td>\n",
       "      <td>2022-08-08</td>\n",
       "      <td>tech</td>\n",
       "      <td>96513.0</td>\n",
       "      <td>5155.0</td>\n",
       "      <td>1855644.0</td>\n",
       "      <td>True</td>\n",
       "      <td>True</td>\n",
       "      <td>True</td>\n",
       "    </tr>\n",
       "  </tbody>\n",
       "</table>\n",
       "</div>"
      ],
      "text/plain": [
       "                                               Title     Video ID  \\\n",
       "0  Apple Pay Is Killing the Physical Wallet After...  wAZZ-UWGVHI   \n",
       "1                    The most EXPENSIVE thing I own.  b3x28s61q3c   \n",
       "2                 My New House Gaming Setup is SICK!  4mgePWWCAmA   \n",
       "3  Petrol Vs Liquid Nitrogen | Freezing Experimen...  kXiYSI7H2b0   \n",
       "4                     Best Back to School Tech 2022!  ErMwWXQxHp0   \n",
       "\n",
       "  Published At Keyword    Likes  Comments      Views  likes_int  Comments_int  \\\n",
       "0   2022-08-23    tech   3407.0     672.0   135612.0       True          True   \n",
       "1   2022-08-24    tech  76779.0    4306.0  1758063.0       True          True   \n",
       "2   2022-08-23    tech  63825.0    3338.0  1564007.0       True          True   \n",
       "3   2022-08-23    tech  71566.0    1426.0   922918.0       True          True   \n",
       "4   2022-08-08    tech  96513.0    5155.0  1855644.0       True          True   \n",
       "\n",
       "   Views_int  \n",
       "0       True  \n",
       "1       True  \n",
       "2       True  \n",
       "3       True  \n",
       "4       True  "
      ]
     },
     "execution_count": 24,
     "metadata": {},
     "output_type": "execute_result"
    }
   ],
   "source": [
    "video_stats.head()"
   ]
  },
  {
   "cell_type": "code",
   "execution_count": 25,
   "id": "5f731933",
   "metadata": {},
   "outputs": [],
   "source": [
    "video_stats = video_stats.drop(['Views_int', 'Comments_int', 'likes_int'], axis=1)"
   ]
  },
  {
   "cell_type": "code",
   "execution_count": 26,
   "id": "c6efe967",
   "metadata": {},
   "outputs": [
    {
     "data": {
      "application/vnd.microsoft.datawrangler.viewer.v0+json": {
       "columns": [
        {
         "name": "index",
         "rawType": "int64",
         "type": "integer"
        },
        {
         "name": "Title",
         "rawType": "object",
         "type": "string"
        },
        {
         "name": "Video ID",
         "rawType": "object",
         "type": "string"
        },
        {
         "name": "Published At",
         "rawType": "object",
         "type": "string"
        },
        {
         "name": "Keyword",
         "rawType": "object",
         "type": "string"
        },
        {
         "name": "Likes",
         "rawType": "float64",
         "type": "float"
        },
        {
         "name": "Comments",
         "rawType": "float64",
         "type": "float"
        },
        {
         "name": "Views",
         "rawType": "float64",
         "type": "float"
        }
       ],
       "ref": "abb3a96a-3545-46f7-be70-9bc4ddcf5d3b",
       "rows": [
        [
         "0",
         "Apple Pay Is Killing the Physical Wallet After Only Eight Years | Tech News Briefing Podcast | WSJ",
         "wAZZ-UWGVHI",
         "2022-08-23",
         "tech",
         "3407.0",
         "672.0",
         "135612.0"
        ],
        [
         "1",
         "The most EXPENSIVE thing I own.",
         "b3x28s61q3c",
         "2022-08-24",
         "tech",
         "76779.0",
         "4306.0",
         "1758063.0"
        ],
        [
         "2",
         "My New House Gaming Setup is SICK!",
         "4mgePWWCAmA",
         "2022-08-23",
         "tech",
         "63825.0",
         "3338.0",
         "1564007.0"
        ],
        [
         "3",
         "Petrol Vs Liquid Nitrogen | Freezing Experiment | പെട്രോളിനെ ഐസ് ആകാൻ പറ്റുമോ | M4 Tech |",
         "kXiYSI7H2b0",
         "2022-08-23",
         "tech",
         "71566.0",
         "1426.0",
         "922918.0"
        ],
        [
         "4",
         "Best Back to School Tech 2022!",
         "ErMwWXQxHp0",
         "2022-08-08",
         "tech",
         "96513.0",
         "5155.0",
         "1855644.0"
        ]
       ],
       "shape": {
        "columns": 7,
        "rows": 5
       }
      },
      "text/html": [
       "<div>\n",
       "<style scoped>\n",
       "    .dataframe tbody tr th:only-of-type {\n",
       "        vertical-align: middle;\n",
       "    }\n",
       "\n",
       "    .dataframe tbody tr th {\n",
       "        vertical-align: top;\n",
       "    }\n",
       "\n",
       "    .dataframe thead th {\n",
       "        text-align: right;\n",
       "    }\n",
       "</style>\n",
       "<table border=\"1\" class=\"dataframe\">\n",
       "  <thead>\n",
       "    <tr style=\"text-align: right;\">\n",
       "      <th></th>\n",
       "      <th>Title</th>\n",
       "      <th>Video ID</th>\n",
       "      <th>Published At</th>\n",
       "      <th>Keyword</th>\n",
       "      <th>Likes</th>\n",
       "      <th>Comments</th>\n",
       "      <th>Views</th>\n",
       "    </tr>\n",
       "  </thead>\n",
       "  <tbody>\n",
       "    <tr>\n",
       "      <th>0</th>\n",
       "      <td>Apple Pay Is Killing the Physical Wallet After...</td>\n",
       "      <td>wAZZ-UWGVHI</td>\n",
       "      <td>2022-08-23</td>\n",
       "      <td>tech</td>\n",
       "      <td>3407.0</td>\n",
       "      <td>672.0</td>\n",
       "      <td>135612.0</td>\n",
       "    </tr>\n",
       "    <tr>\n",
       "      <th>1</th>\n",
       "      <td>The most EXPENSIVE thing I own.</td>\n",
       "      <td>b3x28s61q3c</td>\n",
       "      <td>2022-08-24</td>\n",
       "      <td>tech</td>\n",
       "      <td>76779.0</td>\n",
       "      <td>4306.0</td>\n",
       "      <td>1758063.0</td>\n",
       "    </tr>\n",
       "    <tr>\n",
       "      <th>2</th>\n",
       "      <td>My New House Gaming Setup is SICK!</td>\n",
       "      <td>4mgePWWCAmA</td>\n",
       "      <td>2022-08-23</td>\n",
       "      <td>tech</td>\n",
       "      <td>63825.0</td>\n",
       "      <td>3338.0</td>\n",
       "      <td>1564007.0</td>\n",
       "    </tr>\n",
       "    <tr>\n",
       "      <th>3</th>\n",
       "      <td>Petrol Vs Liquid Nitrogen | Freezing Experimen...</td>\n",
       "      <td>kXiYSI7H2b0</td>\n",
       "      <td>2022-08-23</td>\n",
       "      <td>tech</td>\n",
       "      <td>71566.0</td>\n",
       "      <td>1426.0</td>\n",
       "      <td>922918.0</td>\n",
       "    </tr>\n",
       "    <tr>\n",
       "      <th>4</th>\n",
       "      <td>Best Back to School Tech 2022!</td>\n",
       "      <td>ErMwWXQxHp0</td>\n",
       "      <td>2022-08-08</td>\n",
       "      <td>tech</td>\n",
       "      <td>96513.0</td>\n",
       "      <td>5155.0</td>\n",
       "      <td>1855644.0</td>\n",
       "    </tr>\n",
       "  </tbody>\n",
       "</table>\n",
       "</div>"
      ],
      "text/plain": [
       "                                               Title     Video ID  \\\n",
       "0  Apple Pay Is Killing the Physical Wallet After...  wAZZ-UWGVHI   \n",
       "1                    The most EXPENSIVE thing I own.  b3x28s61q3c   \n",
       "2                 My New House Gaming Setup is SICK!  4mgePWWCAmA   \n",
       "3  Petrol Vs Liquid Nitrogen | Freezing Experimen...  kXiYSI7H2b0   \n",
       "4                     Best Back to School Tech 2022!  ErMwWXQxHp0   \n",
       "\n",
       "  Published At Keyword    Likes  Comments      Views  \n",
       "0   2022-08-23    tech   3407.0     672.0   135612.0  \n",
       "1   2022-08-24    tech  76779.0    4306.0  1758063.0  \n",
       "2   2022-08-23    tech  63825.0    3338.0  1564007.0  \n",
       "3   2022-08-23    tech  71566.0    1426.0   922918.0  \n",
       "4   2022-08-08    tech  96513.0    5155.0  1855644.0  "
      ]
     },
     "execution_count": 26,
     "metadata": {},
     "output_type": "execute_result"
    }
   ],
   "source": [
    "video_stats.head()"
   ]
  },
  {
   "cell_type": "code",
   "execution_count": 27,
   "id": "df8497b2",
   "metadata": {},
   "outputs": [],
   "source": [
    "video_stats['Likes'] = video_stats['Likes'].astype(int)\n",
    "video_stats['Comments'] = video_stats['Comments'].astype(int)\n",
    "video_stats['Views'] = video_stats['Views'].astype(int)"
   ]
  },
  {
   "cell_type": "code",
   "execution_count": 28,
   "id": "8f8c8223",
   "metadata": {},
   "outputs": [
    {
     "name": "stdout",
     "output_type": "stream",
     "text": [
      "<class 'pandas.core.frame.DataFrame'>\n",
      "Index: 1879 entries, 0 to 1878\n",
      "Data columns (total 7 columns):\n",
      " #   Column        Non-Null Count  Dtype \n",
      "---  ------        --------------  ----- \n",
      " 0   Title         1879 non-null   object\n",
      " 1   Video ID      1879 non-null   object\n",
      " 2   Published At  1879 non-null   object\n",
      " 3   Keyword       1879 non-null   object\n",
      " 4   Likes         1879 non-null   int64 \n",
      " 5   Comments      1879 non-null   int64 \n",
      " 6   Views         1879 non-null   int64 \n",
      "dtypes: int64(3), object(4)\n",
      "memory usage: 117.4+ KB\n"
     ]
    }
   ],
   "source": [
    "video_stats.info()"
   ]
  },
  {
   "cell_type": "code",
   "execution_count": 29,
   "id": "7e77a97b",
   "metadata": {},
   "outputs": [
    {
     "data": {
      "application/vnd.microsoft.datawrangler.viewer.v0+json": {
       "columns": [
        {
         "name": "index",
         "rawType": "int64",
         "type": "integer"
        },
        {
         "name": "Title",
         "rawType": "object",
         "type": "string"
        },
        {
         "name": "Video ID",
         "rawType": "object",
         "type": "string"
        },
        {
         "name": "Published At",
         "rawType": "object",
         "type": "string"
        },
        {
         "name": "Keyword",
         "rawType": "object",
         "type": "string"
        },
        {
         "name": "Likes",
         "rawType": "int64",
         "type": "integer"
        },
        {
         "name": "Comments",
         "rawType": "int64",
         "type": "integer"
        },
        {
         "name": "Views",
         "rawType": "int64",
         "type": "integer"
        }
       ],
       "ref": "4b0bbec8-e962-4177-83a4-ec0c27561994",
       "rows": [
        [
         "0",
         "Apple Pay Is Killing the Physical Wallet After Only Eight Years | Tech News Briefing Podcast | WSJ",
         "wAZZ-UWGVHI",
         "2022-08-23",
         "tech",
         "3407",
         "672",
         "135612"
        ],
        [
         "1",
         "The most EXPENSIVE thing I own.",
         "b3x28s61q3c",
         "2022-08-24",
         "tech",
         "76779",
         "4306",
         "1758063"
        ],
        [
         "2",
         "My New House Gaming Setup is SICK!",
         "4mgePWWCAmA",
         "2022-08-23",
         "tech",
         "63825",
         "3338",
         "1564007"
        ],
        [
         "3",
         "Petrol Vs Liquid Nitrogen | Freezing Experiment | പെട്രോളിനെ ഐസ് ആകാൻ പറ്റുമോ | M4 Tech |",
         "kXiYSI7H2b0",
         "2022-08-23",
         "tech",
         "71566",
         "1426",
         "922918"
        ],
        [
         "4",
         "Best Back to School Tech 2022!",
         "ErMwWXQxHp0",
         "2022-08-08",
         "tech",
         "96513",
         "5155",
         "1855644"
        ]
       ],
       "shape": {
        "columns": 7,
        "rows": 5
       }
      },
      "text/html": [
       "<div>\n",
       "<style scoped>\n",
       "    .dataframe tbody tr th:only-of-type {\n",
       "        vertical-align: middle;\n",
       "    }\n",
       "\n",
       "    .dataframe tbody tr th {\n",
       "        vertical-align: top;\n",
       "    }\n",
       "\n",
       "    .dataframe thead th {\n",
       "        text-align: right;\n",
       "    }\n",
       "</style>\n",
       "<table border=\"1\" class=\"dataframe\">\n",
       "  <thead>\n",
       "    <tr style=\"text-align: right;\">\n",
       "      <th></th>\n",
       "      <th>Title</th>\n",
       "      <th>Video ID</th>\n",
       "      <th>Published At</th>\n",
       "      <th>Keyword</th>\n",
       "      <th>Likes</th>\n",
       "      <th>Comments</th>\n",
       "      <th>Views</th>\n",
       "    </tr>\n",
       "  </thead>\n",
       "  <tbody>\n",
       "    <tr>\n",
       "      <th>0</th>\n",
       "      <td>Apple Pay Is Killing the Physical Wallet After...</td>\n",
       "      <td>wAZZ-UWGVHI</td>\n",
       "      <td>2022-08-23</td>\n",
       "      <td>tech</td>\n",
       "      <td>3407</td>\n",
       "      <td>672</td>\n",
       "      <td>135612</td>\n",
       "    </tr>\n",
       "    <tr>\n",
       "      <th>1</th>\n",
       "      <td>The most EXPENSIVE thing I own.</td>\n",
       "      <td>b3x28s61q3c</td>\n",
       "      <td>2022-08-24</td>\n",
       "      <td>tech</td>\n",
       "      <td>76779</td>\n",
       "      <td>4306</td>\n",
       "      <td>1758063</td>\n",
       "    </tr>\n",
       "    <tr>\n",
       "      <th>2</th>\n",
       "      <td>My New House Gaming Setup is SICK!</td>\n",
       "      <td>4mgePWWCAmA</td>\n",
       "      <td>2022-08-23</td>\n",
       "      <td>tech</td>\n",
       "      <td>63825</td>\n",
       "      <td>3338</td>\n",
       "      <td>1564007</td>\n",
       "    </tr>\n",
       "    <tr>\n",
       "      <th>3</th>\n",
       "      <td>Petrol Vs Liquid Nitrogen | Freezing Experimen...</td>\n",
       "      <td>kXiYSI7H2b0</td>\n",
       "      <td>2022-08-23</td>\n",
       "      <td>tech</td>\n",
       "      <td>71566</td>\n",
       "      <td>1426</td>\n",
       "      <td>922918</td>\n",
       "    </tr>\n",
       "    <tr>\n",
       "      <th>4</th>\n",
       "      <td>Best Back to School Tech 2022!</td>\n",
       "      <td>ErMwWXQxHp0</td>\n",
       "      <td>2022-08-08</td>\n",
       "      <td>tech</td>\n",
       "      <td>96513</td>\n",
       "      <td>5155</td>\n",
       "      <td>1855644</td>\n",
       "    </tr>\n",
       "  </tbody>\n",
       "</table>\n",
       "</div>"
      ],
      "text/plain": [
       "                                               Title     Video ID  \\\n",
       "0  Apple Pay Is Killing the Physical Wallet After...  wAZZ-UWGVHI   \n",
       "1                    The most EXPENSIVE thing I own.  b3x28s61q3c   \n",
       "2                 My New House Gaming Setup is SICK!  4mgePWWCAmA   \n",
       "3  Petrol Vs Liquid Nitrogen | Freezing Experimen...  kXiYSI7H2b0   \n",
       "4                     Best Back to School Tech 2022!  ErMwWXQxHp0   \n",
       "\n",
       "  Published At Keyword  Likes  Comments    Views  \n",
       "0   2022-08-23    tech   3407       672   135612  \n",
       "1   2022-08-24    tech  76779      4306  1758063  \n",
       "2   2022-08-23    tech  63825      3338  1564007  \n",
       "3   2022-08-23    tech  71566      1426   922918  \n",
       "4   2022-08-08    tech  96513      5155  1855644  "
      ]
     },
     "execution_count": 29,
     "metadata": {},
     "output_type": "execute_result"
    }
   ],
   "source": [
    "video_stats.head()"
   ]
  },
  {
   "cell_type": "markdown",
   "id": "5ae261ac",
   "metadata": {},
   "source": [
    "#### Converting Published At field as date type"
   ]
  },
  {
   "cell_type": "code",
   "execution_count": 30,
   "id": "96456262",
   "metadata": {},
   "outputs": [],
   "source": [
    "video_stats['Published At'] = pd.to_datetime(video_stats['Published At'])"
   ]
  },
  {
   "cell_type": "code",
   "execution_count": 31,
   "id": "8a107547",
   "metadata": {},
   "outputs": [],
   "source": [
    "video_stats['year'] = video_stats['Published At'].dt.year\n",
    "video_stats['month'] = video_stats['Published At'].dt.month"
   ]
  },
  {
   "cell_type": "code",
   "execution_count": 32,
   "id": "210572f5",
   "metadata": {},
   "outputs": [
    {
     "data": {
      "text/plain": [
       "array([2022, 2021, 2020, 2018, 2019, 2017, 2016, 2013, 2009, 2015, 2012,\n",
       "       2014, 2010, 2007, 2011, 2008], dtype=int32)"
      ]
     },
     "execution_count": 32,
     "metadata": {},
     "output_type": "execute_result"
    }
   ],
   "source": [
    "video_stats.year.unique()"
   ]
  },
  {
   "cell_type": "markdown",
   "id": "fe8f8102",
   "metadata": {},
   "source": [
    "#### There is data about videos from 2007 to 2022"
   ]
  },
  {
   "cell_type": "markdown",
   "id": "707bddb9",
   "metadata": {},
   "source": [
    "#### There are 1879 rows in the dataset. Checking how many unique videos are there."
   ]
  },
  {
   "cell_type": "code",
   "execution_count": 33,
   "id": "a2f9a023",
   "metadata": {},
   "outputs": [
    {
     "data": {
      "text/plain": [
       "1867"
      ]
     },
     "execution_count": 33,
     "metadata": {},
     "output_type": "execute_result"
    }
   ],
   "source": [
    "video_stats['Video ID'].nunique()"
   ]
  },
  {
   "cell_type": "code",
   "execution_count": 34,
   "id": "d1bc41e9",
   "metadata": {},
   "outputs": [
    {
     "data": {
      "application/vnd.microsoft.datawrangler.viewer.v0+json": {
       "columns": [
        {
         "name": "index",
         "rawType": "int64",
         "type": "integer"
        },
        {
         "name": "Title",
         "rawType": "object",
         "type": "string"
        },
        {
         "name": "Video ID",
         "rawType": "object",
         "type": "string"
        },
        {
         "name": "Published At",
         "rawType": "datetime64[ns]",
         "type": "datetime"
        },
        {
         "name": "Keyword",
         "rawType": "object",
         "type": "string"
        },
        {
         "name": "Likes",
         "rawType": "int64",
         "type": "integer"
        },
        {
         "name": "Comments",
         "rawType": "int64",
         "type": "integer"
        },
        {
         "name": "Views",
         "rawType": "int64",
         "type": "integer"
        },
        {
         "name": "year",
         "rawType": "int32",
         "type": "integer"
        },
        {
         "name": "month",
         "rawType": "int32",
         "type": "integer"
        }
       ],
       "ref": "803f41dd-4761-4be2-9acc-b939ca62fff0",
       "rows": [],
       "shape": {
        "columns": 9,
        "rows": 0
       }
      },
      "text/html": [
       "<div>\n",
       "<style scoped>\n",
       "    .dataframe tbody tr th:only-of-type {\n",
       "        vertical-align: middle;\n",
       "    }\n",
       "\n",
       "    .dataframe tbody tr th {\n",
       "        vertical-align: top;\n",
       "    }\n",
       "\n",
       "    .dataframe thead th {\n",
       "        text-align: right;\n",
       "    }\n",
       "</style>\n",
       "<table border=\"1\" class=\"dataframe\">\n",
       "  <thead>\n",
       "    <tr style=\"text-align: right;\">\n",
       "      <th></th>\n",
       "      <th>Title</th>\n",
       "      <th>Video ID</th>\n",
       "      <th>Published At</th>\n",
       "      <th>Keyword</th>\n",
       "      <th>Likes</th>\n",
       "      <th>Comments</th>\n",
       "      <th>Views</th>\n",
       "      <th>year</th>\n",
       "      <th>month</th>\n",
       "    </tr>\n",
       "  </thead>\n",
       "  <tbody>\n",
       "  </tbody>\n",
       "</table>\n",
       "</div>"
      ],
      "text/plain": [
       "Empty DataFrame\n",
       "Columns: [Title, Video ID, Published At, Keyword, Likes, Comments, Views, year, month]\n",
       "Index: []"
      ]
     },
     "execution_count": 34,
     "metadata": {},
     "output_type": "execute_result"
    }
   ],
   "source": [
    "video_stats[video_stats.duplicated(keep=False)]"
   ]
  },
  {
   "cell_type": "markdown",
   "id": "fa2b0bfd",
   "metadata": {},
   "source": [
    "#### There are no duplicated rows in the dataset  but still the number of videos are less than the number of total rows."
   ]
  },
  {
   "cell_type": "code",
   "execution_count": 35,
   "id": "93875988",
   "metadata": {},
   "outputs": [
    {
     "name": "stdout",
     "output_type": "stream",
     "text": [
      "                                                  Title     Video ID  \\\n",
      "2                    My New House Gaming Setup is SICK!  4mgePWWCAmA   \n",
      "88                   My New House Gaming Setup is SICK!  4mgePWWCAmA   \n",
      "91                          I OPENED MY OWN ARCADE SHOP  WBK2_lD7KGA   \n",
      "129   ASMR Gaming 😴 Fortnite 1 Kill = 1 Trigger Rela...  mqc6QqoGNWI   \n",
      "225             How to Solve a Rubik&#39;s Cube | WIRED  R-R0KrXvWbc   \n",
      "319   20 Minecraft Block Facts You Maybe Didn&#39;t ...  LeC5yJq4tsI   \n",
      "423             How to Solve a Rubik&#39;s Cube | WIRED  R-R0KrXvWbc   \n",
      "472            The History Of Chess: A Reflection Of Us  kkOweffr3II   \n",
      "682            The History Of Chess: A Reflection Of Us  kkOweffr3II   \n",
      "848   ASMR Gaming 😴 Fortnite 1 Kill = 1 Trigger Rela...  mqc6QqoGNWI   \n",
      "891   Lofi For Reading 📚 Lofi Hip Hop | Study Music ...  ZgeorpjGJC0   \n",
      "916       BLACKPINK - ‘Pink Venom’ DANCE PRACTICE VIDEO  RFMi3v0TXP8   \n",
      "1041      BLACKPINK - ‘Pink Venom’ DANCE PRACTICE VIDEO  RFMi3v0TXP8   \n",
      "1055  Vikram Vedha Movie Teaser Review | KRK | #krkr...  2FYvHn12pOQ   \n",
      "1077  Lofi For Reading 📚 Lofi Hip Hop | Study Music ...  ZgeorpjGJC0   \n",
      "1220  20 Minecraft Block Facts You Maybe Didn&#39;t ...  LeC5yJq4tsI   \n",
      "1229                        I OPENED MY OWN ARCADE SHOP  WBK2_lD7KGA   \n",
      "1501  Computer Scientist Explains Machine Learning i...  5q87K1WaoFI   \n",
      "1554  🚨 DÉPÊCHEZ-VOUS 🚨 Ces PROMOS disparaissent bie...  96mrgd8-3yE   \n",
      "1595  🚨 DÉPÊCHEZ-VOUS 🚨 Ces PROMOS disparaissent bie...  96mrgd8-3yE   \n",
      "1714  Vikram Vedha Movie Teaser Review | KRK | #krkr...  2FYvHn12pOQ   \n",
      "1762    Python Machine Learning Tutorial (Data Science)  7eh4d6sabA0   \n",
      "1832  Computer Scientist Explains Machine Learning i...  5q87K1WaoFI   \n",
      "1835    Python Machine Learning Tutorial (Data Science)  7eh4d6sabA0   \n",
      "\n",
      "     Published At           Keyword    Likes  Comments     Views  year  month  \n",
      "2      2022-08-23              tech    63825      3338   1564007  2022      8  \n",
      "88     2022-08-23            gaming    63825      3338   1564007  2022      8  \n",
      "91     2022-08-24            gaming   298406     15609   3773387  2022      8  \n",
      "129    2022-08-24            gaming      563        85     14537  2022      8  \n",
      "225    2019-09-05            how-to   339758     32718  29905105  2019      9  \n",
      "319    2022-08-21          tutorial    57526      1115   1204024  2022      8  \n",
      "423    2019-09-05             cubes   339759     32717  29905105  2019      9  \n",
      "472    2022-08-21             chess     2546       173     51885  2022      8  \n",
      "682    2022-08-21           history     2546       173     51885  2022      8  \n",
      "848    2022-08-24              asmr      563        86     14537  2022      8  \n",
      "891    2022-08-24             music      329        29     14336  2022      8  \n",
      "916    2022-08-24             music  3001232    110160  23836066  2022      8  \n",
      "1041   2022-08-24          reaction  3001265    110162  23836066  2022      8  \n",
      "1055   2022-08-24          reaction    29728      8832    405791  2022      8  \n",
      "1077   2022-08-24              lofi      329        29     14341  2022      8  \n",
      "1220   2022-08-21         minecraft    57527      1115   1204024  2022      8  \n",
      "1229   2022-08-24         minecraft   298445     15610   3773387  2022      8  \n",
      "1501   2021-08-18  computer science    42940      1735   1407319  2021      8  \n",
      "1554   2022-08-24          nintendo      406        57     13184  2022      8  \n",
      "1595   2022-08-24              xbox      406        57     13184  2022      8  \n",
      "1714   2022-08-24            movies       -1       105   1541874  2022      8  \n",
      "1762   2020-09-17      data science     7555       442    295344  2020      9  \n",
      "1832   2021-08-18  machine learning    15137       181    906372  2021      8  \n",
      "1835   2020-09-17  machine learning     1237        16     32605  2020      9  \n"
     ]
    }
   ],
   "source": [
    "filtered = video_stats['Video ID'].value_counts()\n",
    "vid = filtered[filtered > 1].index.tolist()\n",
    "\n",
    "filtered_rows = video_stats[video_stats['Video ID'].isin(vid)]\n",
    "print(filtered_rows)\n"
   ]
  },
  {
   "cell_type": "markdown",
   "id": "f85806b6",
   "metadata": {},
   "source": [
    "#### There can be more than one keywords for a video and if that is the case then we get multiple rows for it."
   ]
  },
  {
   "cell_type": "markdown",
   "id": "e783a86a",
   "metadata": {},
   "source": [
    "#### Looking at the Comments dataset"
   ]
  },
  {
   "cell_type": "code",
   "execution_count": 36,
   "id": "53496421",
   "metadata": {},
   "outputs": [
    {
     "data": {
      "application/vnd.microsoft.datawrangler.viewer.v0+json": {
       "columns": [
        {
         "name": "index",
         "rawType": "int64",
         "type": "integer"
        },
        {
         "name": "Video ID",
         "rawType": "object",
         "type": "string"
        },
        {
         "name": "Comment",
         "rawType": "object",
         "type": "string"
        },
        {
         "name": "Likes",
         "rawType": "float64",
         "type": "float"
        },
        {
         "name": "Sentiment",
         "rawType": "float64",
         "type": "float"
        }
       ],
       "ref": "0c237054-11a6-4a03-ad27-b5bfd54b94ba",
       "rows": [
        [
         "20",
         "4mgePWWCAmA",
         "Linus!!! Just turn the key lights  180 and bounce them off the walls. You’ll get a much softer glow and shadow and way more even lighting. It’s such a simple fix. I’m not sure where along the lines people got the idea to beam the lights directly at your face 😅",
         "456.0",
         "2.0"
        ],
        [
         "21",
         "4mgePWWCAmA",
         "Dan continues to be my new favorite, he has such an air of confidence about him and a comforting presence. Like Dan shows up and you just know things are going to be fine.",
         "962.0",
         "2.0"
        ],
        [
         "22",
         "4mgePWWCAmA",
         "Dan managing to set up his soldering station on the one box they needed was incredibly amusing to me",
         "518.0",
         "2.0"
        ],
        [
         "23",
         "4mgePWWCAmA",
         "Linus: *Gets on his employee's cases for all the stuff stolen from the office*\nAlso Linus: *Proudly talks about all the stuff stolen from work he's using in his upgraded setup*\n\nLinus: \"Why are you using this monitor as a table?\"\nAlso Linus: *Uses the monitor as a chair* \n\nThis video was hilarious",
         "194.0",
         "2.0"
        ],
        [
         "24",
         "4mgePWWCAmA",
         "Linus: \"This is not a table.\"\nAlso Linus: Let's use this as a chair!",
         "304.0",
         "1.0"
        ],
        [
         "25",
         "4mgePWWCAmA",
         "Dan the man. Saving the day. Riley needs to give him his own theme like Brian the Electrician.",
         "3371.0",
         "2.0"
        ],
        [
         "26",
         "4mgePWWCAmA",
         "Dan continues to be a favourite for me. He's like the incredibly patient, but long-suffering Dad, who just gets on with things",
         "36.0",
         "2.0"
        ],
        [
         "27",
         "4mgePWWCAmA",
         "Dan is a treasure. Your channel has long lacked a Mr. fixit type and while I am sad it's not me, Dan appears quite capable and funny.",
         "134.0",
         "2.0"
        ],
        [
         "28",
         "4mgePWWCAmA",
         "Blows my mind how quickly Dan became the \"rock\" upon which all things Linus stands...Love it",
         "274.0",
         "2.0"
        ],
        [
         "29",
         "4mgePWWCAmA",
         "Hey Linus, a good trick for streaming lights: bounce them off the wall.  Much easier on the eyes, and a nice softer look.\nAlso, for indoors, I'd recommend a hyper-cardioid mic (looks like a short shotgun) like the Audio-Technica AT4053B.",
         "13.0",
         "2.0"
        ],
        [
         "847",
         "4mgePWWCAmA",
         "Linus!!! Just turn the key lights  180 and bounce them off the walls. You’ll get a much softer glow and shadow and way more even lighting. It’s such a simple fix. I’m not sure where along the lines people got the idea to beam the lights directly at your face 😅",
         "456.0",
         "2.0"
        ],
        [
         "848",
         "4mgePWWCAmA",
         "Dan continues to be my new favorite, he has such an air of confidence about him and a comforting presence. Like Dan shows up and you just know things are going to be fine.",
         "962.0",
         "2.0"
        ],
        [
         "849",
         "4mgePWWCAmA",
         "Dan managing to set up his soldering station on the one box they needed was incredibly amusing to me",
         "518.0",
         "2.0"
        ],
        [
         "850",
         "4mgePWWCAmA",
         "Linus: *Gets on his employee's cases for all the stuff stolen from the office*\nAlso Linus: *Proudly talks about all the stuff stolen from work he's using in his upgraded setup*\n\nLinus: \"Why are you using this monitor as a table?\"\nAlso Linus: *Uses the monitor as a chair* \n\nThis video was hilarious",
         "194.0",
         "2.0"
        ],
        [
         "851",
         "4mgePWWCAmA",
         "Linus: \"This is not a table.\"\nAlso Linus: Let's use this as a chair!",
         "304.0",
         "1.0"
        ],
        [
         "852",
         "4mgePWWCAmA",
         "Dan the man. Saving the day. Riley needs to give him his own theme like Brian the Electrician.",
         "3371.0",
         "2.0"
        ],
        [
         "853",
         "4mgePWWCAmA",
         "Dan continues to be a favourite for me. He's like the incredibly patient, but long-suffering Dad, who just gets on with things",
         "36.0",
         "2.0"
        ],
        [
         "854",
         "4mgePWWCAmA",
         "Dan is a treasure. Your channel has long lacked a Mr. fixit type and while I am sad it's not me, Dan appears quite capable and funny.",
         "134.0",
         "2.0"
        ],
        [
         "855",
         "4mgePWWCAmA",
         "Blows my mind how quickly Dan became the \"rock\" upon which all things Linus stands...Love it",
         "274.0",
         "2.0"
        ],
        [
         "856",
         "4mgePWWCAmA",
         "Hey Linus, a good trick for streaming lights: bounce them off the wall.  Much easier on the eyes, and a nice softer look.\nAlso, for indoors, I'd recommend a hyper-cardioid mic (looks like a short shotgun) like the Audio-Technica AT4053B.",
         "13.0",
         "2.0"
        ]
       ],
       "shape": {
        "columns": 4,
        "rows": 20
       }
      },
      "text/html": [
       "<div>\n",
       "<style scoped>\n",
       "    .dataframe tbody tr th:only-of-type {\n",
       "        vertical-align: middle;\n",
       "    }\n",
       "\n",
       "    .dataframe tbody tr th {\n",
       "        vertical-align: top;\n",
       "    }\n",
       "\n",
       "    .dataframe thead th {\n",
       "        text-align: right;\n",
       "    }\n",
       "</style>\n",
       "<table border=\"1\" class=\"dataframe\">\n",
       "  <thead>\n",
       "    <tr style=\"text-align: right;\">\n",
       "      <th></th>\n",
       "      <th>Video ID</th>\n",
       "      <th>Comment</th>\n",
       "      <th>Likes</th>\n",
       "      <th>Sentiment</th>\n",
       "    </tr>\n",
       "  </thead>\n",
       "  <tbody>\n",
       "    <tr>\n",
       "      <th>20</th>\n",
       "      <td>4mgePWWCAmA</td>\n",
       "      <td>Linus!!! Just turn the key lights  180 and bou...</td>\n",
       "      <td>456.0</td>\n",
       "      <td>2.0</td>\n",
       "    </tr>\n",
       "    <tr>\n",
       "      <th>21</th>\n",
       "      <td>4mgePWWCAmA</td>\n",
       "      <td>Dan continues to be my new favorite, he has su...</td>\n",
       "      <td>962.0</td>\n",
       "      <td>2.0</td>\n",
       "    </tr>\n",
       "    <tr>\n",
       "      <th>22</th>\n",
       "      <td>4mgePWWCAmA</td>\n",
       "      <td>Dan managing to set up his soldering station o...</td>\n",
       "      <td>518.0</td>\n",
       "      <td>2.0</td>\n",
       "    </tr>\n",
       "    <tr>\n",
       "      <th>23</th>\n",
       "      <td>4mgePWWCAmA</td>\n",
       "      <td>Linus: *Gets on his employee's cases for all t...</td>\n",
       "      <td>194.0</td>\n",
       "      <td>2.0</td>\n",
       "    </tr>\n",
       "    <tr>\n",
       "      <th>24</th>\n",
       "      <td>4mgePWWCAmA</td>\n",
       "      <td>Linus: \"This is not a table.\"\\nAlso Linus: Let...</td>\n",
       "      <td>304.0</td>\n",
       "      <td>1.0</td>\n",
       "    </tr>\n",
       "    <tr>\n",
       "      <th>25</th>\n",
       "      <td>4mgePWWCAmA</td>\n",
       "      <td>Dan the man. Saving the day. Riley needs to gi...</td>\n",
       "      <td>3371.0</td>\n",
       "      <td>2.0</td>\n",
       "    </tr>\n",
       "    <tr>\n",
       "      <th>26</th>\n",
       "      <td>4mgePWWCAmA</td>\n",
       "      <td>Dan continues to be a favourite for me. He's l...</td>\n",
       "      <td>36.0</td>\n",
       "      <td>2.0</td>\n",
       "    </tr>\n",
       "    <tr>\n",
       "      <th>27</th>\n",
       "      <td>4mgePWWCAmA</td>\n",
       "      <td>Dan is a treasure. Your channel has long lacke...</td>\n",
       "      <td>134.0</td>\n",
       "      <td>2.0</td>\n",
       "    </tr>\n",
       "    <tr>\n",
       "      <th>28</th>\n",
       "      <td>4mgePWWCAmA</td>\n",
       "      <td>Blows my mind how quickly Dan became the \"rock...</td>\n",
       "      <td>274.0</td>\n",
       "      <td>2.0</td>\n",
       "    </tr>\n",
       "    <tr>\n",
       "      <th>29</th>\n",
       "      <td>4mgePWWCAmA</td>\n",
       "      <td>Hey Linus, a good trick for streaming lights: ...</td>\n",
       "      <td>13.0</td>\n",
       "      <td>2.0</td>\n",
       "    </tr>\n",
       "    <tr>\n",
       "      <th>847</th>\n",
       "      <td>4mgePWWCAmA</td>\n",
       "      <td>Linus!!! Just turn the key lights  180 and bou...</td>\n",
       "      <td>456.0</td>\n",
       "      <td>2.0</td>\n",
       "    </tr>\n",
       "    <tr>\n",
       "      <th>848</th>\n",
       "      <td>4mgePWWCAmA</td>\n",
       "      <td>Dan continues to be my new favorite, he has su...</td>\n",
       "      <td>962.0</td>\n",
       "      <td>2.0</td>\n",
       "    </tr>\n",
       "    <tr>\n",
       "      <th>849</th>\n",
       "      <td>4mgePWWCAmA</td>\n",
       "      <td>Dan managing to set up his soldering station o...</td>\n",
       "      <td>518.0</td>\n",
       "      <td>2.0</td>\n",
       "    </tr>\n",
       "    <tr>\n",
       "      <th>850</th>\n",
       "      <td>4mgePWWCAmA</td>\n",
       "      <td>Linus: *Gets on his employee's cases for all t...</td>\n",
       "      <td>194.0</td>\n",
       "      <td>2.0</td>\n",
       "    </tr>\n",
       "    <tr>\n",
       "      <th>851</th>\n",
       "      <td>4mgePWWCAmA</td>\n",
       "      <td>Linus: \"This is not a table.\"\\nAlso Linus: Let...</td>\n",
       "      <td>304.0</td>\n",
       "      <td>1.0</td>\n",
       "    </tr>\n",
       "    <tr>\n",
       "      <th>852</th>\n",
       "      <td>4mgePWWCAmA</td>\n",
       "      <td>Dan the man. Saving the day. Riley needs to gi...</td>\n",
       "      <td>3371.0</td>\n",
       "      <td>2.0</td>\n",
       "    </tr>\n",
       "    <tr>\n",
       "      <th>853</th>\n",
       "      <td>4mgePWWCAmA</td>\n",
       "      <td>Dan continues to be a favourite for me. He's l...</td>\n",
       "      <td>36.0</td>\n",
       "      <td>2.0</td>\n",
       "    </tr>\n",
       "    <tr>\n",
       "      <th>854</th>\n",
       "      <td>4mgePWWCAmA</td>\n",
       "      <td>Dan is a treasure. Your channel has long lacke...</td>\n",
       "      <td>134.0</td>\n",
       "      <td>2.0</td>\n",
       "    </tr>\n",
       "    <tr>\n",
       "      <th>855</th>\n",
       "      <td>4mgePWWCAmA</td>\n",
       "      <td>Blows my mind how quickly Dan became the \"rock...</td>\n",
       "      <td>274.0</td>\n",
       "      <td>2.0</td>\n",
       "    </tr>\n",
       "    <tr>\n",
       "      <th>856</th>\n",
       "      <td>4mgePWWCAmA</td>\n",
       "      <td>Hey Linus, a good trick for streaming lights: ...</td>\n",
       "      <td>13.0</td>\n",
       "      <td>2.0</td>\n",
       "    </tr>\n",
       "  </tbody>\n",
       "</table>\n",
       "</div>"
      ],
      "text/plain": [
       "        Video ID                                            Comment   Likes  \\\n",
       "20   4mgePWWCAmA  Linus!!! Just turn the key lights  180 and bou...   456.0   \n",
       "21   4mgePWWCAmA  Dan continues to be my new favorite, he has su...   962.0   \n",
       "22   4mgePWWCAmA  Dan managing to set up his soldering station o...   518.0   \n",
       "23   4mgePWWCAmA  Linus: *Gets on his employee's cases for all t...   194.0   \n",
       "24   4mgePWWCAmA  Linus: \"This is not a table.\"\\nAlso Linus: Let...   304.0   \n",
       "25   4mgePWWCAmA  Dan the man. Saving the day. Riley needs to gi...  3371.0   \n",
       "26   4mgePWWCAmA  Dan continues to be a favourite for me. He's l...    36.0   \n",
       "27   4mgePWWCAmA  Dan is a treasure. Your channel has long lacke...   134.0   \n",
       "28   4mgePWWCAmA  Blows my mind how quickly Dan became the \"rock...   274.0   \n",
       "29   4mgePWWCAmA  Hey Linus, a good trick for streaming lights: ...    13.0   \n",
       "847  4mgePWWCAmA  Linus!!! Just turn the key lights  180 and bou...   456.0   \n",
       "848  4mgePWWCAmA  Dan continues to be my new favorite, he has su...   962.0   \n",
       "849  4mgePWWCAmA  Dan managing to set up his soldering station o...   518.0   \n",
       "850  4mgePWWCAmA  Linus: *Gets on his employee's cases for all t...   194.0   \n",
       "851  4mgePWWCAmA  Linus: \"This is not a table.\"\\nAlso Linus: Let...   304.0   \n",
       "852  4mgePWWCAmA  Dan the man. Saving the day. Riley needs to gi...  3371.0   \n",
       "853  4mgePWWCAmA  Dan continues to be a favourite for me. He's l...    36.0   \n",
       "854  4mgePWWCAmA  Dan is a treasure. Your channel has long lacke...   134.0   \n",
       "855  4mgePWWCAmA  Blows my mind how quickly Dan became the \"rock...   274.0   \n",
       "856  4mgePWWCAmA  Hey Linus, a good trick for streaming lights: ...    13.0   \n",
       "\n",
       "     Sentiment  \n",
       "20         2.0  \n",
       "21         2.0  \n",
       "22         2.0  \n",
       "23         2.0  \n",
       "24         1.0  \n",
       "25         2.0  \n",
       "26         2.0  \n",
       "27         2.0  \n",
       "28         2.0  \n",
       "29         2.0  \n",
       "847        2.0  \n",
       "848        2.0  \n",
       "849        2.0  \n",
       "850        2.0  \n",
       "851        1.0  \n",
       "852        2.0  \n",
       "853        2.0  \n",
       "854        2.0  \n",
       "855        2.0  \n",
       "856        2.0  "
      ]
     },
     "execution_count": 36,
     "metadata": {},
     "output_type": "execute_result"
    }
   ],
   "source": [
    "comments[comments['Video ID']=='4mgePWWCAmA']"
   ]
  },
  {
   "cell_type": "markdown",
   "id": "6ced6a54",
   "metadata": {},
   "source": [
    "#### Looks like there are repeated values"
   ]
  },
  {
   "cell_type": "code",
   "execution_count": 37,
   "id": "c000a4e1",
   "metadata": {},
   "outputs": [
    {
     "name": "stdout",
     "output_type": "stream",
     "text": [
      "148\n"
     ]
    }
   ],
   "source": [
    "num_duplicated  = comments.duplicated().sum()\n",
    "print(num_duplicated)"
   ]
  },
  {
   "cell_type": "code",
   "execution_count": 38,
   "id": "3b0fe8f9",
   "metadata": {},
   "outputs": [
    {
     "data": {
      "text/plain": [
       "18409"
      ]
     },
     "execution_count": 38,
     "metadata": {},
     "output_type": "execute_result"
    }
   ],
   "source": [
    "len(comments)"
   ]
  },
  {
   "cell_type": "markdown",
   "id": "c341aca6",
   "metadata": {},
   "source": [
    "#### There are 148 duplicated rows in the dataset. We do not need these duplicated rows we can delete them."
   ]
  },
  {
   "cell_type": "code",
   "execution_count": 39,
   "id": "077c89c3",
   "metadata": {},
   "outputs": [
    {
     "data": {
      "text/plain": [
       "18261"
      ]
     },
     "execution_count": 39,
     "metadata": {},
     "output_type": "execute_result"
    }
   ],
   "source": [
    "comments = comments.drop_duplicates()\n",
    "len(comments)"
   ]
  },
  {
   "cell_type": "markdown",
   "id": "3614ef91",
   "metadata": {},
   "source": [
    "#### Converting Likes field on the comment to an integer"
   ]
  },
  {
   "cell_type": "code",
   "execution_count": 40,
   "id": "dd5f6d7a",
   "metadata": {},
   "outputs": [],
   "source": [
    "comments.Likes = comments.Likes.astype(int)"
   ]
  },
  {
   "cell_type": "code",
   "execution_count": 41,
   "id": "83e59e85",
   "metadata": {},
   "outputs": [
    {
     "name": "stdout",
     "output_type": "stream",
     "text": [
      "<class 'pandas.core.frame.DataFrame'>\n",
      "Index: 18261 entries, 0 to 18408\n",
      "Data columns (total 4 columns):\n",
      " #   Column     Non-Null Count  Dtype  \n",
      "---  ------     --------------  -----  \n",
      " 0   Video ID   18261 non-null  object \n",
      " 1   Comment    18260 non-null  object \n",
      " 2   Likes      18261 non-null  int64  \n",
      " 3   Sentiment  18261 non-null  float64\n",
      "dtypes: float64(1), int64(1), object(2)\n",
      "memory usage: 713.3+ KB\n"
     ]
    }
   ],
   "source": [
    "comments.info()"
   ]
  },
  {
   "cell_type": "code",
   "execution_count": 42,
   "id": "213c5dee",
   "metadata": {},
   "outputs": [
    {
     "data": {
      "application/vnd.microsoft.datawrangler.viewer.v0+json": {
       "columns": [
        {
         "name": "index",
         "rawType": "object",
         "type": "string"
        },
        {
         "name": "Likes",
         "rawType": "float64",
         "type": "float"
        },
        {
         "name": "Sentiment",
         "rawType": "float64",
         "type": "float"
        }
       ],
       "ref": "3c4ee36d-50ba-496f-b364-8738909b7cde",
       "rows": [
        [
         "count",
         "18261.0",
         "18261.0"
        ],
        [
         "mean",
         "1044.4694156946498",
         "1.4920869612836098"
        ],
        [
         "std",
         "10692.762498805865",
         "0.7108957435969533"
        ],
        [
         "min",
         "0.0",
         "0.0"
        ],
        [
         "25%",
         "5.0",
         "1.0"
        ],
        [
         "50%",
         "29.0",
         "2.0"
        ],
        [
         "75%",
         "191.0",
         "2.0"
        ],
        [
         "max",
         "891372.0",
         "2.0"
        ]
       ],
       "shape": {
        "columns": 2,
        "rows": 8
       }
      },
      "text/html": [
       "<div>\n",
       "<style scoped>\n",
       "    .dataframe tbody tr th:only-of-type {\n",
       "        vertical-align: middle;\n",
       "    }\n",
       "\n",
       "    .dataframe tbody tr th {\n",
       "        vertical-align: top;\n",
       "    }\n",
       "\n",
       "    .dataframe thead th {\n",
       "        text-align: right;\n",
       "    }\n",
       "</style>\n",
       "<table border=\"1\" class=\"dataframe\">\n",
       "  <thead>\n",
       "    <tr style=\"text-align: right;\">\n",
       "      <th></th>\n",
       "      <th>Likes</th>\n",
       "      <th>Sentiment</th>\n",
       "    </tr>\n",
       "  </thead>\n",
       "  <tbody>\n",
       "    <tr>\n",
       "      <th>count</th>\n",
       "      <td>18261.000000</td>\n",
       "      <td>18261.000000</td>\n",
       "    </tr>\n",
       "    <tr>\n",
       "      <th>mean</th>\n",
       "      <td>1044.469416</td>\n",
       "      <td>1.492087</td>\n",
       "    </tr>\n",
       "    <tr>\n",
       "      <th>std</th>\n",
       "      <td>10692.762499</td>\n",
       "      <td>0.710896</td>\n",
       "    </tr>\n",
       "    <tr>\n",
       "      <th>min</th>\n",
       "      <td>0.000000</td>\n",
       "      <td>0.000000</td>\n",
       "    </tr>\n",
       "    <tr>\n",
       "      <th>25%</th>\n",
       "      <td>5.000000</td>\n",
       "      <td>1.000000</td>\n",
       "    </tr>\n",
       "    <tr>\n",
       "      <th>50%</th>\n",
       "      <td>29.000000</td>\n",
       "      <td>2.000000</td>\n",
       "    </tr>\n",
       "    <tr>\n",
       "      <th>75%</th>\n",
       "      <td>191.000000</td>\n",
       "      <td>2.000000</td>\n",
       "    </tr>\n",
       "    <tr>\n",
       "      <th>max</th>\n",
       "      <td>891372.000000</td>\n",
       "      <td>2.000000</td>\n",
       "    </tr>\n",
       "  </tbody>\n",
       "</table>\n",
       "</div>"
      ],
      "text/plain": [
       "               Likes     Sentiment\n",
       "count   18261.000000  18261.000000\n",
       "mean     1044.469416      1.492087\n",
       "std     10692.762499      0.710896\n",
       "min         0.000000      0.000000\n",
       "25%         5.000000      1.000000\n",
       "50%        29.000000      2.000000\n",
       "75%       191.000000      2.000000\n",
       "max    891372.000000      2.000000"
      ]
     },
     "execution_count": 42,
     "metadata": {},
     "output_type": "execute_result"
    }
   ],
   "source": [
    "comments.describe()"
   ]
  },
  {
   "cell_type": "markdown",
   "id": "97ce46b4",
   "metadata": {},
   "source": [
    "#### Finding if there are any videos where the comments are missing in the comments dataset."
   ]
  },
  {
   "cell_type": "code",
   "execution_count": 43,
   "id": "43c71176",
   "metadata": {},
   "outputs": [
    {
     "name": "stdout",
     "output_type": "stream",
     "text": [
      "Empty DataFrame\n",
      "Columns: [Title, Video ID, Published At, Keyword, Likes, Comments, Views, year, month]\n",
      "Index: []\n"
     ]
    }
   ],
   "source": [
    "missing_in_comments = video_stats[~video_stats['Video ID'].isin(comments['Video ID'])]\n",
    "print(missing_in_comments)"
   ]
  },
  {
   "cell_type": "code",
   "execution_count": 44,
   "id": "50472ce0",
   "metadata": {},
   "outputs": [
    {
     "data": {
      "text/plain": [
       "41"
      ]
     },
     "execution_count": 44,
     "metadata": {},
     "output_type": "execute_result"
    }
   ],
   "source": [
    "video_stats.Keyword.nunique()"
   ]
  },
  {
   "cell_type": "code",
   "execution_count": 45,
   "id": "6c299065",
   "metadata": {},
   "outputs": [
    {
     "data": {
      "text/plain": [
       "array(['tech', 'news', 'gaming', 'sports', 'how-to', 'business',\n",
       "       'tutorial', 'finance', 'crypto', 'cubes', 'chess', 'apple',\n",
       "       'google', 'interview', 'history', 'literature', 'bed', 'trolling',\n",
       "       'asmr', 'music', 'food', 'mukbang', 'reaction', 'lofi', 'animals',\n",
       "       'education', 'minecraft', 'sat', 'mrbeast', 'cnn', 'mathchemistry',\n",
       "       'biology', 'physics', 'computer science', 'nintendo', 'xbox',\n",
       "       'marvel', 'movies', 'data science', 'game development',\n",
       "       'machine learning'], dtype=object)"
      ]
     },
     "execution_count": 45,
     "metadata": {},
     "output_type": "execute_result"
    }
   ],
   "source": [
    "video_stats.Keyword.unique()"
   ]
  },
  {
   "cell_type": "code",
   "execution_count": 46,
   "id": "be01ee25",
   "metadata": {},
   "outputs": [],
   "source": [
    "video_stats['Likes'] = video_stats['Likes'].replace(-1,0)"
   ]
  },
  {
   "cell_type": "markdown",
   "id": "349dd889",
   "metadata": {},
   "source": [
    "#### All the videos have top 10 comments in the comments dataset."
   ]
  },
  {
   "cell_type": "code",
   "execution_count": 47,
   "id": "9b6a57a7",
   "metadata": {},
   "outputs": [
    {
     "data": {
      "application/vnd.microsoft.datawrangler.viewer.v0+json": {
       "columns": [
        {
         "name": "index",
         "rawType": "int64",
         "type": "integer"
        },
        {
         "name": "Video ID",
         "rawType": "object",
         "type": "string"
        },
        {
         "name": "Comment",
         "rawType": "object",
         "type": "string"
        },
        {
         "name": "Likes",
         "rawType": "int64",
         "type": "integer"
        },
        {
         "name": "Sentiment",
         "rawType": "float64",
         "type": "float"
        }
       ],
       "ref": "4cc0f604-6371-4c5b-a046-b31f3f51ee20",
       "rows": [
        [
         "0",
         "wAZZ-UWGVHI",
         "Let's not forget that Apple Pay in 2014 required a brand new iPhone in order to use it.  A significant portion of Apple's user base wasn't able to use it even if they wanted to.  As each successive iPhone incorporated the technology and older iPhones were replaced the number of people who could use the technology increased.",
         "95",
         "1.0"
        ],
        [
         "1",
         "wAZZ-UWGVHI",
         "Here in NZ 50% of retailers don’t even have contactless credit card machines like pay-wave which support Apple Pay. They don’t like the high fees that come with these.",
         "19",
         "0.0"
        ],
        [
         "2",
         "wAZZ-UWGVHI",
         "I will forever acknowledge this channel with the help of your lessons and ideas explanations, Now It's quite helpful while you'll just sit at your comfort and monitor your account Growth.",
         "161",
         "2.0"
        ],
        [
         "3",
         "wAZZ-UWGVHI",
         "Whenever I go to a place that doesn’t take Apple Pay (doesn’t happen too often), it’s such a drag. Between ‘contactless Covid’ habits and my getting the Apple Card, I’ve gotten so used to Apple Pay that I get seriously annoyed when a store doesn’t take it. It feels like a shock, it’s crazy how quickly it took over my shopping routine! I’ve officially been brainwashed by Apple because now it feels so inconvenient to even carry a physical card in my pocket.",
         "8",
         "0.0"
        ],
        [
         "4",
         "wAZZ-UWGVHI",
         "Apple Pay is so convenient, secure, and easy to use. I used it while at the Korean and Japanese airports, no need for physical credit cards.",
         "34",
         "2.0"
        ]
       ],
       "shape": {
        "columns": 4,
        "rows": 5
       }
      },
      "text/html": [
       "<div>\n",
       "<style scoped>\n",
       "    .dataframe tbody tr th:only-of-type {\n",
       "        vertical-align: middle;\n",
       "    }\n",
       "\n",
       "    .dataframe tbody tr th {\n",
       "        vertical-align: top;\n",
       "    }\n",
       "\n",
       "    .dataframe thead th {\n",
       "        text-align: right;\n",
       "    }\n",
       "</style>\n",
       "<table border=\"1\" class=\"dataframe\">\n",
       "  <thead>\n",
       "    <tr style=\"text-align: right;\">\n",
       "      <th></th>\n",
       "      <th>Video ID</th>\n",
       "      <th>Comment</th>\n",
       "      <th>Likes</th>\n",
       "      <th>Sentiment</th>\n",
       "    </tr>\n",
       "  </thead>\n",
       "  <tbody>\n",
       "    <tr>\n",
       "      <th>0</th>\n",
       "      <td>wAZZ-UWGVHI</td>\n",
       "      <td>Let's not forget that Apple Pay in 2014 requir...</td>\n",
       "      <td>95</td>\n",
       "      <td>1.0</td>\n",
       "    </tr>\n",
       "    <tr>\n",
       "      <th>1</th>\n",
       "      <td>wAZZ-UWGVHI</td>\n",
       "      <td>Here in NZ 50% of retailers don’t even have co...</td>\n",
       "      <td>19</td>\n",
       "      <td>0.0</td>\n",
       "    </tr>\n",
       "    <tr>\n",
       "      <th>2</th>\n",
       "      <td>wAZZ-UWGVHI</td>\n",
       "      <td>I will forever acknowledge this channel with t...</td>\n",
       "      <td>161</td>\n",
       "      <td>2.0</td>\n",
       "    </tr>\n",
       "    <tr>\n",
       "      <th>3</th>\n",
       "      <td>wAZZ-UWGVHI</td>\n",
       "      <td>Whenever I go to a place that doesn’t take App...</td>\n",
       "      <td>8</td>\n",
       "      <td>0.0</td>\n",
       "    </tr>\n",
       "    <tr>\n",
       "      <th>4</th>\n",
       "      <td>wAZZ-UWGVHI</td>\n",
       "      <td>Apple Pay is so convenient, secure, and easy t...</td>\n",
       "      <td>34</td>\n",
       "      <td>2.0</td>\n",
       "    </tr>\n",
       "  </tbody>\n",
       "</table>\n",
       "</div>"
      ],
      "text/plain": [
       "      Video ID                                            Comment  Likes  \\\n",
       "0  wAZZ-UWGVHI  Let's not forget that Apple Pay in 2014 requir...     95   \n",
       "1  wAZZ-UWGVHI  Here in NZ 50% of retailers don’t even have co...     19   \n",
       "2  wAZZ-UWGVHI  I will forever acknowledge this channel with t...    161   \n",
       "3  wAZZ-UWGVHI  Whenever I go to a place that doesn’t take App...      8   \n",
       "4  wAZZ-UWGVHI  Apple Pay is so convenient, secure, and easy t...     34   \n",
       "\n",
       "   Sentiment  \n",
       "0        1.0  \n",
       "1        0.0  \n",
       "2        2.0  \n",
       "3        0.0  \n",
       "4        2.0  "
      ]
     },
     "execution_count": 47,
     "metadata": {},
     "output_type": "execute_result"
    }
   ],
   "source": [
    "comments.head()"
   ]
  },
  {
   "cell_type": "markdown",
   "id": "301163db",
   "metadata": {},
   "source": [
    "#### Sentiment Analysis of the Comment. Cannot rely on the Senitment field because do not know how it was populated."
   ]
  },
  {
   "cell_type": "code",
   "execution_count": 48,
   "id": "e0fdfe67",
   "metadata": {},
   "outputs": [],
   "source": [
    "sia = SentimentIntensityAnalyzer()"
   ]
  },
  {
   "cell_type": "code",
   "execution_count": 49,
   "id": "e7b11010",
   "metadata": {},
   "outputs": [
    {
     "data": {
      "text/plain": [
       "np.int64(1)"
      ]
     },
     "execution_count": 49,
     "metadata": {},
     "output_type": "execute_result"
    }
   ],
   "source": [
    "comments.Comment.isnull().sum()"
   ]
  },
  {
   "cell_type": "code",
   "execution_count": 50,
   "id": "25bfc996",
   "metadata": {},
   "outputs": [],
   "source": [
    "comments.Comment = comments.Comment.astype(str)"
   ]
  },
  {
   "cell_type": "code",
   "execution_count": 51,
   "id": "7d915380",
   "metadata": {},
   "outputs": [],
   "source": [
    "comments['sentiment_score'] = comments.Comment.apply(lambda x: sia.polarity_scores(x)['compound'])"
   ]
  },
  {
   "cell_type": "code",
   "execution_count": 52,
   "id": "dbb9ffaf",
   "metadata": {},
   "outputs": [
    {
     "data": {
      "application/vnd.microsoft.datawrangler.viewer.v0+json": {
       "columns": [
        {
         "name": "index",
         "rawType": "int64",
         "type": "integer"
        },
        {
         "name": "Video ID",
         "rawType": "object",
         "type": "string"
        },
        {
         "name": "Comment",
         "rawType": "object",
         "type": "string"
        },
        {
         "name": "Likes",
         "rawType": "int64",
         "type": "integer"
        },
        {
         "name": "Sentiment",
         "rawType": "float64",
         "type": "float"
        },
        {
         "name": "sentiment_score",
         "rawType": "float64",
         "type": "float"
        }
       ],
       "ref": "752bcd3b-d0a0-4c74-b1e5-54eeccf49fb8",
       "rows": [
        [
         "0",
         "wAZZ-UWGVHI",
         "Let's not forget that Apple Pay in 2014 required a brand new iPhone in order to use it.  A significant portion of Apple's user base wasn't able to use it even if they wanted to.  As each successive iPhone incorporated the technology and older iPhones were replaced the number of people who could use the technology increased.",
         "95",
         "1.0",
         "0.6774"
        ],
        [
         "1",
         "wAZZ-UWGVHI",
         "Here in NZ 50% of retailers don’t even have contactless credit card machines like pay-wave which support Apple Pay. They don’t like the high fees that come with these.",
         "19",
         "0.0",
         "0.836"
        ],
        [
         "2",
         "wAZZ-UWGVHI",
         "I will forever acknowledge this channel with the help of your lessons and ideas explanations, Now It's quite helpful while you'll just sit at your comfort and monitor your account Growth.",
         "161",
         "2.0",
         "0.8718"
        ],
        [
         "3",
         "wAZZ-UWGVHI",
         "Whenever I go to a place that doesn’t take Apple Pay (doesn’t happen too often), it’s such a drag. Between ‘contactless Covid’ habits and my getting the Apple Card, I’ve gotten so used to Apple Pay that I get seriously annoyed when a store doesn’t take it. It feels like a shock, it’s crazy how quickly it took over my shopping routine! I’ve officially been brainwashed by Apple because now it feels so inconvenient to even carry a physical card in my pocket.",
         "8",
         "0.0",
         "-0.8981"
        ],
        [
         "4",
         "wAZZ-UWGVHI",
         "Apple Pay is so convenient, secure, and easy to use. I used it while at the Korean and Japanese airports, no need for physical credit cards.",
         "34",
         "2.0",
         "0.6786"
        ]
       ],
       "shape": {
        "columns": 5,
        "rows": 5
       }
      },
      "text/html": [
       "<div>\n",
       "<style scoped>\n",
       "    .dataframe tbody tr th:only-of-type {\n",
       "        vertical-align: middle;\n",
       "    }\n",
       "\n",
       "    .dataframe tbody tr th {\n",
       "        vertical-align: top;\n",
       "    }\n",
       "\n",
       "    .dataframe thead th {\n",
       "        text-align: right;\n",
       "    }\n",
       "</style>\n",
       "<table border=\"1\" class=\"dataframe\">\n",
       "  <thead>\n",
       "    <tr style=\"text-align: right;\">\n",
       "      <th></th>\n",
       "      <th>Video ID</th>\n",
       "      <th>Comment</th>\n",
       "      <th>Likes</th>\n",
       "      <th>Sentiment</th>\n",
       "      <th>sentiment_score</th>\n",
       "    </tr>\n",
       "  </thead>\n",
       "  <tbody>\n",
       "    <tr>\n",
       "      <th>0</th>\n",
       "      <td>wAZZ-UWGVHI</td>\n",
       "      <td>Let's not forget that Apple Pay in 2014 requir...</td>\n",
       "      <td>95</td>\n",
       "      <td>1.0</td>\n",
       "      <td>0.6774</td>\n",
       "    </tr>\n",
       "    <tr>\n",
       "      <th>1</th>\n",
       "      <td>wAZZ-UWGVHI</td>\n",
       "      <td>Here in NZ 50% of retailers don’t even have co...</td>\n",
       "      <td>19</td>\n",
       "      <td>0.0</td>\n",
       "      <td>0.8360</td>\n",
       "    </tr>\n",
       "    <tr>\n",
       "      <th>2</th>\n",
       "      <td>wAZZ-UWGVHI</td>\n",
       "      <td>I will forever acknowledge this channel with t...</td>\n",
       "      <td>161</td>\n",
       "      <td>2.0</td>\n",
       "      <td>0.8718</td>\n",
       "    </tr>\n",
       "    <tr>\n",
       "      <th>3</th>\n",
       "      <td>wAZZ-UWGVHI</td>\n",
       "      <td>Whenever I go to a place that doesn’t take App...</td>\n",
       "      <td>8</td>\n",
       "      <td>0.0</td>\n",
       "      <td>-0.8981</td>\n",
       "    </tr>\n",
       "    <tr>\n",
       "      <th>4</th>\n",
       "      <td>wAZZ-UWGVHI</td>\n",
       "      <td>Apple Pay is so convenient, secure, and easy t...</td>\n",
       "      <td>34</td>\n",
       "      <td>2.0</td>\n",
       "      <td>0.6786</td>\n",
       "    </tr>\n",
       "  </tbody>\n",
       "</table>\n",
       "</div>"
      ],
      "text/plain": [
       "      Video ID                                            Comment  Likes  \\\n",
       "0  wAZZ-UWGVHI  Let's not forget that Apple Pay in 2014 requir...     95   \n",
       "1  wAZZ-UWGVHI  Here in NZ 50% of retailers don’t even have co...     19   \n",
       "2  wAZZ-UWGVHI  I will forever acknowledge this channel with t...    161   \n",
       "3  wAZZ-UWGVHI  Whenever I go to a place that doesn’t take App...      8   \n",
       "4  wAZZ-UWGVHI  Apple Pay is so convenient, secure, and easy t...     34   \n",
       "\n",
       "   Sentiment  sentiment_score  \n",
       "0        1.0           0.6774  \n",
       "1        0.0           0.8360  \n",
       "2        2.0           0.8718  \n",
       "3        0.0          -0.8981  \n",
       "4        2.0           0.6786  "
      ]
     },
     "execution_count": 52,
     "metadata": {},
     "output_type": "execute_result"
    }
   ],
   "source": [
    "comments.head()"
   ]
  },
  {
   "cell_type": "code",
   "execution_count": 53,
   "id": "c758e43f",
   "metadata": {},
   "outputs": [],
   "source": [
    "def get_label(score):\n",
    "    if score >= 0.05:\n",
    "        return 'Positive'\n",
    "    elif score <= -0.05:\n",
    "        return 'Negative'\n",
    "    else:\n",
    "        return 'Neutral'"
   ]
  },
  {
   "cell_type": "code",
   "execution_count": 54,
   "id": "bcbef57e",
   "metadata": {},
   "outputs": [],
   "source": [
    "comments['Sentiment_Label'] = comments['sentiment_score'].apply(get_label)"
   ]
  },
  {
   "cell_type": "code",
   "execution_count": 55,
   "id": "0de60f66",
   "metadata": {},
   "outputs": [
    {
     "data": {
      "application/vnd.microsoft.datawrangler.viewer.v0+json": {
       "columns": [
        {
         "name": "index",
         "rawType": "int64",
         "type": "integer"
        },
        {
         "name": "Video ID",
         "rawType": "object",
         "type": "string"
        },
        {
         "name": "Comment",
         "rawType": "object",
         "type": "string"
        },
        {
         "name": "Likes",
         "rawType": "int64",
         "type": "integer"
        },
        {
         "name": "Sentiment",
         "rawType": "float64",
         "type": "float"
        },
        {
         "name": "sentiment_score",
         "rawType": "float64",
         "type": "float"
        },
        {
         "name": "Sentiment_Label",
         "rawType": "object",
         "type": "string"
        }
       ],
       "ref": "f7384250-e706-4cb7-837d-2dc8b0a44b8b",
       "rows": [
        [
         "0",
         "wAZZ-UWGVHI",
         "Let's not forget that Apple Pay in 2014 required a brand new iPhone in order to use it.  A significant portion of Apple's user base wasn't able to use it even if they wanted to.  As each successive iPhone incorporated the technology and older iPhones were replaced the number of people who could use the technology increased.",
         "95",
         "1.0",
         "0.6774",
         "Positive"
        ],
        [
         "1",
         "wAZZ-UWGVHI",
         "Here in NZ 50% of retailers don’t even have contactless credit card machines like pay-wave which support Apple Pay. They don’t like the high fees that come with these.",
         "19",
         "0.0",
         "0.836",
         "Positive"
        ],
        [
         "2",
         "wAZZ-UWGVHI",
         "I will forever acknowledge this channel with the help of your lessons and ideas explanations, Now It's quite helpful while you'll just sit at your comfort and monitor your account Growth.",
         "161",
         "2.0",
         "0.8718",
         "Positive"
        ],
        [
         "3",
         "wAZZ-UWGVHI",
         "Whenever I go to a place that doesn’t take Apple Pay (doesn’t happen too often), it’s such a drag. Between ‘contactless Covid’ habits and my getting the Apple Card, I’ve gotten so used to Apple Pay that I get seriously annoyed when a store doesn’t take it. It feels like a shock, it’s crazy how quickly it took over my shopping routine! I’ve officially been brainwashed by Apple because now it feels so inconvenient to even carry a physical card in my pocket.",
         "8",
         "0.0",
         "-0.8981",
         "Negative"
        ],
        [
         "4",
         "wAZZ-UWGVHI",
         "Apple Pay is so convenient, secure, and easy to use. I used it while at the Korean and Japanese airports, no need for physical credit cards.",
         "34",
         "2.0",
         "0.6786",
         "Positive"
        ]
       ],
       "shape": {
        "columns": 6,
        "rows": 5
       }
      },
      "text/html": [
       "<div>\n",
       "<style scoped>\n",
       "    .dataframe tbody tr th:only-of-type {\n",
       "        vertical-align: middle;\n",
       "    }\n",
       "\n",
       "    .dataframe tbody tr th {\n",
       "        vertical-align: top;\n",
       "    }\n",
       "\n",
       "    .dataframe thead th {\n",
       "        text-align: right;\n",
       "    }\n",
       "</style>\n",
       "<table border=\"1\" class=\"dataframe\">\n",
       "  <thead>\n",
       "    <tr style=\"text-align: right;\">\n",
       "      <th></th>\n",
       "      <th>Video ID</th>\n",
       "      <th>Comment</th>\n",
       "      <th>Likes</th>\n",
       "      <th>Sentiment</th>\n",
       "      <th>sentiment_score</th>\n",
       "      <th>Sentiment_Label</th>\n",
       "    </tr>\n",
       "  </thead>\n",
       "  <tbody>\n",
       "    <tr>\n",
       "      <th>0</th>\n",
       "      <td>wAZZ-UWGVHI</td>\n",
       "      <td>Let's not forget that Apple Pay in 2014 requir...</td>\n",
       "      <td>95</td>\n",
       "      <td>1.0</td>\n",
       "      <td>0.6774</td>\n",
       "      <td>Positive</td>\n",
       "    </tr>\n",
       "    <tr>\n",
       "      <th>1</th>\n",
       "      <td>wAZZ-UWGVHI</td>\n",
       "      <td>Here in NZ 50% of retailers don’t even have co...</td>\n",
       "      <td>19</td>\n",
       "      <td>0.0</td>\n",
       "      <td>0.8360</td>\n",
       "      <td>Positive</td>\n",
       "    </tr>\n",
       "    <tr>\n",
       "      <th>2</th>\n",
       "      <td>wAZZ-UWGVHI</td>\n",
       "      <td>I will forever acknowledge this channel with t...</td>\n",
       "      <td>161</td>\n",
       "      <td>2.0</td>\n",
       "      <td>0.8718</td>\n",
       "      <td>Positive</td>\n",
       "    </tr>\n",
       "    <tr>\n",
       "      <th>3</th>\n",
       "      <td>wAZZ-UWGVHI</td>\n",
       "      <td>Whenever I go to a place that doesn’t take App...</td>\n",
       "      <td>8</td>\n",
       "      <td>0.0</td>\n",
       "      <td>-0.8981</td>\n",
       "      <td>Negative</td>\n",
       "    </tr>\n",
       "    <tr>\n",
       "      <th>4</th>\n",
       "      <td>wAZZ-UWGVHI</td>\n",
       "      <td>Apple Pay is so convenient, secure, and easy t...</td>\n",
       "      <td>34</td>\n",
       "      <td>2.0</td>\n",
       "      <td>0.6786</td>\n",
       "      <td>Positive</td>\n",
       "    </tr>\n",
       "  </tbody>\n",
       "</table>\n",
       "</div>"
      ],
      "text/plain": [
       "      Video ID                                            Comment  Likes  \\\n",
       "0  wAZZ-UWGVHI  Let's not forget that Apple Pay in 2014 requir...     95   \n",
       "1  wAZZ-UWGVHI  Here in NZ 50% of retailers don’t even have co...     19   \n",
       "2  wAZZ-UWGVHI  I will forever acknowledge this channel with t...    161   \n",
       "3  wAZZ-UWGVHI  Whenever I go to a place that doesn’t take App...      8   \n",
       "4  wAZZ-UWGVHI  Apple Pay is so convenient, secure, and easy t...     34   \n",
       "\n",
       "   Sentiment  sentiment_score Sentiment_Label  \n",
       "0        1.0           0.6774        Positive  \n",
       "1        0.0           0.8360        Positive  \n",
       "2        2.0           0.8718        Positive  \n",
       "3        0.0          -0.8981        Negative  \n",
       "4        2.0           0.6786        Positive  "
      ]
     },
     "execution_count": 55,
     "metadata": {},
     "output_type": "execute_result"
    }
   ],
   "source": [
    "comments.head()"
   ]
  },
  {
   "cell_type": "code",
   "execution_count": 56,
   "id": "7db2f721",
   "metadata": {},
   "outputs": [
    {
     "data": {
      "application/vnd.microsoft.datawrangler.viewer.v0+json": {
       "columns": [
        {
         "name": "Sentiment_Label",
         "rawType": "object",
         "type": "string"
        },
        {
         "name": "count",
         "rawType": "int64",
         "type": "integer"
        }
       ],
       "ref": "c74b72d9-fd3d-4825-b180-768b69d6f9f6",
       "rows": [
        [
         "Positive",
         "12530"
        ],
        [
         "Neutral",
         "3236"
        ],
        [
         "Negative",
         "2495"
        ]
       ],
       "shape": {
        "columns": 1,
        "rows": 3
       }
      },
      "text/plain": [
       "Sentiment_Label\n",
       "Positive    12530\n",
       "Neutral      3236\n",
       "Negative     2495\n",
       "Name: count, dtype: int64"
      ]
     },
     "execution_count": 56,
     "metadata": {},
     "output_type": "execute_result"
    }
   ],
   "source": [
    "comments.Sentiment_Label.value_counts()"
   ]
  },
  {
   "cell_type": "markdown",
   "id": "9f0620e0",
   "metadata": {},
   "source": [
    "#### Deleting the Sentimnt field from the datset as do not need it anymore as we created a new field for it."
   ]
  },
  {
   "cell_type": "code",
   "execution_count": 57,
   "id": "80356ee5",
   "metadata": {},
   "outputs": [
    {
     "data": {
      "application/vnd.microsoft.datawrangler.viewer.v0+json": {
       "columns": [
        {
         "name": "index",
         "rawType": "int64",
         "type": "integer"
        },
        {
         "name": "Video ID",
         "rawType": "object",
         "type": "string"
        },
        {
         "name": "Comment",
         "rawType": "object",
         "type": "string"
        },
        {
         "name": "Likes",
         "rawType": "int64",
         "type": "integer"
        },
        {
         "name": "sentiment_score",
         "rawType": "float64",
         "type": "float"
        },
        {
         "name": "Sentiment_Label",
         "rawType": "object",
         "type": "string"
        }
       ],
       "ref": "bbbe2688-f62f-4c13-99ea-c425c27fdf07",
       "rows": [
        [
         "0",
         "wAZZ-UWGVHI",
         "Let's not forget that Apple Pay in 2014 required a brand new iPhone in order to use it.  A significant portion of Apple's user base wasn't able to use it even if they wanted to.  As each successive iPhone incorporated the technology and older iPhones were replaced the number of people who could use the technology increased.",
         "95",
         "0.6774",
         "Positive"
        ],
        [
         "1",
         "wAZZ-UWGVHI",
         "Here in NZ 50% of retailers don’t even have contactless credit card machines like pay-wave which support Apple Pay. They don’t like the high fees that come with these.",
         "19",
         "0.836",
         "Positive"
        ],
        [
         "2",
         "wAZZ-UWGVHI",
         "I will forever acknowledge this channel with the help of your lessons and ideas explanations, Now It's quite helpful while you'll just sit at your comfort and monitor your account Growth.",
         "161",
         "0.8718",
         "Positive"
        ],
        [
         "3",
         "wAZZ-UWGVHI",
         "Whenever I go to a place that doesn’t take Apple Pay (doesn’t happen too often), it’s such a drag. Between ‘contactless Covid’ habits and my getting the Apple Card, I’ve gotten so used to Apple Pay that I get seriously annoyed when a store doesn’t take it. It feels like a shock, it’s crazy how quickly it took over my shopping routine! I’ve officially been brainwashed by Apple because now it feels so inconvenient to even carry a physical card in my pocket.",
         "8",
         "-0.8981",
         "Negative"
        ],
        [
         "4",
         "wAZZ-UWGVHI",
         "Apple Pay is so convenient, secure, and easy to use. I used it while at the Korean and Japanese airports, no need for physical credit cards.",
         "34",
         "0.6786",
         "Positive"
        ],
        [
         "5",
         "wAZZ-UWGVHI",
         "We’ve been hounding my bank to adopt Apple pay. I understand why they don’t want to do it with the extra fees, but its just so easy and quick at the checkout.",
         "8",
         "0.7515",
         "Positive"
        ],
        [
         "6",
         "wAZZ-UWGVHI",
         "We only got Apple Pay in South Africa in 2020/2021 and it’s widely accepted.",
         "29",
         "0.1779",
         "Positive"
        ],
        [
         "7",
         "wAZZ-UWGVHI",
         "For now, I need both Apple Pay and the physical credit card.",
         "7",
         "0.296",
         "Positive"
        ],
        [
         "8",
         "wAZZ-UWGVHI",
         "In the United States, we have an abundance of retailers that accept Apple Pay, but it's still good to carry the physical card with you, being there are still a large quantity of places that do NOT accept Apple Pay.",
         "2",
         "0.8462",
         "Positive"
        ],
        [
         "9",
         "wAZZ-UWGVHI",
         "In Cambodia, we have a universal QR code system, we scan and send money back and forth, all banks take no profit from merchant, they receive 100% of the payment. A lot of stores and supermarkets start abandon POS machine all together.",
         "28",
         "-0.296",
         "Negative"
        ],
        [
         "10",
         "b3x28s61q3c",
         "Wow, you really went to town on the PSU test rack. That's a serious bit of kit. Very flexible, good choices. Wouldn't surprise me if Choma start offering this bespoke rack to the PSU makers. They all watch your videos, so they'll want to make sure it passes on this exact same rack. You can really push the industry here. Well done. Open source the test interface hardware and software.",
         "1344",
         "0.9008",
         "Positive"
        ],
        [
         "11",
         "b3x28s61q3c",
         "The lab is the most exciting thing in IT I've seen for a while. This is reallly going to shake up how the qualiity of even basic components are manufactured.",
         "198",
         "0.4201",
         "Positive"
        ],
        [
         "12",
         "b3x28s61q3c",
         "Linus, I'm an engineer and love the LMG content across all the channels.  Very much looking forward to more lab content and hope your engineering team will get more on camera time and hosting roles.",
         "365",
         "0.7964",
         "Positive"
        ],
        [
         "13",
         "b3x28s61q3c",
         "There used to be a time where Linus was the smartest guy in the room, this video clearly shows that the team he has built are experts in their respective fields and make Linus look like a child. Kudos to Linus and LMG, you've grown beyond what I imagined. All the best!",
         "211",
         "0.9628",
         "Positive"
        ],
        [
         "14",
         "b3x28s61q3c",
         "Holy crap. I was looking at Chroma systems back when I was designing power supplies. Looks like you guys went all out! Re the multimeter: Most oscilloscopes are terrible for making accurate voltage measurements (8-10 bit ADCs). They are just for looking at the waveforms.",
         "821",
         "-0.5797",
         "Negative"
        ],
        [
         "15",
         "b3x28s61q3c",
         "I love the direction this channel is going. Most tech channels, even the best trusted ones are going to review products based on their own experience or at most some things they can measure with their pc, but you're really going to mathematically demonstrate if a product is a quality one and why it is, love it",
         "150",
         "0.9194",
         "Positive"
        ],
        [
         "16",
         "b3x28s61q3c",
         "I am more excited for the LTT Lab than I have been for a lot of content for a while now. As everyone seems to be saying, it's exciting to see how enthusiastic this new crew is to get things running.",
         "49",
         "0.8439",
         "Positive"
        ],
        [
         "17",
         "b3x28s61q3c",
         "I adore the working relationship Linus has with his team. 99% of employees walk on eggshells around their boss and I wish it could be more like this.",
         "19",
         "0.8439",
         "Positive"
        ],
        [
         "18",
         "b3x28s61q3c",
         "LMGs growth is honestly something to truly aspire for, this IS the content we want to watch. \n\nMore technical, in depth, engineering oriented and science-based content will make us consumers much much more educated on these topics thus when picking a product not only will we pick the best choice but we'll know exactly why we picked it (which helps greatly with buyers remorse).",
         "17",
         "0.872",
         "Positive"
        ],
        [
         "19",
         "b3x28s61q3c",
         "I love all the people LTT has added for labs. Clearly they're knowledgeable and passionate about tech! Labs is gonna be killer. Love it!",
         "2808",
         "0.8953",
         "Positive"
        ],
        [
         "20",
         "4mgePWWCAmA",
         "Linus!!! Just turn the key lights  180 and bounce them off the walls. You’ll get a much softer glow and shadow and way more even lighting. It’s such a simple fix. I’m not sure where along the lines people got the idea to beam the lights directly at your face 😅",
         "456",
         "-0.4287",
         "Negative"
        ],
        [
         "21",
         "4mgePWWCAmA",
         "Dan continues to be my new favorite, he has such an air of confidence about him and a comforting presence. Like Dan shows up and you just know things are going to be fine.",
         "962",
         "0.9062",
         "Positive"
        ],
        [
         "22",
         "4mgePWWCAmA",
         "Dan managing to set up his soldering station on the one box they needed was incredibly amusing to me",
         "518",
         "0.4391",
         "Positive"
        ],
        [
         "23",
         "4mgePWWCAmA",
         "Linus: *Gets on his employee's cases for all the stuff stolen from the office*\nAlso Linus: *Proudly talks about all the stuff stolen from work he's using in his upgraded setup*\n\nLinus: \"Why are you using this monitor as a table?\"\nAlso Linus: *Uses the monitor as a chair* \n\nThis video was hilarious",
         "194",
         "-0.5719",
         "Negative"
        ],
        [
         "24",
         "4mgePWWCAmA",
         "Linus: \"This is not a table.\"\nAlso Linus: Let's use this as a chair!",
         "304",
         "0.0",
         "Neutral"
        ],
        [
         "25",
         "4mgePWWCAmA",
         "Dan the man. Saving the day. Riley needs to give him his own theme like Brian the Electrician.",
         "3371",
         "0.3612",
         "Positive"
        ],
        [
         "26",
         "4mgePWWCAmA",
         "Dan continues to be a favourite for me. He's like the incredibly patient, but long-suffering Dad, who just gets on with things",
         "36",
         "0.1901",
         "Positive"
        ],
        [
         "27",
         "4mgePWWCAmA",
         "Dan is a treasure. Your channel has long lacked a Mr. fixit type and while I am sad it's not me, Dan appears quite capable and funny.",
         "134",
         "0.6318",
         "Positive"
        ],
        [
         "28",
         "4mgePWWCAmA",
         "Blows my mind how quickly Dan became the \"rock\" upon which all things Linus stands...Love it",
         "274",
         "0.0",
         "Neutral"
        ],
        [
         "29",
         "4mgePWWCAmA",
         "Hey Linus, a good trick for streaming lights: bounce them off the wall.  Much easier on the eyes, and a nice softer look.\nAlso, for indoors, I'd recommend a hyper-cardioid mic (looks like a short shotgun) like the Audio-Technica AT4053B.",
         "13",
         "0.93",
         "Positive"
        ],
        [
         "30",
         "kXiYSI7H2b0",
         "Unstoppable experiments with liquid nitrogen 🎉🎉🔥🔥🔥",
         "182",
         "-0.2023",
         "Negative"
        ],
        [
         "31",
         "kXiYSI7H2b0",
         "\"one of the best things about dude is that he never takes credit for himself wheb he achieves something. He always respect us. the audience, and his  team, and he is always polite is all of his videos. We congratulate ourselves on this achievement. More to Come and everything to🇮🇳\"\"",
         "63",
         "0.8525",
         "Positive"
        ],
        [
         "32",
         "kXiYSI7H2b0",
         "Liquid nitrogen ഇതുവരെ തീർന്നില്ലേ മച്ചാനെ.......😂❤️",
         "3660",
         "0.0",
         "Neutral"
        ],
        [
         "33",
         "kXiYSI7H2b0",
         "Liquid nitrogen never ends🤗\nM4tech poli😎😎",
         "534",
         "0.0",
         "Neutral"
        ],
        [
         "34",
         "kXiYSI7H2b0",
         "29minutes 48k views 9.3k likes 👍🏻 that is the power of M4Tech",
         "46",
         "0.4215",
         "Positive"
        ],
        [
         "35",
         "kXiYSI7H2b0",
         "😻😅 കേരളത്തിൽ ആദ്യമായി പെട്രോളിനെ എയ്സ് ആക്കിയ M4Tech മച്ചാന്മാർ 💞🔥🔥💥",
         "380",
         "0.0",
         "Neutral"
        ],
        [
         "36",
         "kXiYSI7H2b0",
         "Epozhum safety is first priority.... goggles on😂❤️",
         "21",
         "0.4215",
         "Positive"
        ],
        [
         "37",
         "kXiYSI7H2b0",
         "Congratulations m4tech for achieving 8 million subscribers",
         "49",
         "0.5994",
         "Positive"
        ],
        [
         "38",
         "kXiYSI7H2b0",
         "തന്നെ തളർത്താൻ നോക്കിയവർ പോലും അവന്റെ ഉയർച്ചയിൽ പകച്ച് നിന്നു പോയി 🔥🔥\nകഷ്ടപ്പാടും അദ്ധ്വാനവുംകൊണ്ട് 2 പേർ പടുത്തുയർത്തിയ ചാനൽ M4 TECH 💛💛",
         "278",
         "0.0",
         "Neutral"
        ],
        [
         "39",
         "kXiYSI7H2b0",
         "എത്ര എടുത്താലും തീരാത്ത liquid nitrogen 😂",
         "75",
         "0.0",
         "Neutral"
        ],
        [
         "40",
         "ErMwWXQxHp0",
         "Guys, a quick note that you do NOT need all the high-end tech in order to do well at college. If you can (and you should), save as much money as you can while at college, pay your tuition in full and student loans as soon as possible instead of spending on liabilities like gadgets. Get the bare minimum you need and only spend money on products you know you are going to be using for 4-6 years (such as laptop). Don't overspend on phone, headphones, lamps, tablets, etc.",
         "23964",
         "0.6808",
         "Positive"
        ],
        [
         "41",
         "ErMwWXQxHp0",
         "this is hilarious. i was in a focus group over 4 years ago for Best Buy where they were asking college students how to advertise for Back to School. One of the kids next to me said \"Maybe you should have someone like MKBHD talk about your products\". Well... here we are",
         "415",
         "0.8555",
         "Positive"
        ],
        [
         "42",
         "ErMwWXQxHp0",
         "Everyone has been saying it but I’ll throw my hat in as well. To any prospective college students, you DO NOT need to spend money on flagship products. I am about to graduate with a business degree and have been using a 7 year old laptop and the base iPad from late 2020. Both products have worked flawlessly and I have no intention of replacing them. The recommendations listed are ones I would never be able to afford even with my job I’m working as well. Do your own research on forums to see what your peers say the best value product is. I promise that if you buy a flagship product you will quickly see that you did not need it.",
         "35",
         "0.9568",
         "Positive"
        ],
        [
         "43",
         "ErMwWXQxHp0",
         "Shoutout to my OnePlus phone and Huawei laptop for getting me through university feeling premium for MUCH less. Bonus ups for Ikea's articulating lamps ($20 and I can see all my homework incredibly well without eye strain), the old door I refinished to use as a desktop, and wired earbuds under hardware store earmuffs as my \"noise-cancelling headphones.\" And the same 2 sets of Hanes underwear from target for also lasting the whole ride.",
         "233",
         "0.7269",
         "Positive"
        ],
        [
         "44",
         "ErMwWXQxHp0",
         "BEST BUY: We want to sponsor a back to school type video. But you can only push the high end stuff.\nMarques: say less",
         "104",
         "0.4795",
         "Positive"
        ],
        [
         "45",
         "ErMwWXQxHp0",
         "Most of the items you recommend are pretty pricey for a student. I'm not a student myself anymore but if I were one, more budget alternatives would make this video a lot better!",
         "2106",
         "0.7901",
         "Positive"
        ],
        [
         "46",
         "ErMwWXQxHp0",
         "You don't necessarily need the high-end and latest tech for University.  I used a 2009 macbook pro throughout my years at uni , had an iphone 6 and it worked out just fine. What's important is to remain focused on getting that degree and graduating.",
         "135",
         "0.6369",
         "Positive"
        ],
        [
         "47",
         "ErMwWXQxHp0",
         "Personally I feel like this is really out of touch. Most students won't be able to afford these. In case anyone needs it: I believe Dave2D's back to school video are honestly the best ones I've seen on the topic. Consider checking them out too before making a purchase decision.",
         "17",
         "0.8658",
         "Positive"
        ],
        [
         "48",
         "ErMwWXQxHp0",
         "Hey everyone. Good take on the video and love the recommendations. If you plan on making another video such as this, maybe you can also include some more budget options and best value options. \n\nWhat I can tell from my years of studying in college and university is that your tech and needs will be based on what courses/programme you took for your education.\nEngineering students require computer specs that can run BIM software. I'm not sure about the other programmes but from what I can see that most students at my place has 8GB of RAM for their laptops.\n\nAlso, here is my setup during my university years. Hope it can help anyone who are looking to buy something for their college/university years. All the best.\n\nLaptop - ASUS X455L (Upgraded to SSD with additional RAM)\nPhone - Vivo Y69/Redmi 10/Samsung A22 4G\nMouse - Logitech G102\nKeyboard - Tecware TKL ver",
         "82",
         "0.9664",
         "Positive"
        ],
        [
         "49",
         "ErMwWXQxHp0",
         "I have used Galaxy Tab S7 during my Ph.D. It's been a lifesaver for me. First of all, it is really good for reading journals, note taking and scribbling on the pdf's, secondly, it doesn't strain your eye that much when you use a computer or a laptop always at a fixed distance, thirdly you get the premium version of noteshelf free with Tab s7 and lastly if you are from a STEM background and use a lot of illustrations or flow process diagrams, you can draw those easily with the stylus on Tab s7. I choose tab s7 over Apple Ipad Air for its ease of use, user interface, and cost (you get stylus for free with Tab S7 and in most cases keyboard too with a huge student discount).",
         "126",
         "0.9635",
         "Positive"
        ]
       ],
       "shape": {
        "columns": 5,
        "rows": 18261
       }
      },
      "text/html": [
       "<div>\n",
       "<style scoped>\n",
       "    .dataframe tbody tr th:only-of-type {\n",
       "        vertical-align: middle;\n",
       "    }\n",
       "\n",
       "    .dataframe tbody tr th {\n",
       "        vertical-align: top;\n",
       "    }\n",
       "\n",
       "    .dataframe thead th {\n",
       "        text-align: right;\n",
       "    }\n",
       "</style>\n",
       "<table border=\"1\" class=\"dataframe\">\n",
       "  <thead>\n",
       "    <tr style=\"text-align: right;\">\n",
       "      <th></th>\n",
       "      <th>Video ID</th>\n",
       "      <th>Comment</th>\n",
       "      <th>Likes</th>\n",
       "      <th>sentiment_score</th>\n",
       "      <th>Sentiment_Label</th>\n",
       "    </tr>\n",
       "  </thead>\n",
       "  <tbody>\n",
       "    <tr>\n",
       "      <th>0</th>\n",
       "      <td>wAZZ-UWGVHI</td>\n",
       "      <td>Let's not forget that Apple Pay in 2014 requir...</td>\n",
       "      <td>95</td>\n",
       "      <td>0.6774</td>\n",
       "      <td>Positive</td>\n",
       "    </tr>\n",
       "    <tr>\n",
       "      <th>1</th>\n",
       "      <td>wAZZ-UWGVHI</td>\n",
       "      <td>Here in NZ 50% of retailers don’t even have co...</td>\n",
       "      <td>19</td>\n",
       "      <td>0.8360</td>\n",
       "      <td>Positive</td>\n",
       "    </tr>\n",
       "    <tr>\n",
       "      <th>2</th>\n",
       "      <td>wAZZ-UWGVHI</td>\n",
       "      <td>I will forever acknowledge this channel with t...</td>\n",
       "      <td>161</td>\n",
       "      <td>0.8718</td>\n",
       "      <td>Positive</td>\n",
       "    </tr>\n",
       "    <tr>\n",
       "      <th>3</th>\n",
       "      <td>wAZZ-UWGVHI</td>\n",
       "      <td>Whenever I go to a place that doesn’t take App...</td>\n",
       "      <td>8</td>\n",
       "      <td>-0.8981</td>\n",
       "      <td>Negative</td>\n",
       "    </tr>\n",
       "    <tr>\n",
       "      <th>4</th>\n",
       "      <td>wAZZ-UWGVHI</td>\n",
       "      <td>Apple Pay is so convenient, secure, and easy t...</td>\n",
       "      <td>34</td>\n",
       "      <td>0.6786</td>\n",
       "      <td>Positive</td>\n",
       "    </tr>\n",
       "    <tr>\n",
       "      <th>...</th>\n",
       "      <td>...</td>\n",
       "      <td>...</td>\n",
       "      <td>...</td>\n",
       "      <td>...</td>\n",
       "      <td>...</td>\n",
       "    </tr>\n",
       "    <tr>\n",
       "      <th>18404</th>\n",
       "      <td>cyLWtMSry58</td>\n",
       "      <td>I really like the point about engineering tool...</td>\n",
       "      <td>0</td>\n",
       "      <td>0.8651</td>\n",
       "      <td>Positive</td>\n",
       "    </tr>\n",
       "    <tr>\n",
       "      <th>18405</th>\n",
       "      <td>cyLWtMSry58</td>\n",
       "      <td>I’ve just started exploring this field. And th...</td>\n",
       "      <td>20</td>\n",
       "      <td>0.7495</td>\n",
       "      <td>Positive</td>\n",
       "    </tr>\n",
       "    <tr>\n",
       "      <th>18406</th>\n",
       "      <td>cyLWtMSry58</td>\n",
       "      <td>Excelente video con una pregunta filosófica pr...</td>\n",
       "      <td>1</td>\n",
       "      <td>0.0000</td>\n",
       "      <td>Neutral</td>\n",
       "    </tr>\n",
       "    <tr>\n",
       "      <th>18407</th>\n",
       "      <td>cyLWtMSry58</td>\n",
       "      <td>Hey Daniel, just discovered your channel a cou...</td>\n",
       "      <td>35</td>\n",
       "      <td>0.4199</td>\n",
       "      <td>Positive</td>\n",
       "    </tr>\n",
       "    <tr>\n",
       "      <th>18408</th>\n",
       "      <td>cyLWtMSry58</td>\n",
       "      <td>This is great. Focus is key. A playful approac...</td>\n",
       "      <td>0</td>\n",
       "      <td>0.7845</td>\n",
       "      <td>Positive</td>\n",
       "    </tr>\n",
       "  </tbody>\n",
       "</table>\n",
       "<p>18261 rows × 5 columns</p>\n",
       "</div>"
      ],
      "text/plain": [
       "          Video ID                                            Comment  Likes  \\\n",
       "0      wAZZ-UWGVHI  Let's not forget that Apple Pay in 2014 requir...     95   \n",
       "1      wAZZ-UWGVHI  Here in NZ 50% of retailers don’t even have co...     19   \n",
       "2      wAZZ-UWGVHI  I will forever acknowledge this channel with t...    161   \n",
       "3      wAZZ-UWGVHI  Whenever I go to a place that doesn’t take App...      8   \n",
       "4      wAZZ-UWGVHI  Apple Pay is so convenient, secure, and easy t...     34   \n",
       "...            ...                                                ...    ...   \n",
       "18404  cyLWtMSry58  I really like the point about engineering tool...      0   \n",
       "18405  cyLWtMSry58  I’ve just started exploring this field. And th...     20   \n",
       "18406  cyLWtMSry58  Excelente video con una pregunta filosófica pr...      1   \n",
       "18407  cyLWtMSry58  Hey Daniel, just discovered your channel a cou...     35   \n",
       "18408  cyLWtMSry58  This is great. Focus is key. A playful approac...      0   \n",
       "\n",
       "       sentiment_score Sentiment_Label  \n",
       "0               0.6774        Positive  \n",
       "1               0.8360        Positive  \n",
       "2               0.8718        Positive  \n",
       "3              -0.8981        Negative  \n",
       "4               0.6786        Positive  \n",
       "...                ...             ...  \n",
       "18404           0.8651        Positive  \n",
       "18405           0.7495        Positive  \n",
       "18406           0.0000         Neutral  \n",
       "18407           0.4199        Positive  \n",
       "18408           0.7845        Positive  \n",
       "\n",
       "[18261 rows x 5 columns]"
      ]
     },
     "execution_count": 57,
     "metadata": {},
     "output_type": "execute_result"
    }
   ],
   "source": [
    "comments.drop('Sentiment', axis=1)"
   ]
  },
  {
   "cell_type": "markdown",
   "id": "79fa2aeb",
   "metadata": {},
   "source": [
    "#### Analying some questions on the datasets."
   ]
  },
  {
   "cell_type": "markdown",
   "id": "6dcd345c",
   "metadata": {},
   "source": [
    "#### Ques 1: Top 5 keywords by average video views for the whole time period."
   ]
  },
  {
   "cell_type": "code",
   "execution_count": 58,
   "id": "eac39ae0",
   "metadata": {},
   "outputs": [
    {
     "data": {
      "application/vnd.microsoft.datawrangler.viewer.v0+json": {
       "columns": [
        {
         "name": "index",
         "rawType": "int64",
         "type": "integer"
        },
        {
         "name": "Title",
         "rawType": "object",
         "type": "string"
        },
        {
         "name": "Video ID",
         "rawType": "object",
         "type": "string"
        },
        {
         "name": "Published At",
         "rawType": "datetime64[ns]",
         "type": "datetime"
        },
        {
         "name": "Keyword",
         "rawType": "object",
         "type": "string"
        },
        {
         "name": "Likes",
         "rawType": "int64",
         "type": "integer"
        },
        {
         "name": "Comments",
         "rawType": "int64",
         "type": "integer"
        },
        {
         "name": "Views",
         "rawType": "int64",
         "type": "integer"
        },
        {
         "name": "year",
         "rawType": "int32",
         "type": "integer"
        },
        {
         "name": "month",
         "rawType": "int32",
         "type": "integer"
        }
       ],
       "ref": "85c48104-62e0-470a-aad3-215ef40864f5",
       "rows": [
        [
         "0",
         "Apple Pay Is Killing the Physical Wallet After Only Eight Years | Tech News Briefing Podcast | WSJ",
         "wAZZ-UWGVHI",
         "2022-08-23 00:00:00",
         "tech",
         "3407",
         "672",
         "135612",
         "2022",
         "8"
        ],
        [
         "1",
         "The most EXPENSIVE thing I own.",
         "b3x28s61q3c",
         "2022-08-24 00:00:00",
         "tech",
         "76779",
         "4306",
         "1758063",
         "2022",
         "8"
        ],
        [
         "2",
         "My New House Gaming Setup is SICK!",
         "4mgePWWCAmA",
         "2022-08-23 00:00:00",
         "tech",
         "63825",
         "3338",
         "1564007",
         "2022",
         "8"
        ],
        [
         "3",
         "Petrol Vs Liquid Nitrogen | Freezing Experiment | പെട്രോളിനെ ഐസ് ആകാൻ പറ്റുമോ | M4 Tech |",
         "kXiYSI7H2b0",
         "2022-08-23 00:00:00",
         "tech",
         "71566",
         "1426",
         "922918",
         "2022",
         "8"
        ],
        [
         "4",
         "Best Back to School Tech 2022!",
         "ErMwWXQxHp0",
         "2022-08-08 00:00:00",
         "tech",
         "96513",
         "5155",
         "1855644",
         "2022",
         "8"
        ]
       ],
       "shape": {
        "columns": 9,
        "rows": 5
       }
      },
      "text/html": [
       "<div>\n",
       "<style scoped>\n",
       "    .dataframe tbody tr th:only-of-type {\n",
       "        vertical-align: middle;\n",
       "    }\n",
       "\n",
       "    .dataframe tbody tr th {\n",
       "        vertical-align: top;\n",
       "    }\n",
       "\n",
       "    .dataframe thead th {\n",
       "        text-align: right;\n",
       "    }\n",
       "</style>\n",
       "<table border=\"1\" class=\"dataframe\">\n",
       "  <thead>\n",
       "    <tr style=\"text-align: right;\">\n",
       "      <th></th>\n",
       "      <th>Title</th>\n",
       "      <th>Video ID</th>\n",
       "      <th>Published At</th>\n",
       "      <th>Keyword</th>\n",
       "      <th>Likes</th>\n",
       "      <th>Comments</th>\n",
       "      <th>Views</th>\n",
       "      <th>year</th>\n",
       "      <th>month</th>\n",
       "    </tr>\n",
       "  </thead>\n",
       "  <tbody>\n",
       "    <tr>\n",
       "      <th>0</th>\n",
       "      <td>Apple Pay Is Killing the Physical Wallet After...</td>\n",
       "      <td>wAZZ-UWGVHI</td>\n",
       "      <td>2022-08-23</td>\n",
       "      <td>tech</td>\n",
       "      <td>3407</td>\n",
       "      <td>672</td>\n",
       "      <td>135612</td>\n",
       "      <td>2022</td>\n",
       "      <td>8</td>\n",
       "    </tr>\n",
       "    <tr>\n",
       "      <th>1</th>\n",
       "      <td>The most EXPENSIVE thing I own.</td>\n",
       "      <td>b3x28s61q3c</td>\n",
       "      <td>2022-08-24</td>\n",
       "      <td>tech</td>\n",
       "      <td>76779</td>\n",
       "      <td>4306</td>\n",
       "      <td>1758063</td>\n",
       "      <td>2022</td>\n",
       "      <td>8</td>\n",
       "    </tr>\n",
       "    <tr>\n",
       "      <th>2</th>\n",
       "      <td>My New House Gaming Setup is SICK!</td>\n",
       "      <td>4mgePWWCAmA</td>\n",
       "      <td>2022-08-23</td>\n",
       "      <td>tech</td>\n",
       "      <td>63825</td>\n",
       "      <td>3338</td>\n",
       "      <td>1564007</td>\n",
       "      <td>2022</td>\n",
       "      <td>8</td>\n",
       "    </tr>\n",
       "    <tr>\n",
       "      <th>3</th>\n",
       "      <td>Petrol Vs Liquid Nitrogen | Freezing Experimen...</td>\n",
       "      <td>kXiYSI7H2b0</td>\n",
       "      <td>2022-08-23</td>\n",
       "      <td>tech</td>\n",
       "      <td>71566</td>\n",
       "      <td>1426</td>\n",
       "      <td>922918</td>\n",
       "      <td>2022</td>\n",
       "      <td>8</td>\n",
       "    </tr>\n",
       "    <tr>\n",
       "      <th>4</th>\n",
       "      <td>Best Back to School Tech 2022!</td>\n",
       "      <td>ErMwWXQxHp0</td>\n",
       "      <td>2022-08-08</td>\n",
       "      <td>tech</td>\n",
       "      <td>96513</td>\n",
       "      <td>5155</td>\n",
       "      <td>1855644</td>\n",
       "      <td>2022</td>\n",
       "      <td>8</td>\n",
       "    </tr>\n",
       "  </tbody>\n",
       "</table>\n",
       "</div>"
      ],
      "text/plain": [
       "                                               Title     Video ID  \\\n",
       "0  Apple Pay Is Killing the Physical Wallet After...  wAZZ-UWGVHI   \n",
       "1                    The most EXPENSIVE thing I own.  b3x28s61q3c   \n",
       "2                 My New House Gaming Setup is SICK!  4mgePWWCAmA   \n",
       "3  Petrol Vs Liquid Nitrogen | Freezing Experimen...  kXiYSI7H2b0   \n",
       "4                     Best Back to School Tech 2022!  ErMwWXQxHp0   \n",
       "\n",
       "  Published At Keyword  Likes  Comments    Views  year  month  \n",
       "0   2022-08-23    tech   3407       672   135612  2022      8  \n",
       "1   2022-08-24    tech  76779      4306  1758063  2022      8  \n",
       "2   2022-08-23    tech  63825      3338  1564007  2022      8  \n",
       "3   2022-08-23    tech  71566      1426   922918  2022      8  \n",
       "4   2022-08-08    tech  96513      5155  1855644  2022      8  "
      ]
     },
     "execution_count": 58,
     "metadata": {},
     "output_type": "execute_result"
    }
   ],
   "source": [
    "video_stats.head()"
   ]
  },
  {
   "cell_type": "code",
   "execution_count": 59,
   "id": "07c4aa47",
   "metadata": {},
   "outputs": [],
   "source": [
    "avg_views = video_stats.groupby('Keyword')['Views'].mean().reset_index()"
   ]
  },
  {
   "cell_type": "code",
   "execution_count": 60,
   "id": "c29df663",
   "metadata": {},
   "outputs": [],
   "source": [
    "avg_views['Views'] = avg_views['Views'].astype(int)"
   ]
  },
  {
   "cell_type": "code",
   "execution_count": 61,
   "id": "9d16a39e",
   "metadata": {},
   "outputs": [
    {
     "data": {
      "application/vnd.microsoft.datawrangler.viewer.v0+json": {
       "columns": [
        {
         "name": "index",
         "rawType": "int64",
         "type": "integer"
        },
        {
         "name": "Keyword",
         "rawType": "object",
         "type": "string"
        },
        {
         "name": "Views",
         "rawType": "int64",
         "type": "integer"
        }
       ],
       "ref": "11d4f3be-dabe-47c1-b9c0-86e36d2e5d55",
       "rows": [
        [
         "0",
         "animals",
         "94723960"
        ],
        [
         "1",
         "apple",
         "10746930"
        ],
        [
         "2",
         "asmr",
         "1706615"
        ],
        [
         "3",
         "bed",
         "53893228"
        ],
        [
         "4",
         "biology",
         "4121605"
        ]
       ],
       "shape": {
        "columns": 2,
        "rows": 5
       }
      },
      "text/html": [
       "<div>\n",
       "<style scoped>\n",
       "    .dataframe tbody tr th:only-of-type {\n",
       "        vertical-align: middle;\n",
       "    }\n",
       "\n",
       "    .dataframe tbody tr th {\n",
       "        vertical-align: top;\n",
       "    }\n",
       "\n",
       "    .dataframe thead th {\n",
       "        text-align: right;\n",
       "    }\n",
       "</style>\n",
       "<table border=\"1\" class=\"dataframe\">\n",
       "  <thead>\n",
       "    <tr style=\"text-align: right;\">\n",
       "      <th></th>\n",
       "      <th>Keyword</th>\n",
       "      <th>Views</th>\n",
       "    </tr>\n",
       "  </thead>\n",
       "  <tbody>\n",
       "    <tr>\n",
       "      <th>0</th>\n",
       "      <td>animals</td>\n",
       "      <td>94723960</td>\n",
       "    </tr>\n",
       "    <tr>\n",
       "      <th>1</th>\n",
       "      <td>apple</td>\n",
       "      <td>10746930</td>\n",
       "    </tr>\n",
       "    <tr>\n",
       "      <th>2</th>\n",
       "      <td>asmr</td>\n",
       "      <td>1706615</td>\n",
       "    </tr>\n",
       "    <tr>\n",
       "      <th>3</th>\n",
       "      <td>bed</td>\n",
       "      <td>53893228</td>\n",
       "    </tr>\n",
       "    <tr>\n",
       "      <th>4</th>\n",
       "      <td>biology</td>\n",
       "      <td>4121605</td>\n",
       "    </tr>\n",
       "  </tbody>\n",
       "</table>\n",
       "</div>"
      ],
      "text/plain": [
       "   Keyword     Views\n",
       "0  animals  94723960\n",
       "1    apple  10746930\n",
       "2     asmr   1706615\n",
       "3      bed  53893228\n",
       "4  biology   4121605"
      ]
     },
     "execution_count": 61,
     "metadata": {},
     "output_type": "execute_result"
    }
   ],
   "source": [
    "avg_views.head()"
   ]
  },
  {
   "cell_type": "code",
   "execution_count": 62,
   "id": "79b3ac72",
   "metadata": {},
   "outputs": [
    {
     "name": "stdout",
     "output_type": "stream",
     "text": [
      "    Keyword      Views\n",
      "17   google  103364970\n",
      "0   animals   94723960\n",
      "28  mrbeast   66764003\n",
      "3       bed   53893228\n",
      "30    music   29364893\n"
     ]
    }
   ],
   "source": [
    "top_keywords = avg_views.sort_values(by='Views', ascending = False).head(5)\n",
    "print(top_keywords)"
   ]
  },
  {
   "cell_type": "code",
   "execution_count": 63,
   "id": "bab506f9",
   "metadata": {},
   "outputs": [
    {
     "data": {
      "image/png": "[encoded data removed]",
      "text/plain": [
       "<Figure size 1000x600 with 1 Axes>"
      ]
     },
     "metadata": {},
     "output_type": "display_data"
    }
   ],
   "source": [
    "plt.figure(figsize=(10,6))\n",
    "bars =  plt.bar(top_keywords['Keyword'], top_keywords['Views'], color='skyblue')\n",
    "for bar in bars:\n",
    "    yval = bar.get_height()\n",
    "    plt.text(bar.get_x() + bar.get_width()/2, yval, f\"{yval:,}\", \n",
    "             ha='center', va='bottom', fontsize=10)\n",
    "\n",
    "# Labels and title\n",
    "plt.xlabel('Keyword')\n",
    "plt.ylabel('Average Views')\n",
    "plt.title('Top 5 Keywords by Average Video Views')\n",
    "plt.xticks(rotation=45)\n",
    "plt.tight_layout()\n",
    "plt.show() "
   ]
  },
  {
   "cell_type": "markdown",
   "id": "b7d984dc",
   "metadata": {},
   "source": [
    "This bar chart visualizes the average video views for the top 5 keywords, providing insights into which content theme resonates with the viewers.\n",
    "Key observations:\n",
    "1. Dominance of google and animal: This suggests that the content related to these broad categories consistently attracts a very large audience.\n",
    "2. Strong performance of MR Beast: This indicates a dignificant impact of individual creator.\n",
    "3. Moderate Performance of bed: It represents substantial vieweship, hinting at its popularity. The main viewership is because of the video of songs BED but there are some videos for actual Bed. \n",
    "4. Lower Performance of Music: Music is at the bottom of the top 5 average views. Its position relative to the other keywords suggests that music content is popular and more engaging.\n",
    "\n",
    "Potential Implications and Recommentations:\n",
    "1. Some investigation needs to happen to understand how the categorization of viedos happen for various keywords.\n",
    "2. Investing in Google and Animal content keywords appear to be high yield for maximizing average views.\n",
    "3. The success of MR Beast emphasizes the importance of understanding and potentially collaborating with the creators or developing strong brand to attract viewers.\n",
    "4. Further investigation would be needed to categorization of this keyword to understand it is miscategorization of the keyword bed instead of music.\n",
    "5. For music content, it might be beneficial to analyze what specific types of music, artists, or video formats perform best to optimize engagement and average views. Strategies could include focusing on trending artists, specific genres, or unique video concepts\n",
    "\n",
    "Further Analysis:\n",
    "1. Trend Analysis: To see the keywords are consistently popular or their performance varies over time.\n",
    "2. Audience Demographics: Understand which keywords are popular for the demographics and tailor the content for the audience.\n",
    "3. Enagagement Metrics: Understand audience interaction beyond just views.   "
   ]
  },
  {
   "cell_type": "code",
   "execution_count": 64,
   "id": "7de22224",
   "metadata": {},
   "outputs": [
    {
     "data": {
      "application/vnd.microsoft.datawrangler.viewer.v0+json": {
       "columns": [
        {
         "name": "index",
         "rawType": "int64",
         "type": "integer"
        },
        {
         "name": "Title",
         "rawType": "object",
         "type": "string"
        },
        {
         "name": "Video ID",
         "rawType": "object",
         "type": "string"
        },
        {
         "name": "Published At",
         "rawType": "datetime64[ns]",
         "type": "datetime"
        },
        {
         "name": "Keyword",
         "rawType": "object",
         "type": "string"
        },
        {
         "name": "Likes",
         "rawType": "int64",
         "type": "integer"
        },
        {
         "name": "Comments",
         "rawType": "int64",
         "type": "integer"
        },
        {
         "name": "Views",
         "rawType": "int64",
         "type": "integer"
        },
        {
         "name": "year",
         "rawType": "int32",
         "type": "integer"
        },
        {
         "name": "month",
         "rawType": "int32",
         "type": "integer"
        }
       ],
       "ref": "503974f3-4910-439d-b32e-bbf211ceb3c6",
       "rows": [
        [
         "744",
         "Jacquees - B.E.D.",
         "ul1H_p_FeaA",
         "2017-04-17 00:00:00",
         "bed",
         "1121873",
         "23969",
         "145167323",
         "2017",
         "4"
        ],
        [
         "745",
         "Jacquees - B.E.D. (Audio)",
         "O3H57UrX4MM",
         "2017-02-15 00:00:00",
         "bed",
         "79639",
         "921",
         "10792977",
         "2017",
         "2"
        ],
        [
         "746",
         "J. Holiday - Bed (Official Music Video)",
         "82t_UOMHPJY",
         "2007-07-16 00:00:00",
         "bed",
         "515049",
         "16568",
         "78137822",
         "2007",
         "7"
        ],
        [
         "747",
         "Nicki Minaj - Bed ft. Ariana Grande",
         "zxtl5ExJmag",
         "2018-07-07 00:00:00",
         "bed",
         "1499298",
         "75048",
         "94340456",
         "2018",
         "7"
        ],
        [
         "748",
         "Joel Corry x RAYE x David Guetta - BED [Official Video]",
         "mD2a9YzKV3w",
         "2021-03-05 00:00:00",
         "bed",
         "157924",
         "2760",
         "29657435",
         "2021",
         "3"
        ],
        [
         "749",
         "Joel Corry x RAYE x David Guetta - BED [Official Lyric Video]",
         "8mOPFGfJ5WQ",
         "2021-02-26 00:00:00",
         "bed",
         "121553",
         "1171",
         "26260197",
         "2021",
         "2"
        ],
        [
         "750",
         "Jacquees - B.E.D. (Remix) ft. Ty Dolla $ign, Quavo",
         "Oyo3tNlamDw",
         "2017-08-16 00:00:00",
         "bed",
         "340686",
         "8853",
         "35695760",
         "2017",
         "8"
        ],
        [
         "751",
         "jacquees - B.E.D. (Lyrics) | Nightly Music",
         "IlRN5v5k5SY",
         "2021-03-31 00:00:00",
         "bed",
         "6626",
         "64",
         "401678",
         "2021",
         "3"
        ],
        [
         "752",
         "Powfu - death bed (coffee for your head) (Official Video) ft. beabadoobee",
         "jJPMnTXl63E",
         "2020-04-01 00:00:00",
         "bed",
         "7786057",
         "195769",
         "524709805",
         "2020",
         "4"
        ],
        [
         "753",
         "J Holiday - Bed",
         "uAwPjFq1W4s",
         "2007-12-11 00:00:00",
         "bed",
         "119272",
         "3743",
         "26826274",
         "2007",
         "12"
        ],
        [
         "754",
         "B.E.D. | sped up",
         "Z2liyRt1bQM",
         "2021-10-12 00:00:00",
         "bed",
         "23477",
         "309",
         "1345689",
         "2021",
         "10"
        ],
        [
         "755",
         "Nicki Minaj - Bed ft. Ariana Grande (Lyrics)",
         "1oONLOsajCA",
         "2018-06-15 00:00:00",
         "bed",
         "4644",
         "63",
         "392314",
         "2018",
         "6"
        ],
        [
         "756",
         "Rotimi - In My Bed (Official Video) (feat. Wale)",
         "3Dg1CT31_uw",
         "2020-09-17 00:00:00",
         "bed",
         "789062",
         "14192",
         "58921922",
         "2020",
         "9"
        ],
        [
         "757",
         "Young Money - Bed Rock (Official Music Video)",
         "Ha80ZaecGkQ",
         "2009-12-16 00:00:00",
         "bed",
         "1430457",
         "84188",
         "321977550",
         "2009",
         "12"
        ],
        [
         "758",
         "Jacquees - B.E.D. (Lyrics) [HD/HQ]",
         "ov-duXb7llk",
         "2017-02-16 00:00:00",
         "bed",
         "1158",
         "19",
         "85052",
         "2017",
         "2"
        ],
        [
         "759",
         "Chris Brown - Wet the Bed (Audio) ft. Ludacris",
         "Q_ljNRC8qqM",
         "2011-09-28 00:00:00",
         "bed",
         "361395",
         "9234",
         "50358797",
         "2011",
         "9"
        ],
        [
         "760",
         "Joel Corry, RAYE &amp; David Guetta - BED (Lyrics)",
         "OBeDns9Qto8",
         "2021-02-25 00:00:00",
         "bed",
         "17286",
         "277",
         "1603229",
         "2021",
         "2"
        ],
        [
         "761",
         "Overnight in the World&#39;s Tallest Bed - Challenge",
         "qcfcvkg0VX8",
         "2022-04-09 00:00:00",
         "bed",
         "85527",
         "1347",
         "6055668",
         "2022",
         "4"
        ],
        [
         "762",
         "OVERNIGHT IN THE WORLD&#39;S MOST DANGEROUS BED!!",
         "1EX3OPwzCJU",
         "2022-06-21 00:00:00",
         "bed",
         "203103",
         "5814",
         "6644534",
         "2022",
         "6"
        ],
        [
         "763",
         "Powfu - Death Bed (Lyrics) ft. beabadoobee | don&#39;t stay awake for too long",
         "u99AklNGpyc",
         "2020-03-14 00:00:00",
         "bed",
         "1301198",
         "40137",
         "98559845",
         "2020",
         "3"
        ],
        [
         "764",
         "Bon Jovi - Bed Of Roses (Official Music Video)",
         "NvR60Wg9R7Q",
         "2009-06-17 00:00:00",
         "bed",
         "1072689",
         "37571",
         "302125099",
         "2009",
         "6"
        ],
        [
         "765",
         "Bunk Bed for Triplets / Emerald Girl, Ruby Girl and Diamond Girl",
         "MbQytfUd-lc",
         "2022-08-23 00:00:00",
         "bed",
         "2122",
         "36",
         "164940",
         "2022",
         "8"
        ],
        [
         "766",
         "Rotimi - In My Bed (Audio) (feat. Wale)",
         "kMVqXKkvFFw",
         "2019-12-13 00:00:00",
         "bed",
         "397142",
         "6354",
         "49183640",
         "2019",
         "12"
        ],
        [
         "767",
         "Jacquees - B.E.D. (Remix)",
         "pMPEd48ktlQ",
         "2018-09-30 00:00:00",
         "bed",
         "2206",
         "30",
         "157632",
         "2018",
         "9"
        ],
        [
         "768",
         "Secret Hidden BED Entrance to Epic GAMING FORT!",
         "whlWz4LZaBk",
         "2021-06-25 00:00:00",
         "bed",
         "130796",
         "4106",
         "9493733",
         "2021",
         "6"
        ],
        [
         "769",
         "jacquees - b.e.d. (sped up)",
         "Q7a2gKchVlc",
         "2022-01-03 00:00:00",
         "bed",
         "6366",
         "54",
         "302407",
         "2022",
         "1"
        ],
        [
         "770",
         "Bed Bath &amp; Beyond is a &#39;JCPenney 2,&#39; says Jim Cramer",
         "k05LqUEb07E",
         "2022-08-24 00:00:00",
         "bed",
         "25",
         "26",
         "4454",
         "2022",
         "8"
        ],
        [
         "771",
         "Why Investors are Angry About Bed Bath &amp; Beyond ($BBBY)",
         "WQkl1utfHVM",
         "2022-08-20 00:00:00",
         "bed",
         "5716",
         "687",
         "153064",
         "2022",
         "8"
        ],
        [
         "772",
         "bed",
         "s3EISTf1prk",
         "2021-08-18 00:00:00",
         "bed",
         "287759",
         "10036",
         "4288625",
         "2021",
         "8"
        ],
        [
         "773",
         "Saint Punk - Empty Bed [Monstercat Lyric Video]",
         "dK2FJQX24Io",
         "2021-01-21 00:00:00",
         "bed",
         "57666",
         "2683",
         "2966344",
         "2021",
         "1"
        ],
        [
         "774",
         "LAST TO LEAVE THE BED!!",
         "7TVOSA2Jau8",
         "2021-07-18 00:00:00",
         "bed",
         "362022",
         "10409",
         "11440455",
         "2021",
         "7"
        ],
        [
         "775",
         "Rihanna - California King Bed",
         "nhBorPm6JjQ",
         "2011-05-07 00:00:00",
         "bed",
         "1171433",
         "61344",
         "308501014",
         "2011",
         "5"
        ],
        [
         "776",
         "B.E.D (sped up &amp; pitched)",
         "igg4TWRL0M8",
         "2021-12-09 00:00:00",
         "bed",
         "16578",
         "119",
         "1088318",
         "2021",
         "12"
        ],
        [
         "777",
         "HOW TO STYLE A BED LIKE A DESIGNER! 🛏️ Budget Friendly + Easy to Recreate! (4 DIY Bed Ideas)",
         "XuUoGFEkutk",
         "2021-11-21 00:00:00",
         "bed",
         "26215",
         "959",
         "693153",
         "2021",
         "11"
        ],
        [
         "778",
         "Chris Brown - To My Bed (Audio)",
         "eCUqsfjdHkA",
         "2017-10-31 00:00:00",
         "bed",
         "232336",
         "3681",
         "33227408",
         "2017",
         "10"
        ],
        [
         "779",
         "I had an UNBREAKABLE BED in Roblox Bedwars...",
         "I49o9lfftcI",
         "2022-06-07 00:00:00",
         "bed",
         "6201",
         "314",
         "467835",
         "2022",
         "6"
        ],
        [
         "780",
         "I built a FAKE Bed Defense in Roblox Bedwars..",
         "GlsFxbhWOS8",
         "2021-06-27 00:00:00",
         "bed",
         "135484",
         "4557",
         "5301271",
         "2021",
         "6"
        ],
        [
         "781",
         "I Cheated in Hide and Seek Using a Bed!",
         "MsqxwdWI6nE",
         "2022-05-12 00:00:00",
         "bed",
         "153490",
         "12872",
         "5637132",
         "2022",
         "5"
        ],
        [
         "782",
         "J. Holiday Bed",
         "vcmv3tfuk9I",
         "2020-10-02 00:00:00",
         "bed",
         "288",
         "8",
         "20076",
         "2020",
         "10"
        ],
        [
         "783",
         "Dru Hill - In My Bed (Official Music Video)",
         "_Ixip0K2r10",
         "2010-09-29 00:00:00",
         "bed",
         "144517",
         "4933",
         "19210396",
         "2010",
         "9"
        ],
        [
         "784",
         "Quadruplets Build Bunk Bed! / Dollhouse in Real Life",
         "XR2mKfAfL20",
         "2022-08-18 00:00:00",
         "bed",
         "35503",
         "974",
         "1206538",
         "2022",
         "8"
        ],
        [
         "785",
         "We Build a Bunk Bed For Triplets",
         "GkKDCgjHIOk",
         "2022-04-25 00:00:00",
         "bed",
         "74840",
         "1286",
         "9224408",
         "2022",
         "4"
        ],
        [
         "786",
         "Amy Winehouse - In My Bed",
         "xdi_yuSgQw8",
         "2009-12-23 00:00:00",
         "bed",
         "160501",
         "6539",
         "46251795",
         "2009",
         "12"
        ],
        [
         "787",
         "Chris Brown - To My Bed (Official Video)",
         "VfVmCnCP7Mg",
         "2018-06-21 00:00:00",
         "bed",
         "394837",
         "13938",
         "42257995",
         "2018",
         "6"
        ]
       ],
       "shape": {
        "columns": 9,
        "rows": 44
       }
      },
      "text/html": [
       "<div>\n",
       "<style scoped>\n",
       "    .dataframe tbody tr th:only-of-type {\n",
       "        vertical-align: middle;\n",
       "    }\n",
       "\n",
       "    .dataframe tbody tr th {\n",
       "        vertical-align: top;\n",
       "    }\n",
       "\n",
       "    .dataframe thead th {\n",
       "        text-align: right;\n",
       "    }\n",
       "</style>\n",
       "<table border=\"1\" class=\"dataframe\">\n",
       "  <thead>\n",
       "    <tr style=\"text-align: right;\">\n",
       "      <th></th>\n",
       "      <th>Title</th>\n",
       "      <th>Video ID</th>\n",
       "      <th>Published At</th>\n",
       "      <th>Keyword</th>\n",
       "      <th>Likes</th>\n",
       "      <th>Comments</th>\n",
       "      <th>Views</th>\n",
       "      <th>year</th>\n",
       "      <th>month</th>\n",
       "    </tr>\n",
       "  </thead>\n",
       "  <tbody>\n",
       "    <tr>\n",
       "      <th>744</th>\n",
       "      <td>Jacquees - B.E.D.</td>\n",
       "      <td>ul1H_p_FeaA</td>\n",
       "      <td>2017-04-17</td>\n",
       "      <td>bed</td>\n",
       "      <td>1121873</td>\n",
       "      <td>23969</td>\n",
       "      <td>145167323</td>\n",
       "      <td>2017</td>\n",
       "      <td>4</td>\n",
       "    </tr>\n",
       "    <tr>\n",
       "      <th>745</th>\n",
       "      <td>Jacquees - B.E.D. (Audio)</td>\n",
       "      <td>O3H57UrX4MM</td>\n",
       "      <td>2017-02-15</td>\n",
       "      <td>bed</td>\n",
       "      <td>79639</td>\n",
       "      <td>921</td>\n",
       "      <td>10792977</td>\n",
       "      <td>2017</td>\n",
       "      <td>2</td>\n",
       "    </tr>\n",
       "    <tr>\n",
       "      <th>746</th>\n",
       "      <td>J. Holiday - Bed (Official Music Video)</td>\n",
       "      <td>82t_UOMHPJY</td>\n",
       "      <td>2007-07-16</td>\n",
       "      <td>bed</td>\n",
       "      <td>515049</td>\n",
       "      <td>16568</td>\n",
       "      <td>78137822</td>\n",
       "      <td>2007</td>\n",
       "      <td>7</td>\n",
       "    </tr>\n",
       "    <tr>\n",
       "      <th>747</th>\n",
       "      <td>Nicki Minaj - Bed ft. Ariana Grande</td>\n",
       "      <td>zxtl5ExJmag</td>\n",
       "      <td>2018-07-07</td>\n",
       "      <td>bed</td>\n",
       "      <td>1499298</td>\n",
       "      <td>75048</td>\n",
       "      <td>94340456</td>\n",
       "      <td>2018</td>\n",
       "      <td>7</td>\n",
       "    </tr>\n",
       "    <tr>\n",
       "      <th>748</th>\n",
       "      <td>Joel Corry x RAYE x David Guetta - BED [Offici...</td>\n",
       "      <td>mD2a9YzKV3w</td>\n",
       "      <td>2021-03-05</td>\n",
       "      <td>bed</td>\n",
       "      <td>157924</td>\n",
       "      <td>2760</td>\n",
       "      <td>29657435</td>\n",
       "      <td>2021</td>\n",
       "      <td>3</td>\n",
       "    </tr>\n",
       "    <tr>\n",
       "      <th>749</th>\n",
       "      <td>Joel Corry x RAYE x David Guetta - BED [Offici...</td>\n",
       "      <td>8mOPFGfJ5WQ</td>\n",
       "      <td>2021-02-26</td>\n",
       "      <td>bed</td>\n",
       "      <td>121553</td>\n",
       "      <td>1171</td>\n",
       "      <td>26260197</td>\n",
       "      <td>2021</td>\n",
       "      <td>2</td>\n",
       "    </tr>\n",
       "    <tr>\n",
       "      <th>750</th>\n",
       "      <td>Jacquees - B.E.D. (Remix) ft. Ty Dolla $ign, Q...</td>\n",
       "      <td>Oyo3tNlamDw</td>\n",
       "      <td>2017-08-16</td>\n",
       "      <td>bed</td>\n",
       "      <td>340686</td>\n",
       "      <td>8853</td>\n",
       "      <td>35695760</td>\n",
       "      <td>2017</td>\n",
       "      <td>8</td>\n",
       "    </tr>\n",
       "    <tr>\n",
       "      <th>751</th>\n",
       "      <td>jacquees - B.E.D. (Lyrics) | Nightly Music</td>\n",
       "      <td>IlRN5v5k5SY</td>\n",
       "      <td>2021-03-31</td>\n",
       "      <td>bed</td>\n",
       "      <td>6626</td>\n",
       "      <td>64</td>\n",
       "      <td>401678</td>\n",
       "      <td>2021</td>\n",
       "      <td>3</td>\n",
       "    </tr>\n",
       "    <tr>\n",
       "      <th>752</th>\n",
       "      <td>Powfu - death bed (coffee for your head) (Offi...</td>\n",
       "      <td>jJPMnTXl63E</td>\n",
       "      <td>2020-04-01</td>\n",
       "      <td>bed</td>\n",
       "      <td>7786057</td>\n",
       "      <td>195769</td>\n",
       "      <td>524709805</td>\n",
       "      <td>2020</td>\n",
       "      <td>4</td>\n",
       "    </tr>\n",
       "    <tr>\n",
       "      <th>753</th>\n",
       "      <td>J Holiday - Bed</td>\n",
       "      <td>uAwPjFq1W4s</td>\n",
       "      <td>2007-12-11</td>\n",
       "      <td>bed</td>\n",
       "      <td>119272</td>\n",
       "      <td>3743</td>\n",
       "      <td>26826274</td>\n",
       "      <td>2007</td>\n",
       "      <td>12</td>\n",
       "    </tr>\n",
       "    <tr>\n",
       "      <th>754</th>\n",
       "      <td>B.E.D. | sped up</td>\n",
       "      <td>Z2liyRt1bQM</td>\n",
       "      <td>2021-10-12</td>\n",
       "      <td>bed</td>\n",
       "      <td>23477</td>\n",
       "      <td>309</td>\n",
       "      <td>1345689</td>\n",
       "      <td>2021</td>\n",
       "      <td>10</td>\n",
       "    </tr>\n",
       "    <tr>\n",
       "      <th>755</th>\n",
       "      <td>Nicki Minaj - Bed ft. Ariana Grande (Lyrics)</td>\n",
       "      <td>1oONLOsajCA</td>\n",
       "      <td>2018-06-15</td>\n",
       "      <td>bed</td>\n",
       "      <td>4644</td>\n",
       "      <td>63</td>\n",
       "      <td>392314</td>\n",
       "      <td>2018</td>\n",
       "      <td>6</td>\n",
       "    </tr>\n",
       "    <tr>\n",
       "      <th>756</th>\n",
       "      <td>Rotimi - In My Bed (Official Video) (feat. Wale)</td>\n",
       "      <td>3Dg1CT31_uw</td>\n",
       "      <td>2020-09-17</td>\n",
       "      <td>bed</td>\n",
       "      <td>789062</td>\n",
       "      <td>14192</td>\n",
       "      <td>58921922</td>\n",
       "      <td>2020</td>\n",
       "      <td>9</td>\n",
       "    </tr>\n",
       "    <tr>\n",
       "      <th>757</th>\n",
       "      <td>Young Money - Bed Rock (Official Music Video)</td>\n",
       "      <td>Ha80ZaecGkQ</td>\n",
       "      <td>2009-12-16</td>\n",
       "      <td>bed</td>\n",
       "      <td>1430457</td>\n",
       "      <td>84188</td>\n",
       "      <td>321977550</td>\n",
       "      <td>2009</td>\n",
       "      <td>12</td>\n",
       "    </tr>\n",
       "    <tr>\n",
       "      <th>758</th>\n",
       "      <td>Jacquees - B.E.D. (Lyrics) [HD/HQ]</td>\n",
       "      <td>ov-duXb7llk</td>\n",
       "      <td>2017-02-16</td>\n",
       "      <td>bed</td>\n",
       "      <td>1158</td>\n",
       "      <td>19</td>\n",
       "      <td>85052</td>\n",
       "      <td>2017</td>\n",
       "      <td>2</td>\n",
       "    </tr>\n",
       "    <tr>\n",
       "      <th>759</th>\n",
       "      <td>Chris Brown - Wet the Bed (Audio) ft. Ludacris</td>\n",
       "      <td>Q_ljNRC8qqM</td>\n",
       "      <td>2011-09-28</td>\n",
       "      <td>bed</td>\n",
       "      <td>361395</td>\n",
       "      <td>9234</td>\n",
       "      <td>50358797</td>\n",
       "      <td>2011</td>\n",
       "      <td>9</td>\n",
       "    </tr>\n",
       "    <tr>\n",
       "      <th>760</th>\n",
       "      <td>Joel Corry, RAYE &amp;amp; David Guetta - BED (Lyr...</td>\n",
       "      <td>OBeDns9Qto8</td>\n",
       "      <td>2021-02-25</td>\n",
       "      <td>bed</td>\n",
       "      <td>17286</td>\n",
       "      <td>277</td>\n",
       "      <td>1603229</td>\n",
       "      <td>2021</td>\n",
       "      <td>2</td>\n",
       "    </tr>\n",
       "    <tr>\n",
       "      <th>761</th>\n",
       "      <td>Overnight in the World&amp;#39;s Tallest Bed - Cha...</td>\n",
       "      <td>qcfcvkg0VX8</td>\n",
       "      <td>2022-04-09</td>\n",
       "      <td>bed</td>\n",
       "      <td>85527</td>\n",
       "      <td>1347</td>\n",
       "      <td>6055668</td>\n",
       "      <td>2022</td>\n",
       "      <td>4</td>\n",
       "    </tr>\n",
       "    <tr>\n",
       "      <th>762</th>\n",
       "      <td>OVERNIGHT IN THE WORLD&amp;#39;S MOST DANGEROUS BED!!</td>\n",
       "      <td>1EX3OPwzCJU</td>\n",
       "      <td>2022-06-21</td>\n",
       "      <td>bed</td>\n",
       "      <td>203103</td>\n",
       "      <td>5814</td>\n",
       "      <td>6644534</td>\n",
       "      <td>2022</td>\n",
       "      <td>6</td>\n",
       "    </tr>\n",
       "    <tr>\n",
       "      <th>763</th>\n",
       "      <td>Powfu - Death Bed (Lyrics) ft. beabadoobee | d...</td>\n",
       "      <td>u99AklNGpyc</td>\n",
       "      <td>2020-03-14</td>\n",
       "      <td>bed</td>\n",
       "      <td>1301198</td>\n",
       "      <td>40137</td>\n",
       "      <td>98559845</td>\n",
       "      <td>2020</td>\n",
       "      <td>3</td>\n",
       "    </tr>\n",
       "    <tr>\n",
       "      <th>764</th>\n",
       "      <td>Bon Jovi - Bed Of Roses (Official Music Video)</td>\n",
       "      <td>NvR60Wg9R7Q</td>\n",
       "      <td>2009-06-17</td>\n",
       "      <td>bed</td>\n",
       "      <td>1072689</td>\n",
       "      <td>37571</td>\n",
       "      <td>302125099</td>\n",
       "      <td>2009</td>\n",
       "      <td>6</td>\n",
       "    </tr>\n",
       "    <tr>\n",
       "      <th>765</th>\n",
       "      <td>Bunk Bed for Triplets / Emerald Girl, Ruby Gir...</td>\n",
       "      <td>MbQytfUd-lc</td>\n",
       "      <td>2022-08-23</td>\n",
       "      <td>bed</td>\n",
       "      <td>2122</td>\n",
       "      <td>36</td>\n",
       "      <td>164940</td>\n",
       "      <td>2022</td>\n",
       "      <td>8</td>\n",
       "    </tr>\n",
       "    <tr>\n",
       "      <th>766</th>\n",
       "      <td>Rotimi - In My Bed (Audio) (feat. Wale)</td>\n",
       "      <td>kMVqXKkvFFw</td>\n",
       "      <td>2019-12-13</td>\n",
       "      <td>bed</td>\n",
       "      <td>397142</td>\n",
       "      <td>6354</td>\n",
       "      <td>49183640</td>\n",
       "      <td>2019</td>\n",
       "      <td>12</td>\n",
       "    </tr>\n",
       "    <tr>\n",
       "      <th>767</th>\n",
       "      <td>Jacquees - B.E.D. (Remix)</td>\n",
       "      <td>pMPEd48ktlQ</td>\n",
       "      <td>2018-09-30</td>\n",
       "      <td>bed</td>\n",
       "      <td>2206</td>\n",
       "      <td>30</td>\n",
       "      <td>157632</td>\n",
       "      <td>2018</td>\n",
       "      <td>9</td>\n",
       "    </tr>\n",
       "    <tr>\n",
       "      <th>768</th>\n",
       "      <td>Secret Hidden BED Entrance to Epic GAMING FORT!</td>\n",
       "      <td>whlWz4LZaBk</td>\n",
       "      <td>2021-06-25</td>\n",
       "      <td>bed</td>\n",
       "      <td>130796</td>\n",
       "      <td>4106</td>\n",
       "      <td>9493733</td>\n",
       "      <td>2021</td>\n",
       "      <td>6</td>\n",
       "    </tr>\n",
       "    <tr>\n",
       "      <th>769</th>\n",
       "      <td>jacquees - b.e.d. (sped up)</td>\n",
       "      <td>Q7a2gKchVlc</td>\n",
       "      <td>2022-01-03</td>\n",
       "      <td>bed</td>\n",
       "      <td>6366</td>\n",
       "      <td>54</td>\n",
       "      <td>302407</td>\n",
       "      <td>2022</td>\n",
       "      <td>1</td>\n",
       "    </tr>\n",
       "    <tr>\n",
       "      <th>770</th>\n",
       "      <td>Bed Bath &amp;amp; Beyond is a &amp;#39;JCPenney 2,&amp;#3...</td>\n",
       "      <td>k05LqUEb07E</td>\n",
       "      <td>2022-08-24</td>\n",
       "      <td>bed</td>\n",
       "      <td>25</td>\n",
       "      <td>26</td>\n",
       "      <td>4454</td>\n",
       "      <td>2022</td>\n",
       "      <td>8</td>\n",
       "    </tr>\n",
       "    <tr>\n",
       "      <th>771</th>\n",
       "      <td>Why Investors are Angry About Bed Bath &amp;amp; B...</td>\n",
       "      <td>WQkl1utfHVM</td>\n",
       "      <td>2022-08-20</td>\n",
       "      <td>bed</td>\n",
       "      <td>5716</td>\n",
       "      <td>687</td>\n",
       "      <td>153064</td>\n",
       "      <td>2022</td>\n",
       "      <td>8</td>\n",
       "    </tr>\n",
       "    <tr>\n",
       "      <th>772</th>\n",
       "      <td>bed</td>\n",
       "      <td>s3EISTf1prk</td>\n",
       "      <td>2021-08-18</td>\n",
       "      <td>bed</td>\n",
       "      <td>287759</td>\n",
       "      <td>10036</td>\n",
       "      <td>4288625</td>\n",
       "      <td>2021</td>\n",
       "      <td>8</td>\n",
       "    </tr>\n",
       "    <tr>\n",
       "      <th>773</th>\n",
       "      <td>Saint Punk - Empty Bed [Monstercat Lyric Video]</td>\n",
       "      <td>dK2FJQX24Io</td>\n",
       "      <td>2021-01-21</td>\n",
       "      <td>bed</td>\n",
       "      <td>57666</td>\n",
       "      <td>2683</td>\n",
       "      <td>2966344</td>\n",
       "      <td>2021</td>\n",
       "      <td>1</td>\n",
       "    </tr>\n",
       "    <tr>\n",
       "      <th>774</th>\n",
       "      <td>LAST TO LEAVE THE BED!!</td>\n",
       "      <td>7TVOSA2Jau8</td>\n",
       "      <td>2021-07-18</td>\n",
       "      <td>bed</td>\n",
       "      <td>362022</td>\n",
       "      <td>10409</td>\n",
       "      <td>11440455</td>\n",
       "      <td>2021</td>\n",
       "      <td>7</td>\n",
       "    </tr>\n",
       "    <tr>\n",
       "      <th>775</th>\n",
       "      <td>Rihanna - California King Bed</td>\n",
       "      <td>nhBorPm6JjQ</td>\n",
       "      <td>2011-05-07</td>\n",
       "      <td>bed</td>\n",
       "      <td>1171433</td>\n",
       "      <td>61344</td>\n",
       "      <td>308501014</td>\n",
       "      <td>2011</td>\n",
       "      <td>5</td>\n",
       "    </tr>\n",
       "    <tr>\n",
       "      <th>776</th>\n",
       "      <td>B.E.D (sped up &amp;amp; pitched)</td>\n",
       "      <td>igg4TWRL0M8</td>\n",
       "      <td>2021-12-09</td>\n",
       "      <td>bed</td>\n",
       "      <td>16578</td>\n",
       "      <td>119</td>\n",
       "      <td>1088318</td>\n",
       "      <td>2021</td>\n",
       "      <td>12</td>\n",
       "    </tr>\n",
       "    <tr>\n",
       "      <th>777</th>\n",
       "      <td>HOW TO STYLE A BED LIKE A DESIGNER! 🛏️ Budget ...</td>\n",
       "      <td>XuUoGFEkutk</td>\n",
       "      <td>2021-11-21</td>\n",
       "      <td>bed</td>\n",
       "      <td>26215</td>\n",
       "      <td>959</td>\n",
       "      <td>693153</td>\n",
       "      <td>2021</td>\n",
       "      <td>11</td>\n",
       "    </tr>\n",
       "    <tr>\n",
       "      <th>778</th>\n",
       "      <td>Chris Brown - To My Bed (Audio)</td>\n",
       "      <td>eCUqsfjdHkA</td>\n",
       "      <td>2017-10-31</td>\n",
       "      <td>bed</td>\n",
       "      <td>232336</td>\n",
       "      <td>3681</td>\n",
       "      <td>33227408</td>\n",
       "      <td>2017</td>\n",
       "      <td>10</td>\n",
       "    </tr>\n",
       "    <tr>\n",
       "      <th>779</th>\n",
       "      <td>I had an UNBREAKABLE BED in Roblox Bedwars...</td>\n",
       "      <td>I49o9lfftcI</td>\n",
       "      <td>2022-06-07</td>\n",
       "      <td>bed</td>\n",
       "      <td>6201</td>\n",
       "      <td>314</td>\n",
       "      <td>467835</td>\n",
       "      <td>2022</td>\n",
       "      <td>6</td>\n",
       "    </tr>\n",
       "    <tr>\n",
       "      <th>780</th>\n",
       "      <td>I built a FAKE Bed Defense in Roblox Bedwars..</td>\n",
       "      <td>GlsFxbhWOS8</td>\n",
       "      <td>2021-06-27</td>\n",
       "      <td>bed</td>\n",
       "      <td>135484</td>\n",
       "      <td>4557</td>\n",
       "      <td>5301271</td>\n",
       "      <td>2021</td>\n",
       "      <td>6</td>\n",
       "    </tr>\n",
       "    <tr>\n",
       "      <th>781</th>\n",
       "      <td>I Cheated in Hide and Seek Using a Bed!</td>\n",
       "      <td>MsqxwdWI6nE</td>\n",
       "      <td>2022-05-12</td>\n",
       "      <td>bed</td>\n",
       "      <td>153490</td>\n",
       "      <td>12872</td>\n",
       "      <td>5637132</td>\n",
       "      <td>2022</td>\n",
       "      <td>5</td>\n",
       "    </tr>\n",
       "    <tr>\n",
       "      <th>782</th>\n",
       "      <td>J. Holiday Bed</td>\n",
       "      <td>vcmv3tfuk9I</td>\n",
       "      <td>2020-10-02</td>\n",
       "      <td>bed</td>\n",
       "      <td>288</td>\n",
       "      <td>8</td>\n",
       "      <td>20076</td>\n",
       "      <td>2020</td>\n",
       "      <td>10</td>\n",
       "    </tr>\n",
       "    <tr>\n",
       "      <th>783</th>\n",
       "      <td>Dru Hill - In My Bed (Official Music Video)</td>\n",
       "      <td>_Ixip0K2r10</td>\n",
       "      <td>2010-09-29</td>\n",
       "      <td>bed</td>\n",
       "      <td>144517</td>\n",
       "      <td>4933</td>\n",
       "      <td>19210396</td>\n",
       "      <td>2010</td>\n",
       "      <td>9</td>\n",
       "    </tr>\n",
       "    <tr>\n",
       "      <th>784</th>\n",
       "      <td>Quadruplets Build Bunk Bed! / Dollhouse in Rea...</td>\n",
       "      <td>XR2mKfAfL20</td>\n",
       "      <td>2022-08-18</td>\n",
       "      <td>bed</td>\n",
       "      <td>35503</td>\n",
       "      <td>974</td>\n",
       "      <td>1206538</td>\n",
       "      <td>2022</td>\n",
       "      <td>8</td>\n",
       "    </tr>\n",
       "    <tr>\n",
       "      <th>785</th>\n",
       "      <td>We Build a Bunk Bed For Triplets</td>\n",
       "      <td>GkKDCgjHIOk</td>\n",
       "      <td>2022-04-25</td>\n",
       "      <td>bed</td>\n",
       "      <td>74840</td>\n",
       "      <td>1286</td>\n",
       "      <td>9224408</td>\n",
       "      <td>2022</td>\n",
       "      <td>4</td>\n",
       "    </tr>\n",
       "    <tr>\n",
       "      <th>786</th>\n",
       "      <td>Amy Winehouse - In My Bed</td>\n",
       "      <td>xdi_yuSgQw8</td>\n",
       "      <td>2009-12-23</td>\n",
       "      <td>bed</td>\n",
       "      <td>160501</td>\n",
       "      <td>6539</td>\n",
       "      <td>46251795</td>\n",
       "      <td>2009</td>\n",
       "      <td>12</td>\n",
       "    </tr>\n",
       "    <tr>\n",
       "      <th>787</th>\n",
       "      <td>Chris Brown - To My Bed (Official Video)</td>\n",
       "      <td>VfVmCnCP7Mg</td>\n",
       "      <td>2018-06-21</td>\n",
       "      <td>bed</td>\n",
       "      <td>394837</td>\n",
       "      <td>13938</td>\n",
       "      <td>42257995</td>\n",
       "      <td>2018</td>\n",
       "      <td>6</td>\n",
       "    </tr>\n",
       "  </tbody>\n",
       "</table>\n",
       "</div>"
      ],
      "text/plain": [
       "                                                 Title     Video ID  \\\n",
       "744                                  Jacquees - B.E.D.  ul1H_p_FeaA   \n",
       "745                          Jacquees - B.E.D. (Audio)  O3H57UrX4MM   \n",
       "746            J. Holiday - Bed (Official Music Video)  82t_UOMHPJY   \n",
       "747                Nicki Minaj - Bed ft. Ariana Grande  zxtl5ExJmag   \n",
       "748  Joel Corry x RAYE x David Guetta - BED [Offici...  mD2a9YzKV3w   \n",
       "749  Joel Corry x RAYE x David Guetta - BED [Offici...  8mOPFGfJ5WQ   \n",
       "750  Jacquees - B.E.D. (Remix) ft. Ty Dolla $ign, Q...  Oyo3tNlamDw   \n",
       "751         jacquees - B.E.D. (Lyrics) | Nightly Music  IlRN5v5k5SY   \n",
       "752  Powfu - death bed (coffee for your head) (Offi...  jJPMnTXl63E   \n",
       "753                                    J Holiday - Bed  uAwPjFq1W4s   \n",
       "754                                   B.E.D. | sped up  Z2liyRt1bQM   \n",
       "755       Nicki Minaj - Bed ft. Ariana Grande (Lyrics)  1oONLOsajCA   \n",
       "756   Rotimi - In My Bed (Official Video) (feat. Wale)  3Dg1CT31_uw   \n",
       "757      Young Money - Bed Rock (Official Music Video)  Ha80ZaecGkQ   \n",
       "758                 Jacquees - B.E.D. (Lyrics) [HD/HQ]  ov-duXb7llk   \n",
       "759     Chris Brown - Wet the Bed (Audio) ft. Ludacris  Q_ljNRC8qqM   \n",
       "760  Joel Corry, RAYE &amp; David Guetta - BED (Lyr...  OBeDns9Qto8   \n",
       "761  Overnight in the World&#39;s Tallest Bed - Cha...  qcfcvkg0VX8   \n",
       "762  OVERNIGHT IN THE WORLD&#39;S MOST DANGEROUS BED!!  1EX3OPwzCJU   \n",
       "763  Powfu - Death Bed (Lyrics) ft. beabadoobee | d...  u99AklNGpyc   \n",
       "764     Bon Jovi - Bed Of Roses (Official Music Video)  NvR60Wg9R7Q   \n",
       "765  Bunk Bed for Triplets / Emerald Girl, Ruby Gir...  MbQytfUd-lc   \n",
       "766            Rotimi - In My Bed (Audio) (feat. Wale)  kMVqXKkvFFw   \n",
       "767                          Jacquees - B.E.D. (Remix)  pMPEd48ktlQ   \n",
       "768    Secret Hidden BED Entrance to Epic GAMING FORT!  whlWz4LZaBk   \n",
       "769                        jacquees - b.e.d. (sped up)  Q7a2gKchVlc   \n",
       "770  Bed Bath &amp; Beyond is a &#39;JCPenney 2,&#3...  k05LqUEb07E   \n",
       "771  Why Investors are Angry About Bed Bath &amp; B...  WQkl1utfHVM   \n",
       "772                                                bed  s3EISTf1prk   \n",
       "773    Saint Punk - Empty Bed [Monstercat Lyric Video]  dK2FJQX24Io   \n",
       "774                            LAST TO LEAVE THE BED!!  7TVOSA2Jau8   \n",
       "775                      Rihanna - California King Bed  nhBorPm6JjQ   \n",
       "776                      B.E.D (sped up &amp; pitched)  igg4TWRL0M8   \n",
       "777  HOW TO STYLE A BED LIKE A DESIGNER! 🛏️ Budget ...  XuUoGFEkutk   \n",
       "778                    Chris Brown - To My Bed (Audio)  eCUqsfjdHkA   \n",
       "779      I had an UNBREAKABLE BED in Roblox Bedwars...  I49o9lfftcI   \n",
       "780     I built a FAKE Bed Defense in Roblox Bedwars..  GlsFxbhWOS8   \n",
       "781            I Cheated in Hide and Seek Using a Bed!  MsqxwdWI6nE   \n",
       "782                                     J. Holiday Bed  vcmv3tfuk9I   \n",
       "783        Dru Hill - In My Bed (Official Music Video)  _Ixip0K2r10   \n",
       "784  Quadruplets Build Bunk Bed! / Dollhouse in Rea...  XR2mKfAfL20   \n",
       "785                   We Build a Bunk Bed For Triplets  GkKDCgjHIOk   \n",
       "786                          Amy Winehouse - In My Bed  xdi_yuSgQw8   \n",
       "787           Chris Brown - To My Bed (Official Video)  VfVmCnCP7Mg   \n",
       "\n",
       "    Published At Keyword    Likes  Comments      Views  year  month  \n",
       "744   2017-04-17     bed  1121873     23969  145167323  2017      4  \n",
       "745   2017-02-15     bed    79639       921   10792977  2017      2  \n",
       "746   2007-07-16     bed   515049     16568   78137822  2007      7  \n",
       "747   2018-07-07     bed  1499298     75048   94340456  2018      7  \n",
       "748   2021-03-05     bed   157924      2760   29657435  2021      3  \n",
       "749   2021-02-26     bed   121553      1171   26260197  2021      2  \n",
       "750   2017-08-16     bed   340686      8853   35695760  2017      8  \n",
       "751   2021-03-31     bed     6626        64     401678  2021      3  \n",
       "752   2020-04-01     bed  7786057    195769  524709805  2020      4  \n",
       "753   2007-12-11     bed   119272      3743   26826274  2007     12  \n",
       "754   2021-10-12     bed    23477       309    1345689  2021     10  \n",
       "755   2018-06-15     bed     4644        63     392314  2018      6  \n",
       "756   2020-09-17     bed   789062     14192   58921922  2020      9  \n",
       "757   2009-12-16     bed  1430457     84188  321977550  2009     12  \n",
       "758   2017-02-16     bed     1158        19      85052  2017      2  \n",
       "759   2011-09-28     bed   361395      9234   50358797  2011      9  \n",
       "760   2021-02-25     bed    17286       277    1603229  2021      2  \n",
       "761   2022-04-09     bed    85527      1347    6055668  2022      4  \n",
       "762   2022-06-21     bed   203103      5814    6644534  2022      6  \n",
       "763   2020-03-14     bed  1301198     40137   98559845  2020      3  \n",
       "764   2009-06-17     bed  1072689     37571  302125099  2009      6  \n",
       "765   2022-08-23     bed     2122        36     164940  2022      8  \n",
       "766   2019-12-13     bed   397142      6354   49183640  2019     12  \n",
       "767   2018-09-30     bed     2206        30     157632  2018      9  \n",
       "768   2021-06-25     bed   130796      4106    9493733  2021      6  \n",
       "769   2022-01-03     bed     6366        54     302407  2022      1  \n",
       "770   2022-08-24     bed       25        26       4454  2022      8  \n",
       "771   2022-08-20     bed     5716       687     153064  2022      8  \n",
       "772   2021-08-18     bed   287759     10036    4288625  2021      8  \n",
       "773   2021-01-21     bed    57666      2683    2966344  2021      1  \n",
       "774   2021-07-18     bed   362022     10409   11440455  2021      7  \n",
       "775   2011-05-07     bed  1171433     61344  308501014  2011      5  \n",
       "776   2021-12-09     bed    16578       119    1088318  2021     12  \n",
       "777   2021-11-21     bed    26215       959     693153  2021     11  \n",
       "778   2017-10-31     bed   232336      3681   33227408  2017     10  \n",
       "779   2022-06-07     bed     6201       314     467835  2022      6  \n",
       "780   2021-06-27     bed   135484      4557    5301271  2021      6  \n",
       "781   2022-05-12     bed   153490     12872    5637132  2022      5  \n",
       "782   2020-10-02     bed      288         8      20076  2020     10  \n",
       "783   2010-09-29     bed   144517      4933   19210396  2010      9  \n",
       "784   2022-08-18     bed    35503       974    1206538  2022      8  \n",
       "785   2022-04-25     bed    74840      1286    9224408  2022      4  \n",
       "786   2009-12-23     bed   160501      6539   46251795  2009     12  \n",
       "787   2018-06-21     bed   394837     13938   42257995  2018      6  "
      ]
     },
     "execution_count": 64,
     "metadata": {},
     "output_type": "execute_result"
    }
   ],
   "source": [
    "video_stats[video_stats.Keyword == 'bed']"
   ]
  },
  {
   "cell_type": "code",
   "execution_count": 65,
   "id": "c8b84a1a",
   "metadata": {},
   "outputs": [
    {
     "name": "stdout",
     "output_type": "stream",
     "text": [
      "<class 'pandas.core.frame.DataFrame'>\n",
      "Index: 1879 entries, 0 to 1878\n",
      "Data columns (total 9 columns):\n",
      " #   Column        Non-Null Count  Dtype         \n",
      "---  ------        --------------  -----         \n",
      " 0   Title         1879 non-null   object        \n",
      " 1   Video ID      1879 non-null   object        \n",
      " 2   Published At  1879 non-null   datetime64[ns]\n",
      " 3   Keyword       1879 non-null   object        \n",
      " 4   Likes         1879 non-null   int64         \n",
      " 5   Comments      1879 non-null   int64         \n",
      " 6   Views         1879 non-null   int64         \n",
      " 7   year          1879 non-null   int32         \n",
      " 8   month         1879 non-null   int32         \n",
      "dtypes: datetime64[ns](1), int32(2), int64(3), object(3)\n",
      "memory usage: 132.1+ KB\n"
     ]
    }
   ],
   "source": [
    "video_stats.info()"
   ]
  },
  {
   "cell_type": "markdown",
   "id": "970226f6",
   "metadata": {},
   "source": [
    "#### Ques 2: Videos with high like to view ratio and their keywords for the whole time interval"
   ]
  },
  {
   "cell_type": "code",
   "execution_count": 66,
   "id": "8a2977a9",
   "metadata": {},
   "outputs": [],
   "source": [
    "video_stats_unique = video_stats[['Title', 'Video ID', 'Likes', 'Comments', 'Views']]"
   ]
  },
  {
   "cell_type": "code",
   "execution_count": 67,
   "id": "bf55508a",
   "metadata": {},
   "outputs": [
    {
     "data": {
      "text/plain": [
       "1879"
      ]
     },
     "execution_count": 67,
     "metadata": {},
     "output_type": "execute_result"
    }
   ],
   "source": [
    "len(video_stats_unique)"
   ]
  },
  {
   "cell_type": "code",
   "execution_count": 68,
   "id": "a84d2e18",
   "metadata": {},
   "outputs": [],
   "source": [
    "video_stats_unique = video_stats_unique.drop_duplicates()"
   ]
  },
  {
   "cell_type": "code",
   "execution_count": 69,
   "id": "1d730874",
   "metadata": {},
   "outputs": [],
   "source": [
    "video_stats_unique.loc[: , 'like_view_ratio'] = video_stats_unique['Likes']/ video_stats_unique['Views']"
   ]
  },
  {
   "cell_type": "code",
   "execution_count": 70,
   "id": "9b553013",
   "metadata": {},
   "outputs": [
    {
     "data": {
      "application/vnd.microsoft.datawrangler.viewer.v0+json": {
       "columns": [
        {
         "name": "index",
         "rawType": "int64",
         "type": "integer"
        },
        {
         "name": "Title",
         "rawType": "object",
         "type": "string"
        },
        {
         "name": "Video ID",
         "rawType": "object",
         "type": "string"
        },
        {
         "name": "Likes",
         "rawType": "int64",
         "type": "integer"
        },
        {
         "name": "Comments",
         "rawType": "int64",
         "type": "integer"
        },
        {
         "name": "Views",
         "rawType": "int64",
         "type": "integer"
        },
        {
         "name": "like_view_ratio",
         "rawType": "float64",
         "type": "float"
        }
       ],
       "ref": "a8b94fd2-1b9c-4216-9b81-d05fe93bf8f9",
       "rows": [
        [
         "0",
         "Apple Pay Is Killing the Physical Wallet After Only Eight Years | Tech News Briefing Podcast | WSJ",
         "wAZZ-UWGVHI",
         "3407",
         "672",
         "135612",
         "0.025123145444355958"
        ],
        [
         "1",
         "The most EXPENSIVE thing I own.",
         "b3x28s61q3c",
         "76779",
         "4306",
         "1758063",
         "0.04367249637811614"
        ],
        [
         "2",
         "My New House Gaming Setup is SICK!",
         "4mgePWWCAmA",
         "63825",
         "3338",
         "1564007",
         "0.040808640882042085"
        ],
        [
         "3",
         "Petrol Vs Liquid Nitrogen | Freezing Experiment | പെട്രോളിനെ ഐസ് ആകാൻ പറ്റുമോ | M4 Tech |",
         "kXiYSI7H2b0",
         "71566",
         "1426",
         "922918",
         "0.07754318368479106"
        ],
        [
         "4",
         "Best Back to School Tech 2022!",
         "ErMwWXQxHp0",
         "96513",
         "5155",
         "1855644",
         "0.052010514947910265"
        ]
       ],
       "shape": {
        "columns": 6,
        "rows": 5
       }
      },
      "text/html": [
       "<div>\n",
       "<style scoped>\n",
       "    .dataframe tbody tr th:only-of-type {\n",
       "        vertical-align: middle;\n",
       "    }\n",
       "\n",
       "    .dataframe tbody tr th {\n",
       "        vertical-align: top;\n",
       "    }\n",
       "\n",
       "    .dataframe thead th {\n",
       "        text-align: right;\n",
       "    }\n",
       "</style>\n",
       "<table border=\"1\" class=\"dataframe\">\n",
       "  <thead>\n",
       "    <tr style=\"text-align: right;\">\n",
       "      <th></th>\n",
       "      <th>Title</th>\n",
       "      <th>Video ID</th>\n",
       "      <th>Likes</th>\n",
       "      <th>Comments</th>\n",
       "      <th>Views</th>\n",
       "      <th>like_view_ratio</th>\n",
       "    </tr>\n",
       "  </thead>\n",
       "  <tbody>\n",
       "    <tr>\n",
       "      <th>0</th>\n",
       "      <td>Apple Pay Is Killing the Physical Wallet After...</td>\n",
       "      <td>wAZZ-UWGVHI</td>\n",
       "      <td>3407</td>\n",
       "      <td>672</td>\n",
       "      <td>135612</td>\n",
       "      <td>0.025123</td>\n",
       "    </tr>\n",
       "    <tr>\n",
       "      <th>1</th>\n",
       "      <td>The most EXPENSIVE thing I own.</td>\n",
       "      <td>b3x28s61q3c</td>\n",
       "      <td>76779</td>\n",
       "      <td>4306</td>\n",
       "      <td>1758063</td>\n",
       "      <td>0.043672</td>\n",
       "    </tr>\n",
       "    <tr>\n",
       "      <th>2</th>\n",
       "      <td>My New House Gaming Setup is SICK!</td>\n",
       "      <td>4mgePWWCAmA</td>\n",
       "      <td>63825</td>\n",
       "      <td>3338</td>\n",
       "      <td>1564007</td>\n",
       "      <td>0.040809</td>\n",
       "    </tr>\n",
       "    <tr>\n",
       "      <th>3</th>\n",
       "      <td>Petrol Vs Liquid Nitrogen | Freezing Experimen...</td>\n",
       "      <td>kXiYSI7H2b0</td>\n",
       "      <td>71566</td>\n",
       "      <td>1426</td>\n",
       "      <td>922918</td>\n",
       "      <td>0.077543</td>\n",
       "    </tr>\n",
       "    <tr>\n",
       "      <th>4</th>\n",
       "      <td>Best Back to School Tech 2022!</td>\n",
       "      <td>ErMwWXQxHp0</td>\n",
       "      <td>96513</td>\n",
       "      <td>5155</td>\n",
       "      <td>1855644</td>\n",
       "      <td>0.052011</td>\n",
       "    </tr>\n",
       "  </tbody>\n",
       "</table>\n",
       "</div>"
      ],
      "text/plain": [
       "                                               Title     Video ID  Likes  \\\n",
       "0  Apple Pay Is Killing the Physical Wallet After...  wAZZ-UWGVHI   3407   \n",
       "1                    The most EXPENSIVE thing I own.  b3x28s61q3c  76779   \n",
       "2                 My New House Gaming Setup is SICK!  4mgePWWCAmA  63825   \n",
       "3  Petrol Vs Liquid Nitrogen | Freezing Experimen...  kXiYSI7H2b0  71566   \n",
       "4                     Best Back to School Tech 2022!  ErMwWXQxHp0  96513   \n",
       "\n",
       "   Comments    Views  like_view_ratio  \n",
       "0       672   135612         0.025123  \n",
       "1      4306  1758063         0.043672  \n",
       "2      3338  1564007         0.040809  \n",
       "3      1426   922918         0.077543  \n",
       "4      5155  1855644         0.052011  "
      ]
     },
     "execution_count": 70,
     "metadata": {},
     "output_type": "execute_result"
    }
   ],
   "source": [
    "video_stats_unique.head()"
   ]
  },
  {
   "cell_type": "code",
   "execution_count": 71,
   "id": "1c241f85",
   "metadata": {},
   "outputs": [],
   "source": [
    "video_stats_unique['like_view_ratio'] = video_stats_unique['like_view_ratio'].astype(float)"
   ]
  },
  {
   "cell_type": "code",
   "execution_count": 72,
   "id": "d2e9a9c8",
   "metadata": {},
   "outputs": [
    {
     "data": {
      "application/vnd.microsoft.datawrangler.viewer.v0+json": {
       "columns": [
        {
         "name": "index",
         "rawType": "int64",
         "type": "integer"
        },
        {
         "name": "Title",
         "rawType": "object",
         "type": "string"
        },
        {
         "name": "Video ID",
         "rawType": "object",
         "type": "string"
        },
        {
         "name": "Likes",
         "rawType": "int64",
         "type": "integer"
        },
        {
         "name": "Comments",
         "rawType": "int64",
         "type": "integer"
        },
        {
         "name": "Views",
         "rawType": "int64",
         "type": "integer"
        },
        {
         "name": "like_view_ratio",
         "rawType": "float64",
         "type": "float"
        }
       ],
       "ref": "40827c23-a614-4c22-9602-a3f587487ab5",
       "rows": [
        [
         "1174",
         "Education should be a right for all, not a privilege for the few.",
         "I0dKGM_B3ys",
         "1445",
         "296",
         "6611",
         "0.21857510210255635"
        ],
        [
         "99",
         "🔥Artistic Music Mix 2022: Top 50 Songs ♫ Best NCS Gaming Music ♫ Best Of EDM Remixes 2022",
         "GiHBWPRybpw",
         "1243",
         "21",
         "5967",
         "0.208312384782973"
        ],
        [
         "116",
         "اصعب لعبة جوال تخليك تعصب ضحك وتحشيش",
         "RnpJZLc7WtQ",
         "46642",
         "1287",
         "268946",
         "0.17342514854283017"
        ],
        [
         "470",
         "Elefante38 IMPRESSIONA SUPER GM!",
         "2pt9bQzRCYs",
         "8738",
         "412",
         "53211",
         "0.16421416624382176"
        ],
        [
         "115",
         "Gaming Memes Only True Gamers Understand 84 #Memes #shorts",
         "i_n68sBUTow",
         "39872",
         "187",
         "246407",
         "0.16181358484133973"
        ]
       ],
       "shape": {
        "columns": 6,
        "rows": 5
       }
      },
      "text/html": [
       "<div>\n",
       "<style scoped>\n",
       "    .dataframe tbody tr th:only-of-type {\n",
       "        vertical-align: middle;\n",
       "    }\n",
       "\n",
       "    .dataframe tbody tr th {\n",
       "        vertical-align: top;\n",
       "    }\n",
       "\n",
       "    .dataframe thead th {\n",
       "        text-align: right;\n",
       "    }\n",
       "</style>\n",
       "<table border=\"1\" class=\"dataframe\">\n",
       "  <thead>\n",
       "    <tr style=\"text-align: right;\">\n",
       "      <th></th>\n",
       "      <th>Title</th>\n",
       "      <th>Video ID</th>\n",
       "      <th>Likes</th>\n",
       "      <th>Comments</th>\n",
       "      <th>Views</th>\n",
       "      <th>like_view_ratio</th>\n",
       "    </tr>\n",
       "  </thead>\n",
       "  <tbody>\n",
       "    <tr>\n",
       "      <th>1174</th>\n",
       "      <td>Education should be a right for all, not a pri...</td>\n",
       "      <td>I0dKGM_B3ys</td>\n",
       "      <td>1445</td>\n",
       "      <td>296</td>\n",
       "      <td>6611</td>\n",
       "      <td>0.218575</td>\n",
       "    </tr>\n",
       "    <tr>\n",
       "      <th>99</th>\n",
       "      <td>🔥Artistic Music Mix 2022: Top 50 Songs ♫ Best ...</td>\n",
       "      <td>GiHBWPRybpw</td>\n",
       "      <td>1243</td>\n",
       "      <td>21</td>\n",
       "      <td>5967</td>\n",
       "      <td>0.208312</td>\n",
       "    </tr>\n",
       "    <tr>\n",
       "      <th>116</th>\n",
       "      <td>اصعب لعبة جوال تخليك تعصب ضحك وتحشيش</td>\n",
       "      <td>RnpJZLc7WtQ</td>\n",
       "      <td>46642</td>\n",
       "      <td>1287</td>\n",
       "      <td>268946</td>\n",
       "      <td>0.173425</td>\n",
       "    </tr>\n",
       "    <tr>\n",
       "      <th>470</th>\n",
       "      <td>Elefante38 IMPRESSIONA SUPER GM!</td>\n",
       "      <td>2pt9bQzRCYs</td>\n",
       "      <td>8738</td>\n",
       "      <td>412</td>\n",
       "      <td>53211</td>\n",
       "      <td>0.164214</td>\n",
       "    </tr>\n",
       "    <tr>\n",
       "      <th>115</th>\n",
       "      <td>Gaming Memes Only True Gamers Understand 84 #M...</td>\n",
       "      <td>i_n68sBUTow</td>\n",
       "      <td>39872</td>\n",
       "      <td>187</td>\n",
       "      <td>246407</td>\n",
       "      <td>0.161814</td>\n",
       "    </tr>\n",
       "  </tbody>\n",
       "</table>\n",
       "</div>"
      ],
      "text/plain": [
       "                                                  Title     Video ID  Likes  \\\n",
       "1174  Education should be a right for all, not a pri...  I0dKGM_B3ys   1445   \n",
       "99    🔥Artistic Music Mix 2022: Top 50 Songs ♫ Best ...  GiHBWPRybpw   1243   \n",
       "116                اصعب لعبة جوال تخليك تعصب ضحك وتحشيش  RnpJZLc7WtQ  46642   \n",
       "470                    Elefante38 IMPRESSIONA SUPER GM!  2pt9bQzRCYs   8738   \n",
       "115   Gaming Memes Only True Gamers Understand 84 #M...  i_n68sBUTow  39872   \n",
       "\n",
       "      Comments   Views  like_view_ratio  \n",
       "1174       296    6611         0.218575  \n",
       "99          21    5967         0.208312  \n",
       "116       1287  268946         0.173425  \n",
       "470        412   53211         0.164214  \n",
       "115        187  246407         0.161814  "
      ]
     },
     "execution_count": 72,
     "metadata": {},
     "output_type": "execute_result"
    }
   ],
   "source": [
    "video_stats_unique.sort_values(by='like_view_ratio', ascending=False).head(5)"
   ]
  },
  {
   "cell_type": "code",
   "execution_count": 73,
   "id": "f7c07732",
   "metadata": {},
   "outputs": [],
   "source": [
    "video_stats_top_like_view_ratio = video_stats_unique.sort_values(by='like_view_ratio', ascending=False).head(5)"
   ]
  },
  {
   "cell_type": "code",
   "execution_count": 74,
   "id": "e56cdecb",
   "metadata": {},
   "outputs": [
    {
     "data": {
      "application/vnd.microsoft.datawrangler.viewer.v0+json": {
       "columns": [
        {
         "name": "index",
         "rawType": "int64",
         "type": "integer"
        },
        {
         "name": "Title",
         "rawType": "object",
         "type": "string"
        },
        {
         "name": "Video ID",
         "rawType": "object",
         "type": "string"
        },
        {
         "name": "Likes",
         "rawType": "int64",
         "type": "integer"
        },
        {
         "name": "Comments",
         "rawType": "int64",
         "type": "integer"
        },
        {
         "name": "Views",
         "rawType": "int64",
         "type": "integer"
        },
        {
         "name": "like_view_ratio",
         "rawType": "float64",
         "type": "float"
        }
       ],
       "ref": "9e524e90-79ff-4198-8b5d-01d9bcd4c7c8",
       "rows": [
        [
         "1174",
         "Education should be a right for all, not a privilege for the few.",
         "I0dKGM_B3ys",
         "1445",
         "296",
         "6611",
         "0.21857510210255635"
        ],
        [
         "99",
         "🔥Artistic Music Mix 2022: Top 50 Songs ♫ Best NCS Gaming Music ♫ Best Of EDM Remixes 2022",
         "GiHBWPRybpw",
         "1243",
         "21",
         "5967",
         "0.208312384782973"
        ],
        [
         "116",
         "اصعب لعبة جوال تخليك تعصب ضحك وتحشيش",
         "RnpJZLc7WtQ",
         "46642",
         "1287",
         "268946",
         "0.17342514854283017"
        ],
        [
         "470",
         "Elefante38 IMPRESSIONA SUPER GM!",
         "2pt9bQzRCYs",
         "8738",
         "412",
         "53211",
         "0.16421416624382176"
        ],
        [
         "115",
         "Gaming Memes Only True Gamers Understand 84 #Memes #shorts",
         "i_n68sBUTow",
         "39872",
         "187",
         "246407",
         "0.16181358484133973"
        ]
       ],
       "shape": {
        "columns": 6,
        "rows": 5
       }
      },
      "text/html": [
       "<div>\n",
       "<style scoped>\n",
       "    .dataframe tbody tr th:only-of-type {\n",
       "        vertical-align: middle;\n",
       "    }\n",
       "\n",
       "    .dataframe tbody tr th {\n",
       "        vertical-align: top;\n",
       "    }\n",
       "\n",
       "    .dataframe thead th {\n",
       "        text-align: right;\n",
       "    }\n",
       "</style>\n",
       "<table border=\"1\" class=\"dataframe\">\n",
       "  <thead>\n",
       "    <tr style=\"text-align: right;\">\n",
       "      <th></th>\n",
       "      <th>Title</th>\n",
       "      <th>Video ID</th>\n",
       "      <th>Likes</th>\n",
       "      <th>Comments</th>\n",
       "      <th>Views</th>\n",
       "      <th>like_view_ratio</th>\n",
       "    </tr>\n",
       "  </thead>\n",
       "  <tbody>\n",
       "    <tr>\n",
       "      <th>1174</th>\n",
       "      <td>Education should be a right for all, not a pri...</td>\n",
       "      <td>I0dKGM_B3ys</td>\n",
       "      <td>1445</td>\n",
       "      <td>296</td>\n",
       "      <td>6611</td>\n",
       "      <td>0.218575</td>\n",
       "    </tr>\n",
       "    <tr>\n",
       "      <th>99</th>\n",
       "      <td>🔥Artistic Music Mix 2022: Top 50 Songs ♫ Best ...</td>\n",
       "      <td>GiHBWPRybpw</td>\n",
       "      <td>1243</td>\n",
       "      <td>21</td>\n",
       "      <td>5967</td>\n",
       "      <td>0.208312</td>\n",
       "    </tr>\n",
       "    <tr>\n",
       "      <th>116</th>\n",
       "      <td>اصعب لعبة جوال تخليك تعصب ضحك وتحشيش</td>\n",
       "      <td>RnpJZLc7WtQ</td>\n",
       "      <td>46642</td>\n",
       "      <td>1287</td>\n",
       "      <td>268946</td>\n",
       "      <td>0.173425</td>\n",
       "    </tr>\n",
       "    <tr>\n",
       "      <th>470</th>\n",
       "      <td>Elefante38 IMPRESSIONA SUPER GM!</td>\n",
       "      <td>2pt9bQzRCYs</td>\n",
       "      <td>8738</td>\n",
       "      <td>412</td>\n",
       "      <td>53211</td>\n",
       "      <td>0.164214</td>\n",
       "    </tr>\n",
       "    <tr>\n",
       "      <th>115</th>\n",
       "      <td>Gaming Memes Only True Gamers Understand 84 #M...</td>\n",
       "      <td>i_n68sBUTow</td>\n",
       "      <td>39872</td>\n",
       "      <td>187</td>\n",
       "      <td>246407</td>\n",
       "      <td>0.161814</td>\n",
       "    </tr>\n",
       "  </tbody>\n",
       "</table>\n",
       "</div>"
      ],
      "text/plain": [
       "                                                  Title     Video ID  Likes  \\\n",
       "1174  Education should be a right for all, not a pri...  I0dKGM_B3ys   1445   \n",
       "99    🔥Artistic Music Mix 2022: Top 50 Songs ♫ Best ...  GiHBWPRybpw   1243   \n",
       "116                اصعب لعبة جوال تخليك تعصب ضحك وتحشيش  RnpJZLc7WtQ  46642   \n",
       "470                    Elefante38 IMPRESSIONA SUPER GM!  2pt9bQzRCYs   8738   \n",
       "115   Gaming Memes Only True Gamers Understand 84 #M...  i_n68sBUTow  39872   \n",
       "\n",
       "      Comments   Views  like_view_ratio  \n",
       "1174       296    6611         0.218575  \n",
       "99          21    5967         0.208312  \n",
       "116       1287  268946         0.173425  \n",
       "470        412   53211         0.164214  \n",
       "115        187  246407         0.161814  "
      ]
     },
     "execution_count": 74,
     "metadata": {},
     "output_type": "execute_result"
    }
   ],
   "source": [
    "video_stats_top_like_view_ratio"
   ]
  },
  {
   "cell_type": "code",
   "execution_count": 75,
   "id": "0ccc3d34",
   "metadata": {},
   "outputs": [
    {
     "data": {
      "application/vnd.microsoft.datawrangler.viewer.v0+json": {
       "columns": [
        {
         "name": "index",
         "rawType": "int64",
         "type": "integer"
        },
        {
         "name": "Title",
         "rawType": "object",
         "type": "string"
        },
        {
         "name": "Video ID",
         "rawType": "object",
         "type": "string"
        },
        {
         "name": "Published At",
         "rawType": "datetime64[ns]",
         "type": "datetime"
        },
        {
         "name": "Keyword",
         "rawType": "object",
         "type": "string"
        },
        {
         "name": "Likes",
         "rawType": "int64",
         "type": "integer"
        },
        {
         "name": "Comments",
         "rawType": "int64",
         "type": "integer"
        },
        {
         "name": "Views",
         "rawType": "int64",
         "type": "integer"
        },
        {
         "name": "year",
         "rawType": "int32",
         "type": "integer"
        },
        {
         "name": "month",
         "rawType": "int32",
         "type": "integer"
        }
       ],
       "ref": "31aec2a8-9f33-4e0c-80b6-cbd8804dba64",
       "rows": [
        [
         "0",
         "Apple Pay Is Killing the Physical Wallet After Only Eight Years | Tech News Briefing Podcast | WSJ",
         "wAZZ-UWGVHI",
         "2022-08-23 00:00:00",
         "tech",
         "3407",
         "672",
         "135612",
         "2022",
         "8"
        ],
        [
         "1",
         "The most EXPENSIVE thing I own.",
         "b3x28s61q3c",
         "2022-08-24 00:00:00",
         "tech",
         "76779",
         "4306",
         "1758063",
         "2022",
         "8"
        ],
        [
         "2",
         "My New House Gaming Setup is SICK!",
         "4mgePWWCAmA",
         "2022-08-23 00:00:00",
         "tech",
         "63825",
         "3338",
         "1564007",
         "2022",
         "8"
        ],
        [
         "3",
         "Petrol Vs Liquid Nitrogen | Freezing Experiment | പെട്രോളിനെ ഐസ് ആകാൻ പറ്റുമോ | M4 Tech |",
         "kXiYSI7H2b0",
         "2022-08-23 00:00:00",
         "tech",
         "71566",
         "1426",
         "922918",
         "2022",
         "8"
        ],
        [
         "4",
         "Best Back to School Tech 2022!",
         "ErMwWXQxHp0",
         "2022-08-08 00:00:00",
         "tech",
         "96513",
         "5155",
         "1855644",
         "2022",
         "8"
        ]
       ],
       "shape": {
        "columns": 9,
        "rows": 5
       }
      },
      "text/html": [
       "<div>\n",
       "<style scoped>\n",
       "    .dataframe tbody tr th:only-of-type {\n",
       "        vertical-align: middle;\n",
       "    }\n",
       "\n",
       "    .dataframe tbody tr th {\n",
       "        vertical-align: top;\n",
       "    }\n",
       "\n",
       "    .dataframe thead th {\n",
       "        text-align: right;\n",
       "    }\n",
       "</style>\n",
       "<table border=\"1\" class=\"dataframe\">\n",
       "  <thead>\n",
       "    <tr style=\"text-align: right;\">\n",
       "      <th></th>\n",
       "      <th>Title</th>\n",
       "      <th>Video ID</th>\n",
       "      <th>Published At</th>\n",
       "      <th>Keyword</th>\n",
       "      <th>Likes</th>\n",
       "      <th>Comments</th>\n",
       "      <th>Views</th>\n",
       "      <th>year</th>\n",
       "      <th>month</th>\n",
       "    </tr>\n",
       "  </thead>\n",
       "  <tbody>\n",
       "    <tr>\n",
       "      <th>0</th>\n",
       "      <td>Apple Pay Is Killing the Physical Wallet After...</td>\n",
       "      <td>wAZZ-UWGVHI</td>\n",
       "      <td>2022-08-23</td>\n",
       "      <td>tech</td>\n",
       "      <td>3407</td>\n",
       "      <td>672</td>\n",
       "      <td>135612</td>\n",
       "      <td>2022</td>\n",
       "      <td>8</td>\n",
       "    </tr>\n",
       "    <tr>\n",
       "      <th>1</th>\n",
       "      <td>The most EXPENSIVE thing I own.</td>\n",
       "      <td>b3x28s61q3c</td>\n",
       "      <td>2022-08-24</td>\n",
       "      <td>tech</td>\n",
       "      <td>76779</td>\n",
       "      <td>4306</td>\n",
       "      <td>1758063</td>\n",
       "      <td>2022</td>\n",
       "      <td>8</td>\n",
       "    </tr>\n",
       "    <tr>\n",
       "      <th>2</th>\n",
       "      <td>My New House Gaming Setup is SICK!</td>\n",
       "      <td>4mgePWWCAmA</td>\n",
       "      <td>2022-08-23</td>\n",
       "      <td>tech</td>\n",
       "      <td>63825</td>\n",
       "      <td>3338</td>\n",
       "      <td>1564007</td>\n",
       "      <td>2022</td>\n",
       "      <td>8</td>\n",
       "    </tr>\n",
       "    <tr>\n",
       "      <th>3</th>\n",
       "      <td>Petrol Vs Liquid Nitrogen | Freezing Experimen...</td>\n",
       "      <td>kXiYSI7H2b0</td>\n",
       "      <td>2022-08-23</td>\n",
       "      <td>tech</td>\n",
       "      <td>71566</td>\n",
       "      <td>1426</td>\n",
       "      <td>922918</td>\n",
       "      <td>2022</td>\n",
       "      <td>8</td>\n",
       "    </tr>\n",
       "    <tr>\n",
       "      <th>4</th>\n",
       "      <td>Best Back to School Tech 2022!</td>\n",
       "      <td>ErMwWXQxHp0</td>\n",
       "      <td>2022-08-08</td>\n",
       "      <td>tech</td>\n",
       "      <td>96513</td>\n",
       "      <td>5155</td>\n",
       "      <td>1855644</td>\n",
       "      <td>2022</td>\n",
       "      <td>8</td>\n",
       "    </tr>\n",
       "  </tbody>\n",
       "</table>\n",
       "</div>"
      ],
      "text/plain": [
       "                                               Title     Video ID  \\\n",
       "0  Apple Pay Is Killing the Physical Wallet After...  wAZZ-UWGVHI   \n",
       "1                    The most EXPENSIVE thing I own.  b3x28s61q3c   \n",
       "2                 My New House Gaming Setup is SICK!  4mgePWWCAmA   \n",
       "3  Petrol Vs Liquid Nitrogen | Freezing Experimen...  kXiYSI7H2b0   \n",
       "4                     Best Back to School Tech 2022!  ErMwWXQxHp0   \n",
       "\n",
       "  Published At Keyword  Likes  Comments    Views  year  month  \n",
       "0   2022-08-23    tech   3407       672   135612  2022      8  \n",
       "1   2022-08-24    tech  76779      4306  1758063  2022      8  \n",
       "2   2022-08-23    tech  63825      3338  1564007  2022      8  \n",
       "3   2022-08-23    tech  71566      1426   922918  2022      8  \n",
       "4   2022-08-08    tech  96513      5155  1855644  2022      8  "
      ]
     },
     "execution_count": 75,
     "metadata": {},
     "output_type": "execute_result"
    }
   ],
   "source": [
    "video_stats.head()"
   ]
  },
  {
   "cell_type": "code",
   "execution_count": 76,
   "id": "d8ec1711",
   "metadata": {},
   "outputs": [],
   "source": [
    "top_like_video_ratio = pd.merge(video_stats_top_like_view_ratio, video_stats[['Video ID', 'Keyword']], on ='Video ID', how='inner')"
   ]
  },
  {
   "cell_type": "code",
   "execution_count": 77,
   "id": "96a98823",
   "metadata": {},
   "outputs": [
    {
     "data": {
      "application/vnd.microsoft.datawrangler.viewer.v0+json": {
       "columns": [
        {
         "name": "index",
         "rawType": "int64",
         "type": "integer"
        },
        {
         "name": "Title",
         "rawType": "object",
         "type": "string"
        },
        {
         "name": "Video ID",
         "rawType": "object",
         "type": "string"
        },
        {
         "name": "Likes",
         "rawType": "int64",
         "type": "integer"
        },
        {
         "name": "Comments",
         "rawType": "int64",
         "type": "integer"
        },
        {
         "name": "Views",
         "rawType": "int64",
         "type": "integer"
        },
        {
         "name": "like_view_ratio",
         "rawType": "float64",
         "type": "float"
        },
        {
         "name": "Keyword",
         "rawType": "object",
         "type": "string"
        }
       ],
       "ref": "4fd1c9ec-621d-4dff-9992-6122e66d7773",
       "rows": [
        [
         "0",
         "Education should be a right for all, not a privilege for the few.",
         "I0dKGM_B3ys",
         "1445",
         "296",
         "6611",
         "0.21857510210255635",
         "education"
        ],
        [
         "1",
         "🔥Artistic Music Mix 2022: Top 50 Songs ♫ Best NCS Gaming Music ♫ Best Of EDM Remixes 2022",
         "GiHBWPRybpw",
         "1243",
         "21",
         "5967",
         "0.208312384782973",
         "gaming"
        ],
        [
         "2",
         "اصعب لعبة جوال تخليك تعصب ضحك وتحشيش",
         "RnpJZLc7WtQ",
         "46642",
         "1287",
         "268946",
         "0.17342514854283017",
         "gaming"
        ],
        [
         "3",
         "Elefante38 IMPRESSIONA SUPER GM!",
         "2pt9bQzRCYs",
         "8738",
         "412",
         "53211",
         "0.16421416624382176",
         "chess"
        ],
        [
         "4",
         "Gaming Memes Only True Gamers Understand 84 #Memes #shorts",
         "i_n68sBUTow",
         "39872",
         "187",
         "246407",
         "0.16181358484133973",
         "gaming"
        ]
       ],
       "shape": {
        "columns": 7,
        "rows": 5
       }
      },
      "text/html": [
       "<div>\n",
       "<style scoped>\n",
       "    .dataframe tbody tr th:only-of-type {\n",
       "        vertical-align: middle;\n",
       "    }\n",
       "\n",
       "    .dataframe tbody tr th {\n",
       "        vertical-align: top;\n",
       "    }\n",
       "\n",
       "    .dataframe thead th {\n",
       "        text-align: right;\n",
       "    }\n",
       "</style>\n",
       "<table border=\"1\" class=\"dataframe\">\n",
       "  <thead>\n",
       "    <tr style=\"text-align: right;\">\n",
       "      <th></th>\n",
       "      <th>Title</th>\n",
       "      <th>Video ID</th>\n",
       "      <th>Likes</th>\n",
       "      <th>Comments</th>\n",
       "      <th>Views</th>\n",
       "      <th>like_view_ratio</th>\n",
       "      <th>Keyword</th>\n",
       "    </tr>\n",
       "  </thead>\n",
       "  <tbody>\n",
       "    <tr>\n",
       "      <th>0</th>\n",
       "      <td>Education should be a right for all, not a pri...</td>\n",
       "      <td>I0dKGM_B3ys</td>\n",
       "      <td>1445</td>\n",
       "      <td>296</td>\n",
       "      <td>6611</td>\n",
       "      <td>0.218575</td>\n",
       "      <td>education</td>\n",
       "    </tr>\n",
       "    <tr>\n",
       "      <th>1</th>\n",
       "      <td>🔥Artistic Music Mix 2022: Top 50 Songs ♫ Best ...</td>\n",
       "      <td>GiHBWPRybpw</td>\n",
       "      <td>1243</td>\n",
       "      <td>21</td>\n",
       "      <td>5967</td>\n",
       "      <td>0.208312</td>\n",
       "      <td>gaming</td>\n",
       "    </tr>\n",
       "    <tr>\n",
       "      <th>2</th>\n",
       "      <td>اصعب لعبة جوال تخليك تعصب ضحك وتحشيش</td>\n",
       "      <td>RnpJZLc7WtQ</td>\n",
       "      <td>46642</td>\n",
       "      <td>1287</td>\n",
       "      <td>268946</td>\n",
       "      <td>0.173425</td>\n",
       "      <td>gaming</td>\n",
       "    </tr>\n",
       "    <tr>\n",
       "      <th>3</th>\n",
       "      <td>Elefante38 IMPRESSIONA SUPER GM!</td>\n",
       "      <td>2pt9bQzRCYs</td>\n",
       "      <td>8738</td>\n",
       "      <td>412</td>\n",
       "      <td>53211</td>\n",
       "      <td>0.164214</td>\n",
       "      <td>chess</td>\n",
       "    </tr>\n",
       "    <tr>\n",
       "      <th>4</th>\n",
       "      <td>Gaming Memes Only True Gamers Understand 84 #M...</td>\n",
       "      <td>i_n68sBUTow</td>\n",
       "      <td>39872</td>\n",
       "      <td>187</td>\n",
       "      <td>246407</td>\n",
       "      <td>0.161814</td>\n",
       "      <td>gaming</td>\n",
       "    </tr>\n",
       "  </tbody>\n",
       "</table>\n",
       "</div>"
      ],
      "text/plain": [
       "                                               Title     Video ID  Likes  \\\n",
       "0  Education should be a right for all, not a pri...  I0dKGM_B3ys   1445   \n",
       "1  🔥Artistic Music Mix 2022: Top 50 Songs ♫ Best ...  GiHBWPRybpw   1243   \n",
       "2               اصعب لعبة جوال تخليك تعصب ضحك وتحشيش  RnpJZLc7WtQ  46642   \n",
       "3                   Elefante38 IMPRESSIONA SUPER GM!  2pt9bQzRCYs   8738   \n",
       "4  Gaming Memes Only True Gamers Understand 84 #M...  i_n68sBUTow  39872   \n",
       "\n",
       "   Comments   Views  like_view_ratio    Keyword  \n",
       "0       296    6611         0.218575  education  \n",
       "1        21    5967         0.208312     gaming  \n",
       "2      1287  268946         0.173425     gaming  \n",
       "3       412   53211         0.164214      chess  \n",
       "4       187  246407         0.161814     gaming  "
      ]
     },
     "execution_count": 77,
     "metadata": {},
     "output_type": "execute_result"
    }
   ],
   "source": [
    "top_like_video_ratio"
   ]
  },
  {
   "cell_type": "code",
   "execution_count": 78,
   "id": "925453b2",
   "metadata": {},
   "outputs": [
    {
     "data": {
      "application/vnd.microsoft.datawrangler.viewer.v0+json": {
       "columns": [
        {
         "name": "index",
         "rawType": "int64",
         "type": "integer"
        },
        {
         "name": "Title",
         "rawType": "object",
         "type": "string"
        },
        {
         "name": "Keyword",
         "rawType": "object",
         "type": "string"
        },
        {
         "name": "Likes",
         "rawType": "int64",
         "type": "integer"
        },
        {
         "name": "Views",
         "rawType": "int64",
         "type": "integer"
        },
        {
         "name": "like_view_ratio",
         "rawType": "float64",
         "type": "float"
        }
       ],
       "ref": "1e58c2d1-91c9-4a65-810c-c4e456a3be2d",
       "rows": [
        [
         "0",
         "Education should be a right for all, not a privilege for the few.",
         "education",
         "1445",
         "6611",
         "0.21857510210255635"
        ],
        [
         "1",
         "🔥Artistic Music Mix 2022: Top 50 Songs ♫ Best NCS Gaming Music ♫ Best Of EDM Remixes 2022",
         "gaming",
         "1243",
         "5967",
         "0.208312384782973"
        ],
        [
         "2",
         "اصعب لعبة جوال تخليك تعصب ضحك وتحشيش",
         "gaming",
         "46642",
         "268946",
         "0.17342514854283017"
        ],
        [
         "3",
         "Elefante38 IMPRESSIONA SUPER GM!",
         "chess",
         "8738",
         "53211",
         "0.16421416624382176"
        ],
        [
         "4",
         "Gaming Memes Only True Gamers Understand 84 #Memes #shorts",
         "gaming",
         "39872",
         "246407",
         "0.16181358484133973"
        ]
       ],
       "shape": {
        "columns": 5,
        "rows": 5
       }
      },
      "text/html": [
       "<div>\n",
       "<style scoped>\n",
       "    .dataframe tbody tr th:only-of-type {\n",
       "        vertical-align: middle;\n",
       "    }\n",
       "\n",
       "    .dataframe tbody tr th {\n",
       "        vertical-align: top;\n",
       "    }\n",
       "\n",
       "    .dataframe thead th {\n",
       "        text-align: right;\n",
       "    }\n",
       "</style>\n",
       "<table border=\"1\" class=\"dataframe\">\n",
       "  <thead>\n",
       "    <tr style=\"text-align: right;\">\n",
       "      <th></th>\n",
       "      <th>Title</th>\n",
       "      <th>Keyword</th>\n",
       "      <th>Likes</th>\n",
       "      <th>Views</th>\n",
       "      <th>like_view_ratio</th>\n",
       "    </tr>\n",
       "  </thead>\n",
       "  <tbody>\n",
       "    <tr>\n",
       "      <th>0</th>\n",
       "      <td>Education should be a right for all, not a pri...</td>\n",
       "      <td>education</td>\n",
       "      <td>1445</td>\n",
       "      <td>6611</td>\n",
       "      <td>0.218575</td>\n",
       "    </tr>\n",
       "    <tr>\n",
       "      <th>1</th>\n",
       "      <td>🔥Artistic Music Mix 2022: Top 50 Songs ♫ Best ...</td>\n",
       "      <td>gaming</td>\n",
       "      <td>1243</td>\n",
       "      <td>5967</td>\n",
       "      <td>0.208312</td>\n",
       "    </tr>\n",
       "    <tr>\n",
       "      <th>2</th>\n",
       "      <td>اصعب لعبة جوال تخليك تعصب ضحك وتحشيش</td>\n",
       "      <td>gaming</td>\n",
       "      <td>46642</td>\n",
       "      <td>268946</td>\n",
       "      <td>0.173425</td>\n",
       "    </tr>\n",
       "    <tr>\n",
       "      <th>3</th>\n",
       "      <td>Elefante38 IMPRESSIONA SUPER GM!</td>\n",
       "      <td>chess</td>\n",
       "      <td>8738</td>\n",
       "      <td>53211</td>\n",
       "      <td>0.164214</td>\n",
       "    </tr>\n",
       "    <tr>\n",
       "      <th>4</th>\n",
       "      <td>Gaming Memes Only True Gamers Understand 84 #M...</td>\n",
       "      <td>gaming</td>\n",
       "      <td>39872</td>\n",
       "      <td>246407</td>\n",
       "      <td>0.161814</td>\n",
       "    </tr>\n",
       "  </tbody>\n",
       "</table>\n",
       "</div>"
      ],
      "text/plain": [
       "                                               Title    Keyword  Likes  \\\n",
       "0  Education should be a right for all, not a pri...  education   1445   \n",
       "1  🔥Artistic Music Mix 2022: Top 50 Songs ♫ Best ...     gaming   1243   \n",
       "2               اصعب لعبة جوال تخليك تعصب ضحك وتحشيش     gaming  46642   \n",
       "3                   Elefante38 IMPRESSIONA SUPER GM!      chess   8738   \n",
       "4  Gaming Memes Only True Gamers Understand 84 #M...     gaming  39872   \n",
       "\n",
       "    Views  like_view_ratio  \n",
       "0    6611         0.218575  \n",
       "1    5967         0.208312  \n",
       "2  268946         0.173425  \n",
       "3   53211         0.164214  \n",
       "4  246407         0.161814  "
      ]
     },
     "execution_count": 78,
     "metadata": {},
     "output_type": "execute_result"
    }
   ],
   "source": [
    "top_like_video_ratio[['Title', 'Keyword','Likes', 'Views', 'like_view_ratio']]"
   ]
  },
  {
   "cell_type": "markdown",
   "id": "81ff9e20",
   "metadata": {},
   "source": [
    "This metric is crucial as it not only highlights the numbers of viewers it attracts but gives the information how many are engaging with the video.\n",
    "\n",
    "Key Observations:\n",
    "1. The first video on education has a high like to view ratio given the relatively low view count, this shows that education videos connect with the audience better.\n",
    "2. Gaming dominates the top engaged content, taking 3 spots out of 5. This indicates that the gaming community is highly engaged and passionate.\n",
    "3. It is important to note that a high like to view ratio do not necessarily have high absolute view counts 21.9% is a high engagement ratio. This emphasizes that high like to view ratio is a mesure of content qualitty and viewer satisfaction.\n",
    "4. The presence of Arabic content in the top 5 suggests strong engagenment within speicifc language community.\n",
    "\n",
    "Potential Implications and Recommendations:\n",
    "1. For content creators, focusing on the like to view ratio can be powerful strategy for identyfying impactful videos. \n",
    "2. The high engagement for education, gaming and chess indicates that creating content for specific, passionate comuunites can yield high satisfaction rates.\n",
    "\n",
    "Analysis:\n",
    "1. To see if high like to view ratios correlate with the longer watch times.\n",
    "2. Do the highly engaged videos converts viewers to subscribers\n",
    "3. Analyze the all the comment of these videos and understand why the people like these videos."
   ]
  },
  {
   "cell_type": "markdown",
   "id": "8030b2b8",
   "metadata": {},
   "source": [
    "#### Ques 3: Keywords that generates most comments for the whole time frame."
   ]
  },
  {
   "cell_type": "code",
   "execution_count": 79,
   "id": "0d43ff81",
   "metadata": {},
   "outputs": [
    {
     "data": {
      "application/vnd.microsoft.datawrangler.viewer.v0+json": {
       "columns": [
        {
         "name": "index",
         "rawType": "int64",
         "type": "integer"
        },
        {
         "name": "Title",
         "rawType": "object",
         "type": "string"
        },
        {
         "name": "Video ID",
         "rawType": "object",
         "type": "string"
        },
        {
         "name": "Published At",
         "rawType": "datetime64[ns]",
         "type": "datetime"
        },
        {
         "name": "Keyword",
         "rawType": "object",
         "type": "string"
        },
        {
         "name": "Likes",
         "rawType": "int64",
         "type": "integer"
        },
        {
         "name": "Comments",
         "rawType": "int64",
         "type": "integer"
        },
        {
         "name": "Views",
         "rawType": "int64",
         "type": "integer"
        },
        {
         "name": "year",
         "rawType": "int32",
         "type": "integer"
        },
        {
         "name": "month",
         "rawType": "int32",
         "type": "integer"
        }
       ],
       "ref": "8f7ea90f-2430-4d50-8952-9674dd55d0ab",
       "rows": [
        [
         "0",
         "Apple Pay Is Killing the Physical Wallet After Only Eight Years | Tech News Briefing Podcast | WSJ",
         "wAZZ-UWGVHI",
         "2022-08-23 00:00:00",
         "tech",
         "3407",
         "672",
         "135612",
         "2022",
         "8"
        ],
        [
         "1",
         "The most EXPENSIVE thing I own.",
         "b3x28s61q3c",
         "2022-08-24 00:00:00",
         "tech",
         "76779",
         "4306",
         "1758063",
         "2022",
         "8"
        ],
        [
         "2",
         "My New House Gaming Setup is SICK!",
         "4mgePWWCAmA",
         "2022-08-23 00:00:00",
         "tech",
         "63825",
         "3338",
         "1564007",
         "2022",
         "8"
        ],
        [
         "3",
         "Petrol Vs Liquid Nitrogen | Freezing Experiment | പെട്രോളിനെ ഐസ് ആകാൻ പറ്റുമോ | M4 Tech |",
         "kXiYSI7H2b0",
         "2022-08-23 00:00:00",
         "tech",
         "71566",
         "1426",
         "922918",
         "2022",
         "8"
        ],
        [
         "4",
         "Best Back to School Tech 2022!",
         "ErMwWXQxHp0",
         "2022-08-08 00:00:00",
         "tech",
         "96513",
         "5155",
         "1855644",
         "2022",
         "8"
        ]
       ],
       "shape": {
        "columns": 9,
        "rows": 5
       }
      },
      "text/html": [
       "<div>\n",
       "<style scoped>\n",
       "    .dataframe tbody tr th:only-of-type {\n",
       "        vertical-align: middle;\n",
       "    }\n",
       "\n",
       "    .dataframe tbody tr th {\n",
       "        vertical-align: top;\n",
       "    }\n",
       "\n",
       "    .dataframe thead th {\n",
       "        text-align: right;\n",
       "    }\n",
       "</style>\n",
       "<table border=\"1\" class=\"dataframe\">\n",
       "  <thead>\n",
       "    <tr style=\"text-align: right;\">\n",
       "      <th></th>\n",
       "      <th>Title</th>\n",
       "      <th>Video ID</th>\n",
       "      <th>Published At</th>\n",
       "      <th>Keyword</th>\n",
       "      <th>Likes</th>\n",
       "      <th>Comments</th>\n",
       "      <th>Views</th>\n",
       "      <th>year</th>\n",
       "      <th>month</th>\n",
       "    </tr>\n",
       "  </thead>\n",
       "  <tbody>\n",
       "    <tr>\n",
       "      <th>0</th>\n",
       "      <td>Apple Pay Is Killing the Physical Wallet After...</td>\n",
       "      <td>wAZZ-UWGVHI</td>\n",
       "      <td>2022-08-23</td>\n",
       "      <td>tech</td>\n",
       "      <td>3407</td>\n",
       "      <td>672</td>\n",
       "      <td>135612</td>\n",
       "      <td>2022</td>\n",
       "      <td>8</td>\n",
       "    </tr>\n",
       "    <tr>\n",
       "      <th>1</th>\n",
       "      <td>The most EXPENSIVE thing I own.</td>\n",
       "      <td>b3x28s61q3c</td>\n",
       "      <td>2022-08-24</td>\n",
       "      <td>tech</td>\n",
       "      <td>76779</td>\n",
       "      <td>4306</td>\n",
       "      <td>1758063</td>\n",
       "      <td>2022</td>\n",
       "      <td>8</td>\n",
       "    </tr>\n",
       "    <tr>\n",
       "      <th>2</th>\n",
       "      <td>My New House Gaming Setup is SICK!</td>\n",
       "      <td>4mgePWWCAmA</td>\n",
       "      <td>2022-08-23</td>\n",
       "      <td>tech</td>\n",
       "      <td>63825</td>\n",
       "      <td>3338</td>\n",
       "      <td>1564007</td>\n",
       "      <td>2022</td>\n",
       "      <td>8</td>\n",
       "    </tr>\n",
       "    <tr>\n",
       "      <th>3</th>\n",
       "      <td>Petrol Vs Liquid Nitrogen | Freezing Experimen...</td>\n",
       "      <td>kXiYSI7H2b0</td>\n",
       "      <td>2022-08-23</td>\n",
       "      <td>tech</td>\n",
       "      <td>71566</td>\n",
       "      <td>1426</td>\n",
       "      <td>922918</td>\n",
       "      <td>2022</td>\n",
       "      <td>8</td>\n",
       "    </tr>\n",
       "    <tr>\n",
       "      <th>4</th>\n",
       "      <td>Best Back to School Tech 2022!</td>\n",
       "      <td>ErMwWXQxHp0</td>\n",
       "      <td>2022-08-08</td>\n",
       "      <td>tech</td>\n",
       "      <td>96513</td>\n",
       "      <td>5155</td>\n",
       "      <td>1855644</td>\n",
       "      <td>2022</td>\n",
       "      <td>8</td>\n",
       "    </tr>\n",
       "  </tbody>\n",
       "</table>\n",
       "</div>"
      ],
      "text/plain": [
       "                                               Title     Video ID  \\\n",
       "0  Apple Pay Is Killing the Physical Wallet After...  wAZZ-UWGVHI   \n",
       "1                    The most EXPENSIVE thing I own.  b3x28s61q3c   \n",
       "2                 My New House Gaming Setup is SICK!  4mgePWWCAmA   \n",
       "3  Petrol Vs Liquid Nitrogen | Freezing Experimen...  kXiYSI7H2b0   \n",
       "4                     Best Back to School Tech 2022!  ErMwWXQxHp0   \n",
       "\n",
       "  Published At Keyword  Likes  Comments    Views  year  month  \n",
       "0   2022-08-23    tech   3407       672   135612  2022      8  \n",
       "1   2022-08-24    tech  76779      4306  1758063  2022      8  \n",
       "2   2022-08-23    tech  63825      3338  1564007  2022      8  \n",
       "3   2022-08-23    tech  71566      1426   922918  2022      8  \n",
       "4   2022-08-08    tech  96513      5155  1855644  2022      8  "
      ]
     },
     "execution_count": 79,
     "metadata": {},
     "output_type": "execute_result"
    }
   ],
   "source": [
    "video_stats.head()"
   ]
  },
  {
   "cell_type": "code",
   "execution_count": 80,
   "id": "74fde732",
   "metadata": {},
   "outputs": [],
   "source": [
    "keyword_by_comments = video_stats.groupby('Keyword')['Comments'].sum().reset_index()"
   ]
  },
  {
   "cell_type": "code",
   "execution_count": 81,
   "id": "d26baedc",
   "metadata": {},
   "outputs": [],
   "source": [
    "keyword_by_comments = keyword_by_comments.sort_values(by='Comments', ascending=False)"
   ]
  },
  {
   "cell_type": "code",
   "execution_count": 82,
   "id": "e74caf36",
   "metadata": {},
   "outputs": [],
   "source": [
    "key_comment_top = keyword_by_comments.head(5).copy()"
   ]
  },
  {
   "cell_type": "code",
   "execution_count": 83,
   "id": "3c98f130",
   "metadata": {},
   "outputs": [],
   "source": [
    "key_comment_bottom = keyword_by_comments.tail(5).copy()"
   ]
  },
  {
   "cell_type": "code",
   "execution_count": 84,
   "id": "8bee04c4",
   "metadata": {},
   "outputs": [],
   "source": [
    "key_comment_top.loc[:,'Type'] = 'Top'\n",
    "key_comment_bottom.loc[:,'Type'] = 'Bottom'"
   ]
  },
  {
   "cell_type": "code",
   "execution_count": 85,
   "id": "549d8d72",
   "metadata": {},
   "outputs": [],
   "source": [
    "combined_key_comment = pd.concat([key_comment_top, key_comment_bottom], axis=0)"
   ]
  },
  {
   "cell_type": "code",
   "execution_count": 86,
   "id": "749e1299",
   "metadata": {},
   "outputs": [],
   "source": [
    "combined_key_comment= combined_key_comment.reset_index()"
   ]
  },
  {
   "cell_type": "code",
   "execution_count": 87,
   "id": "ea6f57e2",
   "metadata": {},
   "outputs": [],
   "source": [
    "combined_key_comment = combined_key_comment.drop('index', axis=1)"
   ]
  },
  {
   "cell_type": "code",
   "execution_count": 88,
   "id": "c280c69e",
   "metadata": {},
   "outputs": [
    {
     "data": {
      "application/vnd.microsoft.datawrangler.viewer.v0+json": {
       "columns": [
        {
         "name": "index",
         "rawType": "int64",
         "type": "integer"
        },
        {
         "name": "Keyword",
         "rawType": "object",
         "type": "string"
        },
        {
         "name": "Comments",
         "rawType": "int64",
         "type": "integer"
        },
        {
         "name": "Type",
         "rawType": "object",
         "type": "string"
        }
       ],
       "ref": "629e133e-f534-4736-ac61-f88de67feba4",
       "rows": [
        [
         "0",
         "mrbeast",
         "4797224",
         "Top"
        ],
        [
         "1",
         "google",
         "1019079",
         "Top"
        ],
        [
         "2",
         "history",
         "1009501",
         "Top"
        ],
        [
         "3",
         "animals",
         "831129",
         "Top"
        ],
        [
         "4",
         "bed",
         "667962",
         "Top"
        ],
        [
         "5",
         "news",
         "46154",
         "Bottom"
        ],
        [
         "6",
         "finance",
         "42277",
         "Bottom"
        ],
        [
         "7",
         "literature",
         "40473",
         "Bottom"
        ],
        [
         "8",
         "crypto",
         "27331",
         "Bottom"
        ],
        [
         "9",
         "data science",
         "25876",
         "Bottom"
        ]
       ],
       "shape": {
        "columns": 3,
        "rows": 10
       }
      },
      "text/html": [
       "<div>\n",
       "<style scoped>\n",
       "    .dataframe tbody tr th:only-of-type {\n",
       "        vertical-align: middle;\n",
       "    }\n",
       "\n",
       "    .dataframe tbody tr th {\n",
       "        vertical-align: top;\n",
       "    }\n",
       "\n",
       "    .dataframe thead th {\n",
       "        text-align: right;\n",
       "    }\n",
       "</style>\n",
       "<table border=\"1\" class=\"dataframe\">\n",
       "  <thead>\n",
       "    <tr style=\"text-align: right;\">\n",
       "      <th></th>\n",
       "      <th>Keyword</th>\n",
       "      <th>Comments</th>\n",
       "      <th>Type</th>\n",
       "    </tr>\n",
       "  </thead>\n",
       "  <tbody>\n",
       "    <tr>\n",
       "      <th>0</th>\n",
       "      <td>mrbeast</td>\n",
       "      <td>4797224</td>\n",
       "      <td>Top</td>\n",
       "    </tr>\n",
       "    <tr>\n",
       "      <th>1</th>\n",
       "      <td>google</td>\n",
       "      <td>1019079</td>\n",
       "      <td>Top</td>\n",
       "    </tr>\n",
       "    <tr>\n",
       "      <th>2</th>\n",
       "      <td>history</td>\n",
       "      <td>1009501</td>\n",
       "      <td>Top</td>\n",
       "    </tr>\n",
       "    <tr>\n",
       "      <th>3</th>\n",
       "      <td>animals</td>\n",
       "      <td>831129</td>\n",
       "      <td>Top</td>\n",
       "    </tr>\n",
       "    <tr>\n",
       "      <th>4</th>\n",
       "      <td>bed</td>\n",
       "      <td>667962</td>\n",
       "      <td>Top</td>\n",
       "    </tr>\n",
       "    <tr>\n",
       "      <th>5</th>\n",
       "      <td>news</td>\n",
       "      <td>46154</td>\n",
       "      <td>Bottom</td>\n",
       "    </tr>\n",
       "    <tr>\n",
       "      <th>6</th>\n",
       "      <td>finance</td>\n",
       "      <td>42277</td>\n",
       "      <td>Bottom</td>\n",
       "    </tr>\n",
       "    <tr>\n",
       "      <th>7</th>\n",
       "      <td>literature</td>\n",
       "      <td>40473</td>\n",
       "      <td>Bottom</td>\n",
       "    </tr>\n",
       "    <tr>\n",
       "      <th>8</th>\n",
       "      <td>crypto</td>\n",
       "      <td>27331</td>\n",
       "      <td>Bottom</td>\n",
       "    </tr>\n",
       "    <tr>\n",
       "      <th>9</th>\n",
       "      <td>data science</td>\n",
       "      <td>25876</td>\n",
       "      <td>Bottom</td>\n",
       "    </tr>\n",
       "  </tbody>\n",
       "</table>\n",
       "</div>"
      ],
      "text/plain": [
       "        Keyword  Comments    Type\n",
       "0       mrbeast   4797224     Top\n",
       "1        google   1019079     Top\n",
       "2       history   1009501     Top\n",
       "3       animals    831129     Top\n",
       "4           bed    667962     Top\n",
       "5          news     46154  Bottom\n",
       "6       finance     42277  Bottom\n",
       "7    literature     40473  Bottom\n",
       "8        crypto     27331  Bottom\n",
       "9  data science     25876  Bottom"
      ]
     },
     "execution_count": 88,
     "metadata": {},
     "output_type": "execute_result"
    }
   ],
   "source": [
    "combined_key_comment"
   ]
  },
  {
   "cell_type": "code",
   "execution_count": 89,
   "id": "145ecbc1",
   "metadata": {},
   "outputs": [],
   "source": [
    "combined_key_comment = combined_key_comment.sort_values(by='Comments', ascending = True)\n"
   ]
  },
  {
   "cell_type": "code",
   "execution_count": 90,
   "id": "96531c6b",
   "metadata": {},
   "outputs": [
    {
     "data": {
      "image/png": "[encoded data removed]",
      "text/plain": [
       "<Figure size 1000x600 with 1 Axes>"
      ]
     },
     "metadata": {},
     "output_type": "display_data"
    }
   ],
   "source": [
    "plt.figure(figsize=(10,6))\n",
    "colors = combined_key_comment['Type'].map({'Top': 'blue',\n",
    "                                           'Bottom': 'red'})\n",
    "N =5\n",
    "bars =plt.barh(combined_key_comment['Keyword'], combined_key_comment['Comments'], color=colors)\n",
    "\n",
    "for bar in bars:\n",
    "    width = bar.get_width()\n",
    "    plt.text(width + 5, bar.get_y() + bar.get_height() / 2,\n",
    "             f'{int(width):,}', va='center', fontsize=9)\n",
    "\n",
    "# Labels and title\n",
    "plt.xlabel('Number of Comments')\n",
    "plt.title('Top and Bottom Keywords by Comment Count (Color Coded)')\n",
    "plt.tight_layout()\n",
    "plt.show()"
   ]
  },
  {
   "cell_type": "markdown",
   "id": "45feba8a",
   "metadata": {},
   "source": [
    "This visualization of the keywords that generates the highest and the least comments serves as an indicator of interaction by the viewers.\n",
    "\n",
    "Key Observations:\n",
    "1. Mr Beast dominates the Comment engagement. This indicates an extremely active and engaged community around the creator. The content maybe creates lot of discussions, and fan interactions.\n",
    "2. Google and History drive significant discussion. This suggests that content related to historical topics and tech with google encourage viewers to share their thoughts, ask question and engage discussions.\n",
    "3. Animals and Bed show moderate engagement. This indicates that the comments are way less than the other ones but they still represent substantial interactions.\n",
    "4. There is a significant difference in the number of interactions with the top and the bottom performing keywords. This indicates a difference in how audience interacts with the various contents.\n",
    "5. News, Finance, Crypto, Literature and data science has the least number of interactions. The audience might consume the content for information rather than interactions.\n",
    "\n",
    "Potential Implicationa dn Recommendations:\n",
    "1. For creators aiming for strtonger communities, content related to high-engagement keywords should be prioritized. \n",
    "2. If the goal is discussion and interaction, focusing on videos that start opinions, debates would be beneficial.\n",
    "3. For categories with low comment counts need to understand is to due to content nature, do the audience prefers passive consumption.\n",
    "\n",
    "Further Analysis\n",
    "1. Bring video count for each keywords to see if there are very few number of the video in the bottom keywords.\n",
    "2. Performance the time series analysis for comment counts for these keywords over time.  "
   ]
  },
  {
   "cell_type": "markdown",
   "id": "5b662e1a",
   "metadata": {},
   "source": [
    "#### Ques 4: Engagament Score and find top 10 videos"
   ]
  },
  {
   "cell_type": "code",
   "execution_count": 91,
   "id": "7c0b778a",
   "metadata": {},
   "outputs": [],
   "source": [
    "video_stats['Engagement_Score'] = (video_stats['Likes'] + video_stats['Comments'])/video_stats['Views']"
   ]
  },
  {
   "cell_type": "code",
   "execution_count": 92,
   "id": "ca363989",
   "metadata": {},
   "outputs": [
    {
     "data": {
      "application/vnd.microsoft.datawrangler.viewer.v0+json": {
       "columns": [
        {
         "name": "index",
         "rawType": "int64",
         "type": "integer"
        },
        {
         "name": "Title",
         "rawType": "object",
         "type": "string"
        },
        {
         "name": "Video ID",
         "rawType": "object",
         "type": "string"
        },
        {
         "name": "Published At",
         "rawType": "datetime64[ns]",
         "type": "datetime"
        },
        {
         "name": "Keyword",
         "rawType": "object",
         "type": "string"
        },
        {
         "name": "Likes",
         "rawType": "int64",
         "type": "integer"
        },
        {
         "name": "Comments",
         "rawType": "int64",
         "type": "integer"
        },
        {
         "name": "Views",
         "rawType": "int64",
         "type": "integer"
        },
        {
         "name": "year",
         "rawType": "int32",
         "type": "integer"
        },
        {
         "name": "month",
         "rawType": "int32",
         "type": "integer"
        },
        {
         "name": "Engagement_Score",
         "rawType": "float64",
         "type": "float"
        }
       ],
       "ref": "7a2f5d6c-1e6c-400d-a0b0-6dfa32a6b5ed",
       "rows": [
        [
         "1174",
         "Education should be a right for all, not a privilege for the few.",
         "I0dKGM_B3ys",
         "2022-08-24 00:00:00",
         "education",
         "1445",
         "296",
         "6611",
         "2022",
         "8",
         "0.2633489638481319"
        ],
        [
         "99",
         "🔥Artistic Music Mix 2022: Top 50 Songs ♫ Best NCS Gaming Music ♫ Best Of EDM Remixes 2022",
         "GiHBWPRybpw",
         "2022-08-24 00:00:00",
         "gaming",
         "1243",
         "21",
         "5967",
         "2022",
         "8",
         "0.21183174124350596"
        ],
        [
         "116",
         "اصعب لعبة جوال تخليك تعصب ضحك وتحشيش",
         "RnpJZLc7WtQ",
         "2022-08-22 00:00:00",
         "gaming",
         "46642",
         "1287",
         "268946",
         "2022",
         "8",
         "0.17821049578725842"
        ],
        [
         "409",
         "🔴 URGENT Bitcoin Shocking Trend for Big Profit | Crypto News Today",
         "L1myCVUeR4Q",
         "2022-08-23 00:00:00",
         "crypto",
         "705",
         "627",
         "7516",
         "2022",
         "8",
         "0.1772219265566791"
        ],
        [
         "1062",
         "NO MORE A FAMILY FRIENDLY VLOGGER | LAKSHAY CHAUDHARY",
         "-EDUPj7Vg7o",
         "2022-08-23 00:00:00",
         "reaction",
         "196898",
         "15525",
         "1223879",
         "2022",
         "8",
         "0.17356536062797057"
        ],
        [
         "470",
         "Elefante38 IMPRESSIONA SUPER GM!",
         "2pt9bQzRCYs",
         "2022-08-24 00:00:00",
         "chess",
         "8738",
         "412",
         "53211",
         "2022",
         "8",
         "0.17195692619947003"
        ],
        [
         "696",
         "HOW THE WORLD TURNED ON THIS DAY #royalfamily #history #popculture",
         "O4ju5QDfqCM",
         "2022-08-23 00:00:00",
         "history",
         "1027",
         "111",
         "6640",
         "2022",
         "8",
         "0.1713855421686747"
        ],
        [
         "1619",
         "Xbox Gamepass Continue to Deliver Great Content and Playstation Fanboys Continue to Hate it",
         "xFcT0zIQcds",
         "2022-08-24 00:00:00",
         "xbox",
         "449",
         "282",
         "4368",
         "2022",
         "8",
         "0.16735347985347984"
        ],
        [
         "110",
         "Mylta Power Station Long drive &amp; Night Food Party Vlog | RON GAMING VLOGS",
         "9BFPMqT4twI",
         "2022-08-23 00:00:00",
         "gaming",
         "10556",
         "466",
         "66633",
         "2022",
         "8",
         "0.16541353383458646"
        ],
        [
         "379",
         "THIS WILL SHOCK EVERYONE!!!!!",
         "lDcqVQnptw8",
         "2022-08-24 00:00:00",
         "crypto",
         "827",
         "568",
         "8502",
         "2022",
         "8",
         "0.16407904022582923"
        ]
       ],
       "shape": {
        "columns": 10,
        "rows": 10
       }
      },
      "text/html": [
       "<div>\n",
       "<style scoped>\n",
       "    .dataframe tbody tr th:only-of-type {\n",
       "        vertical-align: middle;\n",
       "    }\n",
       "\n",
       "    .dataframe tbody tr th {\n",
       "        vertical-align: top;\n",
       "    }\n",
       "\n",
       "    .dataframe thead th {\n",
       "        text-align: right;\n",
       "    }\n",
       "</style>\n",
       "<table border=\"1\" class=\"dataframe\">\n",
       "  <thead>\n",
       "    <tr style=\"text-align: right;\">\n",
       "      <th></th>\n",
       "      <th>Title</th>\n",
       "      <th>Video ID</th>\n",
       "      <th>Published At</th>\n",
       "      <th>Keyword</th>\n",
       "      <th>Likes</th>\n",
       "      <th>Comments</th>\n",
       "      <th>Views</th>\n",
       "      <th>year</th>\n",
       "      <th>month</th>\n",
       "      <th>Engagement_Score</th>\n",
       "    </tr>\n",
       "  </thead>\n",
       "  <tbody>\n",
       "    <tr>\n",
       "      <th>1174</th>\n",
       "      <td>Education should be a right for all, not a pri...</td>\n",
       "      <td>I0dKGM_B3ys</td>\n",
       "      <td>2022-08-24</td>\n",
       "      <td>education</td>\n",
       "      <td>1445</td>\n",
       "      <td>296</td>\n",
       "      <td>6611</td>\n",
       "      <td>2022</td>\n",
       "      <td>8</td>\n",
       "      <td>0.263349</td>\n",
       "    </tr>\n",
       "    <tr>\n",
       "      <th>99</th>\n",
       "      <td>🔥Artistic Music Mix 2022: Top 50 Songs ♫ Best ...</td>\n",
       "      <td>GiHBWPRybpw</td>\n",
       "      <td>2022-08-24</td>\n",
       "      <td>gaming</td>\n",
       "      <td>1243</td>\n",
       "      <td>21</td>\n",
       "      <td>5967</td>\n",
       "      <td>2022</td>\n",
       "      <td>8</td>\n",
       "      <td>0.211832</td>\n",
       "    </tr>\n",
       "    <tr>\n",
       "      <th>116</th>\n",
       "      <td>اصعب لعبة جوال تخليك تعصب ضحك وتحشيش</td>\n",
       "      <td>RnpJZLc7WtQ</td>\n",
       "      <td>2022-08-22</td>\n",
       "      <td>gaming</td>\n",
       "      <td>46642</td>\n",
       "      <td>1287</td>\n",
       "      <td>268946</td>\n",
       "      <td>2022</td>\n",
       "      <td>8</td>\n",
       "      <td>0.178210</td>\n",
       "    </tr>\n",
       "    <tr>\n",
       "      <th>409</th>\n",
       "      <td>🔴 URGENT Bitcoin Shocking Trend for Big Profit...</td>\n",
       "      <td>L1myCVUeR4Q</td>\n",
       "      <td>2022-08-23</td>\n",
       "      <td>crypto</td>\n",
       "      <td>705</td>\n",
       "      <td>627</td>\n",
       "      <td>7516</td>\n",
       "      <td>2022</td>\n",
       "      <td>8</td>\n",
       "      <td>0.177222</td>\n",
       "    </tr>\n",
       "    <tr>\n",
       "      <th>1062</th>\n",
       "      <td>NO MORE A FAMILY FRIENDLY VLOGGER | LAKSHAY CH...</td>\n",
       "      <td>-EDUPj7Vg7o</td>\n",
       "      <td>2022-08-23</td>\n",
       "      <td>reaction</td>\n",
       "      <td>196898</td>\n",
       "      <td>15525</td>\n",
       "      <td>1223879</td>\n",
       "      <td>2022</td>\n",
       "      <td>8</td>\n",
       "      <td>0.173565</td>\n",
       "    </tr>\n",
       "    <tr>\n",
       "      <th>470</th>\n",
       "      <td>Elefante38 IMPRESSIONA SUPER GM!</td>\n",
       "      <td>2pt9bQzRCYs</td>\n",
       "      <td>2022-08-24</td>\n",
       "      <td>chess</td>\n",
       "      <td>8738</td>\n",
       "      <td>412</td>\n",
       "      <td>53211</td>\n",
       "      <td>2022</td>\n",
       "      <td>8</td>\n",
       "      <td>0.171957</td>\n",
       "    </tr>\n",
       "    <tr>\n",
       "      <th>696</th>\n",
       "      <td>HOW THE WORLD TURNED ON THIS DAY #royalfamily ...</td>\n",
       "      <td>O4ju5QDfqCM</td>\n",
       "      <td>2022-08-23</td>\n",
       "      <td>history</td>\n",
       "      <td>1027</td>\n",
       "      <td>111</td>\n",
       "      <td>6640</td>\n",
       "      <td>2022</td>\n",
       "      <td>8</td>\n",
       "      <td>0.171386</td>\n",
       "    </tr>\n",
       "    <tr>\n",
       "      <th>1619</th>\n",
       "      <td>Xbox Gamepass Continue to Deliver Great Conten...</td>\n",
       "      <td>xFcT0zIQcds</td>\n",
       "      <td>2022-08-24</td>\n",
       "      <td>xbox</td>\n",
       "      <td>449</td>\n",
       "      <td>282</td>\n",
       "      <td>4368</td>\n",
       "      <td>2022</td>\n",
       "      <td>8</td>\n",
       "      <td>0.167353</td>\n",
       "    </tr>\n",
       "    <tr>\n",
       "      <th>110</th>\n",
       "      <td>Mylta Power Station Long drive &amp;amp; Night Foo...</td>\n",
       "      <td>9BFPMqT4twI</td>\n",
       "      <td>2022-08-23</td>\n",
       "      <td>gaming</td>\n",
       "      <td>10556</td>\n",
       "      <td>466</td>\n",
       "      <td>66633</td>\n",
       "      <td>2022</td>\n",
       "      <td>8</td>\n",
       "      <td>0.165414</td>\n",
       "    </tr>\n",
       "    <tr>\n",
       "      <th>379</th>\n",
       "      <td>THIS WILL SHOCK EVERYONE!!!!!</td>\n",
       "      <td>lDcqVQnptw8</td>\n",
       "      <td>2022-08-24</td>\n",
       "      <td>crypto</td>\n",
       "      <td>827</td>\n",
       "      <td>568</td>\n",
       "      <td>8502</td>\n",
       "      <td>2022</td>\n",
       "      <td>8</td>\n",
       "      <td>0.164079</td>\n",
       "    </tr>\n",
       "  </tbody>\n",
       "</table>\n",
       "</div>"
      ],
      "text/plain": [
       "                                                  Title     Video ID  \\\n",
       "1174  Education should be a right for all, not a pri...  I0dKGM_B3ys   \n",
       "99    🔥Artistic Music Mix 2022: Top 50 Songs ♫ Best ...  GiHBWPRybpw   \n",
       "116                اصعب لعبة جوال تخليك تعصب ضحك وتحشيش  RnpJZLc7WtQ   \n",
       "409   🔴 URGENT Bitcoin Shocking Trend for Big Profit...  L1myCVUeR4Q   \n",
       "1062  NO MORE A FAMILY FRIENDLY VLOGGER | LAKSHAY CH...  -EDUPj7Vg7o   \n",
       "470                    Elefante38 IMPRESSIONA SUPER GM!  2pt9bQzRCYs   \n",
       "696   HOW THE WORLD TURNED ON THIS DAY #royalfamily ...  O4ju5QDfqCM   \n",
       "1619  Xbox Gamepass Continue to Deliver Great Conten...  xFcT0zIQcds   \n",
       "110   Mylta Power Station Long drive &amp; Night Foo...  9BFPMqT4twI   \n",
       "379                       THIS WILL SHOCK EVERYONE!!!!!  lDcqVQnptw8   \n",
       "\n",
       "     Published At    Keyword   Likes  Comments    Views  year  month  \\\n",
       "1174   2022-08-24  education    1445       296     6611  2022      8   \n",
       "99     2022-08-24     gaming    1243        21     5967  2022      8   \n",
       "116    2022-08-22     gaming   46642      1287   268946  2022      8   \n",
       "409    2022-08-23     crypto     705       627     7516  2022      8   \n",
       "1062   2022-08-23   reaction  196898     15525  1223879  2022      8   \n",
       "470    2022-08-24      chess    8738       412    53211  2022      8   \n",
       "696    2022-08-23    history    1027       111     6640  2022      8   \n",
       "1619   2022-08-24       xbox     449       282     4368  2022      8   \n",
       "110    2022-08-23     gaming   10556       466    66633  2022      8   \n",
       "379    2022-08-24     crypto     827       568     8502  2022      8   \n",
       "\n",
       "      Engagement_Score  \n",
       "1174          0.263349  \n",
       "99            0.211832  \n",
       "116           0.178210  \n",
       "409           0.177222  \n",
       "1062          0.173565  \n",
       "470           0.171957  \n",
       "696           0.171386  \n",
       "1619          0.167353  \n",
       "110           0.165414  \n",
       "379           0.164079  "
      ]
     },
     "execution_count": 92,
     "metadata": {},
     "output_type": "execute_result"
    }
   ],
   "source": [
    "video_stats.sort_values(by='Engagement_Score', ascending=False).head(10)"
   ]
  },
  {
   "cell_type": "markdown",
   "id": "250ac7c9",
   "metadata": {},
   "source": [
    "All the videos published in year 2022 has the most engagement scores. "
   ]
  },
  {
   "cell_type": "markdown",
   "id": "e8a2a806",
   "metadata": {},
   "source": [
    "Key Observations and Insights:\n",
    "1. The video \"Education should be a right..\" has the highest engagement score of 26.3%. the video has a relatively low views but high likes and comments indicates that the viewers are engaged audience for this topic.\n",
    "2. There are 3 videos for gaming  which has a high engagement score. This highlights the consistently high engagement within the gaming community, whether it's for music mixes, gameplay commentary, or specific game-related content.\n",
    "3. Two crypto videos makes to the top 10. Crypto was among the lowest keywords by raw comment fromt the previous analysis.  with the engagement score it shows that viewers who do watch crypto content are highly inclined to engage. This suggests that crypto content, while perhaps niche, cultivates a very active and interactive audience.\n",
    "4. Chess and History show strong engagement. Viewers of these topics are actively reposnding to the content.\n",
    "5. The video No More A Family has a high engagemtn score but the Video ID starts with -. This might indicates a missing or uncategorized keyword or perhaps a speific tag. Further analysis of videos with Vieo ID starting with -\n",
    "\n",
    "Potential Implications and Recommendations:\n",
    "1. For creators aiming to build an active community, focusing on topics like education, gaming, crypto could yield higher audience interactions.\n",
    "2. High engagement often correlates with brand loyalty and deeper connection, which can be valuable for sponsorships, merchandise, or community-driven monetization models, even for videos with fewer absolute views.\n",
    "3. The presence of - in Video ID suggests that there is some analysis required here."
   ]
  },
  {
   "cell_type": "markdown",
   "id": "cc552c79",
   "metadata": {},
   "source": [
    "#### Ques 5: Avg Sentiment Scores for comments on videos published in 2022-08 "
   ]
  },
  {
   "cell_type": "code",
   "execution_count": 93,
   "id": "da39fa67",
   "metadata": {},
   "outputs": [
    {
     "data": {
      "application/vnd.microsoft.datawrangler.viewer.v0+json": {
       "columns": [
        {
         "name": "index",
         "rawType": "int64",
         "type": "integer"
        },
        {
         "name": "Video ID",
         "rawType": "object",
         "type": "string"
        },
        {
         "name": "Comment",
         "rawType": "object",
         "type": "string"
        },
        {
         "name": "Likes",
         "rawType": "int64",
         "type": "integer"
        },
        {
         "name": "Sentiment",
         "rawType": "float64",
         "type": "float"
        },
        {
         "name": "sentiment_score",
         "rawType": "float64",
         "type": "float"
        },
        {
         "name": "Sentiment_Label",
         "rawType": "object",
         "type": "string"
        }
       ],
       "ref": "de076807-a0ce-448b-a588-d8271d8b8a4b",
       "rows": [
        [
         "0",
         "wAZZ-UWGVHI",
         "Let's not forget that Apple Pay in 2014 required a brand new iPhone in order to use it.  A significant portion of Apple's user base wasn't able to use it even if they wanted to.  As each successive iPhone incorporated the technology and older iPhones were replaced the number of people who could use the technology increased.",
         "95",
         "1.0",
         "0.6774",
         "Positive"
        ],
        [
         "1",
         "wAZZ-UWGVHI",
         "Here in NZ 50% of retailers don’t even have contactless credit card machines like pay-wave which support Apple Pay. They don’t like the high fees that come with these.",
         "19",
         "0.0",
         "0.836",
         "Positive"
        ],
        [
         "2",
         "wAZZ-UWGVHI",
         "I will forever acknowledge this channel with the help of your lessons and ideas explanations, Now It's quite helpful while you'll just sit at your comfort and monitor your account Growth.",
         "161",
         "2.0",
         "0.8718",
         "Positive"
        ],
        [
         "3",
         "wAZZ-UWGVHI",
         "Whenever I go to a place that doesn’t take Apple Pay (doesn’t happen too often), it’s such a drag. Between ‘contactless Covid’ habits and my getting the Apple Card, I’ve gotten so used to Apple Pay that I get seriously annoyed when a store doesn’t take it. It feels like a shock, it’s crazy how quickly it took over my shopping routine! I’ve officially been brainwashed by Apple because now it feels so inconvenient to even carry a physical card in my pocket.",
         "8",
         "0.0",
         "-0.8981",
         "Negative"
        ],
        [
         "4",
         "wAZZ-UWGVHI",
         "Apple Pay is so convenient, secure, and easy to use. I used it while at the Korean and Japanese airports, no need for physical credit cards.",
         "34",
         "2.0",
         "0.6786",
         "Positive"
        ]
       ],
       "shape": {
        "columns": 6,
        "rows": 5
       }
      },
      "text/html": [
       "<div>\n",
       "<style scoped>\n",
       "    .dataframe tbody tr th:only-of-type {\n",
       "        vertical-align: middle;\n",
       "    }\n",
       "\n",
       "    .dataframe tbody tr th {\n",
       "        vertical-align: top;\n",
       "    }\n",
       "\n",
       "    .dataframe thead th {\n",
       "        text-align: right;\n",
       "    }\n",
       "</style>\n",
       "<table border=\"1\" class=\"dataframe\">\n",
       "  <thead>\n",
       "    <tr style=\"text-align: right;\">\n",
       "      <th></th>\n",
       "      <th>Video ID</th>\n",
       "      <th>Comment</th>\n",
       "      <th>Likes</th>\n",
       "      <th>Sentiment</th>\n",
       "      <th>sentiment_score</th>\n",
       "      <th>Sentiment_Label</th>\n",
       "    </tr>\n",
       "  </thead>\n",
       "  <tbody>\n",
       "    <tr>\n",
       "      <th>0</th>\n",
       "      <td>wAZZ-UWGVHI</td>\n",
       "      <td>Let's not forget that Apple Pay in 2014 requir...</td>\n",
       "      <td>95</td>\n",
       "      <td>1.0</td>\n",
       "      <td>0.6774</td>\n",
       "      <td>Positive</td>\n",
       "    </tr>\n",
       "    <tr>\n",
       "      <th>1</th>\n",
       "      <td>wAZZ-UWGVHI</td>\n",
       "      <td>Here in NZ 50% of retailers don’t even have co...</td>\n",
       "      <td>19</td>\n",
       "      <td>0.0</td>\n",
       "      <td>0.8360</td>\n",
       "      <td>Positive</td>\n",
       "    </tr>\n",
       "    <tr>\n",
       "      <th>2</th>\n",
       "      <td>wAZZ-UWGVHI</td>\n",
       "      <td>I will forever acknowledge this channel with t...</td>\n",
       "      <td>161</td>\n",
       "      <td>2.0</td>\n",
       "      <td>0.8718</td>\n",
       "      <td>Positive</td>\n",
       "    </tr>\n",
       "    <tr>\n",
       "      <th>3</th>\n",
       "      <td>wAZZ-UWGVHI</td>\n",
       "      <td>Whenever I go to a place that doesn’t take App...</td>\n",
       "      <td>8</td>\n",
       "      <td>0.0</td>\n",
       "      <td>-0.8981</td>\n",
       "      <td>Negative</td>\n",
       "    </tr>\n",
       "    <tr>\n",
       "      <th>4</th>\n",
       "      <td>wAZZ-UWGVHI</td>\n",
       "      <td>Apple Pay is so convenient, secure, and easy t...</td>\n",
       "      <td>34</td>\n",
       "      <td>2.0</td>\n",
       "      <td>0.6786</td>\n",
       "      <td>Positive</td>\n",
       "    </tr>\n",
       "  </tbody>\n",
       "</table>\n",
       "</div>"
      ],
      "text/plain": [
       "      Video ID                                            Comment  Likes  \\\n",
       "0  wAZZ-UWGVHI  Let's not forget that Apple Pay in 2014 requir...     95   \n",
       "1  wAZZ-UWGVHI  Here in NZ 50% of retailers don’t even have co...     19   \n",
       "2  wAZZ-UWGVHI  I will forever acknowledge this channel with t...    161   \n",
       "3  wAZZ-UWGVHI  Whenever I go to a place that doesn’t take App...      8   \n",
       "4  wAZZ-UWGVHI  Apple Pay is so convenient, secure, and easy t...     34   \n",
       "\n",
       "   Sentiment  sentiment_score Sentiment_Label  \n",
       "0        1.0           0.6774        Positive  \n",
       "1        0.0           0.8360        Positive  \n",
       "2        2.0           0.8718        Positive  \n",
       "3        0.0          -0.8981        Negative  \n",
       "4        2.0           0.6786        Positive  "
      ]
     },
     "execution_count": 93,
     "metadata": {},
     "output_type": "execute_result"
    }
   ],
   "source": [
    "comments.head()"
   ]
  },
  {
   "cell_type": "code",
   "execution_count": 94,
   "id": "ad96dc0c",
   "metadata": {},
   "outputs": [],
   "source": [
    "video_stats_filtered = video_stats[(video_stats['year']==2022) &(video_stats['month']==8)]"
   ]
  },
  {
   "cell_type": "code",
   "execution_count": 95,
   "id": "2152a114",
   "metadata": {},
   "outputs": [],
   "source": [
    "comments_filtered20228 = comments[comments['Video ID'].isin(video_stats_filtered['Video ID'])] "
   ]
  },
  {
   "cell_type": "code",
   "execution_count": 96,
   "id": "5f0e9b4e",
   "metadata": {},
   "outputs": [
    {
     "data": {
      "application/vnd.microsoft.datawrangler.viewer.v0+json": {
       "columns": [
        {
         "name": "index",
         "rawType": "int64",
         "type": "integer"
        },
        {
         "name": "Video ID",
         "rawType": "object",
         "type": "string"
        },
        {
         "name": "Comment",
         "rawType": "object",
         "type": "string"
        },
        {
         "name": "Likes",
         "rawType": "int64",
         "type": "integer"
        },
        {
         "name": "Sentiment",
         "rawType": "float64",
         "type": "float"
        },
        {
         "name": "sentiment_score",
         "rawType": "float64",
         "type": "float"
        },
        {
         "name": "Sentiment_Label",
         "rawType": "object",
         "type": "string"
        }
       ],
       "ref": "ad3b7105-51a3-4fca-9f8a-df932a6e6ee5",
       "rows": [
        [
         "0",
         "wAZZ-UWGVHI",
         "Let's not forget that Apple Pay in 2014 required a brand new iPhone in order to use it.  A significant portion of Apple's user base wasn't able to use it even if they wanted to.  As each successive iPhone incorporated the technology and older iPhones were replaced the number of people who could use the technology increased.",
         "95",
         "1.0",
         "0.6774",
         "Positive"
        ],
        [
         "1",
         "wAZZ-UWGVHI",
         "Here in NZ 50% of retailers don’t even have contactless credit card machines like pay-wave which support Apple Pay. They don’t like the high fees that come with these.",
         "19",
         "0.0",
         "0.836",
         "Positive"
        ],
        [
         "2",
         "wAZZ-UWGVHI",
         "I will forever acknowledge this channel with the help of your lessons and ideas explanations, Now It's quite helpful while you'll just sit at your comfort and monitor your account Growth.",
         "161",
         "2.0",
         "0.8718",
         "Positive"
        ],
        [
         "3",
         "wAZZ-UWGVHI",
         "Whenever I go to a place that doesn’t take Apple Pay (doesn’t happen too often), it’s such a drag. Between ‘contactless Covid’ habits and my getting the Apple Card, I’ve gotten so used to Apple Pay that I get seriously annoyed when a store doesn’t take it. It feels like a shock, it’s crazy how quickly it took over my shopping routine! I’ve officially been brainwashed by Apple because now it feels so inconvenient to even carry a physical card in my pocket.",
         "8",
         "0.0",
         "-0.8981",
         "Negative"
        ],
        [
         "4",
         "wAZZ-UWGVHI",
         "Apple Pay is so convenient, secure, and easy to use. I used it while at the Korean and Japanese airports, no need for physical credit cards.",
         "34",
         "2.0",
         "0.6786",
         "Positive"
        ]
       ],
       "shape": {
        "columns": 6,
        "rows": 5
       }
      },
      "text/html": [
       "<div>\n",
       "<style scoped>\n",
       "    .dataframe tbody tr th:only-of-type {\n",
       "        vertical-align: middle;\n",
       "    }\n",
       "\n",
       "    .dataframe tbody tr th {\n",
       "        vertical-align: top;\n",
       "    }\n",
       "\n",
       "    .dataframe thead th {\n",
       "        text-align: right;\n",
       "    }\n",
       "</style>\n",
       "<table border=\"1\" class=\"dataframe\">\n",
       "  <thead>\n",
       "    <tr style=\"text-align: right;\">\n",
       "      <th></th>\n",
       "      <th>Video ID</th>\n",
       "      <th>Comment</th>\n",
       "      <th>Likes</th>\n",
       "      <th>Sentiment</th>\n",
       "      <th>sentiment_score</th>\n",
       "      <th>Sentiment_Label</th>\n",
       "    </tr>\n",
       "  </thead>\n",
       "  <tbody>\n",
       "    <tr>\n",
       "      <th>0</th>\n",
       "      <td>wAZZ-UWGVHI</td>\n",
       "      <td>Let's not forget that Apple Pay in 2014 requir...</td>\n",
       "      <td>95</td>\n",
       "      <td>1.0</td>\n",
       "      <td>0.6774</td>\n",
       "      <td>Positive</td>\n",
       "    </tr>\n",
       "    <tr>\n",
       "      <th>1</th>\n",
       "      <td>wAZZ-UWGVHI</td>\n",
       "      <td>Here in NZ 50% of retailers don’t even have co...</td>\n",
       "      <td>19</td>\n",
       "      <td>0.0</td>\n",
       "      <td>0.8360</td>\n",
       "      <td>Positive</td>\n",
       "    </tr>\n",
       "    <tr>\n",
       "      <th>2</th>\n",
       "      <td>wAZZ-UWGVHI</td>\n",
       "      <td>I will forever acknowledge this channel with t...</td>\n",
       "      <td>161</td>\n",
       "      <td>2.0</td>\n",
       "      <td>0.8718</td>\n",
       "      <td>Positive</td>\n",
       "    </tr>\n",
       "    <tr>\n",
       "      <th>3</th>\n",
       "      <td>wAZZ-UWGVHI</td>\n",
       "      <td>Whenever I go to a place that doesn’t take App...</td>\n",
       "      <td>8</td>\n",
       "      <td>0.0</td>\n",
       "      <td>-0.8981</td>\n",
       "      <td>Negative</td>\n",
       "    </tr>\n",
       "    <tr>\n",
       "      <th>4</th>\n",
       "      <td>wAZZ-UWGVHI</td>\n",
       "      <td>Apple Pay is so convenient, secure, and easy t...</td>\n",
       "      <td>34</td>\n",
       "      <td>2.0</td>\n",
       "      <td>0.6786</td>\n",
       "      <td>Positive</td>\n",
       "    </tr>\n",
       "  </tbody>\n",
       "</table>\n",
       "</div>"
      ],
      "text/plain": [
       "      Video ID                                            Comment  Likes  \\\n",
       "0  wAZZ-UWGVHI  Let's not forget that Apple Pay in 2014 requir...     95   \n",
       "1  wAZZ-UWGVHI  Here in NZ 50% of retailers don’t even have co...     19   \n",
       "2  wAZZ-UWGVHI  I will forever acknowledge this channel with t...    161   \n",
       "3  wAZZ-UWGVHI  Whenever I go to a place that doesn’t take App...      8   \n",
       "4  wAZZ-UWGVHI  Apple Pay is so convenient, secure, and easy t...     34   \n",
       "\n",
       "   Sentiment  sentiment_score Sentiment_Label  \n",
       "0        1.0           0.6774        Positive  \n",
       "1        0.0           0.8360        Positive  \n",
       "2        2.0           0.8718        Positive  \n",
       "3        0.0          -0.8981        Negative  \n",
       "4        2.0           0.6786        Positive  "
      ]
     },
     "execution_count": 96,
     "metadata": {},
     "output_type": "execute_result"
    }
   ],
   "source": [
    "comments_filtered20228.head()"
   ]
  },
  {
   "cell_type": "code",
   "execution_count": 97,
   "id": "4f0d8ddb",
   "metadata": {},
   "outputs": [
    {
     "data": {
      "text/plain": [
       "7383"
      ]
     },
     "execution_count": 97,
     "metadata": {},
     "output_type": "execute_result"
    }
   ],
   "source": [
    "len(comments_filtered20228)"
   ]
  },
  {
   "cell_type": "code",
   "execution_count": 98,
   "id": "6472aa09",
   "metadata": {},
   "outputs": [],
   "source": [
    "video_sentiment = comments_filtered20228.groupby('Video ID')['sentiment_score'].mean().reset_index()"
   ]
  },
  {
   "cell_type": "code",
   "execution_count": 99,
   "id": "82dcb0a0",
   "metadata": {},
   "outputs": [],
   "source": [
    "video_sentiment.columns = ['Video ID', 'Avg sentiment Score']"
   ]
  },
  {
   "cell_type": "code",
   "execution_count": 100,
   "id": "0ab37ee4",
   "metadata": {},
   "outputs": [
    {
     "data": {
      "application/vnd.microsoft.datawrangler.viewer.v0+json": {
       "columns": [
        {
         "name": "index",
         "rawType": "int64",
         "type": "integer"
        },
        {
         "name": "Video ID",
         "rawType": "object",
         "type": "string"
        },
        {
         "name": "Avg sentiment Score",
         "rawType": "float64",
         "type": "float"
        }
       ],
       "ref": "946087e8-c614-4439-be4c-3d259af6d1e6",
       "rows": [
        [
         "0",
         "--hxd1CrOqg",
         "-0.53715"
        ],
        [
         "1",
         "--ixiTypG8g",
         "-0.08203"
        ],
        [
         "2",
         "-8TnsjDRXUE",
         "0.56902"
        ],
        [
         "3",
         "-Cr69sGnrk8",
         "0.33284"
        ],
        [
         "4",
         "-D4S6TpnO44",
         "0.6932499999999999"
        ]
       ],
       "shape": {
        "columns": 2,
        "rows": 5
       }
      },
      "text/html": [
       "<div>\n",
       "<style scoped>\n",
       "    .dataframe tbody tr th:only-of-type {\n",
       "        vertical-align: middle;\n",
       "    }\n",
       "\n",
       "    .dataframe tbody tr th {\n",
       "        vertical-align: top;\n",
       "    }\n",
       "\n",
       "    .dataframe thead th {\n",
       "        text-align: right;\n",
       "    }\n",
       "</style>\n",
       "<table border=\"1\" class=\"dataframe\">\n",
       "  <thead>\n",
       "    <tr style=\"text-align: right;\">\n",
       "      <th></th>\n",
       "      <th>Video ID</th>\n",
       "      <th>Avg sentiment Score</th>\n",
       "    </tr>\n",
       "  </thead>\n",
       "  <tbody>\n",
       "    <tr>\n",
       "      <th>0</th>\n",
       "      <td>--hxd1CrOqg</td>\n",
       "      <td>-0.53715</td>\n",
       "    </tr>\n",
       "    <tr>\n",
       "      <th>1</th>\n",
       "      <td>--ixiTypG8g</td>\n",
       "      <td>-0.08203</td>\n",
       "    </tr>\n",
       "    <tr>\n",
       "      <th>2</th>\n",
       "      <td>-8TnsjDRXUE</td>\n",
       "      <td>0.56902</td>\n",
       "    </tr>\n",
       "    <tr>\n",
       "      <th>3</th>\n",
       "      <td>-Cr69sGnrk8</td>\n",
       "      <td>0.33284</td>\n",
       "    </tr>\n",
       "    <tr>\n",
       "      <th>4</th>\n",
       "      <td>-D4S6TpnO44</td>\n",
       "      <td>0.69325</td>\n",
       "    </tr>\n",
       "  </tbody>\n",
       "</table>\n",
       "</div>"
      ],
      "text/plain": [
       "      Video ID  Avg sentiment Score\n",
       "0  --hxd1CrOqg             -0.53715\n",
       "1  --ixiTypG8g             -0.08203\n",
       "2  -8TnsjDRXUE              0.56902\n",
       "3  -Cr69sGnrk8              0.33284\n",
       "4  -D4S6TpnO44              0.69325"
      ]
     },
     "execution_count": 100,
     "metadata": {},
     "output_type": "execute_result"
    }
   ],
   "source": [
    "video_sentiment.head()"
   ]
  },
  {
   "cell_type": "code",
   "execution_count": 101,
   "id": "90a51083",
   "metadata": {},
   "outputs": [],
   "source": [
    "video_sentiment['Sentiment_Label for Avg'] = video_sentiment['Avg sentiment Score'].apply(get_label)"
   ]
  },
  {
   "cell_type": "code",
   "execution_count": 102,
   "id": "b3eb463e",
   "metadata": {},
   "outputs": [
    {
     "data": {
      "application/vnd.microsoft.datawrangler.viewer.v0+json": {
       "columns": [
        {
         "name": "index",
         "rawType": "int64",
         "type": "integer"
        },
        {
         "name": "Video ID",
         "rawType": "object",
         "type": "string"
        },
        {
         "name": "Avg sentiment Score",
         "rawType": "float64",
         "type": "float"
        },
        {
         "name": "Sentiment_Label for Avg",
         "rawType": "object",
         "type": "string"
        }
       ],
       "ref": "79b955b9-eecb-460e-a5bf-4caae7f743b4",
       "rows": [
        [
         "0",
         "--hxd1CrOqg",
         "-0.53715",
         "Negative"
        ],
        [
         "1",
         "--ixiTypG8g",
         "-0.08203",
         "Negative"
        ],
        [
         "2",
         "-8TnsjDRXUE",
         "0.56902",
         "Positive"
        ],
        [
         "3",
         "-Cr69sGnrk8",
         "0.33284",
         "Positive"
        ],
        [
         "4",
         "-D4S6TpnO44",
         "0.6932499999999999",
         "Positive"
        ]
       ],
       "shape": {
        "columns": 3,
        "rows": 5
       }
      },
      "text/html": [
       "<div>\n",
       "<style scoped>\n",
       "    .dataframe tbody tr th:only-of-type {\n",
       "        vertical-align: middle;\n",
       "    }\n",
       "\n",
       "    .dataframe tbody tr th {\n",
       "        vertical-align: top;\n",
       "    }\n",
       "\n",
       "    .dataframe thead th {\n",
       "        text-align: right;\n",
       "    }\n",
       "</style>\n",
       "<table border=\"1\" class=\"dataframe\">\n",
       "  <thead>\n",
       "    <tr style=\"text-align: right;\">\n",
       "      <th></th>\n",
       "      <th>Video ID</th>\n",
       "      <th>Avg sentiment Score</th>\n",
       "      <th>Sentiment_Label for Avg</th>\n",
       "    </tr>\n",
       "  </thead>\n",
       "  <tbody>\n",
       "    <tr>\n",
       "      <th>0</th>\n",
       "      <td>--hxd1CrOqg</td>\n",
       "      <td>-0.53715</td>\n",
       "      <td>Negative</td>\n",
       "    </tr>\n",
       "    <tr>\n",
       "      <th>1</th>\n",
       "      <td>--ixiTypG8g</td>\n",
       "      <td>-0.08203</td>\n",
       "      <td>Negative</td>\n",
       "    </tr>\n",
       "    <tr>\n",
       "      <th>2</th>\n",
       "      <td>-8TnsjDRXUE</td>\n",
       "      <td>0.56902</td>\n",
       "      <td>Positive</td>\n",
       "    </tr>\n",
       "    <tr>\n",
       "      <th>3</th>\n",
       "      <td>-Cr69sGnrk8</td>\n",
       "      <td>0.33284</td>\n",
       "      <td>Positive</td>\n",
       "    </tr>\n",
       "    <tr>\n",
       "      <th>4</th>\n",
       "      <td>-D4S6TpnO44</td>\n",
       "      <td>0.69325</td>\n",
       "      <td>Positive</td>\n",
       "    </tr>\n",
       "  </tbody>\n",
       "</table>\n",
       "</div>"
      ],
      "text/plain": [
       "      Video ID  Avg sentiment Score Sentiment_Label for Avg\n",
       "0  --hxd1CrOqg             -0.53715                Negative\n",
       "1  --ixiTypG8g             -0.08203                Negative\n",
       "2  -8TnsjDRXUE              0.56902                Positive\n",
       "3  -Cr69sGnrk8              0.33284                Positive\n",
       "4  -D4S6TpnO44              0.69325                Positive"
      ]
     },
     "execution_count": 102,
     "metadata": {},
     "output_type": "execute_result"
    }
   ],
   "source": [
    "video_sentiment.head()"
   ]
  },
  {
   "cell_type": "code",
   "execution_count": 103,
   "id": "07983203",
   "metadata": {},
   "outputs": [],
   "source": [
    "video_sentiment_top = video_sentiment.sort_values(['Avg sentiment Score'], ascending = False).head(5).copy()"
   ]
  },
  {
   "cell_type": "code",
   "execution_count": 104,
   "id": "48f2584d",
   "metadata": {},
   "outputs": [
    {
     "data": {
      "application/vnd.microsoft.datawrangler.viewer.v0+json": {
       "columns": [
        {
         "name": "index",
         "rawType": "int64",
         "type": "integer"
        },
        {
         "name": "Video ID",
         "rawType": "object",
         "type": "string"
        },
        {
         "name": "Avg sentiment Score",
         "rawType": "float64",
         "type": "float"
        },
        {
         "name": "Sentiment_Label for Avg",
         "rawType": "object",
         "type": "string"
        }
       ],
       "ref": "afd0e79d-cbff-4a2f-ba09-0734a56f3a5a",
       "rows": [
        [
         "364",
         "TD81VzkLUVE",
         "0.90778",
         "Positive"
        ],
        [
         "371",
         "U-WawEOgGLA",
         "0.8516666666666667",
         "Positive"
        ],
        [
         "308",
         "PyynWtxu3ac",
         "0.84792",
         "Positive"
        ],
        [
         "514",
         "eqOWtZHQV3I",
         "0.8399300000000001",
         "Positive"
        ],
        [
         "436",
         "ZIJpiMXOaUg",
         "0.8381000000000001",
         "Positive"
        ]
       ],
       "shape": {
        "columns": 3,
        "rows": 5
       }
      },
      "text/html": [
       "<div>\n",
       "<style scoped>\n",
       "    .dataframe tbody tr th:only-of-type {\n",
       "        vertical-align: middle;\n",
       "    }\n",
       "\n",
       "    .dataframe tbody tr th {\n",
       "        vertical-align: top;\n",
       "    }\n",
       "\n",
       "    .dataframe thead th {\n",
       "        text-align: right;\n",
       "    }\n",
       "</style>\n",
       "<table border=\"1\" class=\"dataframe\">\n",
       "  <thead>\n",
       "    <tr style=\"text-align: right;\">\n",
       "      <th></th>\n",
       "      <th>Video ID</th>\n",
       "      <th>Avg sentiment Score</th>\n",
       "      <th>Sentiment_Label for Avg</th>\n",
       "    </tr>\n",
       "  </thead>\n",
       "  <tbody>\n",
       "    <tr>\n",
       "      <th>364</th>\n",
       "      <td>TD81VzkLUVE</td>\n",
       "      <td>0.907780</td>\n",
       "      <td>Positive</td>\n",
       "    </tr>\n",
       "    <tr>\n",
       "      <th>371</th>\n",
       "      <td>U-WawEOgGLA</td>\n",
       "      <td>0.851667</td>\n",
       "      <td>Positive</td>\n",
       "    </tr>\n",
       "    <tr>\n",
       "      <th>308</th>\n",
       "      <td>PyynWtxu3ac</td>\n",
       "      <td>0.847920</td>\n",
       "      <td>Positive</td>\n",
       "    </tr>\n",
       "    <tr>\n",
       "      <th>514</th>\n",
       "      <td>eqOWtZHQV3I</td>\n",
       "      <td>0.839930</td>\n",
       "      <td>Positive</td>\n",
       "    </tr>\n",
       "    <tr>\n",
       "      <th>436</th>\n",
       "      <td>ZIJpiMXOaUg</td>\n",
       "      <td>0.838100</td>\n",
       "      <td>Positive</td>\n",
       "    </tr>\n",
       "  </tbody>\n",
       "</table>\n",
       "</div>"
      ],
      "text/plain": [
       "        Video ID  Avg sentiment Score Sentiment_Label for Avg\n",
       "364  TD81VzkLUVE             0.907780                Positive\n",
       "371  U-WawEOgGLA             0.851667                Positive\n",
       "308  PyynWtxu3ac             0.847920                Positive\n",
       "514  eqOWtZHQV3I             0.839930                Positive\n",
       "436  ZIJpiMXOaUg             0.838100                Positive"
      ]
     },
     "execution_count": 104,
     "metadata": {},
     "output_type": "execute_result"
    }
   ],
   "source": [
    "video_sentiment_top"
   ]
  },
  {
   "cell_type": "code",
   "execution_count": 105,
   "id": "a748a341",
   "metadata": {},
   "outputs": [],
   "source": [
    "video_sentiment_bottom = video_sentiment.sort_values(['Avg sentiment Score'], ascending = False).tail(5).copy()"
   ]
  },
  {
   "cell_type": "code",
   "execution_count": 106,
   "id": "7dfa2442",
   "metadata": {},
   "outputs": [
    {
     "data": {
      "application/vnd.microsoft.datawrangler.viewer.v0+json": {
       "columns": [
        {
         "name": "index",
         "rawType": "int64",
         "type": "integer"
        },
        {
         "name": "Video ID",
         "rawType": "object",
         "type": "string"
        },
        {
         "name": "Avg sentiment Score",
         "rawType": "float64",
         "type": "float"
        },
        {
         "name": "Sentiment_Label for Avg",
         "rawType": "object",
         "type": "string"
        }
       ],
       "ref": "c912bcb8-b021-496c-88ae-6e6a5422ff06",
       "rows": [
        [
         "0",
         "--hxd1CrOqg",
         "-0.53715",
         "Negative"
        ],
        [
         "543",
         "gVqeaFLr9Ec",
         "-0.6533",
         "Negative"
        ],
        [
         "475",
         "be1frkduYbY",
         "-0.67228",
         "Negative"
        ],
        [
         "387",
         "V6hofBnlJLY",
         "-0.7268666666666667",
         "Negative"
        ],
        [
         "136",
         "ARnERQncs0I",
         "-0.9122",
         "Negative"
        ]
       ],
       "shape": {
        "columns": 3,
        "rows": 5
       }
      },
      "text/html": [
       "<div>\n",
       "<style scoped>\n",
       "    .dataframe tbody tr th:only-of-type {\n",
       "        vertical-align: middle;\n",
       "    }\n",
       "\n",
       "    .dataframe tbody tr th {\n",
       "        vertical-align: top;\n",
       "    }\n",
       "\n",
       "    .dataframe thead th {\n",
       "        text-align: right;\n",
       "    }\n",
       "</style>\n",
       "<table border=\"1\" class=\"dataframe\">\n",
       "  <thead>\n",
       "    <tr style=\"text-align: right;\">\n",
       "      <th></th>\n",
       "      <th>Video ID</th>\n",
       "      <th>Avg sentiment Score</th>\n",
       "      <th>Sentiment_Label for Avg</th>\n",
       "    </tr>\n",
       "  </thead>\n",
       "  <tbody>\n",
       "    <tr>\n",
       "      <th>0</th>\n",
       "      <td>--hxd1CrOqg</td>\n",
       "      <td>-0.537150</td>\n",
       "      <td>Negative</td>\n",
       "    </tr>\n",
       "    <tr>\n",
       "      <th>543</th>\n",
       "      <td>gVqeaFLr9Ec</td>\n",
       "      <td>-0.653300</td>\n",
       "      <td>Negative</td>\n",
       "    </tr>\n",
       "    <tr>\n",
       "      <th>475</th>\n",
       "      <td>be1frkduYbY</td>\n",
       "      <td>-0.672280</td>\n",
       "      <td>Negative</td>\n",
       "    </tr>\n",
       "    <tr>\n",
       "      <th>387</th>\n",
       "      <td>V6hofBnlJLY</td>\n",
       "      <td>-0.726867</td>\n",
       "      <td>Negative</td>\n",
       "    </tr>\n",
       "    <tr>\n",
       "      <th>136</th>\n",
       "      <td>ARnERQncs0I</td>\n",
       "      <td>-0.912200</td>\n",
       "      <td>Negative</td>\n",
       "    </tr>\n",
       "  </tbody>\n",
       "</table>\n",
       "</div>"
      ],
      "text/plain": [
       "        Video ID  Avg sentiment Score Sentiment_Label for Avg\n",
       "0    --hxd1CrOqg            -0.537150                Negative\n",
       "543  gVqeaFLr9Ec            -0.653300                Negative\n",
       "475  be1frkduYbY            -0.672280                Negative\n",
       "387  V6hofBnlJLY            -0.726867                Negative\n",
       "136  ARnERQncs0I            -0.912200                Negative"
      ]
     },
     "execution_count": 106,
     "metadata": {},
     "output_type": "execute_result"
    }
   ],
   "source": [
    "video_sentiment_bottom"
   ]
  },
  {
   "cell_type": "code",
   "execution_count": 107,
   "id": "ca46efbe",
   "metadata": {},
   "outputs": [],
   "source": [
    "video_sentiment_merged = pd.concat([video_sentiment_top, video_sentiment_bottom], axis=0)"
   ]
  },
  {
   "cell_type": "code",
   "execution_count": 108,
   "id": "2b5ab521",
   "metadata": {},
   "outputs": [
    {
     "data": {
      "application/vnd.microsoft.datawrangler.viewer.v0+json": {
       "columns": [
        {
         "name": "index",
         "rawType": "int64",
         "type": "integer"
        },
        {
         "name": "Video ID",
         "rawType": "object",
         "type": "string"
        },
        {
         "name": "Avg sentiment Score",
         "rawType": "float64",
         "type": "float"
        },
        {
         "name": "Sentiment_Label for Avg",
         "rawType": "object",
         "type": "string"
        }
       ],
       "ref": "0cbc05a0-ebec-4c62-93a4-9b162b9b1310",
       "rows": [
        [
         "364",
         "TD81VzkLUVE",
         "0.90778",
         "Positive"
        ],
        [
         "371",
         "U-WawEOgGLA",
         "0.8516666666666667",
         "Positive"
        ],
        [
         "308",
         "PyynWtxu3ac",
         "0.84792",
         "Positive"
        ],
        [
         "514",
         "eqOWtZHQV3I",
         "0.8399300000000001",
         "Positive"
        ],
        [
         "436",
         "ZIJpiMXOaUg",
         "0.8381000000000001",
         "Positive"
        ],
        [
         "0",
         "--hxd1CrOqg",
         "-0.53715",
         "Negative"
        ],
        [
         "543",
         "gVqeaFLr9Ec",
         "-0.6533",
         "Negative"
        ],
        [
         "475",
         "be1frkduYbY",
         "-0.67228",
         "Negative"
        ],
        [
         "387",
         "V6hofBnlJLY",
         "-0.7268666666666667",
         "Negative"
        ],
        [
         "136",
         "ARnERQncs0I",
         "-0.9122",
         "Negative"
        ]
       ],
       "shape": {
        "columns": 3,
        "rows": 10
       }
      },
      "text/html": [
       "<div>\n",
       "<style scoped>\n",
       "    .dataframe tbody tr th:only-of-type {\n",
       "        vertical-align: middle;\n",
       "    }\n",
       "\n",
       "    .dataframe tbody tr th {\n",
       "        vertical-align: top;\n",
       "    }\n",
       "\n",
       "    .dataframe thead th {\n",
       "        text-align: right;\n",
       "    }\n",
       "</style>\n",
       "<table border=\"1\" class=\"dataframe\">\n",
       "  <thead>\n",
       "    <tr style=\"text-align: right;\">\n",
       "      <th></th>\n",
       "      <th>Video ID</th>\n",
       "      <th>Avg sentiment Score</th>\n",
       "      <th>Sentiment_Label for Avg</th>\n",
       "    </tr>\n",
       "  </thead>\n",
       "  <tbody>\n",
       "    <tr>\n",
       "      <th>364</th>\n",
       "      <td>TD81VzkLUVE</td>\n",
       "      <td>0.907780</td>\n",
       "      <td>Positive</td>\n",
       "    </tr>\n",
       "    <tr>\n",
       "      <th>371</th>\n",
       "      <td>U-WawEOgGLA</td>\n",
       "      <td>0.851667</td>\n",
       "      <td>Positive</td>\n",
       "    </tr>\n",
       "    <tr>\n",
       "      <th>308</th>\n",
       "      <td>PyynWtxu3ac</td>\n",
       "      <td>0.847920</td>\n",
       "      <td>Positive</td>\n",
       "    </tr>\n",
       "    <tr>\n",
       "      <th>514</th>\n",
       "      <td>eqOWtZHQV3I</td>\n",
       "      <td>0.839930</td>\n",
       "      <td>Positive</td>\n",
       "    </tr>\n",
       "    <tr>\n",
       "      <th>436</th>\n",
       "      <td>ZIJpiMXOaUg</td>\n",
       "      <td>0.838100</td>\n",
       "      <td>Positive</td>\n",
       "    </tr>\n",
       "    <tr>\n",
       "      <th>0</th>\n",
       "      <td>--hxd1CrOqg</td>\n",
       "      <td>-0.537150</td>\n",
       "      <td>Negative</td>\n",
       "    </tr>\n",
       "    <tr>\n",
       "      <th>543</th>\n",
       "      <td>gVqeaFLr9Ec</td>\n",
       "      <td>-0.653300</td>\n",
       "      <td>Negative</td>\n",
       "    </tr>\n",
       "    <tr>\n",
       "      <th>475</th>\n",
       "      <td>be1frkduYbY</td>\n",
       "      <td>-0.672280</td>\n",
       "      <td>Negative</td>\n",
       "    </tr>\n",
       "    <tr>\n",
       "      <th>387</th>\n",
       "      <td>V6hofBnlJLY</td>\n",
       "      <td>-0.726867</td>\n",
       "      <td>Negative</td>\n",
       "    </tr>\n",
       "    <tr>\n",
       "      <th>136</th>\n",
       "      <td>ARnERQncs0I</td>\n",
       "      <td>-0.912200</td>\n",
       "      <td>Negative</td>\n",
       "    </tr>\n",
       "  </tbody>\n",
       "</table>\n",
       "</div>"
      ],
      "text/plain": [
       "        Video ID  Avg sentiment Score Sentiment_Label for Avg\n",
       "364  TD81VzkLUVE             0.907780                Positive\n",
       "371  U-WawEOgGLA             0.851667                Positive\n",
       "308  PyynWtxu3ac             0.847920                Positive\n",
       "514  eqOWtZHQV3I             0.839930                Positive\n",
       "436  ZIJpiMXOaUg             0.838100                Positive\n",
       "0    --hxd1CrOqg            -0.537150                Negative\n",
       "543  gVqeaFLr9Ec            -0.653300                Negative\n",
       "475  be1frkduYbY            -0.672280                Negative\n",
       "387  V6hofBnlJLY            -0.726867                Negative\n",
       "136  ARnERQncs0I            -0.912200                Negative"
      ]
     },
     "execution_count": 108,
     "metadata": {},
     "output_type": "execute_result"
    }
   ],
   "source": [
    "video_sentiment_merged"
   ]
  },
  {
   "cell_type": "code",
   "execution_count": 109,
   "id": "2fa0aef9",
   "metadata": {},
   "outputs": [],
   "source": [
    "video_sentimen_details = pd.merge(video_sentiment_merged, \n",
    "         video_stats_filtered[['Video ID', 'Title', 'Keyword', 'Likes', 'Comments', 'Views'] ],\n",
    "         on = 'Video ID',\n",
    "         how = 'inner')"
   ]
  },
  {
   "cell_type": "code",
   "execution_count": 110,
   "id": "8210cb11",
   "metadata": {},
   "outputs": [
    {
     "data": {
      "application/vnd.microsoft.datawrangler.viewer.v0+json": {
       "columns": [
        {
         "name": "index",
         "rawType": "int64",
         "type": "integer"
        },
        {
         "name": "Video ID",
         "rawType": "object",
         "type": "string"
        },
        {
         "name": "Avg sentiment Score",
         "rawType": "float64",
         "type": "float"
        },
        {
         "name": "Sentiment_Label for Avg",
         "rawType": "object",
         "type": "string"
        },
        {
         "name": "Title",
         "rawType": "object",
         "type": "string"
        },
        {
         "name": "Keyword",
         "rawType": "object",
         "type": "string"
        },
        {
         "name": "Likes",
         "rawType": "int64",
         "type": "integer"
        },
        {
         "name": "Comments",
         "rawType": "int64",
         "type": "integer"
        },
        {
         "name": "Views",
         "rawType": "int64",
         "type": "integer"
        }
       ],
       "ref": "dd386e01-0148-446f-96da-219e85b002de",
       "rows": [
        [
         "0",
         "TD81VzkLUVE",
         "0.90778",
         "Positive",
         "DESCRIBE YOURSELF! (The S.M.A.R.T way to DESCRIBE YOURSELF in a JOB INTERVIEW!)",
         "interview",
         "1011",
         "116",
         "34941"
        ],
        [
         "1",
         "U-WawEOgGLA",
         "0.8516666666666667",
         "Positive",
         "Attention: Bitcoin is About to Destroy New Crypto Investors (Wyckoff Analysis)",
         "crypto",
         "1720",
         "272",
         "20600"
        ],
        [
         "2",
         "PyynWtxu3ac",
         "0.84792",
         "Positive",
         "ASMR On My Lap: Face Tracing to Fall Asleep SO Quick",
         "asmr",
         "6160",
         "311",
         "146821"
        ],
        [
         "3",
         "eqOWtZHQV3I",
         "0.8399300000000001",
         "Positive",
         "iPhone 14 Apple Event Announced! Here&#39;s What We&#39;ll Get..",
         "apple",
         "3586",
         "295",
         "108055"
        ],
        [
         "4",
         "ZIJpiMXOaUg",
         "0.8381000000000001",
         "Positive",
         "BACK TO SCHOOL HAIR TUTORIAL! | Elementary, Middle, and High School!",
         "tutorial",
         "10595",
         "826",
         "345071"
        ],
        [
         "5",
         "--hxd1CrOqg",
         "-0.53715",
         "Negative",
         "Deadly car bomb detonates outside Moscow",
         "news",
         "6379",
         "4853",
         "808787"
        ],
        [
         "6",
         "gVqeaFLr9Ec",
         "-0.6533",
         "Negative",
         "Endgame closure | CM Crevatin Leo - IM Yuri Lapshun | Blitz chess",
         "chess",
         "52",
         "11",
         "2471"
        ],
        [
         "7",
         "be1frkduYbY",
         "-0.67228",
         "Negative",
         "Was bringt das Apple-September-2022-Event - 4K | Apfeltalk",
         "apple",
         "184",
         "47",
         "1954"
        ],
        [
         "8",
         "V6hofBnlJLY",
         "-0.7268666666666667",
         "Negative",
         "Friday Finance | Season 03 | Trailer | Web Series | Hindustan Times",
         "finance",
         "16",
         "3",
         "83121"
        ],
        [
         "9",
         "ARnERQncs0I",
         "-0.9122",
         "Negative",
         "The NFL Experience with Kai Nacua and Tyler Allgeier | BYU Sports Nation Full Episode 8.23.22",
         "sports",
         "15",
         "1",
         "867"
        ]
       ],
       "shape": {
        "columns": 8,
        "rows": 10
       }
      },
      "text/html": [
       "<div>\n",
       "<style scoped>\n",
       "    .dataframe tbody tr th:only-of-type {\n",
       "        vertical-align: middle;\n",
       "    }\n",
       "\n",
       "    .dataframe tbody tr th {\n",
       "        vertical-align: top;\n",
       "    }\n",
       "\n",
       "    .dataframe thead th {\n",
       "        text-align: right;\n",
       "    }\n",
       "</style>\n",
       "<table border=\"1\" class=\"dataframe\">\n",
       "  <thead>\n",
       "    <tr style=\"text-align: right;\">\n",
       "      <th></th>\n",
       "      <th>Video ID</th>\n",
       "      <th>Avg sentiment Score</th>\n",
       "      <th>Sentiment_Label for Avg</th>\n",
       "      <th>Title</th>\n",
       "      <th>Keyword</th>\n",
       "      <th>Likes</th>\n",
       "      <th>Comments</th>\n",
       "      <th>Views</th>\n",
       "    </tr>\n",
       "  </thead>\n",
       "  <tbody>\n",
       "    <tr>\n",
       "      <th>0</th>\n",
       "      <td>TD81VzkLUVE</td>\n",
       "      <td>0.907780</td>\n",
       "      <td>Positive</td>\n",
       "      <td>DESCRIBE YOURSELF! (The S.M.A.R.T way to DESCR...</td>\n",
       "      <td>interview</td>\n",
       "      <td>1011</td>\n",
       "      <td>116</td>\n",
       "      <td>34941</td>\n",
       "    </tr>\n",
       "    <tr>\n",
       "      <th>1</th>\n",
       "      <td>U-WawEOgGLA</td>\n",
       "      <td>0.851667</td>\n",
       "      <td>Positive</td>\n",
       "      <td>Attention: Bitcoin is About to Destroy New Cry...</td>\n",
       "      <td>crypto</td>\n",
       "      <td>1720</td>\n",
       "      <td>272</td>\n",
       "      <td>20600</td>\n",
       "    </tr>\n",
       "    <tr>\n",
       "      <th>2</th>\n",
       "      <td>PyynWtxu3ac</td>\n",
       "      <td>0.847920</td>\n",
       "      <td>Positive</td>\n",
       "      <td>ASMR On My Lap: Face Tracing to Fall Asleep SO...</td>\n",
       "      <td>asmr</td>\n",
       "      <td>6160</td>\n",
       "      <td>311</td>\n",
       "      <td>146821</td>\n",
       "    </tr>\n",
       "    <tr>\n",
       "      <th>3</th>\n",
       "      <td>eqOWtZHQV3I</td>\n",
       "      <td>0.839930</td>\n",
       "      <td>Positive</td>\n",
       "      <td>iPhone 14 Apple Event Announced! Here&amp;#39;s Wh...</td>\n",
       "      <td>apple</td>\n",
       "      <td>3586</td>\n",
       "      <td>295</td>\n",
       "      <td>108055</td>\n",
       "    </tr>\n",
       "    <tr>\n",
       "      <th>4</th>\n",
       "      <td>ZIJpiMXOaUg</td>\n",
       "      <td>0.838100</td>\n",
       "      <td>Positive</td>\n",
       "      <td>BACK TO SCHOOL HAIR TUTORIAL! | Elementary, Mi...</td>\n",
       "      <td>tutorial</td>\n",
       "      <td>10595</td>\n",
       "      <td>826</td>\n",
       "      <td>345071</td>\n",
       "    </tr>\n",
       "    <tr>\n",
       "      <th>5</th>\n",
       "      <td>--hxd1CrOqg</td>\n",
       "      <td>-0.537150</td>\n",
       "      <td>Negative</td>\n",
       "      <td>Deadly car bomb detonates outside Moscow</td>\n",
       "      <td>news</td>\n",
       "      <td>6379</td>\n",
       "      <td>4853</td>\n",
       "      <td>808787</td>\n",
       "    </tr>\n",
       "    <tr>\n",
       "      <th>6</th>\n",
       "      <td>gVqeaFLr9Ec</td>\n",
       "      <td>-0.653300</td>\n",
       "      <td>Negative</td>\n",
       "      <td>Endgame closure | CM Crevatin Leo - IM Yuri La...</td>\n",
       "      <td>chess</td>\n",
       "      <td>52</td>\n",
       "      <td>11</td>\n",
       "      <td>2471</td>\n",
       "    </tr>\n",
       "    <tr>\n",
       "      <th>7</th>\n",
       "      <td>be1frkduYbY</td>\n",
       "      <td>-0.672280</td>\n",
       "      <td>Negative</td>\n",
       "      <td>Was bringt das Apple-September-2022-Event - 4K...</td>\n",
       "      <td>apple</td>\n",
       "      <td>184</td>\n",
       "      <td>47</td>\n",
       "      <td>1954</td>\n",
       "    </tr>\n",
       "    <tr>\n",
       "      <th>8</th>\n",
       "      <td>V6hofBnlJLY</td>\n",
       "      <td>-0.726867</td>\n",
       "      <td>Negative</td>\n",
       "      <td>Friday Finance | Season 03 | Trailer | Web Ser...</td>\n",
       "      <td>finance</td>\n",
       "      <td>16</td>\n",
       "      <td>3</td>\n",
       "      <td>83121</td>\n",
       "    </tr>\n",
       "    <tr>\n",
       "      <th>9</th>\n",
       "      <td>ARnERQncs0I</td>\n",
       "      <td>-0.912200</td>\n",
       "      <td>Negative</td>\n",
       "      <td>The NFL Experience with Kai Nacua and Tyler Al...</td>\n",
       "      <td>sports</td>\n",
       "      <td>15</td>\n",
       "      <td>1</td>\n",
       "      <td>867</td>\n",
       "    </tr>\n",
       "  </tbody>\n",
       "</table>\n",
       "</div>"
      ],
      "text/plain": [
       "      Video ID  Avg sentiment Score Sentiment_Label for Avg  \\\n",
       "0  TD81VzkLUVE             0.907780                Positive   \n",
       "1  U-WawEOgGLA             0.851667                Positive   \n",
       "2  PyynWtxu3ac             0.847920                Positive   \n",
       "3  eqOWtZHQV3I             0.839930                Positive   \n",
       "4  ZIJpiMXOaUg             0.838100                Positive   \n",
       "5  --hxd1CrOqg            -0.537150                Negative   \n",
       "6  gVqeaFLr9Ec            -0.653300                Negative   \n",
       "7  be1frkduYbY            -0.672280                Negative   \n",
       "8  V6hofBnlJLY            -0.726867                Negative   \n",
       "9  ARnERQncs0I            -0.912200                Negative   \n",
       "\n",
       "                                               Title    Keyword  Likes  \\\n",
       "0  DESCRIBE YOURSELF! (The S.M.A.R.T way to DESCR...  interview   1011   \n",
       "1  Attention: Bitcoin is About to Destroy New Cry...     crypto   1720   \n",
       "2  ASMR On My Lap: Face Tracing to Fall Asleep SO...       asmr   6160   \n",
       "3  iPhone 14 Apple Event Announced! Here&#39;s Wh...      apple   3586   \n",
       "4  BACK TO SCHOOL HAIR TUTORIAL! | Elementary, Mi...   tutorial  10595   \n",
       "5           Deadly car bomb detonates outside Moscow       news   6379   \n",
       "6  Endgame closure | CM Crevatin Leo - IM Yuri La...      chess     52   \n",
       "7  Was bringt das Apple-September-2022-Event - 4K...      apple    184   \n",
       "8  Friday Finance | Season 03 | Trailer | Web Ser...    finance     16   \n",
       "9  The NFL Experience with Kai Nacua and Tyler Al...     sports     15   \n",
       "\n",
       "   Comments   Views  \n",
       "0       116   34941  \n",
       "1       272   20600  \n",
       "2       311  146821  \n",
       "3       295  108055  \n",
       "4       826  345071  \n",
       "5      4853  808787  \n",
       "6        11    2471  \n",
       "7        47    1954  \n",
       "8         3   83121  \n",
       "9         1     867  "
      ]
     },
     "execution_count": 110,
     "metadata": {},
     "output_type": "execute_result"
    }
   ],
   "source": [
    "video_sentimen_details"
   ]
  },
  {
   "cell_type": "markdown",
   "id": "652303bd",
   "metadata": {},
   "source": [
    "This table presents the average sentiment scores for the top 10 comments on a selection of videos published in August 2022. The sentiment score, ranging from -1 (most negative) to 1 (most positive), indicates the overall emotional tone of the comments. \n",
    "Sentiment Analysis adds a qualitative layer to engagement metrics. Avideo might have high views and comments but if those comments are negative then it a different story than highly positive engagement.\n",
    "\n",
    "Key Observations and Insights:\n",
    "1. The top 5 videos in the list all exhibits high positive avg sentiment scores. this suggests that these videos resonated well with the audiences, leading to positive feedback.\n",
    "2. Interview and crypto stands out. They have the highest sentiment score, indicating positive reception. \n",
    "3. Other positively received videos include \"ASMR\"  \"apple\"  and \"tutorial\". This indicates that a variety of content types, from personal development to product announcements and educational content, can elicit strong positive sentiment.\n",
    "4. The bottom 5 videos show significantly negative average sentiment scores, ranging from -0.537150 to -0.912200. This is a strong indicator of audience dissatisfaction, controversy, or negative reactions to the content.\n",
    "5. News keyword generating negative sentiment is understanbole given the nature of new event about bombing.\n",
    "\n",
    "\n",
    "Potential Implications:\n",
    "1. For the reputation of brand negative sentiment can take away trust and viewership over time.\n",
    "2. A video with fewer positive comments is more valuable than a video with many negative comments. \n",
    "\n",
    "Future Analysis:\n",
    "1. A more robust analysis can be performed if all the comments are available for a video."
   ]
  },
  {
   "cell_type": "code",
   "execution_count": 111,
   "id": "a37ea2d4",
   "metadata": {},
   "outputs": [
    {
     "data": {
      "application/vnd.microsoft.datawrangler.viewer.v0+json": {
       "columns": [
        {
         "name": "index",
         "rawType": "int64",
         "type": "integer"
        },
        {
         "name": "year",
         "rawType": "int32",
         "type": "integer"
        },
        {
         "name": "Video ID",
         "rawType": "int64",
         "type": "integer"
        }
       ],
       "ref": "13ab10ab-63f9-4812-9217-3e6258472c0c",
       "rows": [
        [
         "0",
         "2007",
         "2"
        ],
        [
         "1",
         "2008",
         "1"
        ],
        [
         "2",
         "2009",
         "9"
        ],
        [
         "3",
         "2010",
         "6"
        ],
        [
         "4",
         "2011",
         "4"
        ],
        [
         "5",
         "2012",
         "12"
        ],
        [
         "6",
         "2013",
         "6"
        ],
        [
         "7",
         "2014",
         "10"
        ],
        [
         "8",
         "2015",
         "15"
        ],
        [
         "9",
         "2016",
         "34"
        ],
        [
         "10",
         "2017",
         "46"
        ],
        [
         "11",
         "2018",
         "57"
        ],
        [
         "12",
         "2019",
         "87"
        ],
        [
         "13",
         "2020",
         "158"
        ],
        [
         "14",
         "2021",
         "230"
        ],
        [
         "15",
         "2022",
         "1202"
        ]
       ],
       "shape": {
        "columns": 2,
        "rows": 16
       }
      },
      "text/html": [
       "<div>\n",
       "<style scoped>\n",
       "    .dataframe tbody tr th:only-of-type {\n",
       "        vertical-align: middle;\n",
       "    }\n",
       "\n",
       "    .dataframe tbody tr th {\n",
       "        vertical-align: top;\n",
       "    }\n",
       "\n",
       "    .dataframe thead th {\n",
       "        text-align: right;\n",
       "    }\n",
       "</style>\n",
       "<table border=\"1\" class=\"dataframe\">\n",
       "  <thead>\n",
       "    <tr style=\"text-align: right;\">\n",
       "      <th></th>\n",
       "      <th>year</th>\n",
       "      <th>Video ID</th>\n",
       "    </tr>\n",
       "  </thead>\n",
       "  <tbody>\n",
       "    <tr>\n",
       "      <th>0</th>\n",
       "      <td>2007</td>\n",
       "      <td>2</td>\n",
       "    </tr>\n",
       "    <tr>\n",
       "      <th>1</th>\n",
       "      <td>2008</td>\n",
       "      <td>1</td>\n",
       "    </tr>\n",
       "    <tr>\n",
       "      <th>2</th>\n",
       "      <td>2009</td>\n",
       "      <td>9</td>\n",
       "    </tr>\n",
       "    <tr>\n",
       "      <th>3</th>\n",
       "      <td>2010</td>\n",
       "      <td>6</td>\n",
       "    </tr>\n",
       "    <tr>\n",
       "      <th>4</th>\n",
       "      <td>2011</td>\n",
       "      <td>4</td>\n",
       "    </tr>\n",
       "    <tr>\n",
       "      <th>5</th>\n",
       "      <td>2012</td>\n",
       "      <td>12</td>\n",
       "    </tr>\n",
       "    <tr>\n",
       "      <th>6</th>\n",
       "      <td>2013</td>\n",
       "      <td>6</td>\n",
       "    </tr>\n",
       "    <tr>\n",
       "      <th>7</th>\n",
       "      <td>2014</td>\n",
       "      <td>10</td>\n",
       "    </tr>\n",
       "    <tr>\n",
       "      <th>8</th>\n",
       "      <td>2015</td>\n",
       "      <td>15</td>\n",
       "    </tr>\n",
       "    <tr>\n",
       "      <th>9</th>\n",
       "      <td>2016</td>\n",
       "      <td>34</td>\n",
       "    </tr>\n",
       "    <tr>\n",
       "      <th>10</th>\n",
       "      <td>2017</td>\n",
       "      <td>46</td>\n",
       "    </tr>\n",
       "    <tr>\n",
       "      <th>11</th>\n",
       "      <td>2018</td>\n",
       "      <td>57</td>\n",
       "    </tr>\n",
       "    <tr>\n",
       "      <th>12</th>\n",
       "      <td>2019</td>\n",
       "      <td>87</td>\n",
       "    </tr>\n",
       "    <tr>\n",
       "      <th>13</th>\n",
       "      <td>2020</td>\n",
       "      <td>158</td>\n",
       "    </tr>\n",
       "    <tr>\n",
       "      <th>14</th>\n",
       "      <td>2021</td>\n",
       "      <td>230</td>\n",
       "    </tr>\n",
       "    <tr>\n",
       "      <th>15</th>\n",
       "      <td>2022</td>\n",
       "      <td>1202</td>\n",
       "    </tr>\n",
       "  </tbody>\n",
       "</table>\n",
       "</div>"
      ],
      "text/plain": [
       "    year  Video ID\n",
       "0   2007         2\n",
       "1   2008         1\n",
       "2   2009         9\n",
       "3   2010         6\n",
       "4   2011         4\n",
       "5   2012        12\n",
       "6   2013         6\n",
       "7   2014        10\n",
       "8   2015        15\n",
       "9   2016        34\n",
       "10  2017        46\n",
       "11  2018        57\n",
       "12  2019        87\n",
       "13  2020       158\n",
       "14  2021       230\n",
       "15  2022      1202"
      ]
     },
     "execution_count": 111,
     "metadata": {},
     "output_type": "execute_result"
    }
   ],
   "source": [
    "video_stats_temp = video_stats[['Published At', 'Keyword', 'Video ID', 'year']].copy()\n",
    "#video_stats_temp['Year-Month'] = video_stats_temp['Published At'].dt.to_period('M').copy()\n",
    "video_stats_temp.groupby(['year'])['Video ID'].count().reset_index()"
   ]
  },
  {
   "cell_type": "markdown",
   "id": "cb045d64",
   "metadata": {},
   "source": [
    "#### Ques 6: Monthly Engagement Score for the year 2022"
   ]
  },
  {
   "cell_type": "code",
   "execution_count": 112,
   "id": "fc7b0f4a",
   "metadata": {},
   "outputs": [],
   "source": [
    "video_stats_2022 = video_stats[video_stats.year == 2022].copy()"
   ]
  },
  {
   "cell_type": "code",
   "execution_count": 113,
   "id": "c597f978",
   "metadata": {},
   "outputs": [],
   "source": [
    "video_stats_2022['Year-Month'] = video_stats_2022['Published At'].dt.to_period('M').copy()"
   ]
  },
  {
   "cell_type": "code",
   "execution_count": 114,
   "id": "6483e3b2",
   "metadata": {},
   "outputs": [
    {
     "data": {
      "application/vnd.microsoft.datawrangler.viewer.v0+json": {
       "columns": [
        {
         "name": "index",
         "rawType": "int64",
         "type": "integer"
        },
        {
         "name": "Title",
         "rawType": "object",
         "type": "string"
        },
        {
         "name": "Video ID",
         "rawType": "object",
         "type": "string"
        },
        {
         "name": "Published At",
         "rawType": "datetime64[ns]",
         "type": "datetime"
        },
        {
         "name": "Keyword",
         "rawType": "object",
         "type": "string"
        },
        {
         "name": "Likes",
         "rawType": "int64",
         "type": "integer"
        },
        {
         "name": "Comments",
         "rawType": "int64",
         "type": "integer"
        },
        {
         "name": "Views",
         "rawType": "int64",
         "type": "integer"
        },
        {
         "name": "year",
         "rawType": "int32",
         "type": "integer"
        },
        {
         "name": "month",
         "rawType": "int32",
         "type": "integer"
        },
        {
         "name": "Engagement_Score",
         "rawType": "float64",
         "type": "float"
        },
        {
         "name": "Year-Month",
         "rawType": "period[M]",
         "type": "unknown"
        }
       ],
       "ref": "b0a191ab-7226-4838-a564-22dd6ee50ad1",
       "rows": [
        [
         "0",
         "Apple Pay Is Killing the Physical Wallet After Only Eight Years | Tech News Briefing Podcast | WSJ",
         "wAZZ-UWGVHI",
         "2022-08-23 00:00:00",
         "tech",
         "3407",
         "672",
         "135612",
         "2022",
         "8",
         "0.030078459133410024",
         "2022-08"
        ],
        [
         "1",
         "The most EXPENSIVE thing I own.",
         "b3x28s61q3c",
         "2022-08-24 00:00:00",
         "tech",
         "76779",
         "4306",
         "1758063",
         "2022",
         "8",
         "0.046121782894014605",
         "2022-08"
        ],
        [
         "2",
         "My New House Gaming Setup is SICK!",
         "4mgePWWCAmA",
         "2022-08-23 00:00:00",
         "tech",
         "63825",
         "3338",
         "1564007",
         "2022",
         "8",
         "0.04294290242946483",
         "2022-08"
        ],
        [
         "3",
         "Petrol Vs Liquid Nitrogen | Freezing Experiment | പെട്രോളിനെ ഐസ് ആകാൻ പറ്റുമോ | M4 Tech |",
         "kXiYSI7H2b0",
         "2022-08-23 00:00:00",
         "tech",
         "71566",
         "1426",
         "922918",
         "2022",
         "8",
         "0.0790882830327288",
         "2022-08"
        ],
        [
         "4",
         "Best Back to School Tech 2022!",
         "ErMwWXQxHp0",
         "2022-08-08 00:00:00",
         "tech",
         "96513",
         "5155",
         "1855644",
         "2022",
         "8",
         "0.054788526247491434",
         "2022-08"
        ]
       ],
       "shape": {
        "columns": 11,
        "rows": 5
       }
      },
      "text/html": [
       "<div>\n",
       "<style scoped>\n",
       "    .dataframe tbody tr th:only-of-type {\n",
       "        vertical-align: middle;\n",
       "    }\n",
       "\n",
       "    .dataframe tbody tr th {\n",
       "        vertical-align: top;\n",
       "    }\n",
       "\n",
       "    .dataframe thead th {\n",
       "        text-align: right;\n",
       "    }\n",
       "</style>\n",
       "<table border=\"1\" class=\"dataframe\">\n",
       "  <thead>\n",
       "    <tr style=\"text-align: right;\">\n",
       "      <th></th>\n",
       "      <th>Title</th>\n",
       "      <th>Video ID</th>\n",
       "      <th>Published At</th>\n",
       "      <th>Keyword</th>\n",
       "      <th>Likes</th>\n",
       "      <th>Comments</th>\n",
       "      <th>Views</th>\n",
       "      <th>year</th>\n",
       "      <th>month</th>\n",
       "      <th>Engagement_Score</th>\n",
       "      <th>Year-Month</th>\n",
       "    </tr>\n",
       "  </thead>\n",
       "  <tbody>\n",
       "    <tr>\n",
       "      <th>0</th>\n",
       "      <td>Apple Pay Is Killing the Physical Wallet After...</td>\n",
       "      <td>wAZZ-UWGVHI</td>\n",
       "      <td>2022-08-23</td>\n",
       "      <td>tech</td>\n",
       "      <td>3407</td>\n",
       "      <td>672</td>\n",
       "      <td>135612</td>\n",
       "      <td>2022</td>\n",
       "      <td>8</td>\n",
       "      <td>0.030078</td>\n",
       "      <td>2022-08</td>\n",
       "    </tr>\n",
       "    <tr>\n",
       "      <th>1</th>\n",
       "      <td>The most EXPENSIVE thing I own.</td>\n",
       "      <td>b3x28s61q3c</td>\n",
       "      <td>2022-08-24</td>\n",
       "      <td>tech</td>\n",
       "      <td>76779</td>\n",
       "      <td>4306</td>\n",
       "      <td>1758063</td>\n",
       "      <td>2022</td>\n",
       "      <td>8</td>\n",
       "      <td>0.046122</td>\n",
       "      <td>2022-08</td>\n",
       "    </tr>\n",
       "    <tr>\n",
       "      <th>2</th>\n",
       "      <td>My New House Gaming Setup is SICK!</td>\n",
       "      <td>4mgePWWCAmA</td>\n",
       "      <td>2022-08-23</td>\n",
       "      <td>tech</td>\n",
       "      <td>63825</td>\n",
       "      <td>3338</td>\n",
       "      <td>1564007</td>\n",
       "      <td>2022</td>\n",
       "      <td>8</td>\n",
       "      <td>0.042943</td>\n",
       "      <td>2022-08</td>\n",
       "    </tr>\n",
       "    <tr>\n",
       "      <th>3</th>\n",
       "      <td>Petrol Vs Liquid Nitrogen | Freezing Experimen...</td>\n",
       "      <td>kXiYSI7H2b0</td>\n",
       "      <td>2022-08-23</td>\n",
       "      <td>tech</td>\n",
       "      <td>71566</td>\n",
       "      <td>1426</td>\n",
       "      <td>922918</td>\n",
       "      <td>2022</td>\n",
       "      <td>8</td>\n",
       "      <td>0.079088</td>\n",
       "      <td>2022-08</td>\n",
       "    </tr>\n",
       "    <tr>\n",
       "      <th>4</th>\n",
       "      <td>Best Back to School Tech 2022!</td>\n",
       "      <td>ErMwWXQxHp0</td>\n",
       "      <td>2022-08-08</td>\n",
       "      <td>tech</td>\n",
       "      <td>96513</td>\n",
       "      <td>5155</td>\n",
       "      <td>1855644</td>\n",
       "      <td>2022</td>\n",
       "      <td>8</td>\n",
       "      <td>0.054789</td>\n",
       "      <td>2022-08</td>\n",
       "    </tr>\n",
       "  </tbody>\n",
       "</table>\n",
       "</div>"
      ],
      "text/plain": [
       "                                               Title     Video ID  \\\n",
       "0  Apple Pay Is Killing the Physical Wallet After...  wAZZ-UWGVHI   \n",
       "1                    The most EXPENSIVE thing I own.  b3x28s61q3c   \n",
       "2                 My New House Gaming Setup is SICK!  4mgePWWCAmA   \n",
       "3  Petrol Vs Liquid Nitrogen | Freezing Experimen...  kXiYSI7H2b0   \n",
       "4                     Best Back to School Tech 2022!  ErMwWXQxHp0   \n",
       "\n",
       "  Published At Keyword  Likes  Comments    Views  year  month  \\\n",
       "0   2022-08-23    tech   3407       672   135612  2022      8   \n",
       "1   2022-08-24    tech  76779      4306  1758063  2022      8   \n",
       "2   2022-08-23    tech  63825      3338  1564007  2022      8   \n",
       "3   2022-08-23    tech  71566      1426   922918  2022      8   \n",
       "4   2022-08-08    tech  96513      5155  1855644  2022      8   \n",
       "\n",
       "   Engagement_Score Year-Month  \n",
       "0          0.030078    2022-08  \n",
       "1          0.046122    2022-08  \n",
       "2          0.042943    2022-08  \n",
       "3          0.079088    2022-08  \n",
       "4          0.054789    2022-08  "
      ]
     },
     "execution_count": 114,
     "metadata": {},
     "output_type": "execute_result"
    }
   ],
   "source": [
    "video_stats_2022.head()"
   ]
  },
  {
   "cell_type": "code",
   "execution_count": 115,
   "id": "c9622afb",
   "metadata": {},
   "outputs": [],
   "source": [
    "keyword_monthly_engagement = video_stats_2022.groupby(['Year-Month', 'Keyword'])['Engagement_Score'].mean().reset_index()"
   ]
  },
  {
   "cell_type": "code",
   "execution_count": 116,
   "id": "8aff548e",
   "metadata": {},
   "outputs": [
    {
     "data": {
      "application/vnd.microsoft.datawrangler.viewer.v0+json": {
       "columns": [
        {
         "name": "index",
         "rawType": "int64",
         "type": "integer"
        },
        {
         "name": "Year-Month",
         "rawType": "period[M]",
         "type": "unknown"
        },
        {
         "name": "Keyword",
         "rawType": "object",
         "type": "string"
        },
        {
         "name": "Engagement_Score",
         "rawType": "float64",
         "type": "float"
        }
       ],
       "ref": "93904823-950f-496a-bb99-6eabde4fac0d",
       "rows": [
        [
         "0",
         "2022-01",
         "animals",
         "0.007870858456658452"
        ],
        [
         "1",
         "2022-01",
         "bed",
         "0.021229667302674872"
        ],
        [
         "2",
         "2022-01",
         "biology",
         "0.038334249575548034"
        ],
        [
         "3",
         "2022-01",
         "business",
         "0.013154076610725809"
        ],
        [
         "4",
         "2022-01",
         "computer science",
         "0.02657221546126909"
        ],
        [
         "5",
         "2022-01",
         "cubes",
         "0.04253712239509757"
        ],
        [
         "6",
         "2022-01",
         "data science",
         "0.04056700279697937"
        ],
        [
         "7",
         "2022-01",
         "education",
         "0.026679102909912863"
        ],
        [
         "8",
         "2022-01",
         "game development",
         "0.047707086781480945"
        ],
        [
         "9",
         "2022-01",
         "gaming",
         "0.016141738996981736"
        ],
        [
         "10",
         "2022-01",
         "google",
         "0.029300472802030395"
        ],
        [
         "11",
         "2022-01",
         "history",
         "0.013230740276691069"
        ],
        [
         "12",
         "2022-01",
         "literature",
         "0.031186094069529654"
        ],
        [
         "13",
         "2022-01",
         "lofi",
         "0.019248401040445562"
        ],
        [
         "14",
         "2022-01",
         "machine learning",
         "0.02724910457195028"
        ],
        [
         "15",
         "2022-01",
         "movies",
         "0.039121407496448476"
        ],
        [
         "16",
         "2022-01",
         "mrbeast",
         "0.03255413706411461"
        ],
        [
         "17",
         "2022-01",
         "mukbang",
         "0.012911576044676682"
        ],
        [
         "18",
         "2022-01",
         "music",
         "0.009950022334140444"
        ],
        [
         "19",
         "2022-01",
         "sat",
         "0.034876551787521186"
        ],
        [
         "20",
         "2022-01",
         "sports",
         "0.01207255336442956"
        ],
        [
         "21",
         "2022-01",
         "tech",
         "0.034230032867136106"
        ],
        [
         "22",
         "2022-01",
         "trolling",
         "0.0433353752777699"
        ],
        [
         "23",
         "2022-01",
         "tutorial",
         "0.02551047940354916"
        ],
        [
         "24",
         "2022-01",
         "xbox",
         "0.024554655697935693"
        ],
        [
         "25",
         "2022-02",
         "biology",
         "0.041619453009903155"
        ],
        [
         "26",
         "2022-02",
         "business",
         "0.034926749936492585"
        ],
        [
         "27",
         "2022-02",
         "computer science",
         "0.06373954374722555"
        ],
        [
         "28",
         "2022-02",
         "cubes",
         "0.015335427134656479"
        ],
        [
         "29",
         "2022-02",
         "data science",
         "0.04257521226324861"
        ],
        [
         "30",
         "2022-02",
         "food",
         "0.014241163201020902"
        ],
        [
         "31",
         "2022-02",
         "game development",
         "0.05277073923102347"
        ],
        [
         "32",
         "2022-02",
         "history",
         "0.010036948498075269"
        ],
        [
         "33",
         "2022-02",
         "interview",
         "0.0408720838789601"
        ],
        [
         "34",
         "2022-02",
         "lofi",
         "0.010413321766472939"
        ],
        [
         "35",
         "2022-02",
         "machine learning",
         "0.05387391659422008"
        ],
        [
         "36",
         "2022-02",
         "minecraft",
         "0.012703534812199102"
        ],
        [
         "37",
         "2022-02",
         "music",
         "0.024240728688275415"
        ],
        [
         "38",
         "2022-02",
         "physics",
         "0.019097467199184075"
        ],
        [
         "39",
         "2022-02",
         "sports",
         "0.011274172552552255"
        ],
        [
         "40",
         "2022-02",
         "trolling",
         "0.01968102432653757"
        ],
        [
         "41",
         "2022-02",
         "tutorial",
         "0.028396371787305377"
        ],
        [
         "42",
         "2022-02",
         "xbox",
         "0.035271699302551765"
        ],
        [
         "43",
         "2022-03",
         "animals",
         "0.008293512594152426"
        ],
        [
         "44",
         "2022-03",
         "biology",
         "0.053600690386965924"
        ],
        [
         "45",
         "2022-03",
         "chess",
         "0.03956152348614409"
        ],
        [
         "46",
         "2022-03",
         "crypto",
         "0.0190461730374581"
        ],
        [
         "47",
         "2022-03",
         "game development",
         "0.03944096749227841"
        ],
        [
         "48",
         "2022-03",
         "google",
         "0.02503279911122742"
        ],
        [
         "49",
         "2022-03",
         "how-to",
         "0.03839407615291262"
        ]
       ],
       "shape": {
        "columns": 3,
        "rows": 214
       }
      },
      "text/html": [
       "<div>\n",
       "<style scoped>\n",
       "    .dataframe tbody tr th:only-of-type {\n",
       "        vertical-align: middle;\n",
       "    }\n",
       "\n",
       "    .dataframe tbody tr th {\n",
       "        vertical-align: top;\n",
       "    }\n",
       "\n",
       "    .dataframe thead th {\n",
       "        text-align: right;\n",
       "    }\n",
       "</style>\n",
       "<table border=\"1\" class=\"dataframe\">\n",
       "  <thead>\n",
       "    <tr style=\"text-align: right;\">\n",
       "      <th></th>\n",
       "      <th>Year-Month</th>\n",
       "      <th>Keyword</th>\n",
       "      <th>Engagement_Score</th>\n",
       "    </tr>\n",
       "  </thead>\n",
       "  <tbody>\n",
       "    <tr>\n",
       "      <th>0</th>\n",
       "      <td>2022-01</td>\n",
       "      <td>animals</td>\n",
       "      <td>0.007871</td>\n",
       "    </tr>\n",
       "    <tr>\n",
       "      <th>1</th>\n",
       "      <td>2022-01</td>\n",
       "      <td>bed</td>\n",
       "      <td>0.021230</td>\n",
       "    </tr>\n",
       "    <tr>\n",
       "      <th>2</th>\n",
       "      <td>2022-01</td>\n",
       "      <td>biology</td>\n",
       "      <td>0.038334</td>\n",
       "    </tr>\n",
       "    <tr>\n",
       "      <th>3</th>\n",
       "      <td>2022-01</td>\n",
       "      <td>business</td>\n",
       "      <td>0.013154</td>\n",
       "    </tr>\n",
       "    <tr>\n",
       "      <th>4</th>\n",
       "      <td>2022-01</td>\n",
       "      <td>computer science</td>\n",
       "      <td>0.026572</td>\n",
       "    </tr>\n",
       "    <tr>\n",
       "      <th>...</th>\n",
       "      <td>...</td>\n",
       "      <td>...</td>\n",
       "      <td>...</td>\n",
       "    </tr>\n",
       "    <tr>\n",
       "      <th>209</th>\n",
       "      <td>2022-08</td>\n",
       "      <td>sports</td>\n",
       "      <td>0.015866</td>\n",
       "    </tr>\n",
       "    <tr>\n",
       "      <th>210</th>\n",
       "      <td>2022-08</td>\n",
       "      <td>tech</td>\n",
       "      <td>0.044979</td>\n",
       "    </tr>\n",
       "    <tr>\n",
       "      <th>211</th>\n",
       "      <td>2022-08</td>\n",
       "      <td>trolling</td>\n",
       "      <td>0.061364</td>\n",
       "    </tr>\n",
       "    <tr>\n",
       "      <th>212</th>\n",
       "      <td>2022-08</td>\n",
       "      <td>tutorial</td>\n",
       "      <td>0.050824</td>\n",
       "    </tr>\n",
       "    <tr>\n",
       "      <th>213</th>\n",
       "      <td>2022-08</td>\n",
       "      <td>xbox</td>\n",
       "      <td>0.065386</td>\n",
       "    </tr>\n",
       "  </tbody>\n",
       "</table>\n",
       "<p>214 rows × 3 columns</p>\n",
       "</div>"
      ],
      "text/plain": [
       "    Year-Month           Keyword  Engagement_Score\n",
       "0      2022-01           animals          0.007871\n",
       "1      2022-01               bed          0.021230\n",
       "2      2022-01           biology          0.038334\n",
       "3      2022-01          business          0.013154\n",
       "4      2022-01  computer science          0.026572\n",
       "..         ...               ...               ...\n",
       "209    2022-08            sports          0.015866\n",
       "210    2022-08              tech          0.044979\n",
       "211    2022-08          trolling          0.061364\n",
       "212    2022-08          tutorial          0.050824\n",
       "213    2022-08              xbox          0.065386\n",
       "\n",
       "[214 rows x 3 columns]"
      ]
     },
     "execution_count": 116,
     "metadata": {},
     "output_type": "execute_result"
    }
   ],
   "source": [
    "keyword_monthly_engagement"
   ]
  },
  {
   "cell_type": "code",
   "execution_count": 117,
   "id": "dc8f55f0",
   "metadata": {},
   "outputs": [],
   "source": [
    "pivot_keyword_monthly_engagement = keyword_monthly_engagement.groupby(['Year-Month', 'Keyword'])['Engagement_Score'].mean().unstack().fillna(0)"
   ]
  },
  {
   "cell_type": "code",
   "execution_count": 118,
   "id": "cf8cee24",
   "metadata": {},
   "outputs": [
    {
     "data": {
      "application/vnd.microsoft.datawrangler.viewer.v0+json": {
       "columns": [
        {
         "name": "Year-Month",
         "rawType": "period[M]",
         "type": "unknown"
        },
        {
         "name": "animals",
         "rawType": "float64",
         "type": "float"
        },
        {
         "name": "apple",
         "rawType": "float64",
         "type": "float"
        },
        {
         "name": "asmr",
         "rawType": "float64",
         "type": "float"
        },
        {
         "name": "bed",
         "rawType": "float64",
         "type": "float"
        },
        {
         "name": "biology",
         "rawType": "float64",
         "type": "float"
        },
        {
         "name": "business",
         "rawType": "float64",
         "type": "float"
        },
        {
         "name": "chess",
         "rawType": "float64",
         "type": "float"
        },
        {
         "name": "cnn",
         "rawType": "float64",
         "type": "float"
        },
        {
         "name": "computer science",
         "rawType": "float64",
         "type": "float"
        },
        {
         "name": "crypto",
         "rawType": "float64",
         "type": "float"
        },
        {
         "name": "cubes",
         "rawType": "float64",
         "type": "float"
        },
        {
         "name": "data science",
         "rawType": "float64",
         "type": "float"
        },
        {
         "name": "education",
         "rawType": "float64",
         "type": "float"
        },
        {
         "name": "finance",
         "rawType": "float64",
         "type": "float"
        },
        {
         "name": "food",
         "rawType": "float64",
         "type": "float"
        },
        {
         "name": "game development",
         "rawType": "float64",
         "type": "float"
        },
        {
         "name": "gaming",
         "rawType": "float64",
         "type": "float"
        },
        {
         "name": "google",
         "rawType": "float64",
         "type": "float"
        },
        {
         "name": "history",
         "rawType": "float64",
         "type": "float"
        },
        {
         "name": "how-to",
         "rawType": "float64",
         "type": "float"
        },
        {
         "name": "interview",
         "rawType": "float64",
         "type": "float"
        },
        {
         "name": "literature",
         "rawType": "float64",
         "type": "float"
        },
        {
         "name": "lofi",
         "rawType": "float64",
         "type": "float"
        },
        {
         "name": "machine learning",
         "rawType": "float64",
         "type": "float"
        },
        {
         "name": "marvel",
         "rawType": "float64",
         "type": "float"
        },
        {
         "name": "mathchemistry",
         "rawType": "float64",
         "type": "float"
        },
        {
         "name": "minecraft",
         "rawType": "float64",
         "type": "float"
        },
        {
         "name": "movies",
         "rawType": "float64",
         "type": "float"
        },
        {
         "name": "mrbeast",
         "rawType": "float64",
         "type": "float"
        },
        {
         "name": "mukbang",
         "rawType": "float64",
         "type": "float"
        },
        {
         "name": "music",
         "rawType": "float64",
         "type": "float"
        },
        {
         "name": "news",
         "rawType": "float64",
         "type": "float"
        },
        {
         "name": "nintendo",
         "rawType": "float64",
         "type": "float"
        },
        {
         "name": "physics",
         "rawType": "float64",
         "type": "float"
        },
        {
         "name": "reaction",
         "rawType": "float64",
         "type": "float"
        },
        {
         "name": "sat",
         "rawType": "float64",
         "type": "float"
        },
        {
         "name": "sports",
         "rawType": "float64",
         "type": "float"
        },
        {
         "name": "tech",
         "rawType": "float64",
         "type": "float"
        },
        {
         "name": "trolling",
         "rawType": "float64",
         "type": "float"
        },
        {
         "name": "tutorial",
         "rawType": "float64",
         "type": "float"
        },
        {
         "name": "xbox",
         "rawType": "float64",
         "type": "float"
        }
       ],
       "ref": "d182fb6c-2234-4aa2-85a9-d7580aec0095",
       "rows": [
        [
         "2022-01",
         "0.007870858456658452",
         "0.0",
         "0.0",
         "0.021229667302674872",
         "0.038334249575548034",
         "0.013154076610725809",
         "0.0",
         "0.0",
         "0.02657221546126909",
         "0.0",
         "0.04253712239509757",
         "0.04056700279697937",
         "0.026679102909912863",
         "0.0",
         "0.0",
         "0.047707086781480945",
         "0.016141738996981736",
         "0.029300472802030395",
         "0.013230740276691069",
         "0.0",
         "0.0",
         "0.031186094069529654",
         "0.019248401040445562",
         "0.02724910457195028",
         "0.0",
         "0.0",
         "0.0",
         "0.039121407496448476",
         "0.03255413706411461",
         "0.012911576044676682",
         "0.009950022334140444",
         "0.0",
         "0.0",
         "0.0",
         "0.0",
         "0.034876551787521186",
         "0.01207255336442956",
         "0.034230032867136106",
         "0.0433353752777699",
         "0.02551047940354916",
         "0.024554655697935693"
        ],
        [
         "2022-02",
         "0.0",
         "0.0",
         "0.0",
         "0.0",
         "0.041619453009903155",
         "0.034926749936492585",
         "0.0",
         "0.0",
         "0.06373954374722555",
         "0.0",
         "0.015335427134656479",
         "0.04257521226324861",
         "0.0",
         "0.0",
         "0.014241163201020902",
         "0.05277073923102347",
         "0.0",
         "0.0",
         "0.010036948498075269",
         "0.0",
         "0.0408720838789601",
         "0.0",
         "0.010413321766472939",
         "0.05387391659422008",
         "0.0",
         "0.0",
         "0.012703534812199102",
         "0.0",
         "0.0",
         "0.0",
         "0.024240728688275415",
         "0.0",
         "0.0",
         "0.019097467199184075",
         "0.0",
         "0.0",
         "0.011274172552552255",
         "0.0",
         "0.01968102432653757",
         "0.028396371787305377",
         "0.035271699302551765"
        ],
        [
         "2022-03",
         "0.008293512594152426",
         "0.0",
         "0.0",
         "0.0",
         "0.053600690386965924",
         "0.0",
         "0.03956152348614409",
         "0.0",
         "0.0",
         "0.0190461730374581",
         "0.0",
         "0.0",
         "0.0",
         "0.0",
         "0.0",
         "0.03944096749227841",
         "0.0",
         "0.02503279911122742",
         "0.0",
         "0.03839407615291262",
         "0.012801060335326886",
         "0.0743801652892562",
         "0.019580083707809264",
         "0.012208761434992048",
         "0.030159598028597617",
         "0.0",
         "0.0",
         "0.007687272852541468",
         "0.03509756132981518",
         "0.0",
         "0.0",
         "0.0",
         "0.0",
         "0.014135449396517783",
         "0.0",
         "0.04083584725185785",
         "0.01972671598998156",
         "0.019571615209903918",
         "0.049756493580361445",
         "0.09101056983017393",
         "0.020616140194218105"
        ],
        [
         "2022-04",
         "0.004939720657539676",
         "0.0",
         "0.023173119385725992",
         "0.011299284637532436",
         "0.03821738181450233",
         "0.0",
         "0.018285337003262635",
         "0.0",
         "0.03342362343226563",
         "0.0",
         "0.03909485039446563",
         "0.042506134640572",
         "0.0",
         "0.0",
         "0.021873459906721515",
         "0.04992875595621619",
         "0.0",
         "0.01798625166872143",
         "0.028719831015887366",
         "0.03406531420995667",
         "0.020290001047249526",
         "0.0",
         "0.01850915234404899",
         "0.0",
         "0.031782954182182334",
         "0.0",
         "0.0",
         "0.008188244021084016",
         "0.03946741229257885",
         "0.0",
         "0.006295891967877492",
         "0.0",
         "0.050309199304044316",
         "0.03136742954004715",
         "0.0",
         "0.0",
         "0.019603892715781928",
         "0.04127259492430838",
         "0.04984801884582133",
         "0.0",
         "0.027967472184703766"
        ],
        [
         "2022-05",
         "0.007458573722122253",
         "0.019059325188929443",
         "0.02254487097727269",
         "0.029511815582817645",
         "0.0",
         "0.023167093013569236",
         "0.0",
         "0.0",
         "0.05936909958503489",
         "0.0",
         "0.029489149090721308",
         "0.03600968926242731",
         "0.0",
         "0.0",
         "0.021920402596806617",
         "0.04431687894188241",
         "0.032838902554272145",
         "0.02819813319733188",
         "0.017906233406768304",
         "0.04572674472705825",
         "0.0720141976547046",
         "0.0",
         "0.016038493948205466",
         "0.04414593122798549",
         "0.030625213741717266",
         "0.030620805369127518",
         "0.0",
         "0.004342239705479432",
         "0.027468452917389304",
         "0.01502748719659125",
         "0.010696173106081425",
         "0.0",
         "0.023539722925576764",
         "0.0",
         "0.0",
         "0.06344106102495306",
         "0.0059489500678251124",
         "0.028787147247857022",
         "0.04216587174587772",
         "0.03711030982623329",
         "0.0"
        ],
        [
         "2022-06",
         "0.004451104604542753",
         "0.042131404130205906",
         "0.0",
         "0.02268389200133186",
         "0.04249779185389882",
         "0.018792864949406907",
         "0.034366386109790044",
         "0.0",
         "0.048304776278809566",
         "0.0",
         "0.04613475096499021",
         "0.027691381316575978",
         "0.026638977406996313",
         "0.0",
         "0.030625567424254683",
         "0.06004775033590222",
         "0.0",
         "0.036450202495979626",
         "0.022671823028298503",
         "0.04634440230557364",
         "0.026665659130749152",
         "0.0",
         "0.02130300661066824",
         "0.0",
         "0.023395618655782133",
         "0.0",
         "0.0",
         "0.016190791265972487",
         "0.034842586218476565",
         "0.014843469117928243",
         "0.0",
         "0.0",
         "0.03857049079493849",
         "0.03382164964742896",
         "0.0",
         "0.0",
         "0.005273231329752102",
         "0.0384191286042271",
         "0.03547786330603302",
         "0.03690906551472648",
         "0.021907732325465903"
        ],
        [
         "2022-07",
         "0.01167789573677725",
         "0.03414604618357241",
         "0.0341629876848652",
         "0.0",
         "0.0498608715793032",
         "0.03948045571583138",
         "0.0",
         "0.028979331018155592",
         "0.05709959085572976",
         "0.0",
         "0.048057101915706626",
         "0.03735609429084901",
         "0.0",
         "0.02388565932350683",
         "0.026810875283110512",
         "0.05258095447902964",
         "0.0",
         "0.019737631802346015",
         "0.025381740000032536",
         "0.04767833454415708",
         "0.01887863080084655",
         "0.0",
         "0.034991346688840456",
         "0.0",
         "0.0369135950460782",
         "0.0",
         "0.04241034032594999",
         "0.010336189964502262",
         "0.03819603593597861",
         "0.03248887506586788",
         "0.008221964442211835",
         "0.0",
         "0.05399277068024964",
         "0.012843048984514853",
         "0.0",
         "0.04502468839023203",
         "0.01696918485751252",
         "0.03551108738464774",
         "0.04701806976753329",
         "0.04744049176133559",
         "0.03381824095020896"
        ],
        [
         "2022-08",
         "0.01642239946580148",
         "0.042304087404794286",
         "0.06303580273615592",
         "0.02414972092880406",
         "0.0",
         "0.04666209100197601",
         "0.04077784968322086",
         "0.031166112771557303",
         "0.07117324497380541",
         "0.09087348809535133",
         "0.05445826742572663",
         "0.0374276995340615",
         "0.08019081918240939",
         "0.022230999564312216",
         "0.03589226656229895",
         "0.048327702486732904",
         "0.0727620227261685",
         "0.04459001357998909",
         "0.04367780594101287",
         "0.04802300770751009",
         "0.03236566501787443",
         "0.0",
         "0.044866975709038276",
         "0.0",
         "0.05678243701883221",
         "0.0",
         "0.05376298432200173",
         "0.01433127910324131",
         "0.05100600120659254",
         "0.04257294010282718",
         "0.04301293751682758",
         "0.02000106364336655",
         "0.06298068724899542",
         "0.04105399345931196",
         "0.07565173559487313",
         "0.05458390647094876",
         "0.015866148952049824",
         "0.04497917587643518",
         "0.06136360767030776",
         "0.050824258292994466",
         "0.06538645070226261"
        ]
       ],
       "shape": {
        "columns": 41,
        "rows": 8
       }
      },
      "text/html": [
       "<div>\n",
       "<style scoped>\n",
       "    .dataframe tbody tr th:only-of-type {\n",
       "        vertical-align: middle;\n",
       "    }\n",
       "\n",
       "    .dataframe tbody tr th {\n",
       "        vertical-align: top;\n",
       "    }\n",
       "\n",
       "    .dataframe thead th {\n",
       "        text-align: right;\n",
       "    }\n",
       "</style>\n",
       "<table border=\"1\" class=\"dataframe\">\n",
       "  <thead>\n",
       "    <tr style=\"text-align: right;\">\n",
       "      <th>Keyword</th>\n",
       "      <th>animals</th>\n",
       "      <th>apple</th>\n",
       "      <th>asmr</th>\n",
       "      <th>bed</th>\n",
       "      <th>biology</th>\n",
       "      <th>business</th>\n",
       "      <th>chess</th>\n",
       "      <th>cnn</th>\n",
       "      <th>computer science</th>\n",
       "      <th>crypto</th>\n",
       "      <th>...</th>\n",
       "      <th>news</th>\n",
       "      <th>nintendo</th>\n",
       "      <th>physics</th>\n",
       "      <th>reaction</th>\n",
       "      <th>sat</th>\n",
       "      <th>sports</th>\n",
       "      <th>tech</th>\n",
       "      <th>trolling</th>\n",
       "      <th>tutorial</th>\n",
       "      <th>xbox</th>\n",
       "    </tr>\n",
       "    <tr>\n",
       "      <th>Year-Month</th>\n",
       "      <th></th>\n",
       "      <th></th>\n",
       "      <th></th>\n",
       "      <th></th>\n",
       "      <th></th>\n",
       "      <th></th>\n",
       "      <th></th>\n",
       "      <th></th>\n",
       "      <th></th>\n",
       "      <th></th>\n",
       "      <th></th>\n",
       "      <th></th>\n",
       "      <th></th>\n",
       "      <th></th>\n",
       "      <th></th>\n",
       "      <th></th>\n",
       "      <th></th>\n",
       "      <th></th>\n",
       "      <th></th>\n",
       "      <th></th>\n",
       "      <th></th>\n",
       "    </tr>\n",
       "  </thead>\n",
       "  <tbody>\n",
       "    <tr>\n",
       "      <th>2022-01</th>\n",
       "      <td>0.007871</td>\n",
       "      <td>0.000000</td>\n",
       "      <td>0.000000</td>\n",
       "      <td>0.021230</td>\n",
       "      <td>0.038334</td>\n",
       "      <td>0.013154</td>\n",
       "      <td>0.000000</td>\n",
       "      <td>0.000000</td>\n",
       "      <td>0.026572</td>\n",
       "      <td>0.000000</td>\n",
       "      <td>...</td>\n",
       "      <td>0.000000</td>\n",
       "      <td>0.000000</td>\n",
       "      <td>0.000000</td>\n",
       "      <td>0.000000</td>\n",
       "      <td>0.034877</td>\n",
       "      <td>0.012073</td>\n",
       "      <td>0.034230</td>\n",
       "      <td>0.043335</td>\n",
       "      <td>0.025510</td>\n",
       "      <td>0.024555</td>\n",
       "    </tr>\n",
       "    <tr>\n",
       "      <th>2022-02</th>\n",
       "      <td>0.000000</td>\n",
       "      <td>0.000000</td>\n",
       "      <td>0.000000</td>\n",
       "      <td>0.000000</td>\n",
       "      <td>0.041619</td>\n",
       "      <td>0.034927</td>\n",
       "      <td>0.000000</td>\n",
       "      <td>0.000000</td>\n",
       "      <td>0.063740</td>\n",
       "      <td>0.000000</td>\n",
       "      <td>...</td>\n",
       "      <td>0.000000</td>\n",
       "      <td>0.000000</td>\n",
       "      <td>0.019097</td>\n",
       "      <td>0.000000</td>\n",
       "      <td>0.000000</td>\n",
       "      <td>0.011274</td>\n",
       "      <td>0.000000</td>\n",
       "      <td>0.019681</td>\n",
       "      <td>0.028396</td>\n",
       "      <td>0.035272</td>\n",
       "    </tr>\n",
       "    <tr>\n",
       "      <th>2022-03</th>\n",
       "      <td>0.008294</td>\n",
       "      <td>0.000000</td>\n",
       "      <td>0.000000</td>\n",
       "      <td>0.000000</td>\n",
       "      <td>0.053601</td>\n",
       "      <td>0.000000</td>\n",
       "      <td>0.039562</td>\n",
       "      <td>0.000000</td>\n",
       "      <td>0.000000</td>\n",
       "      <td>0.019046</td>\n",
       "      <td>...</td>\n",
       "      <td>0.000000</td>\n",
       "      <td>0.000000</td>\n",
       "      <td>0.014135</td>\n",
       "      <td>0.000000</td>\n",
       "      <td>0.040836</td>\n",
       "      <td>0.019727</td>\n",
       "      <td>0.019572</td>\n",
       "      <td>0.049756</td>\n",
       "      <td>0.091011</td>\n",
       "      <td>0.020616</td>\n",
       "    </tr>\n",
       "    <tr>\n",
       "      <th>2022-04</th>\n",
       "      <td>0.004940</td>\n",
       "      <td>0.000000</td>\n",
       "      <td>0.023173</td>\n",
       "      <td>0.011299</td>\n",
       "      <td>0.038217</td>\n",
       "      <td>0.000000</td>\n",
       "      <td>0.018285</td>\n",
       "      <td>0.000000</td>\n",
       "      <td>0.033424</td>\n",
       "      <td>0.000000</td>\n",
       "      <td>...</td>\n",
       "      <td>0.000000</td>\n",
       "      <td>0.050309</td>\n",
       "      <td>0.031367</td>\n",
       "      <td>0.000000</td>\n",
       "      <td>0.000000</td>\n",
       "      <td>0.019604</td>\n",
       "      <td>0.041273</td>\n",
       "      <td>0.049848</td>\n",
       "      <td>0.000000</td>\n",
       "      <td>0.027967</td>\n",
       "    </tr>\n",
       "    <tr>\n",
       "      <th>2022-05</th>\n",
       "      <td>0.007459</td>\n",
       "      <td>0.019059</td>\n",
       "      <td>0.022545</td>\n",
       "      <td>0.029512</td>\n",
       "      <td>0.000000</td>\n",
       "      <td>0.023167</td>\n",
       "      <td>0.000000</td>\n",
       "      <td>0.000000</td>\n",
       "      <td>0.059369</td>\n",
       "      <td>0.000000</td>\n",
       "      <td>...</td>\n",
       "      <td>0.000000</td>\n",
       "      <td>0.023540</td>\n",
       "      <td>0.000000</td>\n",
       "      <td>0.000000</td>\n",
       "      <td>0.063441</td>\n",
       "      <td>0.005949</td>\n",
       "      <td>0.028787</td>\n",
       "      <td>0.042166</td>\n",
       "      <td>0.037110</td>\n",
       "      <td>0.000000</td>\n",
       "    </tr>\n",
       "    <tr>\n",
       "      <th>2022-06</th>\n",
       "      <td>0.004451</td>\n",
       "      <td>0.042131</td>\n",
       "      <td>0.000000</td>\n",
       "      <td>0.022684</td>\n",
       "      <td>0.042498</td>\n",
       "      <td>0.018793</td>\n",
       "      <td>0.034366</td>\n",
       "      <td>0.000000</td>\n",
       "      <td>0.048305</td>\n",
       "      <td>0.000000</td>\n",
       "      <td>...</td>\n",
       "      <td>0.000000</td>\n",
       "      <td>0.038570</td>\n",
       "      <td>0.033822</td>\n",
       "      <td>0.000000</td>\n",
       "      <td>0.000000</td>\n",
       "      <td>0.005273</td>\n",
       "      <td>0.038419</td>\n",
       "      <td>0.035478</td>\n",
       "      <td>0.036909</td>\n",
       "      <td>0.021908</td>\n",
       "    </tr>\n",
       "    <tr>\n",
       "      <th>2022-07</th>\n",
       "      <td>0.011678</td>\n",
       "      <td>0.034146</td>\n",
       "      <td>0.034163</td>\n",
       "      <td>0.000000</td>\n",
       "      <td>0.049861</td>\n",
       "      <td>0.039480</td>\n",
       "      <td>0.000000</td>\n",
       "      <td>0.028979</td>\n",
       "      <td>0.057100</td>\n",
       "      <td>0.000000</td>\n",
       "      <td>...</td>\n",
       "      <td>0.000000</td>\n",
       "      <td>0.053993</td>\n",
       "      <td>0.012843</td>\n",
       "      <td>0.000000</td>\n",
       "      <td>0.045025</td>\n",
       "      <td>0.016969</td>\n",
       "      <td>0.035511</td>\n",
       "      <td>0.047018</td>\n",
       "      <td>0.047440</td>\n",
       "      <td>0.033818</td>\n",
       "    </tr>\n",
       "    <tr>\n",
       "      <th>2022-08</th>\n",
       "      <td>0.016422</td>\n",
       "      <td>0.042304</td>\n",
       "      <td>0.063036</td>\n",
       "      <td>0.024150</td>\n",
       "      <td>0.000000</td>\n",
       "      <td>0.046662</td>\n",
       "      <td>0.040778</td>\n",
       "      <td>0.031166</td>\n",
       "      <td>0.071173</td>\n",
       "      <td>0.090873</td>\n",
       "      <td>...</td>\n",
       "      <td>0.020001</td>\n",
       "      <td>0.062981</td>\n",
       "      <td>0.041054</td>\n",
       "      <td>0.075652</td>\n",
       "      <td>0.054584</td>\n",
       "      <td>0.015866</td>\n",
       "      <td>0.044979</td>\n",
       "      <td>0.061364</td>\n",
       "      <td>0.050824</td>\n",
       "      <td>0.065386</td>\n",
       "    </tr>\n",
       "  </tbody>\n",
       "</table>\n",
       "<p>8 rows × 41 columns</p>\n",
       "</div>"
      ],
      "text/plain": [
       "Keyword      animals     apple      asmr       bed   biology  business  \\\n",
       "Year-Month                                                               \n",
       "2022-01     0.007871  0.000000  0.000000  0.021230  0.038334  0.013154   \n",
       "2022-02     0.000000  0.000000  0.000000  0.000000  0.041619  0.034927   \n",
       "2022-03     0.008294  0.000000  0.000000  0.000000  0.053601  0.000000   \n",
       "2022-04     0.004940  0.000000  0.023173  0.011299  0.038217  0.000000   \n",
       "2022-05     0.007459  0.019059  0.022545  0.029512  0.000000  0.023167   \n",
       "2022-06     0.004451  0.042131  0.000000  0.022684  0.042498  0.018793   \n",
       "2022-07     0.011678  0.034146  0.034163  0.000000  0.049861  0.039480   \n",
       "2022-08     0.016422  0.042304  0.063036  0.024150  0.000000  0.046662   \n",
       "\n",
       "Keyword        chess       cnn  computer science    crypto  ...      news  \\\n",
       "Year-Month                                                  ...             \n",
       "2022-01     0.000000  0.000000          0.026572  0.000000  ...  0.000000   \n",
       "2022-02     0.000000  0.000000          0.063740  0.000000  ...  0.000000   \n",
       "2022-03     0.039562  0.000000          0.000000  0.019046  ...  0.000000   \n",
       "2022-04     0.018285  0.000000          0.033424  0.000000  ...  0.000000   \n",
       "2022-05     0.000000  0.000000          0.059369  0.000000  ...  0.000000   \n",
       "2022-06     0.034366  0.000000          0.048305  0.000000  ...  0.000000   \n",
       "2022-07     0.000000  0.028979          0.057100  0.000000  ...  0.000000   \n",
       "2022-08     0.040778  0.031166          0.071173  0.090873  ...  0.020001   \n",
       "\n",
       "Keyword     nintendo   physics  reaction       sat    sports      tech  \\\n",
       "Year-Month                                                               \n",
       "2022-01     0.000000  0.000000  0.000000  0.034877  0.012073  0.034230   \n",
       "2022-02     0.000000  0.019097  0.000000  0.000000  0.011274  0.000000   \n",
       "2022-03     0.000000  0.014135  0.000000  0.040836  0.019727  0.019572   \n",
       "2022-04     0.050309  0.031367  0.000000  0.000000  0.019604  0.041273   \n",
       "2022-05     0.023540  0.000000  0.000000  0.063441  0.005949  0.028787   \n",
       "2022-06     0.038570  0.033822  0.000000  0.000000  0.005273  0.038419   \n",
       "2022-07     0.053993  0.012843  0.000000  0.045025  0.016969  0.035511   \n",
       "2022-08     0.062981  0.041054  0.075652  0.054584  0.015866  0.044979   \n",
       "\n",
       "Keyword     trolling  tutorial      xbox  \n",
       "Year-Month                                \n",
       "2022-01     0.043335  0.025510  0.024555  \n",
       "2022-02     0.019681  0.028396  0.035272  \n",
       "2022-03     0.049756  0.091011  0.020616  \n",
       "2022-04     0.049848  0.000000  0.027967  \n",
       "2022-05     0.042166  0.037110  0.000000  \n",
       "2022-06     0.035478  0.036909  0.021908  \n",
       "2022-07     0.047018  0.047440  0.033818  \n",
       "2022-08     0.061364  0.050824  0.065386  \n",
       "\n",
       "[8 rows x 41 columns]"
      ]
     },
     "execution_count": 118,
     "metadata": {},
     "output_type": "execute_result"
    }
   ],
   "source": [
    "pivot_keyword_monthly_engagement"
   ]
  },
  {
   "cell_type": "code",
   "execution_count": 119,
   "id": "bdec618c",
   "metadata": {},
   "outputs": [
    {
     "data": {
      "image/png": "[encoded data removed]",
      "text/plain": [
       "<Figure size 1400x1000 with 2 Axes>"
      ]
     },
     "metadata": {},
     "output_type": "display_data"
    }
   ],
   "source": [
    "plt.figure(figsize=(14, 10))\n",
    "sns.heatmap(pivot_keyword_monthly_engagement.T, cmap='YlGnBu', linewidths=0.5)\n",
    "plt.title('Monthly Engagement Score by Keyword (Heatmap)')\n",
    "plt.xlabel('Month')\n",
    "plt.ylabel('Keyword')\n",
    "plt.tight_layout()\n",
    "plt.show()"
   ]
  },
  {
   "cell_type": "markdown",
   "id": "39cab88f",
   "metadata": {},
   "source": [
    "The heatmap visualizes the average Engagement Scorefor the various keywords across different months from Jan 20222 to Aug 2022. The color intensity (from light yellow for low engagement to blue for high engagement) allows for quick identification of trends and peaks in audience interaction.\n",
    "\n",
    "Key Observations and Insights:\n",
    "1. Crypto shows the strongest peak in Aug 2022, indicating exceptional audience interest.\n",
    "2. Computer Science demonstrates consistently high engagement throughout the observation period.\n",
    "3. Education exhibits spikes in specific months, suggesting seasonal or event driven engagement pattern.\n",
    "4. Aug has a highest engagement for several keywords.\n",
    "5. Topics likes tutorial, trolling, data science and tutorial demonstrate consistent moderate to high engagement throughout the time period.\n",
    "6. Certain topics computer science, tech and business show sustained enagagment indicating a dedicATED AUDIENCE BASE.\n",
    "7. Crypto's peak demonstrates audience responsiveness to external events.\n",
    "8. Lower enagagement topics like literature and physics may represnt underserved area with some growth potential.\n",
    "9. Some topics show steady performance while others exhibit viral-like spikes, suggesting different content strategies\n",
    "\n",
    "Potential Implications and Recommendations:\n",
    "1. Higher engagement periods correlate with increased monetization opportunities.\n",
    "2. Consistent performance in tech-related topics suggests strong brand association with technology conten\n",
    "3. Data-driven content planning can improve ROI on content creation efforts\n",
    "4. Engagement patterns may indicate shifting audience preferences and interests\n",
    "5. Underperforming topics with growth potential represent future expansion opportunities\n",
    "6. Establishes baseline metrics for measuring future content performance\n",
    "7. Increase content production for consistently high-performing topics (computer science, tech, gaming)\n",
    "8. Align content calendar with identified seasonal patterns, particularly preparing for summer engagement peak\n",
    "9. Focus on building dedicated communities around consistently engaging topics\n",
    "10. Develop content formats that can span multiple topic categories\n",
    "11. Gradually expand into underperforming topics that align with audience interests"
   ]
  },
  {
   "cell_type": "markdown",
   "id": "ef79bdf9",
   "metadata": {},
   "source": [
    "#### Ques 7: How Views, Likes and Comments metrics interact with each other and can they predict engagement or content success."
   ]
  },
  {
   "cell_type": "code",
   "execution_count": 120,
   "id": "6ee344d4",
   "metadata": {},
   "outputs": [
    {
     "data": {
      "application/vnd.microsoft.datawrangler.viewer.v0+json": {
       "columns": [
        {
         "name": "index",
         "rawType": "int64",
         "type": "integer"
        },
        {
         "name": "Title",
         "rawType": "object",
         "type": "string"
        },
        {
         "name": "Video ID",
         "rawType": "object",
         "type": "string"
        },
        {
         "name": "Published At",
         "rawType": "datetime64[ns]",
         "type": "datetime"
        },
        {
         "name": "Keyword",
         "rawType": "object",
         "type": "string"
        },
        {
         "name": "Likes",
         "rawType": "int64",
         "type": "integer"
        },
        {
         "name": "Comments",
         "rawType": "int64",
         "type": "integer"
        },
        {
         "name": "Views",
         "rawType": "int64",
         "type": "integer"
        },
        {
         "name": "year",
         "rawType": "int32",
         "type": "integer"
        },
        {
         "name": "month",
         "rawType": "int32",
         "type": "integer"
        },
        {
         "name": "Engagement_Score",
         "rawType": "float64",
         "type": "float"
        }
       ],
       "ref": "f5f11f62-3e0c-4603-834b-8f4142a2a8a6",
       "rows": [
        [
         "0",
         "Apple Pay Is Killing the Physical Wallet After Only Eight Years | Tech News Briefing Podcast | WSJ",
         "wAZZ-UWGVHI",
         "2022-08-23 00:00:00",
         "tech",
         "3407",
         "672",
         "135612",
         "2022",
         "8",
         "0.030078459133410024"
        ],
        [
         "1",
         "The most EXPENSIVE thing I own.",
         "b3x28s61q3c",
         "2022-08-24 00:00:00",
         "tech",
         "76779",
         "4306",
         "1758063",
         "2022",
         "8",
         "0.046121782894014605"
        ],
        [
         "2",
         "My New House Gaming Setup is SICK!",
         "4mgePWWCAmA",
         "2022-08-23 00:00:00",
         "tech",
         "63825",
         "3338",
         "1564007",
         "2022",
         "8",
         "0.04294290242946483"
        ],
        [
         "3",
         "Petrol Vs Liquid Nitrogen | Freezing Experiment | പെട്രോളിനെ ഐസ് ആകാൻ പറ്റുമോ | M4 Tech |",
         "kXiYSI7H2b0",
         "2022-08-23 00:00:00",
         "tech",
         "71566",
         "1426",
         "922918",
         "2022",
         "8",
         "0.0790882830327288"
        ],
        [
         "4",
         "Best Back to School Tech 2022!",
         "ErMwWXQxHp0",
         "2022-08-08 00:00:00",
         "tech",
         "96513",
         "5155",
         "1855644",
         "2022",
         "8",
         "0.054788526247491434"
        ]
       ],
       "shape": {
        "columns": 10,
        "rows": 5
       }
      },
      "text/html": [
       "<div>\n",
       "<style scoped>\n",
       "    .dataframe tbody tr th:only-of-type {\n",
       "        vertical-align: middle;\n",
       "    }\n",
       "\n",
       "    .dataframe tbody tr th {\n",
       "        vertical-align: top;\n",
       "    }\n",
       "\n",
       "    .dataframe thead th {\n",
       "        text-align: right;\n",
       "    }\n",
       "</style>\n",
       "<table border=\"1\" class=\"dataframe\">\n",
       "  <thead>\n",
       "    <tr style=\"text-align: right;\">\n",
       "      <th></th>\n",
       "      <th>Title</th>\n",
       "      <th>Video ID</th>\n",
       "      <th>Published At</th>\n",
       "      <th>Keyword</th>\n",
       "      <th>Likes</th>\n",
       "      <th>Comments</th>\n",
       "      <th>Views</th>\n",
       "      <th>year</th>\n",
       "      <th>month</th>\n",
       "      <th>Engagement_Score</th>\n",
       "    </tr>\n",
       "  </thead>\n",
       "  <tbody>\n",
       "    <tr>\n",
       "      <th>0</th>\n",
       "      <td>Apple Pay Is Killing the Physical Wallet After...</td>\n",
       "      <td>wAZZ-UWGVHI</td>\n",
       "      <td>2022-08-23</td>\n",
       "      <td>tech</td>\n",
       "      <td>3407</td>\n",
       "      <td>672</td>\n",
       "      <td>135612</td>\n",
       "      <td>2022</td>\n",
       "      <td>8</td>\n",
       "      <td>0.030078</td>\n",
       "    </tr>\n",
       "    <tr>\n",
       "      <th>1</th>\n",
       "      <td>The most EXPENSIVE thing I own.</td>\n",
       "      <td>b3x28s61q3c</td>\n",
       "      <td>2022-08-24</td>\n",
       "      <td>tech</td>\n",
       "      <td>76779</td>\n",
       "      <td>4306</td>\n",
       "      <td>1758063</td>\n",
       "      <td>2022</td>\n",
       "      <td>8</td>\n",
       "      <td>0.046122</td>\n",
       "    </tr>\n",
       "    <tr>\n",
       "      <th>2</th>\n",
       "      <td>My New House Gaming Setup is SICK!</td>\n",
       "      <td>4mgePWWCAmA</td>\n",
       "      <td>2022-08-23</td>\n",
       "      <td>tech</td>\n",
       "      <td>63825</td>\n",
       "      <td>3338</td>\n",
       "      <td>1564007</td>\n",
       "      <td>2022</td>\n",
       "      <td>8</td>\n",
       "      <td>0.042943</td>\n",
       "    </tr>\n",
       "    <tr>\n",
       "      <th>3</th>\n",
       "      <td>Petrol Vs Liquid Nitrogen | Freezing Experimen...</td>\n",
       "      <td>kXiYSI7H2b0</td>\n",
       "      <td>2022-08-23</td>\n",
       "      <td>tech</td>\n",
       "      <td>71566</td>\n",
       "      <td>1426</td>\n",
       "      <td>922918</td>\n",
       "      <td>2022</td>\n",
       "      <td>8</td>\n",
       "      <td>0.079088</td>\n",
       "    </tr>\n",
       "    <tr>\n",
       "      <th>4</th>\n",
       "      <td>Best Back to School Tech 2022!</td>\n",
       "      <td>ErMwWXQxHp0</td>\n",
       "      <td>2022-08-08</td>\n",
       "      <td>tech</td>\n",
       "      <td>96513</td>\n",
       "      <td>5155</td>\n",
       "      <td>1855644</td>\n",
       "      <td>2022</td>\n",
       "      <td>8</td>\n",
       "      <td>0.054789</td>\n",
       "    </tr>\n",
       "  </tbody>\n",
       "</table>\n",
       "</div>"
      ],
      "text/plain": [
       "                                               Title     Video ID  \\\n",
       "0  Apple Pay Is Killing the Physical Wallet After...  wAZZ-UWGVHI   \n",
       "1                    The most EXPENSIVE thing I own.  b3x28s61q3c   \n",
       "2                 My New House Gaming Setup is SICK!  4mgePWWCAmA   \n",
       "3  Petrol Vs Liquid Nitrogen | Freezing Experimen...  kXiYSI7H2b0   \n",
       "4                     Best Back to School Tech 2022!  ErMwWXQxHp0   \n",
       "\n",
       "  Published At Keyword  Likes  Comments    Views  year  month  \\\n",
       "0   2022-08-23    tech   3407       672   135612  2022      8   \n",
       "1   2022-08-24    tech  76779      4306  1758063  2022      8   \n",
       "2   2022-08-23    tech  63825      3338  1564007  2022      8   \n",
       "3   2022-08-23    tech  71566      1426   922918  2022      8   \n",
       "4   2022-08-08    tech  96513      5155  1855644  2022      8   \n",
       "\n",
       "   Engagement_Score  \n",
       "0          0.030078  \n",
       "1          0.046122  \n",
       "2          0.042943  \n",
       "3          0.079088  \n",
       "4          0.054789  "
      ]
     },
     "execution_count": 120,
     "metadata": {},
     "output_type": "execute_result"
    }
   ],
   "source": [
    "video_stats.head()"
   ]
  },
  {
   "cell_type": "code",
   "execution_count": 121,
   "id": "56e13679",
   "metadata": {},
   "outputs": [],
   "source": [
    "video_stats_unique = video_stats.drop_duplicates(subset=['Video ID'], keep ='first')"
   ]
  },
  {
   "cell_type": "code",
   "execution_count": 122,
   "id": "8b389b8a",
   "metadata": {},
   "outputs": [
    {
     "data": {
      "application/vnd.microsoft.datawrangler.viewer.v0+json": {
       "columns": [
        {
         "name": "index",
         "rawType": "int64",
         "type": "integer"
        },
        {
         "name": "Title",
         "rawType": "object",
         "type": "string"
        },
        {
         "name": "Video ID",
         "rawType": "object",
         "type": "string"
        },
        {
         "name": "Published At",
         "rawType": "datetime64[ns]",
         "type": "datetime"
        },
        {
         "name": "Keyword",
         "rawType": "object",
         "type": "string"
        },
        {
         "name": "Likes",
         "rawType": "int64",
         "type": "integer"
        },
        {
         "name": "Comments",
         "rawType": "int64",
         "type": "integer"
        },
        {
         "name": "Views",
         "rawType": "int64",
         "type": "integer"
        },
        {
         "name": "year",
         "rawType": "int32",
         "type": "integer"
        },
        {
         "name": "month",
         "rawType": "int32",
         "type": "integer"
        },
        {
         "name": "Engagement_Score",
         "rawType": "float64",
         "type": "float"
        }
       ],
       "ref": "03b68c76-cf3e-4f72-a18b-b75f835f99e3",
       "rows": [
        [
         "0",
         "Apple Pay Is Killing the Physical Wallet After Only Eight Years | Tech News Briefing Podcast | WSJ",
         "wAZZ-UWGVHI",
         "2022-08-23 00:00:00",
         "tech",
         "3407",
         "672",
         "135612",
         "2022",
         "8",
         "0.030078459133410024"
        ],
        [
         "1",
         "The most EXPENSIVE thing I own.",
         "b3x28s61q3c",
         "2022-08-24 00:00:00",
         "tech",
         "76779",
         "4306",
         "1758063",
         "2022",
         "8",
         "0.046121782894014605"
        ],
        [
         "2",
         "My New House Gaming Setup is SICK!",
         "4mgePWWCAmA",
         "2022-08-23 00:00:00",
         "tech",
         "63825",
         "3338",
         "1564007",
         "2022",
         "8",
         "0.04294290242946483"
        ],
        [
         "3",
         "Petrol Vs Liquid Nitrogen | Freezing Experiment | പെട്രോളിനെ ഐസ് ആകാൻ പറ്റുമോ | M4 Tech |",
         "kXiYSI7H2b0",
         "2022-08-23 00:00:00",
         "tech",
         "71566",
         "1426",
         "922918",
         "2022",
         "8",
         "0.0790882830327288"
        ],
        [
         "4",
         "Best Back to School Tech 2022!",
         "ErMwWXQxHp0",
         "2022-08-08 00:00:00",
         "tech",
         "96513",
         "5155",
         "1855644",
         "2022",
         "8",
         "0.054788526247491434"
        ]
       ],
       "shape": {
        "columns": 10,
        "rows": 5
       }
      },
      "text/html": [
       "<div>\n",
       "<style scoped>\n",
       "    .dataframe tbody tr th:only-of-type {\n",
       "        vertical-align: middle;\n",
       "    }\n",
       "\n",
       "    .dataframe tbody tr th {\n",
       "        vertical-align: top;\n",
       "    }\n",
       "\n",
       "    .dataframe thead th {\n",
       "        text-align: right;\n",
       "    }\n",
       "</style>\n",
       "<table border=\"1\" class=\"dataframe\">\n",
       "  <thead>\n",
       "    <tr style=\"text-align: right;\">\n",
       "      <th></th>\n",
       "      <th>Title</th>\n",
       "      <th>Video ID</th>\n",
       "      <th>Published At</th>\n",
       "      <th>Keyword</th>\n",
       "      <th>Likes</th>\n",
       "      <th>Comments</th>\n",
       "      <th>Views</th>\n",
       "      <th>year</th>\n",
       "      <th>month</th>\n",
       "      <th>Engagement_Score</th>\n",
       "    </tr>\n",
       "  </thead>\n",
       "  <tbody>\n",
       "    <tr>\n",
       "      <th>0</th>\n",
       "      <td>Apple Pay Is Killing the Physical Wallet After...</td>\n",
       "      <td>wAZZ-UWGVHI</td>\n",
       "      <td>2022-08-23</td>\n",
       "      <td>tech</td>\n",
       "      <td>3407</td>\n",
       "      <td>672</td>\n",
       "      <td>135612</td>\n",
       "      <td>2022</td>\n",
       "      <td>8</td>\n",
       "      <td>0.030078</td>\n",
       "    </tr>\n",
       "    <tr>\n",
       "      <th>1</th>\n",
       "      <td>The most EXPENSIVE thing I own.</td>\n",
       "      <td>b3x28s61q3c</td>\n",
       "      <td>2022-08-24</td>\n",
       "      <td>tech</td>\n",
       "      <td>76779</td>\n",
       "      <td>4306</td>\n",
       "      <td>1758063</td>\n",
       "      <td>2022</td>\n",
       "      <td>8</td>\n",
       "      <td>0.046122</td>\n",
       "    </tr>\n",
       "    <tr>\n",
       "      <th>2</th>\n",
       "      <td>My New House Gaming Setup is SICK!</td>\n",
       "      <td>4mgePWWCAmA</td>\n",
       "      <td>2022-08-23</td>\n",
       "      <td>tech</td>\n",
       "      <td>63825</td>\n",
       "      <td>3338</td>\n",
       "      <td>1564007</td>\n",
       "      <td>2022</td>\n",
       "      <td>8</td>\n",
       "      <td>0.042943</td>\n",
       "    </tr>\n",
       "    <tr>\n",
       "      <th>3</th>\n",
       "      <td>Petrol Vs Liquid Nitrogen | Freezing Experimen...</td>\n",
       "      <td>kXiYSI7H2b0</td>\n",
       "      <td>2022-08-23</td>\n",
       "      <td>tech</td>\n",
       "      <td>71566</td>\n",
       "      <td>1426</td>\n",
       "      <td>922918</td>\n",
       "      <td>2022</td>\n",
       "      <td>8</td>\n",
       "      <td>0.079088</td>\n",
       "    </tr>\n",
       "    <tr>\n",
       "      <th>4</th>\n",
       "      <td>Best Back to School Tech 2022!</td>\n",
       "      <td>ErMwWXQxHp0</td>\n",
       "      <td>2022-08-08</td>\n",
       "      <td>tech</td>\n",
       "      <td>96513</td>\n",
       "      <td>5155</td>\n",
       "      <td>1855644</td>\n",
       "      <td>2022</td>\n",
       "      <td>8</td>\n",
       "      <td>0.054789</td>\n",
       "    </tr>\n",
       "  </tbody>\n",
       "</table>\n",
       "</div>"
      ],
      "text/plain": [
       "                                               Title     Video ID  \\\n",
       "0  Apple Pay Is Killing the Physical Wallet After...  wAZZ-UWGVHI   \n",
       "1                    The most EXPENSIVE thing I own.  b3x28s61q3c   \n",
       "2                 My New House Gaming Setup is SICK!  4mgePWWCAmA   \n",
       "3  Petrol Vs Liquid Nitrogen | Freezing Experimen...  kXiYSI7H2b0   \n",
       "4                     Best Back to School Tech 2022!  ErMwWXQxHp0   \n",
       "\n",
       "  Published At Keyword  Likes  Comments    Views  year  month  \\\n",
       "0   2022-08-23    tech   3407       672   135612  2022      8   \n",
       "1   2022-08-24    tech  76779      4306  1758063  2022      8   \n",
       "2   2022-08-23    tech  63825      3338  1564007  2022      8   \n",
       "3   2022-08-23    tech  71566      1426   922918  2022      8   \n",
       "4   2022-08-08    tech  96513      5155  1855644  2022      8   \n",
       "\n",
       "   Engagement_Score  \n",
       "0          0.030078  \n",
       "1          0.046122  \n",
       "2          0.042943  \n",
       "3          0.079088  \n",
       "4          0.054789  "
      ]
     },
     "execution_count": 122,
     "metadata": {},
     "output_type": "execute_result"
    }
   ],
   "source": [
    "video_stats_unique.head()"
   ]
  },
  {
   "cell_type": "code",
   "execution_count": 123,
   "id": "73f32ebc",
   "metadata": {},
   "outputs": [
    {
     "data": {
      "application/vnd.microsoft.datawrangler.viewer.v0+json": {
       "columns": [
        {
         "name": "index",
         "rawType": "int64",
         "type": "integer"
        },
        {
         "name": "Title",
         "rawType": "object",
         "type": "string"
        },
        {
         "name": "Video ID",
         "rawType": "object",
         "type": "string"
        },
        {
         "name": "Published At",
         "rawType": "datetime64[ns]",
         "type": "datetime"
        },
        {
         "name": "Keyword",
         "rawType": "object",
         "type": "string"
        },
        {
         "name": "Likes",
         "rawType": "int64",
         "type": "integer"
        },
        {
         "name": "Comments",
         "rawType": "int64",
         "type": "integer"
        },
        {
         "name": "Views",
         "rawType": "int64",
         "type": "integer"
        },
        {
         "name": "year",
         "rawType": "int32",
         "type": "integer"
        },
        {
         "name": "month",
         "rawType": "int32",
         "type": "integer"
        },
        {
         "name": "Engagement_Score",
         "rawType": "float64",
         "type": "float"
        }
       ],
       "ref": "ece35cb1-2d78-4c33-ab65-10a6cde90b48",
       "rows": [
        [
         "0",
         "Apple Pay Is Killing the Physical Wallet After Only Eight Years | Tech News Briefing Podcast | WSJ",
         "wAZZ-UWGVHI",
         "2022-08-23 00:00:00",
         "tech",
         "3407",
         "672",
         "135612",
         "2022",
         "8",
         "0.030078459133410024"
        ],
        [
         "1",
         "The most EXPENSIVE thing I own.",
         "b3x28s61q3c",
         "2022-08-24 00:00:00",
         "tech",
         "76779",
         "4306",
         "1758063",
         "2022",
         "8",
         "0.046121782894014605"
        ],
        [
         "2",
         "My New House Gaming Setup is SICK!",
         "4mgePWWCAmA",
         "2022-08-23 00:00:00",
         "tech",
         "63825",
         "3338",
         "1564007",
         "2022",
         "8",
         "0.04294290242946483"
        ],
        [
         "3",
         "Petrol Vs Liquid Nitrogen | Freezing Experiment | പെട്രോളിനെ ഐസ് ആകാൻ പറ്റുമോ | M4 Tech |",
         "kXiYSI7H2b0",
         "2022-08-23 00:00:00",
         "tech",
         "71566",
         "1426",
         "922918",
         "2022",
         "8",
         "0.0790882830327288"
        ],
        [
         "4",
         "Best Back to School Tech 2022!",
         "ErMwWXQxHp0",
         "2022-08-08 00:00:00",
         "tech",
         "96513",
         "5155",
         "1855644",
         "2022",
         "8",
         "0.054788526247491434"
        ],
        [
         "5",
         "Brewmaster Answers Beer Questions From Twitter | Tech Support | WIRED",
         "18fwz9Itbvo",
         "2021-11-05 00:00:00",
         "tech",
         "33570",
         "1643",
         "943119",
         "2021",
         "11",
         "0.037336751777877444"
        ],
        [
         "6",
         "Tech Monopolies: Last Week Tonight with John Oliver (HBO)",
         "jXf04bhcjbg",
         "2022-06-13 00:00:00",
         "tech",
         "135047",
         "9367",
         "5937790",
         "2022",
         "6",
         "0.024321169997591697"
        ],
        [
         "7",
         "I bought the STRANGEST TECH on the Internet.",
         "2TqOmtTAMRY",
         "2022-08-07 00:00:00",
         "tech",
         "216935",
         "12605",
         "4782514",
         "2022",
         "8",
         "0.0479956775871435"
        ],
        [
         "8",
         "15 Emerging Technologies that Will Change the World",
         "wLlL46pYcg4",
         "2021-12-08 00:00:00",
         "tech",
         "45565",
         "2882",
         "7001236",
         "2021",
         "12",
         "0.006919778164884029"
        ],
        [
         "9",
         "Toxicologist Answers More Poison Questions From Twitter | Tech Support | WIRED",
         "R7qsau3X6Ks",
         "2022-07-14 00:00:00",
         "tech",
         "24252",
         "1068",
         "667767",
         "2022",
         "7",
         "0.03791741730274183"
        ],
        [
         "10",
         "Dope Tech: The Most Extreme Gaming Monitor!",
         "MEiq0oCUb_8",
         "2022-08-15 00:00:00",
         "tech",
         "118001",
         "4123",
         "2359142",
         "2022",
         "8",
         "0.051766277739958004"
        ],
        [
         "11",
         "Cool Tech Under $50 - August!",
         "pT_9hntWj34",
         "2022-08-06 00:00:00",
         "tech",
         "20999",
         "3091",
         "413179",
         "2022",
         "8",
         "0.05830402803627484"
        ],
        [
         "12",
         "Cool Back to School Tech 2022 🔥 (Under $100)",
         "cj4lxmHQV0o",
         "2022-08-13 00:00:00",
         "tech",
         "15322",
         "547",
         "389114",
         "2022",
         "8",
         "0.04078239282061298"
        ],
        [
         "13",
         "Best Tech/EDC Gifts Under $50 for Father&#39;s Day! - Gift Guide 2022",
         "d-BdIo8_wpA",
         "2021-12-15 00:00:00",
         "tech",
         "17866",
         "157",
         "444953",
         "2021",
         "12",
         "0.040505401694111515"
        ],
        [
         "14",
         "My Massive Tech Unboxing 47.0!",
         "eFhhW6fsAbQ",
         "2022-07-09 00:00:00",
         "tech",
         "13217",
         "442",
         "371563",
         "2022",
         "7",
         "0.036760926141731015"
        ],
        [
         "15",
         "Why Millennials Are Leaving Six-Figure Tech Jobs",
         "N88OE2ZCHBM",
         "2021-06-04 00:00:00",
         "tech",
         "26890",
         "4999",
         "1633059",
         "2021",
         "6",
         "0.01952715731642274"
        ],
        [
         "16",
         "10 Coolest Gadgets and Inventions That Will Blow Your Mind",
         "PKATJiyz0iI",
         "2021-08-13 00:00:00",
         "tech",
         "9562",
         "199",
         "760249",
         "2021",
         "8",
         "0.012839214520505782"
        ],
        [
         "17",
         "17 Coolest Gadgets You Can Actually Buy",
         "qiMnSaZWf3M",
         "2022-07-21 00:00:00",
         "tech",
         "11743",
         "143",
         "1086568",
         "2022",
         "7",
         "0.010939030046899964"
        ],
        [
         "18",
         "Almost EVERYONE is Wasting Money on Dash Cams.",
         "4AnyhHl3_tE",
         "2022-08-14 00:00:00",
         "tech",
         "146978",
         "11105",
         "3186890",
         "2022",
         "8",
         "0.049604159541120026"
        ],
        [
         "19",
         "I bought the THINNEST Tech in the world.",
         "nmY2kgWYwyQ",
         "2022-03-25 00:00:00",
         "tech",
         "363771",
         "13609",
         "11422924",
         "2022",
         "3",
         "0.03303707527074504"
        ],
        [
         "20",
         "iPhone 14 Lineup is NOT what you Expected.. (plot twist)",
         "HMqyLcNmsec",
         "2022-08-24 00:00:00",
         "tech",
         "2117",
         "486",
         "63650",
         "2022",
         "8",
         "0.0408955223880597"
        ],
        [
         "21",
         "Doctor Answers Gut Questions From Twitter | Tech Support | WIRED",
         "Q2ysbTVlPdk",
         "2022-05-12 00:00:00",
         "tech",
         "42841",
         "1357",
         "1280387",
         "2022",
         "5",
         "0.03451925082025981"
        ],
        [
         "22",
         "Cool Tech Under $50 - July!",
         "zI8KQq5zmyM",
         "2022-07-02 00:00:00",
         "tech",
         "23689",
         "2842",
         "530889",
         "2022",
         "7",
         "0.04997466513715673"
        ],
        [
         "23",
         "Wolfgang Puck Answers Restaurant Questions From Twitter | Tech Support | WIRED",
         "iEAlq1GPgnc",
         "2021-06-18 00:00:00",
         "tech",
         "55231",
         "2175",
         "2122433",
         "2021",
         "6",
         "0.027047261326977105"
        ],
        [
         "24",
         "Battle Of The Tech - Super Bike Vs World Superbike",
         "IHnhSxizVOA",
         "2022-07-31 00:00:00",
         "tech",
         "1289",
         "183",
         "35948",
         "2022",
         "7",
         "0.04094803605207522"
        ],
        [
         "25",
         "OnePlus 10R vs 10T | Unboxing &amp; Comparison",
         "Ql1-RZ2FUrc",
         "2022-08-24 00:00:00",
         "tech",
         "970",
         "207",
         "23175",
         "2022",
         "8",
         "0.050787486515641855"
        ],
        [
         "26",
         "Tech Hiring Slowdown: What’s Different This Time? | Tech News Briefing Podcast | WSJ",
         "Fpof56HU6SY",
         "2022-08-10 00:00:00",
         "tech",
         "1608",
         "273",
         "78520",
         "2022",
         "8",
         "0.023955680081507898"
        ],
        [
         "27",
         "10 New Tech Gadgets 2022 | You Can Buy Right Now",
         "bbbQ_X45FaA",
         "2022-05-27 00:00:00",
         "tech",
         "1452",
         "38",
         "63599",
         "2022",
         "5",
         "0.023428041321404424"
        ],
        [
         "28",
         "Taste Expert Answers Questions From Twitter | Tech Support | WIRED",
         "MtMkU-1p7-0",
         "2022-06-03 00:00:00",
         "tech",
         "35758",
         "2056",
         "1006704",
         "2022",
         "6",
         "0.03756218312433446"
        ],
        [
         "29",
         "Audiologist Answers Hearing Questions From Twitter | Tech Support | WIRED",
         "QYlXL_8ei6g",
         "2022-08-19 00:00:00",
         "tech",
         "8725",
         "790",
         "257848",
         "2022",
         "8",
         "0.036901585430175916"
        ],
        [
         "30",
         "James Dyson Answers Design Questions From Twitter | Tech Support | WIRED",
         "zFCFe38EIfE",
         "2021-11-30 00:00:00",
         "tech",
         "110145",
         "3289",
         "2954979",
         "2021",
         "11",
         "0.038387413243884304"
        ],
        [
         "31",
         "My Massive Tech Unboxing 46.0!",
         "LOrkbagIpiY",
         "2022-05-28 00:00:00",
         "tech",
         "12188",
         "326",
         "304037",
         "2022",
         "5",
         "0.041159464144166664"
        ],
        [
         "32",
         "Cool Tech Under $50 - April!",
         "UK5OHUmIgcc",
         "2022-04-02 00:00:00",
         "tech",
         "59458",
         "4159",
         "1541386",
         "2022",
         "4",
         "0.04127259492430838"
        ],
        [
         "33",
         "15 Emerging Technologies That Will Change Our World",
         "My2Tr3k1liw",
         "2022-05-14 00:00:00",
         "tech",
         "3494",
         "136",
         "589007",
         "2022",
         "5",
         "0.00616291487197945"
        ],
        [
         "34",
         "Veterinarian Answers Pet Questions From Twitter | Tech Support | WIRED",
         "IUwqf08-FKU",
         "2022-05-05 00:00:00",
         "tech",
         "36423",
         "1902",
         "1085076",
         "2022",
         "5",
         "0.03532010661004391"
        ],
        [
         "35",
         "What Is The Best Position For Descending? | GCN Tech Clinic",
         "U48UrDpXGog",
         "2022-08-24 00:00:00",
         "tech",
         "941",
         "221",
         "25594",
         "2022",
         "8",
         "0.0454012659217004"
        ],
        [
         "36",
         "My Everyday Tech: 2022!",
         "-pTGc7cIBIA",
         "2022-01-07 00:00:00",
         "tech",
         "134194",
         "6102",
         "4098623",
         "2022",
         "1",
         "0.034230032867136106"
        ],
        [
         "37",
         "INVENTIONS OF THE FUTURE THAT WILL SOON BE AVAILABLE TO EVERYONE",
         "_f8Gb-vojoU",
         "2022-03-16 00:00:00",
         "tech",
         "42075",
         "1820",
         "7188648",
         "2022",
         "3",
         "0.0061061551490628"
        ],
        [
         "38",
         "Twitter Whistleblower Accuses Company of Privacy, Security Issues | Tech News Briefing Podcast | WSJ",
         "MAeXrShneoQ",
         "2022-08-24 00:00:00",
         "tech",
         "709",
         "128",
         "25745",
         "2022",
         "8",
         "0.032511167216935324"
        ],
        [
         "39",
         "I Did a Terrible Job of This - Intel $5,000 Extreme Tech Upgrade",
         "AREK4H8k7Ng",
         "2022-07-23 00:00:00",
         "tech",
         "78852",
         "3926",
         "1889567",
         "2022",
         "7",
         "0.04380792001553795"
        ],
        [
         "40",
         "Cool Tech Under $50 - June!",
         "B0HI0RTZdJw",
         "2022-06-04 00:00:00",
         "tech",
         "32102",
         "3243",
         "786765",
         "2022",
         "6",
         "0.044924469187114326"
        ],
        [
         "41",
         "18 DEADLY Tech Fails that need to be BANNED.",
         "Wuq7lS9rljw",
         "2022-07-02 00:00:00",
         "tech",
         "188623",
         "7464",
         "4195072",
         "2022",
         "7",
         "0.04674222516323915"
        ],
        [
         "42",
         "I bought the BIGGEST Tech in the world.",
         "VuG4BcghOSg",
         "2021-12-04 00:00:00",
         "tech",
         "343227",
         "20854",
         "9618335",
         "2021",
         "12",
         "0.03785280924401157"
        ],
        [
         "43",
         "Neil Gaiman Answers Mythology Questions From Twitter | Tech Support | WIRED",
         "o-jUQhCeazQ",
         "2022-08-04 00:00:00",
         "tech",
         "43960",
         "1767",
         "791624",
         "2022",
         "8",
         "0.05776353420310652"
        ],
        [
         "44",
         "Sushi Chef Answers Sushi Questions From Twitter | Tech Support | WIRED",
         "-ju6y-pHByw",
         "2022-05-26 00:00:00",
         "tech",
         "77411",
         "2098",
         "2474364",
         "2022",
         "5",
         "0.03213310571928787"
        ],
        [
         "45",
         "Futurum Research&#39;s Daniel Newman breaks down tech stocks to watch",
         "-VVLmBXHvL8",
         "2022-08-24 00:00:00",
         "tech",
         "24",
         "45",
         "3461",
         "2022",
         "8",
         "0.019936434556486565"
        ],
        [
         "46",
         "My Favorite Tech of the Month!",
         "UxjgqBamqDU",
         "2022-07-30 00:00:00",
         "tech",
         "4492",
         "169",
         "274201",
         "2022",
         "7",
         "0.01699847921780008"
        ],
        [
         "47",
         "Paleontologist Answers Dinosaur Questions From Twitter | Tech Support | WIRED",
         "YvZPU-KBCiQ",
         "2022-06-08 00:00:00",
         "tech",
         "51846",
         "2371",
         "1156785",
         "2022",
         "6",
         "0.046868692107867926"
        ],
        [
         "48",
         "How Biden&#39;s student loan forgiveness program will work",
         "--ixiTypG8g",
         "2022-08-24 00:00:00",
         "news",
         "1029",
         "2347",
         "97434",
         "2022",
         "8",
         "0.03464909579818133"
        ],
        [
         "49",
         "Primary results in New York and Florida hold national implications for Democrats",
         "4RkfqEWK2FI",
         "2022-08-24 00:00:00",
         "news",
         "534",
         "538",
         "57858",
         "2022",
         "8",
         "0.01852812057105327"
        ]
       ],
       "shape": {
        "columns": 10,
        "rows": 1867
       }
      },
      "text/html": [
       "<div>\n",
       "<style scoped>\n",
       "    .dataframe tbody tr th:only-of-type {\n",
       "        vertical-align: middle;\n",
       "    }\n",
       "\n",
       "    .dataframe tbody tr th {\n",
       "        vertical-align: top;\n",
       "    }\n",
       "\n",
       "    .dataframe thead th {\n",
       "        text-align: right;\n",
       "    }\n",
       "</style>\n",
       "<table border=\"1\" class=\"dataframe\">\n",
       "  <thead>\n",
       "    <tr style=\"text-align: right;\">\n",
       "      <th></th>\n",
       "      <th>Title</th>\n",
       "      <th>Video ID</th>\n",
       "      <th>Published At</th>\n",
       "      <th>Keyword</th>\n",
       "      <th>Likes</th>\n",
       "      <th>Comments</th>\n",
       "      <th>Views</th>\n",
       "      <th>year</th>\n",
       "      <th>month</th>\n",
       "      <th>Engagement_Score</th>\n",
       "    </tr>\n",
       "  </thead>\n",
       "  <tbody>\n",
       "    <tr>\n",
       "      <th>0</th>\n",
       "      <td>Apple Pay Is Killing the Physical Wallet After...</td>\n",
       "      <td>wAZZ-UWGVHI</td>\n",
       "      <td>2022-08-23</td>\n",
       "      <td>tech</td>\n",
       "      <td>3407</td>\n",
       "      <td>672</td>\n",
       "      <td>135612</td>\n",
       "      <td>2022</td>\n",
       "      <td>8</td>\n",
       "      <td>0.030078</td>\n",
       "    </tr>\n",
       "    <tr>\n",
       "      <th>1</th>\n",
       "      <td>The most EXPENSIVE thing I own.</td>\n",
       "      <td>b3x28s61q3c</td>\n",
       "      <td>2022-08-24</td>\n",
       "      <td>tech</td>\n",
       "      <td>76779</td>\n",
       "      <td>4306</td>\n",
       "      <td>1758063</td>\n",
       "      <td>2022</td>\n",
       "      <td>8</td>\n",
       "      <td>0.046122</td>\n",
       "    </tr>\n",
       "    <tr>\n",
       "      <th>2</th>\n",
       "      <td>My New House Gaming Setup is SICK!</td>\n",
       "      <td>4mgePWWCAmA</td>\n",
       "      <td>2022-08-23</td>\n",
       "      <td>tech</td>\n",
       "      <td>63825</td>\n",
       "      <td>3338</td>\n",
       "      <td>1564007</td>\n",
       "      <td>2022</td>\n",
       "      <td>8</td>\n",
       "      <td>0.042943</td>\n",
       "    </tr>\n",
       "    <tr>\n",
       "      <th>3</th>\n",
       "      <td>Petrol Vs Liquid Nitrogen | Freezing Experimen...</td>\n",
       "      <td>kXiYSI7H2b0</td>\n",
       "      <td>2022-08-23</td>\n",
       "      <td>tech</td>\n",
       "      <td>71566</td>\n",
       "      <td>1426</td>\n",
       "      <td>922918</td>\n",
       "      <td>2022</td>\n",
       "      <td>8</td>\n",
       "      <td>0.079088</td>\n",
       "    </tr>\n",
       "    <tr>\n",
       "      <th>4</th>\n",
       "      <td>Best Back to School Tech 2022!</td>\n",
       "      <td>ErMwWXQxHp0</td>\n",
       "      <td>2022-08-08</td>\n",
       "      <td>tech</td>\n",
       "      <td>96513</td>\n",
       "      <td>5155</td>\n",
       "      <td>1855644</td>\n",
       "      <td>2022</td>\n",
       "      <td>8</td>\n",
       "      <td>0.054789</td>\n",
       "    </tr>\n",
       "    <tr>\n",
       "      <th>...</th>\n",
       "      <td>...</td>\n",
       "      <td>...</td>\n",
       "      <td>...</td>\n",
       "      <td>...</td>\n",
       "      <td>...</td>\n",
       "      <td>...</td>\n",
       "      <td>...</td>\n",
       "      <td>...</td>\n",
       "      <td>...</td>\n",
       "      <td>...</td>\n",
       "    </tr>\n",
       "    <tr>\n",
       "      <th>1874</th>\n",
       "      <td>Live Day 1- Introduction To Machine Learning A...</td>\n",
       "      <td>4UJelID_ICw</td>\n",
       "      <td>2022-02-01</td>\n",
       "      <td>machine learning</td>\n",
       "      <td>1861</td>\n",
       "      <td>184</td>\n",
       "      <td>37959</td>\n",
       "      <td>2022</td>\n",
       "      <td>2</td>\n",
       "      <td>0.053874</td>\n",
       "    </tr>\n",
       "    <tr>\n",
       "      <th>1875</th>\n",
       "      <td>Complete Roadmap for Machine Learning | ML Roa...</td>\n",
       "      <td>T4MLrtOKPjY</td>\n",
       "      <td>2021-05-11</td>\n",
       "      <td>machine learning</td>\n",
       "      <td>9615</td>\n",
       "      <td>648</td>\n",
       "      <td>319957</td>\n",
       "      <td>2021</td>\n",
       "      <td>5</td>\n",
       "      <td>0.032076</td>\n",
       "    </tr>\n",
       "    <tr>\n",
       "      <th>1876</th>\n",
       "      <td>Should You Learn Machine Learning?</td>\n",
       "      <td>AO6urf07KjE</td>\n",
       "      <td>2021-06-14</td>\n",
       "      <td>machine learning</td>\n",
       "      <td>10259</td>\n",
       "      <td>416</td>\n",
       "      <td>386360</td>\n",
       "      <td>2021</td>\n",
       "      <td>6</td>\n",
       "      <td>0.027630</td>\n",
       "    </tr>\n",
       "    <tr>\n",
       "      <th>1877</th>\n",
       "      <td>Todos podemos aprender Machine learning</td>\n",
       "      <td>7ClLKBUvmRk</td>\n",
       "      <td>2017-10-08</td>\n",
       "      <td>machine learning</td>\n",
       "      <td>2981</td>\n",
       "      <td>72</td>\n",
       "      <td>431421</td>\n",
       "      <td>2017</td>\n",
       "      <td>10</td>\n",
       "      <td>0.007077</td>\n",
       "    </tr>\n",
       "    <tr>\n",
       "      <th>1878</th>\n",
       "      <td>Andrew Ng: Deep Learning, Education, and Real-...</td>\n",
       "      <td>0jspaMLxBig</td>\n",
       "      <td>2020-02-20</td>\n",
       "      <td>machine learning</td>\n",
       "      <td>5198</td>\n",
       "      <td>443</td>\n",
       "      <td>226152</td>\n",
       "      <td>2020</td>\n",
       "      <td>2</td>\n",
       "      <td>0.024943</td>\n",
       "    </tr>\n",
       "  </tbody>\n",
       "</table>\n",
       "<p>1867 rows × 10 columns</p>\n",
       "</div>"
      ],
      "text/plain": [
       "                                                  Title     Video ID  \\\n",
       "0     Apple Pay Is Killing the Physical Wallet After...  wAZZ-UWGVHI   \n",
       "1                       The most EXPENSIVE thing I own.  b3x28s61q3c   \n",
       "2                    My New House Gaming Setup is SICK!  4mgePWWCAmA   \n",
       "3     Petrol Vs Liquid Nitrogen | Freezing Experimen...  kXiYSI7H2b0   \n",
       "4                        Best Back to School Tech 2022!  ErMwWXQxHp0   \n",
       "...                                                 ...          ...   \n",
       "1874  Live Day 1- Introduction To Machine Learning A...  4UJelID_ICw   \n",
       "1875  Complete Roadmap for Machine Learning | ML Roa...  T4MLrtOKPjY   \n",
       "1876                 Should You Learn Machine Learning?  AO6urf07KjE   \n",
       "1877            Todos podemos aprender Machine learning  7ClLKBUvmRk   \n",
       "1878  Andrew Ng: Deep Learning, Education, and Real-...  0jspaMLxBig   \n",
       "\n",
       "     Published At           Keyword  Likes  Comments    Views  year  month  \\\n",
       "0      2022-08-23              tech   3407       672   135612  2022      8   \n",
       "1      2022-08-24              tech  76779      4306  1758063  2022      8   \n",
       "2      2022-08-23              tech  63825      3338  1564007  2022      8   \n",
       "3      2022-08-23              tech  71566      1426   922918  2022      8   \n",
       "4      2022-08-08              tech  96513      5155  1855644  2022      8   \n",
       "...           ...               ...    ...       ...      ...   ...    ...   \n",
       "1874   2022-02-01  machine learning   1861       184    37959  2022      2   \n",
       "1875   2021-05-11  machine learning   9615       648   319957  2021      5   \n",
       "1876   2021-06-14  machine learning  10259       416   386360  2021      6   \n",
       "1877   2017-10-08  machine learning   2981        72   431421  2017     10   \n",
       "1878   2020-02-20  machine learning   5198       443   226152  2020      2   \n",
       "\n",
       "      Engagement_Score  \n",
       "0             0.030078  \n",
       "1             0.046122  \n",
       "2             0.042943  \n",
       "3             0.079088  \n",
       "4             0.054789  \n",
       "...                ...  \n",
       "1874          0.053874  \n",
       "1875          0.032076  \n",
       "1876          0.027630  \n",
       "1877          0.007077  \n",
       "1878          0.024943  \n",
       "\n",
       "[1867 rows x 10 columns]"
      ]
     },
     "execution_count": 123,
     "metadata": {},
     "output_type": "execute_result"
    }
   ],
   "source": [
    "video_stats_unique"
   ]
  },
  {
   "cell_type": "code",
   "execution_count": 124,
   "id": "d3125b3e",
   "metadata": {},
   "outputs": [
    {
     "name": "stdout",
     "output_type": "stream",
     "text": [
      "             Views     Likes  Comments\n",
      "Views     1.000000  0.756819  0.660800\n",
      "Likes     0.756819  1.000000  0.891924\n",
      "Comments  0.660800  0.891924  1.000000\n"
     ]
    }
   ],
   "source": [
    "video_stats_corr = video_stats_unique[['Views','Likes', 'Comments']].corr()\n",
    "print(video_stats_corr)"
   ]
  },
  {
   "cell_type": "markdown",
   "id": "dcda0ba6",
   "metadata": {},
   "source": [
    "Key Observations:\n",
    "1. Views and Likes have a Correlation of 0.76.\n",
    "This indicates there is a strong positive correlation between the number of views a content recives and the number of likes it gets.\n",
    "This is an expected and logical relationship. As more people view content, there is a high probability that a larger number of them will engage by liking it. This suggests that increasing the content visibility (views) is a crucial prerequisite for generating likes.\n",
    "\n",
    "2. Views and Comments have a Correlation of 0.66\n",
    "This indicates there is moderately strong positive correlation between views and Comments.\n",
    "Similar to likes, m,ore views generally lead to more conmments. However, the correlation is slightly weaker than views and likes. This could imply that while views are important for commnets, other factor such as content type i.e. keyword over here might play a relatively larger role in prompting users to leave a comment compared to simple like.\n",
    "\n",
    "3. Likes and Commentshave a correlation of 0.89\n",
    "there is a very strong positive correlation between the likes and comments.\n",
    "This is the strongest relationship observed in the matrix. It suggests that content that resonates strongly enough recive likes is also highly likely to generate more discussions and comments.This could indicate: Content that recives many likes is generally seen as valuable, which encourages users to express their thoughts in comments. \n",
    "\n",
    "\n",
    "All the three engagement metrics are postitively correlated, indicating that they tend to move together. Content capable of generating likes is particularly effective at stimulating converstation.\n",
    "\n",
    "Stategic Implications:\n",
    "1. focus on Views\n",
    "2. Optimize for Likes"
   ]
  },
  {
   "cell_type": "code",
   "execution_count": 125,
   "id": "3aface33",
   "metadata": {},
   "outputs": [],
   "source": [
    "#video_stats.to_csv('C:/Users/gailt/bhaktivscode/Youtube Content Analysis/engagement.csv', index=False)\n",
    "#comments.to_csv('C:/Users/gailt/bhaktivscode/Youtube Content Analysis/comment_sentiment.csv', index=False)"
   ]
  },
  {
   "cell_type": "code",
   "execution_count": null,
   "id": "623bfb50",
   "metadata": {},
   "outputs": [],
   "source": []
  }
 ],
 "metadata": {
  "kernelspec": {
   "display_name": "venv",
   "language": "python",
   "name": "python3"
  },
  "language_info": {
   "codemirror_mode": {
    "name": "ipython",
    "version": 3
   },
   "file_extension": ".py",
   "mimetype": "text/x-python",
   "name": "python",
   "nbconvert_exporter": "python",
   "pygments_lexer": "ipython3",
   "version": "3.13.5"
  }
 },
 "nbformat": 4,
 "nbformat_minor": 5
}
